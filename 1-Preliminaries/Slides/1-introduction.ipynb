{
 "cells": [
  {
   "cell_type": "markdown",
   "id": "610a816a",
   "metadata": {
    "slideshow": {
     "slide_type": "-"
    }
   },
   "source": [
    "# Introduction\n",
    "\n",
    "Deep Learning at AAU"
   ]
  },
  {
   "cell_type": "markdown",
   "id": "b58f3e28",
   "metadata": {
    "slideshow": {
     "slide_type": "slide"
    }
   },
   "source": [
    "## Preliminaries\n",
    "\n",
    "* **Pierre Tassel**, PhD Student focusing on reinforcement learning algorithms applied to industrial scheduling problem\n",
    "* Course is hybrid, you can follow online or physically\n",
    "* Room capacity will sometimes be a bottleneck. Email me for preference\n",
    "* If you want me to talk about a specific topic, email me and depending on the demand I will address it"
   ]
  },
  {
   "cell_type": "markdown",
   "id": "753f8b40",
   "metadata": {
    "slideshow": {
     "slide_type": "slide"
    }
   },
   "source": [
    "## Important information"
   ]
  },
  {
   "cell_type": "markdown",
   "id": "954d4dd2",
   "metadata": {},
   "source": [
    "* This class is **practice-oriented**\n",
    "* The theory will still be discussed\n",
    "* Full comprehension of the theory is not the goal (**unachievable**)\n",
    "* I want you to have an **intuition** about neural networks\n",
    "* This class is a support for the more theory-oriented class from Pr. Schekotihin"
   ]
  },
  {
   "cell_type": "markdown",
   "id": "9dbda38b",
   "metadata": {},
   "source": [
    "<img src=\"images/chollet.png\" width=60% style=\"margin-left:auto; margin-right:auto\">\n"
   ]
  },
  {
   "cell_type": "markdown",
   "id": "8ea0a947",
   "metadata": {
    "slideshow": {
     "slide_type": "slide"
    }
   },
   "source": [
    "## Prerequisite"
   ]
  },
  {
   "cell_type": "markdown",
   "id": "ac99068a",
   "metadata": {},
   "source": [
    "* Python 3\n",
    "* Linear Algebra. If you need a refresher: I recommend [3Blue1Brown series of videos on Youtube](https://www.youtube.com/playlist?list=PLZHQObOWTQDPD3MizzM2xVFitgF8hE_ab)\n",
    "* Calculus. Same as for linear algebra, [3Blue1Brown made an excellent series on Youtube](https://www.youtube.com/playlist?list=PLZHQObOWTQDMsr9K-rj53DwVRMYO3t5Yr)"
   ]
  },
  {
   "cell_type": "markdown",
   "id": "6e7d2632",
   "metadata": {},
   "source": [
    "You don't need a powerful computer. **We will only use free cloud resource**."
   ]
  },
  {
   "cell_type": "markdown",
   "id": "3840ced9",
   "metadata": {
    "slideshow": {
     "slide_type": "slide"
    }
   },
   "source": [
    "## What you’re going to learn to use"
   ]
  },
  {
   "cell_type": "markdown",
   "id": "8b375ef2",
   "metadata": {},
   "source": [
    "<ul>\n",
    "    <li><img style=\"display: inline;\" src=\"images/Pytorch_logo.png\" width=\"250\" height=\"250\"></li>\n",
    "    <li><img style=\"display: inline;\" src=\"images/KISYcqD.png\" width=\"250\" height=\"250\"></li>\n",
    "    <li><img style=\"display: inline;\" src=\"images/Kaggle_logo.png\" width=\"200\" height=\"200\"></li>\n",
    "    <li><img style=\"display: inline;\" src=\"images/1200px-Jupyter_logo.svg.png\" width=\"200\" height=\"200\"></li>\n",
    "</ul>"
   ]
  },
  {
   "cell_type": "markdown",
   "id": "a7f16e35",
   "metadata": {
    "slideshow": {
     "slide_type": "slide"
    }
   },
   "source": [
    "## Evaluation"
   ]
  },
  {
   "cell_type": "markdown",
   "id": "ae005f90",
   "metadata": {},
   "source": [
    "* Homework as a form of program to complete\n",
    "* Usually, a **Kaggle** competition\n",
    "* You must send me your solution and the link to your **W&B** project page on **Sunday 23:59** pierre.tassel@aau.at\n",
    "* On the **Moodle** page, or by email title: **[Exercise][Week X] Your Name**\n",
    "* One student will be selected (**voluntary or not**) to present his solution"
   ]
  },
  {
   "cell_type": "markdown",
   "id": "3ebf1ad1",
   "metadata": {},
   "source": [
    "Grading is not only based on your results. But also, on your implication."
   ]
  },
  {
   "cell_type": "code",
   "execution_count": null,
   "id": "9027f710",
   "metadata": {
    "slideshow": {
     "slide_type": "skip"
    }
   },
   "outputs": [],
   "source": []
  }
 ],
 "metadata": {
  "celltoolbar": "Slideshow",
  "kernelspec": {
   "display_name": "Python 3 (ipykernel)",
   "language": "python",
   "name": "python3"
  },
  "language_info": {
   "codemirror_mode": {
    "name": "ipython",
    "version": 3
   },
   "file_extension": ".py",
   "mimetype": "text/x-python",
   "name": "python",
   "nbconvert_exporter": "python",
   "pygments_lexer": "ipython3",
   "version": "3.9.7"
  }
 },
 "nbformat": 4,
 "nbformat_minor": 5
}
