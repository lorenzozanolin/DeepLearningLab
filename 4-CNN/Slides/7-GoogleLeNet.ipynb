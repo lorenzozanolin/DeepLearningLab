{
 "cells": [
  {
   "cell_type": "markdown",
   "id": "fd78c189",
   "metadata": {
    "slideshow": {
     "slide_type": "-"
    }
   },
   "source": [
    "# GoogleLeNet"
   ]
  },
  {
   "cell_type": "code",
   "execution_count": 1,
   "id": "edba3715",
   "metadata": {
    "slideshow": {
     "slide_type": "skip"
    }
   },
   "outputs": [],
   "source": [
    "import torch\n",
    "from torch import nn\n",
    "from torch.nn import functional as F"
   ]
  },
  {
   "cell_type": "markdown",
   "id": "79ac717b",
   "metadata": {
    "slideshow": {
     "slide_type": "slide"
    }
   },
   "source": [
    "How to design the kernel size of the convolution?  \n",
    "Both small and large kernels have some advantages...  \n",
    "Google presented *GoogleLeNet* an architecture that combine *NiN*, and various size of convolution ran in parallel inside each block called an **Inception** block"
   ]
  },
  {
   "cell_type": "markdown",
   "id": "f289bf9b",
   "metadata": {},
   "source": [
    "<center>\n",
    "    <img src='images/inception.svg' height=100% style=\"margin-left:auto; margin-right:auto\"/>\n",
    "    <p style=\"font-size:14px;\">Source: <a href='http://d2l.ai/'>D2L</a></p>\n",
    "</center>"
   ]
  },
  {
   "cell_type": "markdown",
   "id": "4d831d72",
   "metadata": {
    "slideshow": {
     "slide_type": "slide"
    }
   },
   "source": [
    "Padding and stride are made in such a way that input and output have the same height and width"
   ]
  },
  {
   "cell_type": "markdown",
   "id": "df0c916e",
   "metadata": {},
   "source": [
    "1x1 convolution reduces the number of channels and thus, the complexity"
   ]
  },
  {
   "cell_type": "code",
   "execution_count": 2,
   "id": "6d841b6a",
   "metadata": {
    "slideshow": {
     "slide_type": "slide"
    }
   },
   "outputs": [],
   "source": [
    "class Inception(nn.Module):\n",
    "    # from `c1` to `c4` are the number of output channels for each path\n",
    "    def __init__(self, in_channels, c1, c2, c3, c4, **kwargs):\n",
    "        super(Inception, self).__init__(**kwargs)\n",
    "        # Path 1 is a single 1 x 1 convolutional layer\n",
    "        self.p1_1 = nn.Conv2d(in_channels, c1, kernel_size=1)\n",
    "        # Path 2 is a 1 x 1 convolutional layer followed by a 3 x 3\n",
    "        self.p2_1 = nn.Conv2d(in_channels, c2[0], kernel_size=1)\n",
    "        self.p2_2 = nn.Conv2d(c2[0], c2[1], kernel_size=3, padding=1)\n",
    "        # Path 3 is a 1 x 1 convolutional layer followed by a 5 x 5\n",
    "        self.p3_1 = nn.Conv2d(in_channels, c3[0], kernel_size=1)\n",
    "        self.p3_2 = nn.Conv2d(c3[0], c3[1], kernel_size=5, padding=2)\n",
    "        # Path 4 is a 3 x 3 maximum pooling layer followed by a 1 x 1\n",
    "        self.p4_1 = nn.MaxPool2d(kernel_size=3, stride=1, padding=1)\n",
    "        self.p4_2 = nn.Conv2d(in_channels, c4, kernel_size=1)\n",
    "\n",
    "    def forward(self, x):\n",
    "        p1 = F.relu(self.p1_1(x))\n",
    "        p2 = F.relu(self.p2_2(F.relu(self.p2_1(x))))\n",
    "        p3 = F.relu(self.p3_2(F.relu(self.p3_1(x))))\n",
    "        p4 = F.relu(self.p4_2(self.p4_1(x)))\n",
    "        # Concatenate the outputs on the channel dimension, dim=0 is the batch dimension\n",
    "        return torch.cat((p1, p2, p3, p4), dim=1)"
   ]
  },
  {
   "cell_type": "markdown",
   "id": "7b97dea3",
   "metadata": {
    "slideshow": {
     "slide_type": "slide"
    }
   },
   "source": [
    "<center>\n",
    "    <img src='inception-full.svg' height=100% style=\"margin-left:auto; margin-right:auto\"/>\n",
    "    <p style=\"font-size:14px;\">Source: <a href='http://d2l.ai/'>D2L</a></p>\n",
    "</center>"
   ]
  },
  {
   "cell_type": "code",
   "execution_count": 3,
   "id": "1c0515fe",
   "metadata": {
    "slideshow": {
     "slide_type": "slide"
    }
   },
   "outputs": [],
   "source": [
    "googleLeNet = nn.Sequential(nn.Conv2d(1, 64, kernel_size=7, stride=2, padding=3),\n",
    "                       nn.ReLU(), nn.MaxPool2d(kernel_size=3, stride=2, padding=1),\n",
    "                       nn.Conv2d(64, 64, kernel_size=1), nn.ReLU(),\n",
    "                       nn.Conv2d(64, 192, kernel_size=3, padding=1), nn.ReLU(),\n",
    "                       nn.MaxPool2d(kernel_size=3, stride=2, padding=1),\n",
    "                        Inception(192, 64, (96, 128), (16, 32), 32),\n",
    "                       Inception(256, 128, (128, 192), (32, 96), 64),\n",
    "                       nn.MaxPool2d(kernel_size=3, stride=2, padding=1))"
   ]
  },
  {
   "cell_type": "code",
   "execution_count": 4,
   "id": "1e4f5f6f",
   "metadata": {},
   "outputs": [
    {
     "data": {
      "text/plain": [
       "==========================================================================================\n",
       "Layer (type:depth-idx)                   Output Shape              Param #\n",
       "==========================================================================================\n",
       "Sequential                               --                        --\n",
       "├─Conv2d: 1-1                            [32, 64, 112, 112]        3,200\n",
       "├─ReLU: 1-2                              [32, 64, 112, 112]        --\n",
       "├─MaxPool2d: 1-3                         [32, 64, 56, 56]          --\n",
       "├─Conv2d: 1-4                            [32, 64, 56, 56]          4,160\n",
       "├─ReLU: 1-5                              [32, 64, 56, 56]          --\n",
       "├─Conv2d: 1-6                            [32, 192, 56, 56]         110,784\n",
       "├─ReLU: 1-7                              [32, 192, 56, 56]         --\n",
       "├─MaxPool2d: 1-8                         [32, 192, 28, 28]         --\n",
       "├─Inception: 1-9                         [32, 256, 28, 28]         --\n",
       "│    └─Conv2d: 2-1                       [32, 64, 28, 28]          12,352\n",
       "│    └─Conv2d: 2-2                       [32, 96, 28, 28]          18,528\n",
       "│    └─Conv2d: 2-3                       [32, 128, 28, 28]         110,720\n",
       "│    └─Conv2d: 2-4                       [32, 16, 28, 28]          3,088\n",
       "│    └─Conv2d: 2-5                       [32, 32, 28, 28]          12,832\n",
       "│    └─MaxPool2d: 2-6                    [32, 192, 28, 28]         --\n",
       "│    └─Conv2d: 2-7                       [32, 32, 28, 28]          6,176\n",
       "├─Inception: 1-10                        [32, 480, 28, 28]         --\n",
       "│    └─Conv2d: 2-8                       [32, 128, 28, 28]         32,896\n",
       "│    └─Conv2d: 2-9                       [32, 128, 28, 28]         32,896\n",
       "│    └─Conv2d: 2-10                      [32, 192, 28, 28]         221,376\n",
       "│    └─Conv2d: 2-11                      [32, 32, 28, 28]          8,224\n",
       "│    └─Conv2d: 2-12                      [32, 96, 28, 28]          76,896\n",
       "│    └─MaxPool2d: 2-13                   [32, 256, 28, 28]         --\n",
       "│    └─Conv2d: 2-14                      [32, 64, 28, 28]          16,448\n",
       "├─MaxPool2d: 1-11                        [32, 480, 14, 14]         --\n",
       "==========================================================================================\n",
       "Total params: 670,576\n",
       "Trainable params: 670,576\n",
       "Non-trainable params: 0\n",
       "Total mult-adds (G): 26.68\n",
       "==========================================================================================\n",
       "Input size (MB): 6.42\n",
       "Forward/backward pass size (MB): 613.35\n",
       "Params size (MB): 2.68\n",
       "Estimated Total Size (MB): 622.46\n",
       "=========================================================================================="
      ]
     },
     "execution_count": 4,
     "metadata": {},
     "output_type": "execute_result"
    }
   ],
   "source": [
    "from torchinfo import summary\n",
    "summary(googleLeNet, input_size=(32, 1, 224, 224))"
   ]
  }
 ],
 "metadata": {
  "celltoolbar": "Slideshow",
  "kernelspec": {
   "display_name": "Python 3 (ipykernel)",
   "language": "python",
   "name": "python3"
  },
  "language_info": {
   "codemirror_mode": {
    "name": "ipython",
    "version": 3
   },
   "file_extension": ".py",
   "mimetype": "text/x-python",
   "name": "python",
   "nbconvert_exporter": "python",
   "pygments_lexer": "ipython3",
   "version": "3.9.7"
  }
 },
 "nbformat": 4,
 "nbformat_minor": 5
}
