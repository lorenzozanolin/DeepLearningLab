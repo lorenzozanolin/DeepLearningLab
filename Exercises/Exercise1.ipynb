{
 "cells": [
  {
   "cell_type": "markdown",
   "metadata": {
    "id": "wLOYFx_WV7qx"
   },
   "source": [
    "In this notebook, you will learn how to manipulate data with Pytorch  \n",
    "Let's start by importing Pytorch"
   ]
  },
  {
   "cell_type": "code",
   "execution_count": 2,
   "metadata": {
    "id": "jRPeeaCnWGXc"
   },
   "outputs": [],
   "source": [
    "import torch"
   ]
  },
  {
   "cell_type": "markdown",
   "metadata": {
    "id": "5wT_dhlBaO-_"
   },
   "source": [
    "## Basic tensor operation"
   ]
  },
  {
   "cell_type": "code",
   "execution_count": 3,
   "metadata": {
    "colab": {
     "base_uri": "https://localhost:8080/"
    },
    "id": "I5RvMefiaVst",
    "outputId": "e46cb0dc-b226-458a-b8a4-266f79eb4501"
   },
   "outputs": [
    {
     "data": {
      "text/plain": [
       "tensor([[[0.1059, 0.9441],\n",
       "         [0.2063, 0.8683],\n",
       "         [0.9319, 0.3045]],\n",
       "\n",
       "        [[0.6550, 0.8558],\n",
       "         [0.6603, 0.8627],\n",
       "         [0.6173, 0.1537]],\n",
       "\n",
       "        [[0.9650, 0.3258],\n",
       "         [0.2708, 0.4074],\n",
       "         [0.6278, 0.1846]],\n",
       "\n",
       "        [[0.2403, 0.4336],\n",
       "         [0.0636, 0.4582],\n",
       "         [0.7355, 0.4254]]])"
      ]
     },
     "execution_count": 3,
     "metadata": {},
     "output_type": "execute_result"
    }
   ],
   "source": [
    "tensor = torch.rand((4, 3, 2))\n",
    "tensor"
   ]
  },
  {
   "cell_type": "markdown",
   "metadata": {
    "id": "T3jo7cAJafjL"
   },
   "source": [
    "Display the size of the produced tensor"
   ]
  },
  {
   "cell_type": "code",
   "execution_count": 4,
   "metadata": {
    "id": "qJdnZ9FXaiPx"
   },
   "outputs": [
    {
     "data": {
      "text/plain": [
       "torch.Size([4, 3, 2])"
      ]
     },
     "execution_count": 4,
     "metadata": {},
     "output_type": "execute_result"
    }
   ],
   "source": [
    "#TODO\n",
    "tensor.size()"
   ]
  },
  {
   "cell_type": "markdown",
   "metadata": {
    "id": "o3lrN95Fajw9"
   },
   "source": [
    "Give the total number of elements inside the tensor"
   ]
  },
  {
   "cell_type": "code",
   "execution_count": 5,
   "metadata": {
    "id": "nGfYfyAvanDF"
   },
   "outputs": [
    {
     "data": {
      "text/plain": [
       "24"
      ]
     },
     "execution_count": 5,
     "metadata": {},
     "output_type": "execute_result"
    }
   ],
   "source": [
    "#TODO\n",
    "tensor.numel()"
   ]
  },
  {
   "cell_type": "markdown",
   "metadata": {
    "id": "2uFqXJnubMz4"
   },
   "source": [
    "Change the shape of the tensor into a 4x6 tensor"
   ]
  },
  {
   "cell_type": "code",
   "execution_count": 6,
   "metadata": {
    "id": "GH6msf3GbELC"
   },
   "outputs": [
    {
     "data": {
      "text/plain": [
       "torch.Size([4, 6])"
      ]
     },
     "execution_count": 6,
     "metadata": {},
     "output_type": "execute_result"
    }
   ],
   "source": [
    "#reshaped = ...\n",
    "#reshaped.shape\n",
    "\n",
    "reshaped = tensor.reshape(4,6)\n",
    "reshaped.shape"
   ]
  },
  {
   "cell_type": "markdown",
   "metadata": {
    "id": "mAHe3gu9bWpn"
   },
   "source": [
    "Transform a python list into a tensor"
   ]
  },
  {
   "cell_type": "code",
   "execution_count": 7,
   "metadata": {
    "id": "udKffc4ebZDh"
   },
   "outputs": [
    {
     "data": {
      "text/plain": [
       "tensor([[9, 8, 7],\n",
       "        [4, 5, 6],\n",
       "        [3, 2, 1]])"
      ]
     },
     "execution_count": 7,
     "metadata": {},
     "output_type": "execute_result"
    }
   ],
   "source": [
    "list_to_transform = [[9, 8, 7], [4, 5, 6], [3, 2, 1]]\n",
    "#TODO\n",
    "tensor = torch.tensor(list_to_transform)\n",
    "tensor"
   ]
  },
  {
   "cell_type": "markdown",
   "metadata": {
    "id": "CAoEqdvBbwsc"
   },
   "source": [
    "## Operations on tensor"
   ]
  },
  {
   "cell_type": "code",
   "execution_count": 8,
   "metadata": {
    "colab": {
     "base_uri": "https://localhost:8080/"
    },
    "id": "T6JblZuQb0As",
    "outputId": "1b4c9bb1-7d10-4a42-b1d7-01e88c8ba9e8"
   },
   "outputs": [
    {
     "data": {
      "text/plain": [
       "tensor([0, 1, 2, 3])"
      ]
     },
     "execution_count": 8,
     "metadata": {},
     "output_type": "execute_result"
    }
   ],
   "source": [
    "x = torch.arange(4)\n",
    "x"
   ]
  },
  {
   "cell_type": "markdown",
   "metadata": {
    "id": "g6xxJ_jozvzu"
   },
   "source": [
    "Add 3 to every element of the tensor, put the result in a new tensor"
   ]
  },
  {
   "cell_type": "code",
   "execution_count": 9,
   "metadata": {
    "colab": {
     "base_uri": "https://localhost:8080/"
    },
    "id": "aCkvWgdLzz-7",
    "outputId": "b40b939e-a456-471e-d757-50f2dcdff7cb"
   },
   "outputs": [
    {
     "data": {
      "text/plain": [
       "tensor([3, 4, 5, 6])"
      ]
     },
     "execution_count": 9,
     "metadata": {},
     "output_type": "execute_result"
    }
   ],
   "source": [
    "y = x+3 #TODO\n",
    "y"
   ]
  },
  {
   "cell_type": "markdown",
   "metadata": {
    "id": "zdR5V_dR0HZ5"
   },
   "source": [
    "Multiply by 3 the tensor x, put the result in a new tensor"
   ]
  },
  {
   "cell_type": "code",
   "execution_count": 10,
   "metadata": {
    "colab": {
     "base_uri": "https://localhost:8080/"
    },
    "id": "w7e_wr830Oum",
    "outputId": "8e616e67-992c-4bd9-9054-5af2ab714c39"
   },
   "outputs": [
    {
     "data": {
      "text/plain": [
       "tensor([0, 3, 6, 9])"
      ]
     },
     "execution_count": 10,
     "metadata": {},
     "output_type": "execute_result"
    }
   ],
   "source": [
    "y = x*3 #TODO\n",
    "y"
   ]
  },
  {
   "cell_type": "markdown",
   "metadata": {
    "id": "iERh31GW0vEb"
   },
   "source": [
    "Put every element of x to the power of 3"
   ]
  },
  {
   "cell_type": "code",
   "execution_count": 11,
   "metadata": {
    "colab": {
     "base_uri": "https://localhost:8080/"
    },
    "id": "YGXcbJ2e1hOe",
    "outputId": "af7a05ba-9dfa-4033-c9b7-027953bed6bf"
   },
   "outputs": [
    {
     "data": {
      "text/plain": [
       "tensor([ 0,  1,  8, 27])"
      ]
     },
     "execution_count": 11,
     "metadata": {},
     "output_type": "execute_result"
    }
   ],
   "source": [
    "y = x**3 #TODO\n",
    "y"
   ]
  },
  {
   "cell_type": "markdown",
   "metadata": {
    "id": "FwPcIgjY13uN"
   },
   "source": [
    "Multiply x with k"
   ]
  },
  {
   "cell_type": "code",
   "execution_count": 12,
   "metadata": {
    "colab": {
     "base_uri": "https://localhost:8080/"
    },
    "id": "Df9Nz6Cg1xxz",
    "outputId": "b1a9e9a7-be06-4bc8-9ba1-a1056086d5a1"
   },
   "outputs": [
    {
     "data": {
      "text/plain": [
       "tensor([ 0.,  7., 10.,  3.])"
      ]
     },
     "execution_count": 12,
     "metadata": {},
     "output_type": "execute_result"
    }
   ],
   "source": [
    "k = torch.Tensor([8, 7, 5, 1])\n",
    "y = x*k #TODO\n",
    "y"
   ]
  },
  {
   "cell_type": "markdown",
   "metadata": {
    "id": "K-nAfURR3KKx"
   },
   "source": [
    "Makes x to the power of k"
   ]
  },
  {
   "cell_type": "code",
   "execution_count": 13,
   "metadata": {
    "colab": {
     "base_uri": "https://localhost:8080/"
    },
    "id": "sQTvJc_43MoY",
    "outputId": "a1fc90e1-912e-4494-a7a9-b30cbb51f102"
   },
   "outputs": [
    {
     "data": {
      "text/plain": [
       "tensor([ 0.,  1., 32.,  3.])"
      ]
     },
     "execution_count": 13,
     "metadata": {},
     "output_type": "execute_result"
    }
   ],
   "source": [
    "y = x**k #TODO\n",
    "y"
   ]
  },
  {
   "cell_type": "markdown",
   "metadata": {
    "id": "b4aYqWoQ3WIr"
   },
   "source": [
    "Put every element of x to exponential"
   ]
  },
  {
   "cell_type": "code",
   "execution_count": 14,
   "metadata": {
    "colab": {
     "base_uri": "https://localhost:8080/"
    },
    "id": "0fPWg6bG4M8E",
    "outputId": "3dd3d552-ca15-4328-b6a6-2a0869d740f0"
   },
   "outputs": [
    {
     "data": {
      "text/plain": [
       "tensor([ 1.0000,  2.7183,  7.3891, 20.0855])"
      ]
     },
     "execution_count": 14,
     "metadata": {},
     "output_type": "execute_result"
    }
   ],
   "source": [
    "y = torch.exp(x) #TODO\n",
    "y"
   ]
  },
  {
   "cell_type": "markdown",
   "metadata": {
    "id": "XaXLktzp-b6d"
   },
   "source": [
    "Perform the element wise product of `a` and `b`"
   ]
  },
  {
   "cell_type": "code",
   "execution_count": 15,
   "metadata": {
    "colab": {
     "base_uri": "https://localhost:8080/"
    },
    "id": "H4gFleXP-ba9",
    "outputId": "288f88f0-2b0d-4028-a8ba-bfa61df7d1b2"
   },
   "outputs": [
    {
     "data": {
      "text/plain": [
       "tensor([0.0210, 0.0106, 0.6544, 0.4566, 0.3979])"
      ]
     },
     "execution_count": 15,
     "metadata": {},
     "output_type": "execute_result"
    }
   ],
   "source": [
    "a = torch.rand((5))\n",
    "b = torch.rand((5))\n",
    "y = a * b #TODO\n",
    "y"
   ]
  },
  {
   "cell_type": "markdown",
   "metadata": {
    "id": "eOdJAPCd9OAc"
   },
   "source": [
    "Perform the dot product of `a` and `b`"
   ]
  },
  {
   "cell_type": "code",
   "execution_count": 16,
   "metadata": {
    "colab": {
     "base_uri": "https://localhost:8080/"
    },
    "id": "pY1H8MX5Ag5t",
    "outputId": "b41bb0ae-9f9e-4009-8933-ec09a2942b07"
   },
   "outputs": [
    {
     "data": {
      "text/plain": [
       "tensor(1.5405)"
      ]
     },
     "execution_count": 16,
     "metadata": {},
     "output_type": "execute_result"
    }
   ],
   "source": [
    "y = torch.dot(a,b) #TODO\n",
    "y"
   ]
  },
  {
   "cell_type": "markdown",
   "metadata": {},
   "source": [
    "Sum along the column axis of `l`"
   ]
  },
  {
   "cell_type": "code",
   "execution_count": 17,
   "metadata": {
    "pycharm": {
     "name": "#%%\n"
    }
   },
   "outputs": [
    {
     "data": {
      "text/plain": [
       "tensor([[1.4928, 1.5933, 1.0870, 1.5878, 1.3960, 1.7891],\n",
       "        [1.6834, 1.8830, 2.1170, 2.1544, 2.2069, 1.2199],\n",
       "        [2.0964, 0.7398, 1.3684, 1.8156, 1.7349, 1.4339],\n",
       "        [1.2747, 1.2666, 1.7812, 1.9716, 1.7872, 2.2744],\n",
       "        [0.6172, 0.7775, 1.0306, 1.4084, 1.6767, 1.5904]])"
      ]
     },
     "execution_count": 17,
     "metadata": {},
     "output_type": "execute_result"
    }
   ],
   "source": [
    "l = torch.rand((5, 3, 6))\n",
    "l.sum(dim=1)\n",
    "# TODO"
   ]
  },
  {
   "cell_type": "markdown",
   "metadata": {
    "id": "m8__FteD5AUJ"
   },
   "source": [
    "## Slicing\n",
    "\n",
    "Display the 3 last element of x"
   ]
  },
  {
   "cell_type": "code",
   "execution_count": 27,
   "metadata": {
    "id": "lU4kjKNh5CTw"
   },
   "outputs": [
    {
     "data": {
      "text/plain": [
       "tensor([1, 2, 3])"
      ]
     },
     "execution_count": 27,
     "metadata": {},
     "output_type": "execute_result"
    }
   ],
   "source": [
    "#TODO\n",
    "x[-3:]"
   ]
  },
  {
   "cell_type": "markdown",
   "metadata": {
    "id": "F4o9hAOg6ZB-"
   },
   "source": [
    "Display the last element of x"
   ]
  },
  {
   "cell_type": "code",
   "execution_count": 28,
   "metadata": {
    "id": "X6Sdkmj665HN"
   },
   "outputs": [
    {
     "data": {
      "text/plain": [
       "tensor(3)"
      ]
     },
     "execution_count": 28,
     "metadata": {},
     "output_type": "execute_result"
    }
   ],
   "source": [
    "#TODO\n",
    "x[-1]"
   ]
  },
  {
   "cell_type": "markdown",
   "metadata": {
    "id": "NNGTJgrr6b71"
   },
   "source": [
    "Display the element of m, by step of 2"
   ]
  },
  {
   "cell_type": "code",
   "execution_count": 29,
   "metadata": {
    "id": "37z91f576f1F"
   },
   "outputs": [
    {
     "data": {
      "text/plain": [
       "tensor([ 0,  1,  2,  3,  4,  5,  6,  7,  8,  9, 10, 11, 12, 13, 14, 15, 16, 17])"
      ]
     },
     "execution_count": 29,
     "metadata": {},
     "output_type": "execute_result"
    }
   ],
   "source": [
    "m = torch.arange(18)\n",
    "\n",
    "#TODO"
   ]
  },
  {
   "cell_type": "markdown",
   "metadata": {
    "id": "b5NKNR6G-DK9"
   },
   "source": [
    "Print only the first 2 rows of `matrix`"
   ]
  },
  {
   "cell_type": "code",
   "execution_count": 36,
   "metadata": {
    "id": "5rRaM9RI-KfK"
   },
   "outputs": [
    {
     "data": {
      "text/plain": [
       "tensor([[[0.1149, 0.6332],\n",
       "         [0.4951, 0.8050],\n",
       "         [0.3876, 0.0142],\n",
       "         [0.0379, 0.3304]],\n",
       "\n",
       "        [[0.6780, 0.4512],\n",
       "         [0.7612, 0.3307],\n",
       "         [0.4951, 0.6101],\n",
       "         [0.2857, 0.6401]]])"
      ]
     },
     "execution_count": 36,
     "metadata": {},
     "output_type": "execute_result"
    }
   ],
   "source": [
    "matrix = torch.rand((6, 4, 2))\n",
    "matrix[:2]\n",
    "#TODO"
   ]
  },
  {
   "cell_type": "markdown",
   "metadata": {
    "id": "UYDhWFDb-SYc"
   },
   "source": [
    "Now, only print the first 2 columns of `matrix`"
   ]
  },
  {
   "cell_type": "code",
   "execution_count": 32,
   "metadata": {
    "id": "vtX9urXm-XT7"
   },
   "outputs": [
    {
     "data": {
      "text/plain": [
       "tensor([[[0.7416, 0.7293],\n",
       "         [0.8908, 0.8563]],\n",
       "\n",
       "        [[0.6196, 0.4894],\n",
       "         [0.0939, 0.0741]],\n",
       "\n",
       "        [[0.2893, 0.6230],\n",
       "         [0.6322, 0.9064]],\n",
       "\n",
       "        [[0.1811, 0.1951],\n",
       "         [0.4241, 0.5507]],\n",
       "\n",
       "        [[0.8193, 0.9967],\n",
       "         [0.4626, 0.6684]],\n",
       "\n",
       "        [[0.1633, 0.6803],\n",
       "         [0.8969, 0.4083]]])"
      ]
     },
     "execution_count": 32,
     "metadata": {},
     "output_type": "execute_result"
    }
   ],
   "source": [
    "#TODO\n",
    "matrix[:,:2]"
   ]
  }
 ],
 "metadata": {
  "colab": {
   "collapsed_sections": [],
   "name": "First.ipynb",
   "provenance": []
  },
  "kernelspec": {
   "display_name": "Python 3",
   "language": "python",
   "name": "python3"
  },
  "language_info": {
   "codemirror_mode": {
    "name": "ipython",
    "version": 3
   },
   "file_extension": ".py",
   "mimetype": "text/x-python",
   "name": "python",
   "nbconvert_exporter": "python",
   "pygments_lexer": "ipython3",
   "version": "3.9.10"
  }
 },
 "nbformat": 4,
 "nbformat_minor": 1
}
