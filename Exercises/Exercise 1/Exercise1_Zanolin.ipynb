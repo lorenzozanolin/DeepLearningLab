{
 "cells": [
  {
   "cell_type": "markdown",
   "metadata": {
    "id": "wLOYFx_WV7qx"
   },
   "source": [
    "In this notebook, you will learn how to manipulate data with Pytorch  \n",
    "Let's start by importing Pytorch"
   ]
  },
  {
   "cell_type": "code",
   "execution_count": 57,
   "metadata": {
    "id": "jRPeeaCnWGXc"
   },
   "outputs": [],
   "source": [
    "import torch"
   ]
  },
  {
   "cell_type": "markdown",
   "metadata": {
    "id": "5wT_dhlBaO-_"
   },
   "source": [
    "## Basic tensor operation"
   ]
  },
  {
   "cell_type": "code",
   "execution_count": 58,
   "metadata": {
    "colab": {
     "base_uri": "https://localhost:8080/"
    },
    "id": "I5RvMefiaVst",
    "outputId": "e46cb0dc-b226-458a-b8a4-266f79eb4501"
   },
   "outputs": [
    {
     "data": {
      "text/plain": [
       "tensor([[[0.8379, 0.2164],\n",
       "         [0.2960, 0.0871],\n",
       "         [0.4393, 0.4849]],\n",
       "\n",
       "        [[0.2786, 0.1438],\n",
       "         [0.0385, 0.5041],\n",
       "         [0.2801, 0.2309]],\n",
       "\n",
       "        [[0.9897, 0.4829],\n",
       "         [0.1682, 0.4753],\n",
       "         [0.2111, 0.6636]],\n",
       "\n",
       "        [[0.8556, 0.7035],\n",
       "         [0.2136, 0.3063],\n",
       "         [0.1652, 0.9674]]])"
      ]
     },
     "execution_count": 58,
     "metadata": {},
     "output_type": "execute_result"
    }
   ],
   "source": [
    "tensor = torch.rand((4, 3, 2))\n",
    "tensor"
   ]
  },
  {
   "cell_type": "markdown",
   "metadata": {
    "id": "T3jo7cAJafjL"
   },
   "source": [
    "Display the size of the produced tensor"
   ]
  },
  {
   "cell_type": "code",
   "execution_count": 59,
   "metadata": {
    "id": "qJdnZ9FXaiPx"
   },
   "outputs": [
    {
     "data": {
      "text/plain": [
       "torch.Size([4, 3, 2])"
      ]
     },
     "execution_count": 59,
     "metadata": {},
     "output_type": "execute_result"
    }
   ],
   "source": [
    "tensor.shape"
   ]
  },
  {
   "cell_type": "markdown",
   "metadata": {
    "id": "o3lrN95Fajw9"
   },
   "source": [
    "Give the total number of elements inside the tensor"
   ]
  },
  {
   "cell_type": "code",
   "execution_count": 60,
   "metadata": {
    "id": "nGfYfyAvanDF"
   },
   "outputs": [
    {
     "data": {
      "text/plain": [
       "24"
      ]
     },
     "execution_count": 60,
     "metadata": {},
     "output_type": "execute_result"
    }
   ],
   "source": [
    "tensor.numel()"
   ]
  },
  {
   "cell_type": "markdown",
   "metadata": {
    "id": "2uFqXJnubMz4"
   },
   "source": [
    "Change the shape of the tensor into a 4x6 tensor"
   ]
  },
  {
   "cell_type": "code",
   "execution_count": 61,
   "metadata": {
    "id": "GH6msf3GbELC"
   },
   "outputs": [
    {
     "data": {
      "text/plain": [
       "torch.Size([4, 6])"
      ]
     },
     "execution_count": 61,
     "metadata": {},
     "output_type": "execute_result"
    }
   ],
   "source": [
    "reshaped = tensor.reshape(4,6)\n",
    "reshaped.shape"
   ]
  },
  {
   "cell_type": "markdown",
   "metadata": {
    "id": "mAHe3gu9bWpn"
   },
   "source": [
    "Transform a python list into a tensor"
   ]
  },
  {
   "cell_type": "code",
   "execution_count": 62,
   "metadata": {
    "id": "udKffc4ebZDh"
   },
   "outputs": [
    {
     "data": {
      "text/plain": [
       "tensor([[9, 8, 7],\n",
       "        [4, 5, 6],\n",
       "        [3, 2, 1]])"
      ]
     },
     "execution_count": 62,
     "metadata": {},
     "output_type": "execute_result"
    }
   ],
   "source": [
    "list_to_transform = [[9, 8, 7], [4, 5, 6], [3, 2, 1]]\n",
    "tensor = torch.tensor(list_to_transform)\n",
    "tensor"
   ]
  },
  {
   "cell_type": "markdown",
   "metadata": {
    "id": "CAoEqdvBbwsc"
   },
   "source": [
    "## Operations on tensor"
   ]
  },
  {
   "cell_type": "code",
   "execution_count": 63,
   "metadata": {
    "colab": {
     "base_uri": "https://localhost:8080/"
    },
    "id": "T6JblZuQb0As",
    "outputId": "1b4c9bb1-7d10-4a42-b1d7-01e88c8ba9e8"
   },
   "outputs": [
    {
     "data": {
      "text/plain": [
       "tensor([0, 1, 2, 3])"
      ]
     },
     "execution_count": 63,
     "metadata": {},
     "output_type": "execute_result"
    }
   ],
   "source": [
    "x = torch.arange(4)\n",
    "x"
   ]
  },
  {
   "cell_type": "markdown",
   "metadata": {
    "id": "g6xxJ_jozvzu"
   },
   "source": [
    "Add 3 to every element of the tensor, put the result in a new tensor"
   ]
  },
  {
   "cell_type": "code",
   "execution_count": 64,
   "metadata": {
    "colab": {
     "base_uri": "https://localhost:8080/"
    },
    "id": "aCkvWgdLzz-7",
    "outputId": "b40b939e-a456-471e-d757-50f2dcdff7cb"
   },
   "outputs": [
    {
     "data": {
      "text/plain": [
       "tensor([3, 4, 5, 6])"
      ]
     },
     "execution_count": 64,
     "metadata": {},
     "output_type": "execute_result"
    }
   ],
   "source": [
    "y = x+3 \n",
    "y"
   ]
  },
  {
   "cell_type": "markdown",
   "metadata": {
    "id": "zdR5V_dR0HZ5"
   },
   "source": [
    "Multiply by 3 the tensor x, put the result in a new tensor"
   ]
  },
  {
   "cell_type": "code",
   "execution_count": 65,
   "metadata": {
    "colab": {
     "base_uri": "https://localhost:8080/"
    },
    "id": "w7e_wr830Oum",
    "outputId": "8e616e67-992c-4bd9-9054-5af2ab714c39"
   },
   "outputs": [
    {
     "data": {
      "text/plain": [
       "tensor([0, 3, 6, 9])"
      ]
     },
     "execution_count": 65,
     "metadata": {},
     "output_type": "execute_result"
    }
   ],
   "source": [
    "y = x*3 \n",
    "y"
   ]
  },
  {
   "cell_type": "markdown",
   "metadata": {
    "id": "iERh31GW0vEb"
   },
   "source": [
    "Put every element of x to the power of 3"
   ]
  },
  {
   "cell_type": "code",
   "execution_count": 66,
   "metadata": {
    "colab": {
     "base_uri": "https://localhost:8080/"
    },
    "id": "YGXcbJ2e1hOe",
    "outputId": "af7a05ba-9dfa-4033-c9b7-027953bed6bf"
   },
   "outputs": [
    {
     "data": {
      "text/plain": [
       "tensor([ 0,  1,  8, 27])"
      ]
     },
     "execution_count": 66,
     "metadata": {},
     "output_type": "execute_result"
    }
   ],
   "source": [
    "y = x**3 \n",
    "y"
   ]
  },
  {
   "cell_type": "markdown",
   "metadata": {
    "id": "FwPcIgjY13uN"
   },
   "source": [
    "Multiply x with k"
   ]
  },
  {
   "cell_type": "code",
   "execution_count": 67,
   "metadata": {
    "colab": {
     "base_uri": "https://localhost:8080/"
    },
    "id": "Df9Nz6Cg1xxz",
    "outputId": "b1a9e9a7-be06-4bc8-9ba1-a1056086d5a1"
   },
   "outputs": [
    {
     "data": {
      "text/plain": [
       "tensor([ 0.,  7., 10.,  3.])"
      ]
     },
     "execution_count": 67,
     "metadata": {},
     "output_type": "execute_result"
    }
   ],
   "source": [
    "k = torch.Tensor([8, 7, 5, 1])\n",
    "y = x*k \n",
    "y"
   ]
  },
  {
   "cell_type": "markdown",
   "metadata": {
    "id": "K-nAfURR3KKx"
   },
   "source": [
    "Makes x to the power of k"
   ]
  },
  {
   "cell_type": "code",
   "execution_count": 68,
   "metadata": {
    "colab": {
     "base_uri": "https://localhost:8080/"
    },
    "id": "sQTvJc_43MoY",
    "outputId": "a1fc90e1-912e-4494-a7a9-b30cbb51f102"
   },
   "outputs": [
    {
     "data": {
      "text/plain": [
       "tensor([ 0.,  1., 32.,  3.])"
      ]
     },
     "execution_count": 68,
     "metadata": {},
     "output_type": "execute_result"
    }
   ],
   "source": [
    "y = x**k \n",
    "y"
   ]
  },
  {
   "cell_type": "markdown",
   "metadata": {
    "id": "b4aYqWoQ3WIr"
   },
   "source": [
    "Put every element of x to exponential"
   ]
  },
  {
   "cell_type": "code",
   "execution_count": 69,
   "metadata": {
    "colab": {
     "base_uri": "https://localhost:8080/"
    },
    "id": "0fPWg6bG4M8E",
    "outputId": "3dd3d552-ca15-4328-b6a6-2a0869d740f0"
   },
   "outputs": [
    {
     "data": {
      "text/plain": [
       "tensor([ 1.0000,  2.7183,  7.3891, 20.0855])"
      ]
     },
     "execution_count": 69,
     "metadata": {},
     "output_type": "execute_result"
    }
   ],
   "source": [
    "y = torch.exp(x) \n",
    "y"
   ]
  },
  {
   "cell_type": "markdown",
   "metadata": {
    "id": "XaXLktzp-b6d"
   },
   "source": [
    "Perform the element wise product of `a` and `b`"
   ]
  },
  {
   "cell_type": "code",
   "execution_count": 70,
   "metadata": {
    "colab": {
     "base_uri": "https://localhost:8080/"
    },
    "id": "H4gFleXP-ba9",
    "outputId": "288f88f0-2b0d-4028-a8ba-bfa61df7d1b2"
   },
   "outputs": [
    {
     "data": {
      "text/plain": [
       "tensor([0.1946, 0.3530, 0.1222, 0.5783, 0.0484])"
      ]
     },
     "execution_count": 70,
     "metadata": {},
     "output_type": "execute_result"
    }
   ],
   "source": [
    "a = torch.rand((5))\n",
    "b = torch.rand((5))\n",
    "y = a * b \n",
    "y"
   ]
  },
  {
   "cell_type": "markdown",
   "metadata": {
    "id": "eOdJAPCd9OAc"
   },
   "source": [
    "Perform the dot product of `a` and `b`"
   ]
  },
  {
   "cell_type": "code",
   "execution_count": 71,
   "metadata": {
    "colab": {
     "base_uri": "https://localhost:8080/"
    },
    "id": "pY1H8MX5Ag5t",
    "outputId": "b41bb0ae-9f9e-4009-8933-ec09a2942b07"
   },
   "outputs": [
    {
     "data": {
      "text/plain": [
       "tensor(1.2965)"
      ]
     },
     "execution_count": 71,
     "metadata": {},
     "output_type": "execute_result"
    }
   ],
   "source": [
    "y = torch.dot(a,b) \n",
    "y"
   ]
  },
  {
   "cell_type": "markdown",
   "metadata": {},
   "source": [
    "Sum along the column axis of `l`"
   ]
  },
  {
   "cell_type": "code",
   "execution_count": 72,
   "metadata": {
    "pycharm": {
     "name": "#%%\n"
    }
   },
   "outputs": [
    {
     "data": {
      "text/plain": [
       "tensor([[1.8801, 0.5380, 2.4555, 2.2886, 1.7278, 2.6035],\n",
       "        [1.0294, 1.8961, 2.2521, 2.0795, 1.5783, 2.6952],\n",
       "        [1.6601, 0.3149, 1.3806, 1.4365, 0.5016, 0.6661],\n",
       "        [1.3067, 1.9910, 1.5839, 1.9851, 2.2945, 1.2326],\n",
       "        [1.4964, 0.9095, 1.5154, 1.6971, 1.1677, 1.6934]])"
      ]
     },
     "execution_count": 72,
     "metadata": {},
     "output_type": "execute_result"
    }
   ],
   "source": [
    "l = torch.rand((5, 3, 6))\n",
    "l.sum(dim=1)"
   ]
  },
  {
   "cell_type": "markdown",
   "metadata": {
    "id": "m8__FteD5AUJ"
   },
   "source": [
    "## Slicing\n",
    "\n",
    "Display the 3 last element of x"
   ]
  },
  {
   "cell_type": "code",
   "execution_count": 73,
   "metadata": {
    "id": "lU4kjKNh5CTw"
   },
   "outputs": [
    {
     "data": {
      "text/plain": [
       "tensor([1, 2, 3])"
      ]
     },
     "execution_count": 73,
     "metadata": {},
     "output_type": "execute_result"
    }
   ],
   "source": [
    "x[-3:]"
   ]
  },
  {
   "cell_type": "markdown",
   "metadata": {
    "id": "F4o9hAOg6ZB-"
   },
   "source": [
    "Display the last element of x"
   ]
  },
  {
   "cell_type": "code",
   "execution_count": 74,
   "metadata": {
    "id": "X6Sdkmj665HN"
   },
   "outputs": [
    {
     "data": {
      "text/plain": [
       "tensor(3)"
      ]
     },
     "execution_count": 74,
     "metadata": {},
     "output_type": "execute_result"
    }
   ],
   "source": [
    "x[-1]"
   ]
  },
  {
   "cell_type": "markdown",
   "metadata": {
    "id": "NNGTJgrr6b71"
   },
   "source": [
    "Display the element of m, by step of 2"
   ]
  },
  {
   "cell_type": "code",
   "execution_count": 75,
   "metadata": {
    "id": "37z91f576f1F"
   },
   "outputs": [
    {
     "name": "stdout",
     "output_type": "stream",
     "text": [
      "tensor(0)\n",
      "tensor(2)\n",
      "tensor(4)\n",
      "tensor(6)\n",
      "tensor(8)\n",
      "tensor(10)\n",
      "tensor(12)\n",
      "tensor(14)\n",
      "tensor(16)\n"
     ]
    }
   ],
   "source": [
    "m = torch.arange(18)\n",
    "for i in range(0, len(m), 2):\n",
    "    print(m[i])"
   ]
  },
  {
   "cell_type": "markdown",
   "metadata": {
    "id": "b5NKNR6G-DK9"
   },
   "source": [
    "Print only the first 2 rows of `matrix`"
   ]
  },
  {
   "cell_type": "code",
   "execution_count": 76,
   "metadata": {
    "id": "5rRaM9RI-KfK"
   },
   "outputs": [
    {
     "data": {
      "text/plain": [
       "tensor([[[0.8441, 0.6147],\n",
       "         [0.3558, 0.5355],\n",
       "         [0.2220, 0.9912],\n",
       "         [0.4356, 0.7801]],\n",
       "\n",
       "        [[0.7166, 0.7620],\n",
       "         [0.3182, 0.5334],\n",
       "         [0.0145, 0.5580],\n",
       "         [0.6615, 0.9774]]])"
      ]
     },
     "execution_count": 76,
     "metadata": {},
     "output_type": "execute_result"
    }
   ],
   "source": [
    "matrix = torch.rand((6, 4, 2))\n",
    "matrix[:2]"
   ]
  },
  {
   "cell_type": "markdown",
   "metadata": {
    "id": "UYDhWFDb-SYc"
   },
   "source": [
    "Now, only print the first 2 columns of `matrix`"
   ]
  },
  {
   "cell_type": "code",
   "execution_count": 77,
   "metadata": {
    "id": "vtX9urXm-XT7"
   },
   "outputs": [
    {
     "data": {
      "text/plain": [
       "tensor([[[0.8441, 0.6147],\n",
       "         [0.3558, 0.5355]],\n",
       "\n",
       "        [[0.7166, 0.7620],\n",
       "         [0.3182, 0.5334]],\n",
       "\n",
       "        [[0.8303, 0.4398],\n",
       "         [0.2046, 0.7993]],\n",
       "\n",
       "        [[0.4043, 0.5283],\n",
       "         [0.7541, 0.9731]],\n",
       "\n",
       "        [[0.9207, 0.0405],\n",
       "         [0.7838, 0.9419]],\n",
       "\n",
       "        [[0.4247, 0.5259],\n",
       "         [0.6356, 0.5151]]])"
      ]
     },
     "execution_count": 77,
     "metadata": {},
     "output_type": "execute_result"
    }
   ],
   "source": [
    "matrix[:,:2]"
   ]
  }
 ],
 "metadata": {
  "colab": {
   "collapsed_sections": [],
   "name": "First.ipynb",
   "provenance": []
  },
  "kernelspec": {
   "display_name": "Python 3",
   "language": "python",
   "name": "python3"
  },
  "language_info": {
   "codemirror_mode": {
    "name": "ipython",
    "version": 3
   },
   "file_extension": ".py",
   "mimetype": "text/x-python",
   "name": "python",
   "nbconvert_exporter": "python",
   "pygments_lexer": "ipython3",
   "version": "3.9.10"
  }
 },
 "nbformat": 4,
 "nbformat_minor": 1
}
