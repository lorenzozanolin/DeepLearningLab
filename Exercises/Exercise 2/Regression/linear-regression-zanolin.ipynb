{
 "cells": [
  {
   "cell_type": "markdown",
   "id": "2e6500d9",
   "metadata": {
    "papermill": {
     "duration": 0.008892,
     "end_time": "2023-11-14T10:36:23.775826",
     "exception": false,
     "start_time": "2023-11-14T10:36:23.766934",
     "status": "completed"
    },
    "tags": []
   },
   "source": [
    "# Red Wine Quality\n",
    "\n",
    "Kaggle link: https://www.kaggle.com/lorenzozanolin/linear-regression-zanolin\n",
    "\n",
    "W&B Link: https://wandb.ai/lorenzozanolin-52/linear_regression/table?workspace=user-lorenzozanolin-52"
   ]
  },
  {
   "cell_type": "markdown",
   "id": "f0c8f2d2",
   "metadata": {
    "papermill": {
     "duration": 0.007742,
     "end_time": "2023-11-14T10:36:23.792109",
     "exception": false,
     "start_time": "2023-11-14T10:36:23.784367",
     "status": "completed"
    },
    "tags": []
   },
   "source": [
    "## Preliminaries"
   ]
  },
  {
   "cell_type": "code",
   "execution_count": 1,
   "id": "2410bfd9",
   "metadata": {
    "_cell_guid": "b1076dfc-b9ad-4769-8c92-a6c4dae69d19",
    "_uuid": "8f2839f25d086af736a60e9eeb907d3b93b6e0e5",
    "execution": {
     "iopub.execute_input": "2023-11-14T10:36:23.809763Z",
     "iopub.status.busy": "2023-11-14T10:36:23.809315Z",
     "iopub.status.idle": "2023-11-14T10:37:02.478757Z",
     "shell.execute_reply": "2023-11-14T10:37:02.477625Z"
    },
    "papermill": {
     "duration": 38.681004,
     "end_time": "2023-11-14T10:37:02.480995",
     "exception": false,
     "start_time": "2023-11-14T10:36:23.799991",
     "status": "completed"
    },
    "tags": []
   },
   "outputs": [
    {
     "name": "stdout",
     "output_type": "stream",
     "text": [
      "/kaggle/input/red-wine-quality-cortez-et-al-2009/winequality-red.csv\n"
     ]
    },
    {
     "name": "stderr",
     "output_type": "stream",
     "text": [
      "\u001b[34m\u001b[1mwandb\u001b[0m: W&B API key is configured. Use \u001b[1m`wandb login --relogin`\u001b[0m to force relogin\n",
      "\u001b[34m\u001b[1mwandb\u001b[0m: \u001b[33mWARNING\u001b[0m If you're specifying your api key in code, ensure this code is not shared publicly.\n",
      "\u001b[34m\u001b[1mwandb\u001b[0m: \u001b[33mWARNING\u001b[0m Consider setting the WANDB_API_KEY environment variable, or running `wandb login` from the command line.\n",
      "\u001b[34m\u001b[1mwandb\u001b[0m: Appending key for api.wandb.ai to your netrc file: /root/.netrc\n",
      "\u001b[34m\u001b[1mwandb\u001b[0m: Currently logged in as: \u001b[33mlorenzozanolin-52\u001b[0m. Use \u001b[1m`wandb login --relogin`\u001b[0m to force relogin\n",
      "\u001b[34m\u001b[1mwandb\u001b[0m: wandb version 0.16.0 is available!  To upgrade, please run:\n",
      "\u001b[34m\u001b[1mwandb\u001b[0m:  $ pip install wandb --upgrade\n",
      "\u001b[34m\u001b[1mwandb\u001b[0m: Tracking run with wandb version 0.15.12\n",
      "\u001b[34m\u001b[1mwandb\u001b[0m: Run data is saved locally in \u001b[35m\u001b[1m/kaggle/working/wandb/run-20231114_103632-o2g1qg47\u001b[0m\n",
      "\u001b[34m\u001b[1mwandb\u001b[0m: Run \u001b[1m`wandb offline`\u001b[0m to turn off syncing.\n",
      "\u001b[34m\u001b[1mwandb\u001b[0m: Syncing run \u001b[33msunny-sun-15\u001b[0m\n",
      "\u001b[34m\u001b[1mwandb\u001b[0m: ⭐️ View project at \u001b[34m\u001b[4mhttps://wandb.ai/lorenzozanolin-52/linear_regression\u001b[0m\n",
      "\u001b[34m\u001b[1mwandb\u001b[0m: 🚀 View run at \u001b[34m\u001b[4mhttps://wandb.ai/lorenzozanolin-52/linear_regression/runs/o2g1qg47\u001b[0m\n"
     ]
    }
   ],
   "source": [
    "# This Python 3 environment comes with many helpful analytics libraries installed\n",
    "# It is defined by the kaggle/python Docker image: https://github.com/kaggle/docker-python\n",
    "# For example, here's several helpful packages to load\n",
    "#!pip install wandb\n",
    "import numpy as np # linear algebra\n",
    "import pandas as pd # data processing, CSV file I/O (e.g. pd.read_csv)\n",
    "from sklearn import metrics\n",
    "import random\n",
    "# Input data files are available in the read-only \"../input/\" directory\n",
    "# For example, running this (by clicking run or pressing Shift+Enter) will list all files under the input directory\n",
    "import torch\n",
    "from imblearn.over_sampling import SMOTE\n",
    "from torch import nn\n",
    "from sklearn.model_selection import train_test_split\n",
    "import wandb\n",
    "from matplotlib import pyplot as plt\n",
    "\n",
    "import os\n",
    "for dirname, _, filenames in os.walk('/kaggle/input'): # '/kaggle/input'\n",
    "    for filename in filenames:\n",
    "        print(os.path.join(dirname, filename))\n",
    "\n",
    "# You can write up to 20GB to the current directory (/kaggle/working/) that gets preserved as output when you create a version using \"Save & Run All\" \n",
    "# You can also write temporary files to /kaggle/temp/, but they won't be saved outside of the current session\n",
    "\n",
    "from kaggle_secrets import UserSecretsClient\n",
    "user_secrets = UserSecretsClient()\n",
    "secret_value_0 = user_secrets.get_secret(\"a\")\n",
    "wandb.login(key=secret_value_0)\n",
    "\n",
    "#hyperparameters and initialization of wandb project\n",
    "num_iterations = 512\n",
    "batch_size = 16\n",
    "lr = 1e-3\n",
    "wandb.init(project=\"linear_regression\",config={\"lr\": lr, \"epochs\": num_iterations}) \n",
    "is_smt = True #decides whether to apply SMOTE\n",
    "wandb.log({'SMOTE': is_smt})"
   ]
  },
  {
   "cell_type": "markdown",
   "id": "08ab5b15",
   "metadata": {
    "papermill": {
     "duration": 0.009193,
     "end_time": "2023-11-14T10:37:02.499477",
     "exception": false,
     "start_time": "2023-11-14T10:37:02.490284",
     "status": "completed"
    },
    "tags": []
   },
   "source": [
    "## Data Processing"
   ]
  },
  {
   "cell_type": "code",
   "execution_count": 2,
   "id": "6d7a2f73",
   "metadata": {
    "execution": {
     "iopub.execute_input": "2023-11-14T10:37:02.520687Z",
     "iopub.status.busy": "2023-11-14T10:37:02.519899Z",
     "iopub.status.idle": "2023-11-14T10:37:02.582428Z",
     "shell.execute_reply": "2023-11-14T10:37:02.581343Z"
    },
    "papermill": {
     "duration": 0.076284,
     "end_time": "2023-11-14T10:37:02.585020",
     "exception": false,
     "start_time": "2023-11-14T10:37:02.508736",
     "status": "completed"
    },
    "tags": []
   },
   "outputs": [
    {
     "data": {
      "text/html": [
       "<div>\n",
       "<style scoped>\n",
       "    .dataframe tbody tr th:only-of-type {\n",
       "        vertical-align: middle;\n",
       "    }\n",
       "\n",
       "    .dataframe tbody tr th {\n",
       "        vertical-align: top;\n",
       "    }\n",
       "\n",
       "    .dataframe thead th {\n",
       "        text-align: right;\n",
       "    }\n",
       "</style>\n",
       "<table border=\"1\" class=\"dataframe\">\n",
       "  <thead>\n",
       "    <tr style=\"text-align: right;\">\n",
       "      <th></th>\n",
       "      <th>fixed acidity</th>\n",
       "      <th>volatile acidity</th>\n",
       "      <th>citric acid</th>\n",
       "      <th>residual sugar</th>\n",
       "      <th>chlorides</th>\n",
       "      <th>free sulfur dioxide</th>\n",
       "      <th>total sulfur dioxide</th>\n",
       "      <th>density</th>\n",
       "      <th>pH</th>\n",
       "      <th>sulphates</th>\n",
       "      <th>alcohol</th>\n",
       "      <th>quality</th>\n",
       "    </tr>\n",
       "  </thead>\n",
       "  <tbody>\n",
       "    <tr>\n",
       "      <th>0</th>\n",
       "      <td>7.4</td>\n",
       "      <td>0.70</td>\n",
       "      <td>0.00</td>\n",
       "      <td>1.9</td>\n",
       "      <td>0.076</td>\n",
       "      <td>11.0</td>\n",
       "      <td>34.0</td>\n",
       "      <td>0.9978</td>\n",
       "      <td>3.51</td>\n",
       "      <td>0.56</td>\n",
       "      <td>9.4</td>\n",
       "      <td>5</td>\n",
       "    </tr>\n",
       "    <tr>\n",
       "      <th>1</th>\n",
       "      <td>7.8</td>\n",
       "      <td>0.88</td>\n",
       "      <td>0.00</td>\n",
       "      <td>2.6</td>\n",
       "      <td>0.098</td>\n",
       "      <td>25.0</td>\n",
       "      <td>67.0</td>\n",
       "      <td>0.9968</td>\n",
       "      <td>3.20</td>\n",
       "      <td>0.68</td>\n",
       "      <td>9.8</td>\n",
       "      <td>5</td>\n",
       "    </tr>\n",
       "    <tr>\n",
       "      <th>2</th>\n",
       "      <td>7.8</td>\n",
       "      <td>0.76</td>\n",
       "      <td>0.04</td>\n",
       "      <td>2.3</td>\n",
       "      <td>0.092</td>\n",
       "      <td>15.0</td>\n",
       "      <td>54.0</td>\n",
       "      <td>0.9970</td>\n",
       "      <td>3.26</td>\n",
       "      <td>0.65</td>\n",
       "      <td>9.8</td>\n",
       "      <td>5</td>\n",
       "    </tr>\n",
       "    <tr>\n",
       "      <th>3</th>\n",
       "      <td>11.2</td>\n",
       "      <td>0.28</td>\n",
       "      <td>0.56</td>\n",
       "      <td>1.9</td>\n",
       "      <td>0.075</td>\n",
       "      <td>17.0</td>\n",
       "      <td>60.0</td>\n",
       "      <td>0.9980</td>\n",
       "      <td>3.16</td>\n",
       "      <td>0.58</td>\n",
       "      <td>9.8</td>\n",
       "      <td>6</td>\n",
       "    </tr>\n",
       "    <tr>\n",
       "      <th>4</th>\n",
       "      <td>7.4</td>\n",
       "      <td>0.70</td>\n",
       "      <td>0.00</td>\n",
       "      <td>1.9</td>\n",
       "      <td>0.076</td>\n",
       "      <td>11.0</td>\n",
       "      <td>34.0</td>\n",
       "      <td>0.9978</td>\n",
       "      <td>3.51</td>\n",
       "      <td>0.56</td>\n",
       "      <td>9.4</td>\n",
       "      <td>5</td>\n",
       "    </tr>\n",
       "  </tbody>\n",
       "</table>\n",
       "</div>"
      ],
      "text/plain": [
       "   fixed acidity  volatile acidity  citric acid  residual sugar  chlorides  \\\n",
       "0            7.4              0.70         0.00             1.9      0.076   \n",
       "1            7.8              0.88         0.00             2.6      0.098   \n",
       "2            7.8              0.76         0.04             2.3      0.092   \n",
       "3           11.2              0.28         0.56             1.9      0.075   \n",
       "4            7.4              0.70         0.00             1.9      0.076   \n",
       "\n",
       "   free sulfur dioxide  total sulfur dioxide  density    pH  sulphates  \\\n",
       "0                 11.0                  34.0   0.9978  3.51       0.56   \n",
       "1                 25.0                  67.0   0.9968  3.20       0.68   \n",
       "2                 15.0                  54.0   0.9970  3.26       0.65   \n",
       "3                 17.0                  60.0   0.9980  3.16       0.58   \n",
       "4                 11.0                  34.0   0.9978  3.51       0.56   \n",
       "\n",
       "   alcohol  quality  \n",
       "0      9.4        5  \n",
       "1      9.8        5  \n",
       "2      9.8        5  \n",
       "3      9.8        6  \n",
       "4      9.4        5  "
      ]
     },
     "execution_count": 2,
     "metadata": {},
     "output_type": "execute_result"
    }
   ],
   "source": [
    "train_data = pd.read_csv('/kaggle/input/red-wine-quality-cortez-et-al-2009/winequality-red.csv')    #'/kaggle/input/red-wine-quality-cortez-et-al-2009/winequality-red.csv'\n",
    "train_data.head()"
   ]
  },
  {
   "cell_type": "markdown",
   "id": "d135742e",
   "metadata": {
    "papermill": {
     "duration": 0.009413,
     "end_time": "2023-11-14T10:37:02.604125",
     "exception": false,
     "start_time": "2023-11-14T10:37:02.594712",
     "status": "completed"
    },
    "tags": []
   },
   "source": [
    "Let's see if the dataset is balanced w.r.t. the quality labels."
   ]
  },
  {
   "cell_type": "code",
   "execution_count": 3,
   "id": "caec65c2",
   "metadata": {
    "execution": {
     "iopub.execute_input": "2023-11-14T10:37:02.625898Z",
     "iopub.status.busy": "2023-11-14T10:37:02.625378Z",
     "iopub.status.idle": "2023-11-14T10:37:02.931962Z",
     "shell.execute_reply": "2023-11-14T10:37:02.930816Z"
    },
    "papermill": {
     "duration": 0.320696,
     "end_time": "2023-11-14T10:37:02.934520",
     "exception": false,
     "start_time": "2023-11-14T10:37:02.613824",
     "status": "completed"
    },
    "tags": []
   },
   "outputs": [
    {
     "data": {
      "image/png": "[encoded data removed]",
      "text/plain": [
       "<Figure size 640x480 with 1 Axes>"
      ]
     },
     "metadata": {},
     "output_type": "display_data"
    }
   ],
   "source": [
    "plt.hist(train_data.values[:,-1])   #plotting the last column of the dataset\n",
    "plt.show()"
   ]
  },
  {
   "cell_type": "markdown",
   "id": "f163908a",
   "metadata": {
    "papermill": {
     "duration": 0.009797,
     "end_time": "2023-11-14T10:37:02.954526",
     "exception": false,
     "start_time": "2023-11-14T10:37:02.944729",
     "status": "completed"
    },
    "tags": []
   },
   "source": [
    "As we can see, there are _unbalanced_ categories. \n",
    "\n",
    "First we will split the training set in two parts: *training* and *test* set. \\\n",
    "30% will be used as test set"
   ]
  },
  {
   "cell_type": "code",
   "execution_count": 4,
   "id": "5b6f5a62",
   "metadata": {
    "execution": {
     "iopub.execute_input": "2023-11-14T10:37:02.976813Z",
     "iopub.status.busy": "2023-11-14T10:37:02.975872Z",
     "iopub.status.idle": "2023-11-14T10:37:02.987725Z",
     "shell.execute_reply": "2023-11-14T10:37:02.986535Z"
    },
    "papermill": {
     "duration": 0.025745,
     "end_time": "2023-11-14T10:37:02.990225",
     "exception": false,
     "start_time": "2023-11-14T10:37:02.964480",
     "status": "completed"
    },
    "tags": []
   },
   "outputs": [],
   "source": [
    "X_train,X_test,y_train,y_test = train_test_split(train_data.iloc[:,:-1],train_data.iloc[:,-1],test_size=0.30) #splitting into training set and test set"
   ]
  },
  {
   "cell_type": "markdown",
   "id": "cedcf89c",
   "metadata": {
    "papermill": {
     "duration": 0.009748,
     "end_time": "2023-11-14T10:37:03.009983",
     "exception": false,
     "start_time": "2023-11-14T10:37:03.000235",
     "status": "completed"
    },
    "tags": []
   },
   "source": [
    "Now we will use SMOTE to add new examples with labels 3,4 and 8 and re-balance the dataset."
   ]
  },
  {
   "cell_type": "code",
   "execution_count": 5,
   "id": "5ba81fdc",
   "metadata": {
    "execution": {
     "iopub.execute_input": "2023-11-14T10:37:03.031748Z",
     "iopub.status.busy": "2023-11-14T10:37:03.031320Z",
     "iopub.status.idle": "2023-11-14T10:37:03.493559Z",
     "shell.execute_reply": "2023-11-14T10:37:03.492286Z"
    },
    "papermill": {
     "duration": 0.476314,
     "end_time": "2023-11-14T10:37:03.496296",
     "exception": false,
     "start_time": "2023-11-14T10:37:03.019982",
     "status": "completed"
    },
    "tags": []
   },
   "outputs": [
    {
     "name": "stdout",
     "output_type": "stream",
     "text": [
      "Data before augmentation:\f",
      " quality\n",
      "5    681\n",
      "6    638\n",
      "7    199\n",
      "4     53\n",
      "8     18\n",
      "3     10\n",
      "Name: count, dtype: int64\n",
      "Data after augmentation:\f",
      " quality\n",
      "5    472\n",
      "7    472\n",
      "6    472\n",
      "4    472\n",
      "3    472\n",
      "8    472\n",
      "Name: count, dtype: int64\n"
     ]
    },
    {
     "data": {
      "image/png": "[encoded data removed]",
      "text/plain": [
       "<Figure size 640x480 with 1 Axes>"
      ]
     },
     "metadata": {},
     "output_type": "display_data"
    }
   ],
   "source": [
    "if is_smt:\n",
    "    smt = SMOTE()\n",
    "    X_train,y_train = smt.fit_resample(X_train,y_train)\n",
    "    print(\"Data before augmentation:\\f\",train_data['quality'].value_counts())\n",
    "    print(\"Data after augmentation:\\f\",y_train.value_counts())\n",
    "\n",
    "    plt.hist(y_train)   #plotting the last column of the dataset\n",
    "    plt.show()"
   ]
  },
  {
   "cell_type": "markdown",
   "id": "049b49dd",
   "metadata": {
    "papermill": {
     "duration": 0.010208,
     "end_time": "2023-11-14T10:37:03.517111",
     "exception": false,
     "start_time": "2023-11-14T10:37:03.506903",
     "status": "completed"
    },
    "tags": []
   },
   "source": [
    "As we can see, now data is slightly more balanced"
   ]
  },
  {
   "cell_type": "markdown",
   "id": "d96f77f4",
   "metadata": {
    "papermill": {
     "duration": 0.010379,
     "end_time": "2023-11-14T10:37:03.538003",
     "exception": false,
     "start_time": "2023-11-14T10:37:03.527624",
     "status": "completed"
    },
    "tags": []
   },
   "source": [
    "Now we will *normalize* features in the following manner:\n",
    "- mean and std will be computed on the *training* set\n",
    "- these values will be used to compute the normalization on the *test* set"
   ]
  },
  {
   "cell_type": "code",
   "execution_count": 6,
   "id": "73762218",
   "metadata": {
    "execution": {
     "iopub.execute_input": "2023-11-14T10:37:03.560912Z",
     "iopub.status.busy": "2023-11-14T10:37:03.560462Z",
     "iopub.status.idle": "2023-11-14T10:37:03.699393Z",
     "shell.execute_reply": "2023-11-14T10:37:03.697817Z"
    },
    "papermill": {
     "duration": 0.15368,
     "end_time": "2023-11-14T10:37:03.702301",
     "exception": false,
     "start_time": "2023-11-14T10:37:03.548621",
     "status": "completed"
    },
    "tags": []
   },
   "outputs": [
    {
     "name": "stdout",
     "output_type": "stream",
     "text": [
      "tensor([[ 1.6773, -0.7901, -0.7873,  ...,  0.0027, -0.7567,  1.7330],\n",
      "        [ 2.0668, -0.7651, -0.8040,  ..., -0.0335, -0.6900,  2.4562],\n",
      "        [ 0.8984, -0.7386, -0.9097,  ...,  0.0528, -0.7289,  1.6495],\n",
      "        ...,\n",
      "        [ 1.7046, -0.7901, -0.7642,  ..., -0.0164, -0.7178,  2.6014],\n",
      "        [ 1.6879, -0.8315, -0.7705,  ..., -0.0535, -0.7304,  2.4538],\n",
      "        [ 1.1132, -0.7994, -0.8226,  ..., -0.0121, -0.6994,  2.2851]])\n"
     ]
    }
   ],
   "source": [
    "def normalize_features(X_train, X_test, y_train, y_test):\n",
    "    global train_mean, train_std, pred_mean, pred_std\n",
    "\n",
    "    train_mean = [0,0,0,0,0,0,0,0,0,0,0] \n",
    "    train_std =[0,0,0,0,0,0,0,0,0,0,0]\n",
    "    \n",
    "    for i in range(0, X_train.shape[1]-1):\n",
    "        train_mean[i] = X_train[i].mean()\n",
    "        train_std[i] = X_train[i].std()\n",
    "    \n",
    "        X_train = (X_train - train_mean[i])/train_std[i]\n",
    "        X_test = (X_test - train_mean[i])/train_std[i]\n",
    "    \n",
    "    print(X_train)\n",
    "    \n",
    "    pred_mean = y_train.mean()\n",
    "    pred_std = y_train.std()\n",
    "    \n",
    "    y_train = (y_train - pred_mean) / pred_std\n",
    "    y_train = y_train.clone().detach()\n",
    "\n",
    "    y_test = (y_test - pred_mean) / pred_std\n",
    "    y_test = y_test.clone().detach()\n",
    "    return X_train, X_test, y_train, y_test\n",
    "\n",
    "def denormalize_features(X_train, X_test, y_train, y_test):\n",
    "    global train_mean, train_std, pred_mean, pred_std\n",
    "    \n",
    "    for i in range(0, X_train.shape[1]-1):\n",
    "        X_train = (X_train*train_std[i])+train_mean[i]\n",
    "        X_test = (X_test*train_std[i])+train_mean[i]\n",
    "    \n",
    "    y_train = (y_train * pred_std)+pred_mean\n",
    "    y_train = y_train.clone().detach()\n",
    "    \n",
    "    y_test = (y_test*pred_std) + pred_mean\n",
    "    y_test = y_test.clone().detach()\n",
    "    return X_train, X_test, y_train, y_test\n",
    "\n",
    "#convert the sets from ndarray to tensor\n",
    "X_train = torch.tensor(X_train.values, dtype=torch.float32)\n",
    "X_test = torch.tensor(X_test.values, dtype=torch.float32)\n",
    "y_train = torch.tensor(y_train.values, dtype=torch.float32)\n",
    "y_test = torch.tensor(y_test.values, dtype=torch.float32)\n",
    "\n",
    "X_train_N,X_test_N,y_train_n,y_test_n = normalize_features(X_train,X_test,y_train,y_test)   #normalizing the dataset"
   ]
  },
  {
   "cell_type": "markdown",
   "id": "f31f39e6",
   "metadata": {
    "papermill": {
     "duration": 0.010247,
     "end_time": "2023-11-14T10:37:03.723113",
     "exception": false,
     "start_time": "2023-11-14T10:37:03.712866",
     "status": "completed"
    },
    "tags": []
   },
   "source": [
    "## Training"
   ]
  },
  {
   "cell_type": "markdown",
   "id": "5bdba625",
   "metadata": {
    "papermill": {
     "duration": 0.010043,
     "end_time": "2023-11-14T10:37:03.743559",
     "exception": false,
     "start_time": "2023-11-14T10:37:03.733516",
     "status": "completed"
    },
    "tags": []
   },
   "source": [
    "Initialize the weights and bias of the linear regression"
   ]
  },
  {
   "cell_type": "code",
   "execution_count": 7,
   "id": "9aae9a14",
   "metadata": {
    "execution": {
     "iopub.execute_input": "2023-11-14T10:37:03.766989Z",
     "iopub.status.busy": "2023-11-14T10:37:03.766463Z",
     "iopub.status.idle": "2023-11-14T10:37:03.780684Z",
     "shell.execute_reply": "2023-11-14T10:37:03.779501Z"
    },
    "papermill": {
     "duration": 0.029271,
     "end_time": "2023-11-14T10:37:03.783311",
     "exception": false,
     "start_time": "2023-11-14T10:37:03.754040",
     "status": "completed"
    },
    "tags": []
   },
   "outputs": [],
   "source": [
    "n_features = X_train.shape[1] #contains the number of features excluding the label\n",
    "weights = torch.normal(0, 0.01, size=(n_features,1),requires_grad=True) # initialize a random tensor of weights, one weight for each feature\n",
    "bias = torch.zeros(1, requires_grad=True)"
   ]
  },
  {
   "cell_type": "markdown",
   "id": "074e211b",
   "metadata": {
    "papermill": {
     "duration": 0.010834,
     "end_time": "2023-11-14T10:37:03.804688",
     "exception": false,
     "start_time": "2023-11-14T10:37:03.793854",
     "status": "completed"
    },
    "tags": []
   },
   "source": [
    "Some functions definitions"
   ]
  },
  {
   "cell_type": "code",
   "execution_count": 8,
   "id": "72bb3a0e",
   "metadata": {
    "execution": {
     "iopub.execute_input": "2023-11-14T10:37:03.828034Z",
     "iopub.status.busy": "2023-11-14T10:37:03.827514Z",
     "iopub.status.idle": "2023-11-14T10:37:03.847919Z",
     "shell.execute_reply": "2023-11-14T10:37:03.846964Z"
    },
    "papermill": {
     "duration": 0.035135,
     "end_time": "2023-11-14T10:37:03.850218",
     "exception": false,
     "start_time": "2023-11-14T10:37:03.815083",
     "status": "completed"
    },
    "tags": []
   },
   "outputs": [],
   "source": [
    "from matplotlib import pyplot as plt\n",
    "\n",
    "def linreg(X, w, b):        #linear regression\n",
    "    return torch.matmul(X, w) + b\n",
    "\n",
    "def sgd(params, lr, batch_size):    #we will use stochastic GD\n",
    "    with torch.no_grad():\n",
    "        for param in params:\n",
    "            param -= lr * param.grad / batch_size\n",
    "            param.grad.zero_()\n",
    "            \n",
    "criterion = nn.MSELoss()    #the loss function will be mean squared error\n",
    "\n",
    "def data_iter(batch_size, features, labels):    #to divide a single batch in multiple minibatches\n",
    "    num_examples = len(features)\n",
    "    indices = list(range(num_examples))\n",
    "    # The examples are read at random, in no particular order\n",
    "    random.shuffle(indices)\n",
    "    for i in range(0, num_examples, batch_size):\n",
    "        batch_indices = torch.tensor(indices[i:min(i +\n",
    "                                                   batch_size, num_examples)])\n",
    "        yield features[batch_indices], labels[batch_indices]\n",
    "        \n",
    "def squared_loss(y_hat, y):\n",
    "    return (y_hat - y.reshape(y_hat.shape))**2 / 2\n",
    "\n",
    "def print_result(y_true, y_pred):       #plot the graphs\n",
    "    plt.clf()\n",
    "    plt.plot(y_pred, 'ro', label='Predictions', alpha=0.5)\n",
    "    plt.plot(y_true, 'go', label='True', alpha=0.5)\n",
    "    plt.legend(loc='best')\n",
    "    plt.colorbar\n",
    "    plt.show()\n",
    "    \n",
    "def print_correctness(ground_truth,predicted_labels):       #prints the accuracy\n",
    "    print('Mean Squared Error:\\f',metrics.mean_squared_error(ground_truth,predicted_labels))\n",
    "    print('Mean Absolute Error:\\f',metrics.mean_absolute_error(ground_truth,predicted_labels))\n",
    "    print('R-squared:\\f',metrics.r2_score(ground_truth,predicted_labels))\n",
    "    wandb.log({'R2': metrics.r2_score(ground_truth,predicted_labels)})\n",
    "    wandb.log({'MAE': metrics.mean_absolute_error(ground_truth,predicted_labels)})\n",
    "    wandb.log({'MSE': metrics.mean_squared_error(ground_truth,predicted_labels)})\n",
    "    # now compute the number of correct guesses\n",
    "    predicted_labels = predicted_labels.round()     #aproximation, since we need int values\n",
    "    x=0\n",
    "    for i in range(0,ground_truth.shape[0]-1):\n",
    "        if(predicted_labels[i] == ground_truth[i]):\n",
    "            x+=1\n",
    "            \n",
    "    print(\"Percentage of correct predictions: \", x/ground_truth.shape[0]*100,\"%\")"
   ]
  },
  {
   "cell_type": "markdown",
   "id": "e7206152",
   "metadata": {
    "papermill": {
     "duration": 0.010113,
     "end_time": "2023-11-14T10:37:03.871067",
     "exception": false,
     "start_time": "2023-11-14T10:37:03.860954",
     "status": "completed"
    },
    "tags": []
   },
   "source": [
    "Training loop"
   ]
  },
  {
   "cell_type": "code",
   "execution_count": 9,
   "id": "9bad9f85",
   "metadata": {
    "execution": {
     "iopub.execute_input": "2023-11-14T10:37:03.895745Z",
     "iopub.status.busy": "2023-11-14T10:37:03.895302Z",
     "iopub.status.idle": "2023-11-14T10:37:35.821940Z",
     "shell.execute_reply": "2023-11-14T10:37:35.821066Z"
    },
    "papermill": {
     "duration": 31.942624,
     "end_time": "2023-11-14T10:37:35.824105",
     "exception": false,
     "start_time": "2023-11-14T10:37:03.881481",
     "status": "completed"
    },
    "tags": []
   },
   "outputs": [
    {
     "name": "stdout",
     "output_type": "stream",
     "text": [
      "Training loss:\n",
      "epoch 1, loss 0.622672\n",
      "epoch 2, loss 0.525312\n",
      "epoch 3, loss 0.449684\n",
      "epoch 4, loss 0.377619\n",
      "epoch 5, loss 0.471052\n",
      "epoch 6, loss 0.414342\n",
      "epoch 7, loss 0.377908\n",
      "epoch 8, loss 0.428228\n",
      "epoch 9, loss 0.384055\n",
      "epoch 10, loss 0.414135\n",
      "epoch 11, loss 0.615672\n",
      "epoch 12, loss 0.518802\n",
      "epoch 13, loss 0.405308\n",
      "epoch 14, loss 0.573607\n",
      "epoch 15, loss 0.440476\n",
      "epoch 16, loss 0.380868\n",
      "epoch 17, loss 0.402314\n",
      "epoch 18, loss 0.552141\n",
      "epoch 19, loss 0.333737\n",
      "epoch 20, loss 0.568742\n",
      "epoch 21, loss 0.637814\n",
      "epoch 22, loss 0.388425\n",
      "epoch 23, loss 0.502511\n",
      "epoch 24, loss 0.340868\n",
      "epoch 25, loss 0.448565\n",
      "epoch 26, loss 0.356745\n",
      "epoch 27, loss 0.330299\n",
      "epoch 28, loss 0.477450\n",
      "epoch 29, loss 0.483879\n",
      "epoch 30, loss 0.439856\n",
      "epoch 31, loss 0.366289\n",
      "epoch 32, loss 0.452460\n",
      "epoch 33, loss 0.386615\n",
      "epoch 34, loss 0.486393\n",
      "epoch 35, loss 0.332222\n",
      "epoch 36, loss 0.314227\n",
      "epoch 37, loss 0.557470\n",
      "epoch 38, loss 0.336504\n",
      "epoch 39, loss 0.473912\n",
      "epoch 40, loss 0.334098\n",
      "epoch 41, loss 0.325141\n",
      "epoch 42, loss 0.260424\n",
      "epoch 43, loss 0.255861\n",
      "epoch 44, loss 0.156169\n",
      "epoch 45, loss 0.391233\n",
      "epoch 46, loss 0.313855\n",
      "epoch 47, loss 0.350239\n",
      "epoch 48, loss 0.486471\n",
      "epoch 49, loss 0.379294\n",
      "epoch 50, loss 0.293252\n",
      "epoch 51, loss 0.323772\n",
      "epoch 52, loss 0.436509\n",
      "epoch 53, loss 0.299441\n",
      "epoch 54, loss 0.263992\n",
      "epoch 55, loss 0.344012\n",
      "epoch 56, loss 0.253223\n",
      "epoch 57, loss 0.395406\n",
      "epoch 58, loss 0.239636\n",
      "epoch 59, loss 0.285825\n",
      "epoch 60, loss 0.230162\n",
      "epoch 61, loss 0.380199\n",
      "epoch 62, loss 0.210757\n",
      "epoch 63, loss 0.378563\n",
      "epoch 64, loss 0.415322\n",
      "epoch 65, loss 0.138596\n",
      "epoch 66, loss 0.308458\n",
      "epoch 67, loss 0.413100\n",
      "epoch 68, loss 0.389941\n",
      "epoch 69, loss 0.453188\n",
      "epoch 70, loss 0.481546\n",
      "epoch 71, loss 0.265735\n",
      "epoch 72, loss 0.330766\n",
      "epoch 73, loss 0.294250\n",
      "epoch 74, loss 0.277617\n",
      "epoch 75, loss 0.418193\n",
      "epoch 76, loss 0.426991\n",
      "epoch 77, loss 0.272724\n",
      "epoch 78, loss 0.309640\n",
      "epoch 79, loss 0.377896\n",
      "epoch 80, loss 0.368651\n",
      "epoch 81, loss 0.330512\n",
      "epoch 82, loss 0.387901\n",
      "epoch 83, loss 0.281238\n",
      "epoch 84, loss 0.368459\n",
      "epoch 85, loss 0.416866\n",
      "epoch 86, loss 0.327389\n",
      "epoch 87, loss 0.190547\n",
      "epoch 88, loss 0.313927\n",
      "epoch 89, loss 0.482067\n",
      "epoch 90, loss 0.393267\n",
      "epoch 91, loss 0.315522\n",
      "epoch 92, loss 0.385665\n",
      "epoch 93, loss 0.260249\n",
      "epoch 94, loss 0.221211\n",
      "epoch 95, loss 0.321826\n",
      "epoch 96, loss 0.400370\n",
      "epoch 97, loss 0.307491\n",
      "epoch 98, loss 0.207487\n",
      "epoch 99, loss 0.257175\n",
      "epoch 100, loss 0.245511\n",
      "epoch 101, loss 0.249997\n",
      "epoch 102, loss 0.406009\n",
      "epoch 103, loss 0.321776\n",
      "epoch 104, loss 0.226124\n",
      "epoch 105, loss 0.232668\n",
      "epoch 106, loss 0.312164\n",
      "epoch 107, loss 0.194626\n",
      "epoch 108, loss 0.254065\n",
      "epoch 109, loss 0.189329\n",
      "epoch 110, loss 0.231519\n",
      "epoch 111, loss 0.306795\n",
      "epoch 112, loss 0.244421\n",
      "epoch 113, loss 0.331764\n",
      "epoch 114, loss 0.247862\n",
      "epoch 115, loss 0.223479\n",
      "epoch 116, loss 0.298739\n",
      "epoch 117, loss 0.327999\n",
      "epoch 118, loss 0.188680\n",
      "epoch 119, loss 0.202025\n",
      "epoch 120, loss 0.308858\n",
      "epoch 121, loss 0.278286\n",
      "epoch 122, loss 0.184220\n",
      "epoch 123, loss 0.150679\n",
      "epoch 124, loss 0.270116\n",
      "epoch 125, loss 0.276526\n",
      "epoch 126, loss 0.269252\n",
      "epoch 127, loss 0.255772\n",
      "epoch 128, loss 0.196284\n",
      "epoch 129, loss 0.319959\n",
      "epoch 130, loss 0.289024\n",
      "epoch 131, loss 0.231158\n",
      "epoch 132, loss 0.232967\n",
      "epoch 133, loss 0.285429\n",
      "epoch 134, loss 0.262798\n",
      "epoch 135, loss 0.387651\n",
      "epoch 136, loss 0.145284\n",
      "epoch 137, loss 0.357188\n",
      "epoch 138, loss 0.268583\n",
      "epoch 139, loss 0.313789\n",
      "epoch 140, loss 0.300124\n",
      "epoch 141, loss 0.176158\n",
      "epoch 142, loss 0.306975\n",
      "epoch 143, loss 0.242889\n",
      "epoch 144, loss 0.259844\n",
      "epoch 145, loss 0.233747\n",
      "epoch 146, loss 0.338423\n",
      "epoch 147, loss 0.246214\n",
      "epoch 148, loss 0.260152\n",
      "epoch 149, loss 0.345441\n",
      "epoch 150, loss 0.316050\n",
      "epoch 151, loss 0.192338\n",
      "epoch 152, loss 0.232169\n",
      "epoch 153, loss 0.240886\n",
      "epoch 154, loss 0.267721\n",
      "epoch 155, loss 0.174878\n",
      "epoch 156, loss 0.209932\n",
      "epoch 157, loss 0.280266\n",
      "epoch 158, loss 0.329914\n",
      "epoch 159, loss 0.285686\n",
      "epoch 160, loss 0.303384\n",
      "epoch 161, loss 0.236596\n",
      "epoch 162, loss 0.261087\n",
      "epoch 163, loss 0.272959\n",
      "epoch 164, loss 0.356436\n",
      "epoch 165, loss 0.267020\n",
      "epoch 166, loss 0.172091\n",
      "epoch 167, loss 0.253217\n",
      "epoch 168, loss 0.177697\n",
      "epoch 169, loss 0.346958\n",
      "epoch 170, loss 0.297140\n",
      "epoch 171, loss 0.361956\n",
      "epoch 172, loss 0.269022\n",
      "epoch 173, loss 0.200083\n",
      "epoch 174, loss 0.304787\n",
      "epoch 175, loss 0.262101\n",
      "epoch 176, loss 0.187339\n",
      "epoch 177, loss 0.388814\n",
      "epoch 178, loss 0.302266\n",
      "epoch 179, loss 0.112509\n",
      "epoch 180, loss 0.195854\n",
      "epoch 181, loss 0.202006\n",
      "epoch 182, loss 0.190984\n",
      "epoch 183, loss 0.285806\n",
      "epoch 184, loss 0.239660\n",
      "epoch 185, loss 0.194474\n",
      "epoch 186, loss 0.274423\n",
      "epoch 187, loss 0.277432\n",
      "epoch 188, loss 0.197751\n",
      "epoch 189, loss 0.232791\n",
      "epoch 190, loss 0.242237\n",
      "epoch 191, loss 0.258120\n",
      "epoch 192, loss 0.326588\n",
      "epoch 193, loss 0.247311\n",
      "epoch 194, loss 0.267590\n",
      "epoch 195, loss 0.186764\n",
      "epoch 196, loss 0.153162\n",
      "epoch 197, loss 0.265995\n",
      "epoch 198, loss 0.325288\n",
      "epoch 199, loss 0.215577\n",
      "epoch 200, loss 0.248303\n",
      "epoch 201, loss 0.235875\n",
      "epoch 202, loss 0.176659\n",
      "epoch 203, loss 0.325601\n",
      "epoch 204, loss 0.210989\n",
      "epoch 205, loss 0.214838\n",
      "epoch 206, loss 0.118812\n",
      "epoch 207, loss 0.339213\n",
      "epoch 208, loss 0.240344\n",
      "epoch 209, loss 0.188621\n",
      "epoch 210, loss 0.286974\n",
      "epoch 211, loss 0.166568\n",
      "epoch 212, loss 0.185315\n",
      "epoch 213, loss 0.175952\n",
      "epoch 214, loss 0.281330\n",
      "epoch 215, loss 0.410526\n",
      "epoch 216, loss 0.194494\n",
      "epoch 217, loss 0.242814\n",
      "epoch 218, loss 0.154656\n",
      "epoch 219, loss 0.212132\n",
      "epoch 220, loss 0.317535\n",
      "epoch 221, loss 0.358065\n",
      "epoch 222, loss 0.263322\n",
      "epoch 223, loss 0.205484\n",
      "epoch 224, loss 0.294445\n",
      "epoch 225, loss 0.179802\n",
      "epoch 226, loss 0.152146\n",
      "epoch 227, loss 0.211038\n",
      "epoch 228, loss 0.334402\n",
      "epoch 229, loss 0.152110\n",
      "epoch 230, loss 0.241066\n",
      "epoch 231, loss 0.220429\n",
      "epoch 232, loss 0.165981\n",
      "epoch 233, loss 0.197954\n",
      "epoch 234, loss 0.222707\n",
      "epoch 235, loss 0.321140\n",
      "epoch 236, loss 0.207836\n",
      "epoch 237, loss 0.206550\n",
      "epoch 238, loss 0.173770\n",
      "epoch 239, loss 0.352319\n",
      "epoch 240, loss 0.311324\n",
      "epoch 241, loss 0.235523\n",
      "epoch 242, loss 0.255669\n",
      "epoch 243, loss 0.134220\n",
      "epoch 244, loss 0.264814\n",
      "epoch 245, loss 0.348845\n",
      "epoch 246, loss 0.198586\n",
      "epoch 247, loss 0.151398\n",
      "epoch 248, loss 0.123792\n",
      "epoch 249, loss 0.238998\n",
      "epoch 250, loss 0.146530\n",
      "epoch 251, loss 0.325491\n",
      "epoch 252, loss 0.259947\n",
      "epoch 253, loss 0.220051\n",
      "epoch 254, loss 0.389349\n",
      "epoch 255, loss 0.117462\n",
      "epoch 256, loss 0.120876\n",
      "epoch 257, loss 0.262352\n",
      "epoch 258, loss 0.293825\n",
      "epoch 259, loss 0.285173\n",
      "epoch 260, loss 0.192780\n",
      "epoch 261, loss 0.133418\n",
      "epoch 262, loss 0.301818\n",
      "epoch 263, loss 0.152253\n",
      "epoch 264, loss 0.238176\n",
      "epoch 265, loss 0.251824\n",
      "epoch 266, loss 0.138875\n",
      "epoch 267, loss 0.193641\n",
      "epoch 268, loss 0.235114\n",
      "epoch 269, loss 0.219051\n",
      "epoch 270, loss 0.192614\n",
      "epoch 271, loss 0.313129\n",
      "epoch 272, loss 0.237109\n",
      "epoch 273, loss 0.198582\n",
      "epoch 274, loss 0.289241\n",
      "epoch 275, loss 0.182180\n",
      "epoch 276, loss 0.125388\n",
      "epoch 277, loss 0.217493\n",
      "epoch 278, loss 0.306396\n",
      "epoch 279, loss 0.178951\n",
      "epoch 280, loss 0.290496\n",
      "epoch 281, loss 0.139544\n",
      "epoch 282, loss 0.165770\n",
      "epoch 283, loss 0.281940\n",
      "epoch 284, loss 0.159263\n",
      "epoch 285, loss 0.227871\n",
      "epoch 286, loss 0.279471\n",
      "epoch 287, loss 0.187034\n",
      "epoch 288, loss 0.272663\n",
      "epoch 289, loss 0.189105\n",
      "epoch 290, loss 0.144564\n",
      "epoch 291, loss 0.303767\n",
      "epoch 292, loss 0.274173\n",
      "epoch 293, loss 0.281147\n",
      "epoch 294, loss 0.160573\n",
      "epoch 295, loss 0.159594\n",
      "epoch 296, loss 0.239054\n",
      "epoch 297, loss 0.216333\n",
      "epoch 298, loss 0.244686\n",
      "epoch 299, loss 0.192723\n",
      "epoch 300, loss 0.186276\n",
      "epoch 301, loss 0.168666\n",
      "epoch 302, loss 0.252622\n",
      "epoch 303, loss 0.159225\n",
      "epoch 304, loss 0.185311\n",
      "epoch 305, loss 0.266891\n",
      "epoch 306, loss 0.238990\n",
      "epoch 307, loss 0.295053\n",
      "epoch 308, loss 0.198927\n",
      "epoch 309, loss 0.300082\n",
      "epoch 310, loss 0.150732\n",
      "epoch 311, loss 0.256536\n",
      "epoch 312, loss 0.270731\n",
      "epoch 313, loss 0.151519\n",
      "epoch 314, loss 0.247841\n",
      "epoch 315, loss 0.101128\n",
      "epoch 316, loss 0.349534\n",
      "epoch 317, loss 0.288032\n",
      "epoch 318, loss 0.287723\n",
      "epoch 319, loss 0.226437\n",
      "epoch 320, loss 0.214348\n",
      "epoch 321, loss 0.143933\n",
      "epoch 322, loss 0.227446\n",
      "epoch 323, loss 0.324856\n",
      "epoch 324, loss 0.305294\n",
      "epoch 325, loss 0.271044\n",
      "epoch 326, loss 0.268762\n",
      "epoch 327, loss 0.275515\n",
      "epoch 328, loss 0.154219\n",
      "epoch 329, loss 0.294874\n",
      "epoch 330, loss 0.258570\n",
      "epoch 331, loss 0.148717\n",
      "epoch 332, loss 0.144621\n",
      "epoch 333, loss 0.231996\n",
      "epoch 334, loss 0.240239\n",
      "epoch 335, loss 0.213615\n",
      "epoch 336, loss 0.171684\n",
      "epoch 337, loss 0.246768\n",
      "epoch 338, loss 0.317822\n",
      "epoch 339, loss 0.175503\n",
      "epoch 340, loss 0.365257\n",
      "epoch 341, loss 0.171010\n",
      "epoch 342, loss 0.157425\n",
      "epoch 343, loss 0.269376\n",
      "epoch 344, loss 0.264813\n",
      "epoch 345, loss 0.218173\n",
      "epoch 346, loss 0.278932\n",
      "epoch 347, loss 0.172007\n",
      "epoch 348, loss 0.329293\n",
      "epoch 349, loss 0.347529\n",
      "epoch 350, loss 0.213347\n",
      "epoch 351, loss 0.234130\n",
      "epoch 352, loss 0.233184\n",
      "epoch 353, loss 0.201693\n",
      "epoch 354, loss 0.220030\n",
      "epoch 355, loss 0.239024\n",
      "epoch 356, loss 0.139197\n",
      "epoch 357, loss 0.123551\n",
      "epoch 358, loss 0.254882\n",
      "epoch 359, loss 0.131576\n",
      "epoch 360, loss 0.201420\n",
      "epoch 361, loss 0.305809\n",
      "epoch 362, loss 0.230202\n",
      "epoch 363, loss 0.308792\n",
      "epoch 364, loss 0.317383\n",
      "epoch 365, loss 0.188831\n",
      "epoch 366, loss 0.193902\n",
      "epoch 367, loss 0.152430\n",
      "epoch 368, loss 0.276663\n",
      "epoch 369, loss 0.247646\n",
      "epoch 370, loss 0.099529\n",
      "epoch 371, loss 0.252909\n",
      "epoch 372, loss 0.202700\n",
      "epoch 373, loss 0.209094\n",
      "epoch 374, loss 0.156683\n",
      "epoch 375, loss 0.199713\n",
      "epoch 376, loss 0.205451\n",
      "epoch 377, loss 0.268721\n",
      "epoch 378, loss 0.129596\n",
      "epoch 379, loss 0.131632\n",
      "epoch 380, loss 0.219044\n",
      "epoch 381, loss 0.137629\n",
      "epoch 382, loss 0.153725\n",
      "epoch 383, loss 0.134370\n",
      "epoch 384, loss 0.164082\n",
      "epoch 385, loss 0.230987\n",
      "epoch 386, loss 0.192159\n",
      "epoch 387, loss 0.263398\n",
      "epoch 388, loss 0.145673\n",
      "epoch 389, loss 0.203936\n",
      "epoch 390, loss 0.149269\n",
      "epoch 391, loss 0.237608\n",
      "epoch 392, loss 0.162401\n",
      "epoch 393, loss 0.141635\n",
      "epoch 394, loss 0.190653\n",
      "epoch 395, loss 0.240499\n",
      "epoch 396, loss 0.170773\n",
      "epoch 397, loss 0.206709\n",
      "epoch 398, loss 0.151446\n",
      "epoch 399, loss 0.249958\n",
      "epoch 400, loss 0.221134\n",
      "epoch 401, loss 0.266003\n",
      "epoch 402, loss 0.151336\n",
      "epoch 403, loss 0.232978\n",
      "epoch 404, loss 0.181109\n",
      "epoch 405, loss 0.130804\n",
      "epoch 406, loss 0.171541\n",
      "epoch 407, loss 0.286775\n",
      "epoch 408, loss 0.183344\n",
      "epoch 409, loss 0.306288\n",
      "epoch 410, loss 0.239534\n",
      "epoch 411, loss 0.206071\n",
      "epoch 412, loss 0.116743\n",
      "epoch 413, loss 0.195417\n",
      "epoch 414, loss 0.245681\n",
      "epoch 415, loss 0.195367\n",
      "epoch 416, loss 0.246785\n",
      "epoch 417, loss 0.301240\n",
      "epoch 418, loss 0.247072\n",
      "epoch 419, loss 0.211516\n",
      "epoch 420, loss 0.237400\n",
      "epoch 421, loss 0.242910\n",
      "epoch 422, loss 0.223090\n",
      "epoch 423, loss 0.164097\n",
      "epoch 424, loss 0.290985\n",
      "epoch 425, loss 0.171074\n",
      "epoch 426, loss 0.235963\n",
      "epoch 427, loss 0.243240\n",
      "epoch 428, loss 0.158680\n",
      "epoch 429, loss 0.211531\n",
      "epoch 430, loss 0.232494\n",
      "epoch 431, loss 0.172259\n",
      "epoch 432, loss 0.256057\n",
      "epoch 433, loss 0.239718\n",
      "epoch 434, loss 0.108928\n",
      "epoch 435, loss 0.182260\n",
      "epoch 436, loss 0.161244\n",
      "epoch 437, loss 0.225191\n",
      "epoch 438, loss 0.233215\n",
      "epoch 439, loss 0.171324\n",
      "epoch 440, loss 0.250773\n",
      "epoch 441, loss 0.179594\n",
      "epoch 442, loss 0.105058\n",
      "epoch 443, loss 0.243802\n",
      "epoch 444, loss 0.161692\n",
      "epoch 445, loss 0.142250\n",
      "epoch 446, loss 0.229958\n",
      "epoch 447, loss 0.145622\n",
      "epoch 448, loss 0.293893\n",
      "epoch 449, loss 0.158992\n",
      "epoch 450, loss 0.219243\n",
      "epoch 451, loss 0.223915\n",
      "epoch 452, loss 0.180791\n",
      "epoch 453, loss 0.240044\n",
      "epoch 454, loss 0.198914\n",
      "epoch 455, loss 0.146301\n",
      "epoch 456, loss 0.162383\n",
      "epoch 457, loss 0.217896\n",
      "epoch 458, loss 0.247477\n",
      "epoch 459, loss 0.170814\n",
      "epoch 460, loss 0.161531\n",
      "epoch 461, loss 0.299279\n",
      "epoch 462, loss 0.282272\n",
      "epoch 463, loss 0.135768\n",
      "epoch 464, loss 0.182815\n",
      "epoch 465, loss 0.178933\n",
      "epoch 466, loss 0.199278\n",
      "epoch 467, loss 0.168908\n",
      "epoch 468, loss 0.159909\n",
      "epoch 469, loss 0.154992\n",
      "epoch 470, loss 0.168786\n",
      "epoch 471, loss 0.234748\n",
      "epoch 472, loss 0.230671\n",
      "epoch 473, loss 0.096619\n",
      "epoch 474, loss 0.245179\n",
      "epoch 475, loss 0.227445\n",
      "epoch 476, loss 0.260203\n",
      "epoch 477, loss 0.224302\n",
      "epoch 478, loss 0.157324\n",
      "epoch 479, loss 0.178892\n",
      "epoch 480, loss 0.283603\n",
      "epoch 481, loss 0.185853\n",
      "epoch 482, loss 0.142097\n",
      "epoch 483, loss 0.109949\n",
      "epoch 484, loss 0.158059\n",
      "epoch 485, loss 0.226264\n",
      "epoch 486, loss 0.223012\n",
      "epoch 487, loss 0.209888\n",
      "epoch 488, loss 0.152375\n",
      "epoch 489, loss 0.208443\n",
      "epoch 490, loss 0.234232\n",
      "epoch 491, loss 0.270623\n",
      "epoch 492, loss 0.206067\n",
      "epoch 493, loss 0.136319\n",
      "epoch 494, loss 0.146660\n",
      "epoch 495, loss 0.288999\n",
      "epoch 496, loss 0.138838\n",
      "epoch 497, loss 0.269122\n",
      "epoch 498, loss 0.236819\n",
      "epoch 499, loss 0.228434\n",
      "epoch 500, loss 0.160820\n",
      "epoch 501, loss 0.196810\n",
      "epoch 502, loss 0.107415\n",
      "epoch 503, loss 0.176074\n",
      "epoch 504, loss 0.195990\n",
      "epoch 505, loss 0.144881\n",
      "epoch 506, loss 0.179392\n",
      "epoch 507, loss 0.220091\n",
      "epoch 508, loss 0.252126\n",
      "epoch 509, loss 0.167252\n",
      "epoch 510, loss 0.129875\n",
      "epoch 511, loss 0.087266\n",
      "epoch 512, loss 0.111173\n"
     ]
    }
   ],
   "source": [
    "# MINI BATCH, calculate for each round the derivative for each minibatch, and then sum up them together\n",
    "\n",
    "print('Training loss:')\n",
    "for i in range(num_iterations):\n",
    "    for X, y in data_iter(batch_size, X_train_N, y_train_n):   \n",
    "        loss = squared_loss(linreg(X,weights,bias),y)    #calculate the prediction, i.e. X(train features) * weights +b; then the loss w.r.t. labels\n",
    "        loss.sum().backward() #derivate calc\n",
    "        sgd([weights,bias],lr,batch_size)   #update weights\n",
    "    with torch.no_grad():\n",
    "        train_l = squared_loss(linreg(X, weights, bias), y) #loss of the final batch of the round\n",
    "        print(f'epoch {i + 1}, loss {float(train_l.mean()):f}')\n",
    "        wandb.log({'train loss': train_l.mean()})\n",
    "        \n",
    "    "
   ]
  },
  {
   "cell_type": "markdown",
   "id": "26c60b89",
   "metadata": {
    "papermill": {
     "duration": 0.030364,
     "end_time": "2023-11-14T10:37:35.885104",
     "exception": false,
     "start_time": "2023-11-14T10:37:35.854740",
     "status": "completed"
    },
    "tags": []
   },
   "source": [
    "## Testing"
   ]
  },
  {
   "cell_type": "markdown",
   "id": "762d6efc",
   "metadata": {
    "papermill": {
     "duration": 0.030345,
     "end_time": "2023-11-14T10:37:35.945830",
     "exception": false,
     "start_time": "2023-11-14T10:37:35.915485",
     "status": "completed"
    },
    "tags": []
   },
   "source": [
    "We need to calculate the loss also over the test set"
   ]
  },
  {
   "cell_type": "code",
   "execution_count": 10,
   "id": "b312303e",
   "metadata": {
    "execution": {
     "iopub.execute_input": "2023-11-14T10:37:36.009248Z",
     "iopub.status.busy": "2023-11-14T10:37:36.008441Z",
     "iopub.status.idle": "2023-11-14T10:37:36.021337Z",
     "shell.execute_reply": "2023-11-14T10:37:36.020011Z"
    },
    "papermill": {
     "duration": 0.05044,
     "end_time": "2023-11-14T10:37:36.026866",
     "exception": false,
     "start_time": "2023-11-14T10:37:35.976426",
     "status": "completed"
    },
    "tags": []
   },
   "outputs": [
    {
     "name": "stdout",
     "output_type": "stream",
     "text": [
      "loss on the test dataset 0.159438\n"
     ]
    }
   ],
   "source": [
    "# test on the test dataset\n",
    "with torch.no_grad():\n",
    "    test_l = 0\n",
    "    for X, y in data_iter(batch_size, X_test_N, y_test_n):\n",
    "        test_l += squared_loss(linreg(X, weights, bias), y).sum()\n",
    "    test_l /= len(X_test)\n",
    "    print(f'loss on the test dataset {float(test_l):f}')\n",
    "    wandb.log({'test loss': test_l})"
   ]
  },
  {
   "cell_type": "markdown",
   "id": "3d2ef3ec",
   "metadata": {
    "papermill": {
     "duration": 0.030186,
     "end_time": "2023-11-14T10:37:36.088320",
     "exception": false,
     "start_time": "2023-11-14T10:37:36.058134",
     "status": "completed"
    },
    "tags": []
   },
   "source": [
    "## Results"
   ]
  },
  {
   "cell_type": "markdown",
   "id": "0cee8824",
   "metadata": {
    "papermill": {
     "duration": 0.029995,
     "end_time": "2023-11-14T10:37:36.214209",
     "exception": false,
     "start_time": "2023-11-14T10:37:36.184214",
     "status": "completed"
    },
    "tags": []
   },
   "source": [
    "Finally, the obtained predictions are the following. \n",
    "\n",
    "We will evaluate the model using the following metrics:\n",
    "- **Mean Squared Error**: computes the average of the squared differences between predicted and actual values.\n",
    "- **Mean Absolute Error**: calculates the average absolute difference between the predicted and actual values.\n",
    "- **R-squared**: indicates the proportion of the variance in the dependent variable that is predictable from the independent variables."
   ]
  },
  {
   "cell_type": "code",
   "execution_count": 11,
   "id": "c8773966",
   "metadata": {
    "execution": {
     "iopub.execute_input": "2023-11-14T10:37:36.277779Z",
     "iopub.status.busy": "2023-11-14T10:37:36.277015Z",
     "iopub.status.idle": "2023-11-14T10:37:36.630478Z",
     "shell.execute_reply": "2023-11-14T10:37:36.629439Z"
    },
    "papermill": {
     "duration": 0.387807,
     "end_time": "2023-11-14T10:37:36.632791",
     "exception": false,
     "start_time": "2023-11-14T10:37:36.244984",
     "status": "completed"
    },
    "tags": []
   },
   "outputs": [
    {
     "name": "stdout",
     "output_type": "stream",
     "text": [
      "Mean Squared Error:\f",
      " 0.9303814\n",
      "Mean Absolute Error:\f",
      " 0.7815996\n",
      "R-squared:\f",
      " -0.4452915272066882\n",
      "Percentage of correct predictions:  36.25 %\n"
     ]
    },
    {
     "data": {
      "image/png": "[encoded data removed]",
      "text/plain": [
       "<Figure size 640x480 with 1 Axes>"
      ]
     },
     "metadata": {},
     "output_type": "display_data"
    }
   ],
   "source": [
    "test_predictions_N = []\n",
    "with torch.no_grad():\n",
    "    for X in X_test_N:\n",
    "        test_predictions_N.append(linreg(X,weights,bias))       #we calculate all the predictions on the test set\n",
    "\n",
    "_,_,test_predictions,y_test = denormalize_features(X_train_N,X_test_N,torch.tensor(test_predictions_N),y_test_n)    #we denormalize the features\n",
    "\n",
    "#test_predictions = test_predictions.round()     #aproximation, since we need int values\n",
    "\n",
    "with torch.no_grad():\n",
    "    print_correctness(y_test,test_predictions)  #prints accuracy\n",
    "    print_result(y_test,test_predictions)\n",
    "    "
   ]
  },
  {
   "cell_type": "code",
   "execution_count": 12,
   "id": "8604deb1",
   "metadata": {
    "execution": {
     "iopub.execute_input": "2023-11-14T10:37:36.699905Z",
     "iopub.status.busy": "2023-11-14T10:37:36.699430Z",
     "iopub.status.idle": "2023-11-14T10:37:37.503494Z",
     "shell.execute_reply": "2023-11-14T10:37:37.502388Z"
    },
    "papermill": {
     "duration": 0.840822,
     "end_time": "2023-11-14T10:37:37.506224",
     "exception": false,
     "start_time": "2023-11-14T10:37:36.665402",
     "status": "completed"
    },
    "tags": []
   },
   "outputs": [
    {
     "data": {
      "image/png": "[encoded data removed]",
      "text/plain": [
       "<Figure size 500x500 with 1 Axes>"
      ]
     },
     "metadata": {},
     "output_type": "display_data"
    }
   ],
   "source": [
    "plt.figure(figsize=(5,5))\n",
    "plt.scatter(y_test, test_predictions, c='crimson')\n",
    "plt.yscale('log')\n",
    "plt.xscale('log')\n",
    "\n",
    "p1 = max(max(y_test), max(test_predictions))\n",
    "p2 = min(min(test_predictions), min(y_test))\n",
    "plt.plot([p1, p2], [p1, p2], 'b-')\n",
    "plt.xlabel('True Values', fontsize=15)\n",
    "plt.ylabel('Predictions', fontsize=15)\n",
    "plt.axis('equal')\n",
    "plt.show()"
   ]
  }
 ],
 "metadata": {
  "kernelspec": {
   "display_name": "Python 3",
   "language": "python",
   "name": "python3"
  },
  "language_info": {
   "codemirror_mode": {
    "name": "ipython",
    "version": 3
   },
   "file_extension": ".py",
   "mimetype": "text/x-python",
   "name": "python",
   "nbconvert_exporter": "python",
   "pygments_lexer": "ipython3",
   "version": "3.10.12"
  },
  "papermill": {
   "default_parameters": {},
   "duration": 79.853998,
   "end_time": "2023-11-14T10:37:40.161391",
   "environment_variables": {},
   "exception": null,
   "input_path": "__notebook__.ipynb",
   "output_path": "__notebook__.ipynb",
   "parameters": {},
   "start_time": "2023-11-14T10:36:20.307393",
   "version": "2.4.0"
  }
 },
 "nbformat": 4,
 "nbformat_minor": 5
}
