{
 "cells": [
  {
   "cell_type": "markdown",
   "id": "675c66ac",
   "metadata": {
    "papermill": {
     "duration": 0.009252,
     "end_time": "2023-11-14T15:20:04.572593",
     "exception": false,
     "start_time": "2023-11-14T15:20:04.563341",
     "status": "completed"
    },
    "tags": []
   },
   "source": [
    "# Red Wine Quality\n",
    "\n",
    "Kaggle link: https://www.kaggle.com/lorenzozanolin/linear-regression-zanolin\n",
    "\n",
    "W&B Link: https://wandb.ai/lorenzozanolin-52/linear_regression/table?workspace=user-lorenzozanolin-52"
   ]
  },
  {
   "cell_type": "markdown",
   "id": "4dde536c",
   "metadata": {
    "papermill": {
     "duration": 0.013025,
     "end_time": "2023-11-14T15:20:04.594964",
     "exception": false,
     "start_time": "2023-11-14T15:20:04.581939",
     "status": "completed"
    },
    "tags": []
   },
   "source": [
    "## Preliminaries"
   ]
  },
  {
   "cell_type": "code",
   "execution_count": 1,
   "id": "64343574",
   "metadata": {
    "_cell_guid": "b1076dfc-b9ad-4769-8c92-a6c4dae69d19",
    "_uuid": "8f2839f25d086af736a60e9eeb907d3b93b6e0e5",
    "execution": {
     "iopub.execute_input": "2023-11-14T15:20:04.618582Z",
     "iopub.status.busy": "2023-11-14T15:20:04.618076Z",
     "iopub.status.idle": "2023-11-14T15:20:45.981781Z",
     "shell.execute_reply": "2023-11-14T15:20:45.980816Z"
    },
    "papermill": {
     "duration": 41.380231,
     "end_time": "2023-11-14T15:20:45.984467",
     "exception": false,
     "start_time": "2023-11-14T15:20:04.604236",
     "status": "completed"
    },
    "tags": []
   },
   "outputs": [
    {
     "name": "stdout",
     "output_type": "stream",
     "text": [
      "/kaggle/input/red-wine-quality-cortez-et-al-2009/winequality-red.csv\n"
     ]
    },
    {
     "name": "stderr",
     "output_type": "stream",
     "text": [
      "\u001b[34m\u001b[1mwandb\u001b[0m: W&B API key is configured. Use \u001b[1m`wandb login --relogin`\u001b[0m to force relogin\n",
      "\u001b[34m\u001b[1mwandb\u001b[0m: \u001b[33mWARNING\u001b[0m If you're specifying your api key in code, ensure this code is not shared publicly.\n",
      "\u001b[34m\u001b[1mwandb\u001b[0m: \u001b[33mWARNING\u001b[0m Consider setting the WANDB_API_KEY environment variable, or running `wandb login` from the command line.\n",
      "\u001b[34m\u001b[1mwandb\u001b[0m: Appending key for api.wandb.ai to your netrc file: /root/.netrc\n",
      "\u001b[34m\u001b[1mwandb\u001b[0m: Currently logged in as: \u001b[33mlorenzozanolin-52\u001b[0m. Use \u001b[1m`wandb login --relogin`\u001b[0m to force relogin\n",
      "\u001b[34m\u001b[1mwandb\u001b[0m: wandb version 0.16.0 is available!  To upgrade, please run:\n",
      "\u001b[34m\u001b[1mwandb\u001b[0m:  $ pip install wandb --upgrade\n",
      "\u001b[34m\u001b[1mwandb\u001b[0m: Tracking run with wandb version 0.15.12\n",
      "\u001b[34m\u001b[1mwandb\u001b[0m: Run data is saved locally in \u001b[35m\u001b[1m/kaggle/working/wandb/run-20231114_152015-vzruk7n0\u001b[0m\n",
      "\u001b[34m\u001b[1mwandb\u001b[0m: Run \u001b[1m`wandb offline`\u001b[0m to turn off syncing.\n",
      "\u001b[34m\u001b[1mwandb\u001b[0m: Syncing run \u001b[33mdevout-eon-19\u001b[0m\n",
      "\u001b[34m\u001b[1mwandb\u001b[0m: ⭐️ View project at \u001b[34m\u001b[4mhttps://wandb.ai/lorenzozanolin-52/linear_regression\u001b[0m\n",
      "\u001b[34m\u001b[1mwandb\u001b[0m: 🚀 View run at \u001b[34m\u001b[4mhttps://wandb.ai/lorenzozanolin-52/linear_regression/runs/vzruk7n0\u001b[0m\n"
     ]
    }
   ],
   "source": [
    "# This Python 3 environment comes with many helpful analytics libraries installed\n",
    "# It is defined by the kaggle/python Docker image: https://github.com/kaggle/docker-python\n",
    "# For example, here's several helpful packages to load\n",
    "#!pip install wandb\n",
    "import numpy as np # linear algebra\n",
    "import pandas as pd # data processing, CSV file I/O (e.g. pd.read_csv)\n",
    "from sklearn import metrics\n",
    "import random\n",
    "# Input data files are available in the read-only \"../input/\" directory\n",
    "# For example, running this (by clicking run or pressing Shift+Enter) will list all files under the input directory\n",
    "import torch\n",
    "from imblearn.over_sampling import SMOTE\n",
    "from torch import nn\n",
    "from sklearn.model_selection import train_test_split\n",
    "import wandb\n",
    "from matplotlib import pyplot as plt\n",
    "\n",
    "import os\n",
    "for dirname, _, filenames in os.walk('/kaggle/input'): # '/kaggle/input'\n",
    "    for filename in filenames:\n",
    "        print(os.path.join(dirname, filename))\n",
    "\n",
    "# You can write up to 20GB to the current directory (/kaggle/working/) that gets preserved as output when you create a version using \"Save & Run All\" \n",
    "# You can also write temporary files to /kaggle/temp/, but they won't be saved outside of the current session\n",
    "\n",
    "from kaggle_secrets import UserSecretsClient\n",
    "user_secrets = UserSecretsClient()\n",
    "secret_value_0 = user_secrets.get_secret(\"a\")\n",
    "wandb.login(key=secret_value_0)\n",
    "\n",
    "#hyperparameters and initialization of wandb project\n",
    "num_iterations = 512\n",
    "batch_size = 16\n",
    "lr = 1e-3\n",
    "wandb.init(project=\"linear_regression\",config={\"lr\": lr, \"epochs\": num_iterations}) \n",
    "is_smt = False #decides whether to apply SMOTE\n",
    "wandb.log({'SMOTE': is_smt})"
   ]
  },
  {
   "cell_type": "markdown",
   "id": "97ae7d55",
   "metadata": {
    "papermill": {
     "duration": 0.010637,
     "end_time": "2023-11-14T15:20:46.006209",
     "exception": false,
     "start_time": "2023-11-14T15:20:45.995572",
     "status": "completed"
    },
    "tags": []
   },
   "source": [
    "## Data Processing"
   ]
  },
  {
   "cell_type": "code",
   "execution_count": 2,
   "id": "278001da",
   "metadata": {
    "execution": {
     "iopub.execute_input": "2023-11-14T15:20:46.029052Z",
     "iopub.status.busy": "2023-11-14T15:20:46.028143Z",
     "iopub.status.idle": "2023-11-14T15:20:46.088972Z",
     "shell.execute_reply": "2023-11-14T15:20:46.087317Z"
    },
    "papermill": {
     "duration": 0.075631,
     "end_time": "2023-11-14T15:20:46.091820",
     "exception": false,
     "start_time": "2023-11-14T15:20:46.016189",
     "status": "completed"
    },
    "tags": []
   },
   "outputs": [
    {
     "data": {
      "text/html": [
       "<div>\n",
       "<style scoped>\n",
       "    .dataframe tbody tr th:only-of-type {\n",
       "        vertical-align: middle;\n",
       "    }\n",
       "\n",
       "    .dataframe tbody tr th {\n",
       "        vertical-align: top;\n",
       "    }\n",
       "\n",
       "    .dataframe thead th {\n",
       "        text-align: right;\n",
       "    }\n",
       "</style>\n",
       "<table border=\"1\" class=\"dataframe\">\n",
       "  <thead>\n",
       "    <tr style=\"text-align: right;\">\n",
       "      <th></th>\n",
       "      <th>fixed acidity</th>\n",
       "      <th>volatile acidity</th>\n",
       "      <th>citric acid</th>\n",
       "      <th>residual sugar</th>\n",
       "      <th>chlorides</th>\n",
       "      <th>free sulfur dioxide</th>\n",
       "      <th>total sulfur dioxide</th>\n",
       "      <th>density</th>\n",
       "      <th>pH</th>\n",
       "      <th>sulphates</th>\n",
       "      <th>alcohol</th>\n",
       "      <th>quality</th>\n",
       "    </tr>\n",
       "  </thead>\n",
       "  <tbody>\n",
       "    <tr>\n",
       "      <th>0</th>\n",
       "      <td>7.4</td>\n",
       "      <td>0.70</td>\n",
       "      <td>0.00</td>\n",
       "      <td>1.9</td>\n",
       "      <td>0.076</td>\n",
       "      <td>11.0</td>\n",
       "      <td>34.0</td>\n",
       "      <td>0.9978</td>\n",
       "      <td>3.51</td>\n",
       "      <td>0.56</td>\n",
       "      <td>9.4</td>\n",
       "      <td>5</td>\n",
       "    </tr>\n",
       "    <tr>\n",
       "      <th>1</th>\n",
       "      <td>7.8</td>\n",
       "      <td>0.88</td>\n",
       "      <td>0.00</td>\n",
       "      <td>2.6</td>\n",
       "      <td>0.098</td>\n",
       "      <td>25.0</td>\n",
       "      <td>67.0</td>\n",
       "      <td>0.9968</td>\n",
       "      <td>3.20</td>\n",
       "      <td>0.68</td>\n",
       "      <td>9.8</td>\n",
       "      <td>5</td>\n",
       "    </tr>\n",
       "    <tr>\n",
       "      <th>2</th>\n",
       "      <td>7.8</td>\n",
       "      <td>0.76</td>\n",
       "      <td>0.04</td>\n",
       "      <td>2.3</td>\n",
       "      <td>0.092</td>\n",
       "      <td>15.0</td>\n",
       "      <td>54.0</td>\n",
       "      <td>0.9970</td>\n",
       "      <td>3.26</td>\n",
       "      <td>0.65</td>\n",
       "      <td>9.8</td>\n",
       "      <td>5</td>\n",
       "    </tr>\n",
       "    <tr>\n",
       "      <th>3</th>\n",
       "      <td>11.2</td>\n",
       "      <td>0.28</td>\n",
       "      <td>0.56</td>\n",
       "      <td>1.9</td>\n",
       "      <td>0.075</td>\n",
       "      <td>17.0</td>\n",
       "      <td>60.0</td>\n",
       "      <td>0.9980</td>\n",
       "      <td>3.16</td>\n",
       "      <td>0.58</td>\n",
       "      <td>9.8</td>\n",
       "      <td>6</td>\n",
       "    </tr>\n",
       "    <tr>\n",
       "      <th>4</th>\n",
       "      <td>7.4</td>\n",
       "      <td>0.70</td>\n",
       "      <td>0.00</td>\n",
       "      <td>1.9</td>\n",
       "      <td>0.076</td>\n",
       "      <td>11.0</td>\n",
       "      <td>34.0</td>\n",
       "      <td>0.9978</td>\n",
       "      <td>3.51</td>\n",
       "      <td>0.56</td>\n",
       "      <td>9.4</td>\n",
       "      <td>5</td>\n",
       "    </tr>\n",
       "  </tbody>\n",
       "</table>\n",
       "</div>"
      ],
      "text/plain": [
       "   fixed acidity  volatile acidity  citric acid  residual sugar  chlorides  \\\n",
       "0            7.4              0.70         0.00             1.9      0.076   \n",
       "1            7.8              0.88         0.00             2.6      0.098   \n",
       "2            7.8              0.76         0.04             2.3      0.092   \n",
       "3           11.2              0.28         0.56             1.9      0.075   \n",
       "4            7.4              0.70         0.00             1.9      0.076   \n",
       "\n",
       "   free sulfur dioxide  total sulfur dioxide  density    pH  sulphates  \\\n",
       "0                 11.0                  34.0   0.9978  3.51       0.56   \n",
       "1                 25.0                  67.0   0.9968  3.20       0.68   \n",
       "2                 15.0                  54.0   0.9970  3.26       0.65   \n",
       "3                 17.0                  60.0   0.9980  3.16       0.58   \n",
       "4                 11.0                  34.0   0.9978  3.51       0.56   \n",
       "\n",
       "   alcohol  quality  \n",
       "0      9.4        5  \n",
       "1      9.8        5  \n",
       "2      9.8        5  \n",
       "3      9.8        6  \n",
       "4      9.4        5  "
      ]
     },
     "execution_count": 2,
     "metadata": {},
     "output_type": "execute_result"
    }
   ],
   "source": [
    "train_data = pd.read_csv('/kaggle/input/red-wine-quality-cortez-et-al-2009/winequality-red.csv')    #'/kaggle/input/red-wine-quality-cortez-et-al-2009/winequality-red.csv'\n",
    "train_data.head()"
   ]
  },
  {
   "cell_type": "markdown",
   "id": "24b159c4",
   "metadata": {
    "papermill": {
     "duration": 0.010141,
     "end_time": "2023-11-14T15:20:46.113682",
     "exception": false,
     "start_time": "2023-11-14T15:20:46.103541",
     "status": "completed"
    },
    "tags": []
   },
   "source": [
    "Let's see if the dataset is balanced w.r.t. the quality labels."
   ]
  },
  {
   "cell_type": "code",
   "execution_count": 3,
   "id": "3e2edcf7",
   "metadata": {
    "execution": {
     "iopub.execute_input": "2023-11-14T15:20:46.137411Z",
     "iopub.status.busy": "2023-11-14T15:20:46.137006Z",
     "iopub.status.idle": "2023-11-14T15:20:46.464528Z",
     "shell.execute_reply": "2023-11-14T15:20:46.463053Z"
    },
    "papermill": {
     "duration": 0.344492,
     "end_time": "2023-11-14T15:20:46.468768",
     "exception": false,
     "start_time": "2023-11-14T15:20:46.124276",
     "status": "completed"
    },
    "tags": []
   },
   "outputs": [
    {
     "data": {
      "image/png": "[encoded data removed]",
      "text/plain": [
       "<Figure size 640x480 with 1 Axes>"
      ]
     },
     "metadata": {},
     "output_type": "display_data"
    }
   ],
   "source": [
    "plt.hist(train_data.values[:,-1])   #plotting the last column of the dataset\n",
    "plt.show()"
   ]
  },
  {
   "cell_type": "markdown",
   "id": "fc26283f",
   "metadata": {
    "papermill": {
     "duration": 0.012509,
     "end_time": "2023-11-14T15:20:46.496320",
     "exception": false,
     "start_time": "2023-11-14T15:20:46.483811",
     "status": "completed"
    },
    "tags": []
   },
   "source": [
    "As we can see, there are _unbalanced_ categories. \n",
    "\n",
    "First we will split the training set in two parts: *training* and *test* set. \\\n",
    "30% will be used as test set"
   ]
  },
  {
   "cell_type": "code",
   "execution_count": 4,
   "id": "1c17831f",
   "metadata": {
    "execution": {
     "iopub.execute_input": "2023-11-14T15:20:46.520855Z",
     "iopub.status.busy": "2023-11-14T15:20:46.520158Z",
     "iopub.status.idle": "2023-11-14T15:20:46.532392Z",
     "shell.execute_reply": "2023-11-14T15:20:46.531130Z"
    },
    "papermill": {
     "duration": 0.027691,
     "end_time": "2023-11-14T15:20:46.535236",
     "exception": false,
     "start_time": "2023-11-14T15:20:46.507545",
     "status": "completed"
    },
    "tags": []
   },
   "outputs": [],
   "source": [
    "X_train,X_test,y_train,y_test = train_test_split(train_data.iloc[:,:-1],train_data.iloc[:,-1],test_size=0.30) #splitting into training set and test set"
   ]
  },
  {
   "cell_type": "markdown",
   "id": "a5ee4297",
   "metadata": {
    "papermill": {
     "duration": 0.009913,
     "end_time": "2023-11-14T15:20:46.555606",
     "exception": false,
     "start_time": "2023-11-14T15:20:46.545693",
     "status": "completed"
    },
    "tags": []
   },
   "source": [
    "Now we will use SMOTE to add new examples with labels 3,4 and 8 and re-balance the dataset."
   ]
  },
  {
   "cell_type": "code",
   "execution_count": 5,
   "id": "1d92702c",
   "metadata": {
    "execution": {
     "iopub.execute_input": "2023-11-14T15:20:46.580261Z",
     "iopub.status.busy": "2023-11-14T15:20:46.579816Z",
     "iopub.status.idle": "2023-11-14T15:20:46.587255Z",
     "shell.execute_reply": "2023-11-14T15:20:46.586262Z"
    },
    "papermill": {
     "duration": 0.022754,
     "end_time": "2023-11-14T15:20:46.589869",
     "exception": false,
     "start_time": "2023-11-14T15:20:46.567115",
     "status": "completed"
    },
    "tags": []
   },
   "outputs": [],
   "source": [
    "if is_smt:\n",
    "    smt = SMOTE()\n",
    "    X_train,y_train = smt.fit_resample(X_train,y_train)\n",
    "    print(\"Data before augmentation:\\f\",train_data['quality'].value_counts())\n",
    "    print(\"Data after augmentation:\\f\",y_train.value_counts())\n",
    "\n",
    "    plt.hist(y_train)   #plotting the last column of the dataset\n",
    "    plt.show()"
   ]
  },
  {
   "cell_type": "markdown",
   "id": "f8cf83a3",
   "metadata": {
    "papermill": {
     "duration": 0.010314,
     "end_time": "2023-11-14T15:20:46.610540",
     "exception": false,
     "start_time": "2023-11-14T15:20:46.600226",
     "status": "completed"
    },
    "tags": []
   },
   "source": [
    "As we can see, now data is slightly more balanced"
   ]
  },
  {
   "cell_type": "markdown",
   "id": "826c8d5d",
   "metadata": {
    "papermill": {
     "duration": 0.010443,
     "end_time": "2023-11-14T15:20:46.632097",
     "exception": false,
     "start_time": "2023-11-14T15:20:46.621654",
     "status": "completed"
    },
    "tags": []
   },
   "source": [
    "Now we will *normalize* features in the following manner:\n",
    "- mean and std will be computed on the *training* set\n",
    "- these values will be used to compute the normalization on the *test* set"
   ]
  },
  {
   "cell_type": "code",
   "execution_count": 6,
   "id": "8586f2ff",
   "metadata": {
    "execution": {
     "iopub.execute_input": "2023-11-14T15:20:46.657283Z",
     "iopub.status.busy": "2023-11-14T15:20:46.656669Z",
     "iopub.status.idle": "2023-11-14T15:20:46.819542Z",
     "shell.execute_reply": "2023-11-14T15:20:46.816892Z"
    },
    "papermill": {
     "duration": 0.180532,
     "end_time": "2023-11-14T15:20:46.823735",
     "exception": false,
     "start_time": "2023-11-14T15:20:46.643203",
     "status": "completed"
    },
    "tags": []
   },
   "outputs": [
    {
     "name": "stdout",
     "output_type": "stream",
     "text": [
      "tensor([[ 0.1960, -0.6370, -0.7439,  ..., -0.3531, -0.6945,  0.4186],\n",
      "        [ 0.5423, -0.7044, -0.6747,  ..., -0.3556, -0.6635,  0.6907],\n",
      "        [ 0.0723, -0.6796, -0.7303,  ..., -0.3210, -0.6846,  0.3939],\n",
      "        ...,\n",
      "        [ 0.2949, -0.6747, -0.7316,  ..., -0.3692, -0.6969,  0.3815],\n",
      "        [ 0.5423, -0.7217, -0.6932,  ..., -0.3605, -0.6462,  0.4062],\n",
      "        [ 0.1218, -0.7130, -0.7204,  ..., -0.3333, -0.6759,  0.6041]])\n"
     ]
    }
   ],
   "source": [
    "def normalize_features(X_train, X_test, y_train, y_test):\n",
    "    global train_mean, train_std, pred_mean, pred_std\n",
    "\n",
    "    train_mean = [0,0,0,0,0,0,0,0,0,0,0] \n",
    "    train_std =[0,0,0,0,0,0,0,0,0,0,0]\n",
    "    \n",
    "    for i in range(0, X_train.shape[1]-1):\n",
    "        train_mean[i] = X_train[i].mean()\n",
    "        train_std[i] = X_train[i].std()\n",
    "    \n",
    "        X_train = (X_train - train_mean[i])/train_std[i]\n",
    "        X_test = (X_test - train_mean[i])/train_std[i]\n",
    "    \n",
    "    print(X_train)\n",
    "    \n",
    "    pred_mean = y_train.mean()\n",
    "    pred_std = y_train.std()\n",
    "    \n",
    "    y_train = (y_train - pred_mean) / pred_std\n",
    "    y_train = y_train.clone().detach()\n",
    "\n",
    "    y_test = (y_test - pred_mean) / pred_std\n",
    "    y_test = y_test.clone().detach()\n",
    "    return X_train, X_test, y_train, y_test\n",
    "\n",
    "def denormalize_features(X_train, X_test, y_train, y_test):\n",
    "    global train_mean, train_std, pred_mean, pred_std\n",
    "    \n",
    "    for i in range(0, X_train.shape[1]-1):\n",
    "        X_train = (X_train*train_std[i])+train_mean[i]\n",
    "        X_test = (X_test*train_std[i])+train_mean[i]\n",
    "    \n",
    "    y_train = (y_train * pred_std)+pred_mean\n",
    "    y_train = y_train.clone().detach()\n",
    "    \n",
    "    y_test = (y_test*pred_std) + pred_mean\n",
    "    y_test = y_test.clone().detach()\n",
    "    return X_train, X_test, y_train, y_test\n",
    "\n",
    "#convert the sets from ndarray to tensor\n",
    "X_train = torch.tensor(X_train.values, dtype=torch.float32)\n",
    "X_test = torch.tensor(X_test.values, dtype=torch.float32)\n",
    "y_train = torch.tensor(y_train.values, dtype=torch.float32)\n",
    "y_test = torch.tensor(y_test.values, dtype=torch.float32)\n",
    "\n",
    "X_train_N,X_test_N,y_train_n,y_test_n = normalize_features(X_train,X_test,y_train,y_test)   #normalizing the dataset"
   ]
  },
  {
   "cell_type": "markdown",
   "id": "2468c377",
   "metadata": {
    "papermill": {
     "duration": 0.010437,
     "end_time": "2023-11-14T15:20:46.846629",
     "exception": false,
     "start_time": "2023-11-14T15:20:46.836192",
     "status": "completed"
    },
    "tags": []
   },
   "source": [
    "## Training"
   ]
  },
  {
   "cell_type": "markdown",
   "id": "8d4afee0",
   "metadata": {
    "papermill": {
     "duration": 0.011456,
     "end_time": "2023-11-14T15:20:46.868476",
     "exception": false,
     "start_time": "2023-11-14T15:20:46.857020",
     "status": "completed"
    },
    "tags": []
   },
   "source": [
    "Initialize the weights and bias of the linear regression"
   ]
  },
  {
   "cell_type": "code",
   "execution_count": 7,
   "id": "43d12776",
   "metadata": {
    "execution": {
     "iopub.execute_input": "2023-11-14T15:20:46.893766Z",
     "iopub.status.busy": "2023-11-14T15:20:46.892672Z",
     "iopub.status.idle": "2023-11-14T15:20:46.907149Z",
     "shell.execute_reply": "2023-11-14T15:20:46.905858Z"
    },
    "papermill": {
     "duration": 0.031314,
     "end_time": "2023-11-14T15:20:46.911152",
     "exception": false,
     "start_time": "2023-11-14T15:20:46.879838",
     "status": "completed"
    },
    "tags": []
   },
   "outputs": [],
   "source": [
    "n_features = X_train.shape[1] #contains the number of features excluding the label\n",
    "#weights = torch.normal(0, 0.01, size=(n_features,1),requires_grad=True) # initialize a random tensor of weights, one weight for each feature\n",
    "weights = torch.randn(n_features,requires_grad=True) # initialize a random tensor of weights, one weight for each feature\n",
    "bias = torch.zeros(1, requires_grad=True)"
   ]
  },
  {
   "cell_type": "markdown",
   "id": "b3628852",
   "metadata": {
    "papermill": {
     "duration": 0.010101,
     "end_time": "2023-11-14T15:20:46.931825",
     "exception": false,
     "start_time": "2023-11-14T15:20:46.921724",
     "status": "completed"
    },
    "tags": []
   },
   "source": [
    "Some functions definitions"
   ]
  },
  {
   "cell_type": "code",
   "execution_count": 8,
   "id": "44c093fe",
   "metadata": {
    "execution": {
     "iopub.execute_input": "2023-11-14T15:20:46.957491Z",
     "iopub.status.busy": "2023-11-14T15:20:46.956962Z",
     "iopub.status.idle": "2023-11-14T15:20:46.977812Z",
     "shell.execute_reply": "2023-11-14T15:20:46.976533Z"
    },
    "papermill": {
     "duration": 0.03712,
     "end_time": "2023-11-14T15:20:46.980871",
     "exception": false,
     "start_time": "2023-11-14T15:20:46.943751",
     "status": "completed"
    },
    "tags": []
   },
   "outputs": [],
   "source": [
    "from matplotlib import pyplot as plt\n",
    "\n",
    "def linreg(X, w, b):        #linear regression\n",
    "    return torch.matmul(X, w) + b\n",
    "\n",
    "def sgd(params, lr, batch_size):    #we will use stochastic GD\n",
    "    with torch.no_grad():\n",
    "        for param in params:\n",
    "            param -= lr * param.grad / batch_size\n",
    "            param.grad.zero_()\n",
    "            \n",
    "criterion = nn.MSELoss()    #the loss function will be mean squared error\n",
    "\n",
    "def data_iter(batch_size, features, labels):    #to divide a single batch in multiple minibatches\n",
    "    num_examples = len(features)\n",
    "    indices = list(range(num_examples))\n",
    "    # The examples are read at random, in no particular order\n",
    "    random.shuffle(indices)\n",
    "    for i in range(0, num_examples, batch_size):\n",
    "        batch_indices = torch.tensor(indices[i:min(i +\n",
    "                                                   batch_size, num_examples)])\n",
    "        yield features[batch_indices], labels[batch_indices]\n",
    "        \n",
    "def squared_loss(y_hat, y):\n",
    "    return (y_hat - y.reshape(y_hat.shape))**2 / 2\n",
    "\n",
    "def print_result(y_true, y_pred):       #plot the graphs\n",
    "    plt.clf()\n",
    "    plt.plot(y_pred, 'ro', label='Predictions', alpha=0.5)\n",
    "    plt.plot(y_true, 'go', label='True', alpha=0.5)\n",
    "    plt.legend(loc='best')\n",
    "    plt.colorbar\n",
    "    plt.show()\n",
    "    \n",
    "def print_correctness(ground_truth,predicted_labels):       #prints the accuracy\n",
    "    print('Mean Squared Error:\\f',metrics.mean_squared_error(ground_truth,predicted_labels))\n",
    "    print('Mean Absolute Error:\\f',metrics.mean_absolute_error(ground_truth,predicted_labels))\n",
    "    print('R-squared:\\f',metrics.r2_score(ground_truth,predicted_labels))\n",
    "    wandb.log({'R2': metrics.r2_score(ground_truth,predicted_labels)})\n",
    "    wandb.log({'MAE': metrics.mean_absolute_error(ground_truth,predicted_labels)})\n",
    "    wandb.log({'MSE': metrics.mean_squared_error(ground_truth,predicted_labels)})\n",
    "    # now compute the number of correct guesses\n",
    "    predicted_labels = predicted_labels.round()     #aproximation, since we need int values\n",
    "    x=0\n",
    "    for i in range(0,ground_truth.shape[0]-1):\n",
    "        if(predicted_labels[i] == ground_truth[i]):\n",
    "            x+=1\n",
    "            \n",
    "    print(\"Percentage of correct predictions: \", x/ground_truth.shape[0]*100,\"%\")"
   ]
  },
  {
   "cell_type": "markdown",
   "id": "9380401d",
   "metadata": {
    "papermill": {
     "duration": 0.010696,
     "end_time": "2023-11-14T15:20:47.002821",
     "exception": false,
     "start_time": "2023-11-14T15:20:46.992125",
     "status": "completed"
    },
    "tags": []
   },
   "source": [
    "Training loop"
   ]
  },
  {
   "cell_type": "code",
   "execution_count": 9,
   "id": "8f8fad59",
   "metadata": {
    "execution": {
     "iopub.execute_input": "2023-11-14T15:20:47.028577Z",
     "iopub.status.busy": "2023-11-14T15:20:47.026754Z",
     "iopub.status.idle": "2023-11-14T15:21:00.492396Z",
     "shell.execute_reply": "2023-11-14T15:21:00.490920Z"
    },
    "papermill": {
     "duration": 13.482723,
     "end_time": "2023-11-14T15:21:00.497092",
     "exception": false,
     "start_time": "2023-11-14T15:20:47.014369",
     "status": "completed"
    },
    "tags": []
   },
   "outputs": [
    {
     "name": "stdout",
     "output_type": "stream",
     "text": [
      "Training loss:\n",
      "epoch 1, loss 0.463337\n",
      "epoch 2, loss 0.555296\n",
      "epoch 3, loss 1.044775\n",
      "epoch 4, loss 1.076359\n",
      "epoch 5, loss 0.992768\n",
      "epoch 6, loss 0.814817\n",
      "epoch 7, loss 0.810589\n",
      "epoch 8, loss 0.780327\n",
      "epoch 9, loss 0.517641\n",
      "epoch 10, loss 0.801137\n",
      "epoch 11, loss 0.863537\n",
      "epoch 12, loss 0.501992\n",
      "epoch 13, loss 0.317502\n",
      "epoch 14, loss 0.438903\n",
      "epoch 15, loss 1.049374\n",
      "epoch 16, loss 0.473772\n",
      "epoch 17, loss 0.461742\n",
      "epoch 18, loss 0.485305\n",
      "epoch 19, loss 0.547042\n",
      "epoch 20, loss 0.309422\n",
      "epoch 21, loss 0.482790\n",
      "epoch 22, loss 1.458836\n",
      "epoch 23, loss 0.955553\n",
      "epoch 24, loss 1.267796\n",
      "epoch 25, loss 0.661415\n",
      "epoch 26, loss 0.892327\n",
      "epoch 27, loss 0.212316\n",
      "epoch 28, loss 0.501052\n",
      "epoch 29, loss 0.541675\n",
      "epoch 30, loss 0.598386\n",
      "epoch 31, loss 0.162930\n",
      "epoch 32, loss 0.889930\n",
      "epoch 33, loss 0.440363\n",
      "epoch 34, loss 0.711172\n",
      "epoch 35, loss 0.332026\n",
      "epoch 36, loss 0.679562\n",
      "epoch 37, loss 0.732190\n",
      "epoch 38, loss 0.554692\n",
      "epoch 39, loss 0.436948\n",
      "epoch 40, loss 0.769699\n",
      "epoch 41, loss 0.848548\n",
      "epoch 42, loss 0.668516\n",
      "epoch 43, loss 0.253777\n",
      "epoch 44, loss 0.410293\n",
      "epoch 45, loss 1.188199\n",
      "epoch 46, loss 0.391220\n",
      "epoch 47, loss 0.550896\n",
      "epoch 48, loss 0.911496\n",
      "epoch 49, loss 0.537972\n",
      "epoch 50, loss 0.538214\n",
      "epoch 51, loss 0.251417\n",
      "epoch 52, loss 0.686847\n",
      "epoch 53, loss 1.042574\n",
      "epoch 54, loss 0.448052\n",
      "epoch 55, loss 0.658056\n",
      "epoch 56, loss 0.617860\n",
      "epoch 57, loss 0.313315\n",
      "epoch 58, loss 0.545922\n",
      "epoch 59, loss 0.311067\n",
      "epoch 60, loss 0.539937\n",
      "epoch 61, loss 0.889778\n",
      "epoch 62, loss 0.225490\n",
      "epoch 63, loss 0.207215\n",
      "epoch 64, loss 0.236664\n",
      "epoch 65, loss 0.701431\n",
      "epoch 66, loss 0.325776\n",
      "epoch 67, loss 0.489529\n",
      "epoch 68, loss 0.461996\n",
      "epoch 69, loss 0.447729\n",
      "epoch 70, loss 0.252386\n",
      "epoch 71, loss 0.528526\n",
      "epoch 72, loss 0.880623\n",
      "epoch 73, loss 0.334582\n",
      "epoch 74, loss 0.334506\n",
      "epoch 75, loss 0.697692\n",
      "epoch 76, loss 0.408107\n",
      "epoch 77, loss 0.335617\n",
      "epoch 78, loss 0.406014\n",
      "epoch 79, loss 0.460811\n",
      "epoch 80, loss 0.253339\n",
      "epoch 81, loss 0.408067\n",
      "epoch 82, loss 0.619401\n",
      "epoch 83, loss 0.496309\n",
      "epoch 84, loss 0.744646\n",
      "epoch 85, loss 0.306397\n",
      "epoch 86, loss 0.555763\n",
      "epoch 87, loss 0.532057\n",
      "epoch 88, loss 0.520094\n",
      "epoch 89, loss 0.326237\n",
      "epoch 90, loss 0.692833\n",
      "epoch 91, loss 0.159047\n",
      "epoch 92, loss 0.538322\n",
      "epoch 93, loss 0.540376\n",
      "epoch 94, loss 0.202001\n",
      "epoch 95, loss 0.291084\n",
      "epoch 96, loss 0.337646\n",
      "epoch 97, loss 0.898701\n",
      "epoch 98, loss 0.857208\n",
      "epoch 99, loss 0.478311\n",
      "epoch 100, loss 0.356698\n",
      "epoch 101, loss 0.289832\n",
      "epoch 102, loss 0.707185\n",
      "epoch 103, loss 0.266747\n",
      "epoch 104, loss 0.374954\n",
      "epoch 105, loss 0.298998\n",
      "epoch 106, loss 0.362268\n",
      "epoch 107, loss 1.013126\n",
      "epoch 108, loss 0.189436\n",
      "epoch 109, loss 0.294236\n",
      "epoch 110, loss 0.463713\n",
      "epoch 111, loss 0.331421\n",
      "epoch 112, loss 0.744874\n",
      "epoch 113, loss 0.412371\n",
      "epoch 114, loss 0.506570\n",
      "epoch 115, loss 0.561116\n",
      "epoch 116, loss 0.233098\n",
      "epoch 117, loss 0.800316\n",
      "epoch 118, loss 0.488124\n",
      "epoch 119, loss 0.277605\n",
      "epoch 120, loss 1.096618\n",
      "epoch 121, loss 0.554700\n",
      "epoch 122, loss 0.403153\n",
      "epoch 123, loss 0.707238\n",
      "epoch 124, loss 0.530026\n",
      "epoch 125, loss 0.721985\n",
      "epoch 126, loss 0.357761\n",
      "epoch 127, loss 0.225747\n",
      "epoch 128, loss 0.145538\n",
      "epoch 129, loss 0.765721\n",
      "epoch 130, loss 0.453535\n",
      "epoch 131, loss 0.558026\n",
      "epoch 132, loss 0.804072\n",
      "epoch 133, loss 0.247732\n",
      "epoch 134, loss 0.838620\n",
      "epoch 135, loss 0.331202\n",
      "epoch 136, loss 0.934611\n",
      "epoch 137, loss 0.519177\n",
      "epoch 138, loss 0.256934\n",
      "epoch 139, loss 0.597179\n",
      "epoch 140, loss 0.398125\n",
      "epoch 141, loss 0.741953\n",
      "epoch 142, loss 0.769659\n",
      "epoch 143, loss 0.511048\n",
      "epoch 144, loss 0.780598\n",
      "epoch 145, loss 0.448756\n",
      "epoch 146, loss 0.450994\n",
      "epoch 147, loss 0.510562\n",
      "epoch 148, loss 0.252410\n",
      "epoch 149, loss 0.279540\n",
      "epoch 150, loss 1.165552\n",
      "epoch 151, loss 0.286477\n",
      "epoch 152, loss 0.364286\n",
      "epoch 153, loss 0.294345\n",
      "epoch 154, loss 0.592568\n",
      "epoch 155, loss 0.476400\n",
      "epoch 156, loss 0.272407\n",
      "epoch 157, loss 0.270808\n",
      "epoch 158, loss 0.288457\n",
      "epoch 159, loss 0.525597\n",
      "epoch 160, loss 0.791116\n",
      "epoch 161, loss 0.386339\n",
      "epoch 162, loss 0.331350\n",
      "epoch 163, loss 0.500283\n",
      "epoch 164, loss 0.259829\n",
      "epoch 165, loss 0.588975\n",
      "epoch 166, loss 0.403743\n",
      "epoch 167, loss 0.554012\n",
      "epoch 168, loss 0.149589\n",
      "epoch 169, loss 0.203715\n",
      "epoch 170, loss 0.337965\n",
      "epoch 171, loss 0.486413\n",
      "epoch 172, loss 0.457987\n",
      "epoch 173, loss 0.927222\n",
      "epoch 174, loss 0.263063\n",
      "epoch 175, loss 0.281344\n",
      "epoch 176, loss 0.773079\n",
      "epoch 177, loss 0.360044\n",
      "epoch 178, loss 0.303861\n",
      "epoch 179, loss 0.151276\n",
      "epoch 180, loss 0.320636\n",
      "epoch 181, loss 0.536868\n",
      "epoch 182, loss 0.729385\n",
      "epoch 183, loss 0.394869\n",
      "epoch 184, loss 0.827836\n",
      "epoch 185, loss 0.265025\n",
      "epoch 186, loss 0.358733\n",
      "epoch 187, loss 0.299001\n",
      "epoch 188, loss 0.539037\n",
      "epoch 189, loss 0.598192\n",
      "epoch 190, loss 0.560801\n",
      "epoch 191, loss 0.375775\n",
      "epoch 192, loss 0.715311\n",
      "epoch 193, loss 0.525822\n",
      "epoch 194, loss 0.299800\n",
      "epoch 195, loss 0.876635\n",
      "epoch 196, loss 0.211762\n",
      "epoch 197, loss 0.249567\n",
      "epoch 198, loss 0.704064\n",
      "epoch 199, loss 0.607956\n",
      "epoch 200, loss 0.529423\n",
      "epoch 201, loss 0.436812\n",
      "epoch 202, loss 0.305005\n",
      "epoch 203, loss 0.600331\n",
      "epoch 204, loss 0.245909\n",
      "epoch 205, loss 0.457363\n",
      "epoch 206, loss 0.540489\n",
      "epoch 207, loss 1.235637\n",
      "epoch 208, loss 0.291788\n",
      "epoch 209, loss 0.735187\n",
      "epoch 210, loss 0.180393\n",
      "epoch 211, loss 0.462418\n",
      "epoch 212, loss 0.412771\n",
      "epoch 213, loss 0.554024\n",
      "epoch 214, loss 0.510449\n",
      "epoch 215, loss 0.655135\n",
      "epoch 216, loss 0.541681\n",
      "epoch 217, loss 0.312026\n",
      "epoch 218, loss 0.415596\n",
      "epoch 219, loss 0.505488\n",
      "epoch 220, loss 0.740618\n",
      "epoch 221, loss 0.429753\n",
      "epoch 222, loss 0.301102\n",
      "epoch 223, loss 0.376103\n",
      "epoch 224, loss 0.359826\n",
      "epoch 225, loss 0.813190\n",
      "epoch 226, loss 0.558203\n",
      "epoch 227, loss 0.247538\n",
      "epoch 228, loss 0.491166\n",
      "epoch 229, loss 0.376196\n",
      "epoch 230, loss 0.508186\n",
      "epoch 231, loss 0.415947\n",
      "epoch 232, loss 0.446298\n",
      "epoch 233, loss 0.297975\n",
      "epoch 234, loss 0.183548\n",
      "epoch 235, loss 0.363056\n",
      "epoch 236, loss 0.601482\n",
      "epoch 237, loss 0.291479\n",
      "epoch 238, loss 0.429369\n",
      "epoch 239, loss 0.717374\n",
      "epoch 240, loss 0.344103\n",
      "epoch 241, loss 0.415716\n",
      "epoch 242, loss 0.472749\n",
      "epoch 243, loss 0.269700\n",
      "epoch 244, loss 0.233434\n",
      "epoch 245, loss 0.415331\n",
      "epoch 246, loss 0.733437\n",
      "epoch 247, loss 0.490788\n",
      "epoch 248, loss 0.306791\n",
      "epoch 249, loss 0.198754\n",
      "epoch 250, loss 0.569111\n",
      "epoch 251, loss 0.554321\n",
      "epoch 252, loss 0.290202\n",
      "epoch 253, loss 0.301157\n",
      "epoch 254, loss 0.577070\n",
      "epoch 255, loss 0.200950\n",
      "epoch 256, loss 0.587465\n",
      "epoch 257, loss 0.353597\n",
      "epoch 258, loss 0.468626\n",
      "epoch 259, loss 0.473738\n",
      "epoch 260, loss 0.494056\n",
      "epoch 261, loss 0.306292\n",
      "epoch 262, loss 0.148208\n",
      "epoch 263, loss 0.240817\n",
      "epoch 264, loss 0.339618\n",
      "epoch 265, loss 0.195023\n",
      "epoch 266, loss 0.398391\n",
      "epoch 267, loss 0.840715\n",
      "epoch 268, loss 0.413803\n",
      "epoch 269, loss 0.135655\n",
      "epoch 270, loss 0.790906\n",
      "epoch 271, loss 0.487749\n",
      "epoch 272, loss 0.258252\n",
      "epoch 273, loss 0.369938\n",
      "epoch 274, loss 0.568364\n",
      "epoch 275, loss 0.568806\n",
      "epoch 276, loss 0.864254\n",
      "epoch 277, loss 0.346479\n",
      "epoch 278, loss 0.374586\n",
      "epoch 279, loss 0.110119\n",
      "epoch 280, loss 0.477796\n",
      "epoch 281, loss 0.285767\n",
      "epoch 282, loss 0.425058\n",
      "epoch 283, loss 0.403221\n",
      "epoch 284, loss 0.638189\n",
      "epoch 285, loss 0.367615\n",
      "epoch 286, loss 0.586676\n",
      "epoch 287, loss 0.498870\n",
      "epoch 288, loss 0.531094\n",
      "epoch 289, loss 0.510781\n",
      "epoch 290, loss 0.251528\n",
      "epoch 291, loss 0.322933\n",
      "epoch 292, loss 0.559178\n",
      "epoch 293, loss 0.360232\n",
      "epoch 294, loss 0.349262\n",
      "epoch 295, loss 0.280566\n",
      "epoch 296, loss 0.477306\n",
      "epoch 297, loss 0.522161\n",
      "epoch 298, loss 0.288348\n",
      "epoch 299, loss 0.477118\n",
      "epoch 300, loss 0.565418\n",
      "epoch 301, loss 0.435238\n",
      "epoch 302, loss 0.426868\n",
      "epoch 303, loss 0.220174\n",
      "epoch 304, loss 0.422141\n",
      "epoch 305, loss 0.732387\n",
      "epoch 306, loss 0.591976\n",
      "epoch 307, loss 0.201534\n",
      "epoch 308, loss 0.203229\n",
      "epoch 309, loss 0.442216\n",
      "epoch 310, loss 0.212188\n",
      "epoch 311, loss 0.486614\n",
      "epoch 312, loss 0.849599\n",
      "epoch 313, loss 0.309272\n",
      "epoch 314, loss 0.356871\n",
      "epoch 315, loss 0.345346\n",
      "epoch 316, loss 0.471235\n",
      "epoch 317, loss 0.189902\n",
      "epoch 318, loss 0.229667\n",
      "epoch 319, loss 0.370337\n",
      "epoch 320, loss 0.712155\n",
      "epoch 321, loss 0.531602\n",
      "epoch 322, loss 0.306702\n",
      "epoch 323, loss 0.281193\n",
      "epoch 324, loss 0.332951\n",
      "epoch 325, loss 0.200304\n",
      "epoch 326, loss 0.405482\n",
      "epoch 327, loss 0.178256\n",
      "epoch 328, loss 0.333106\n",
      "epoch 329, loss 0.567839\n",
      "epoch 330, loss 0.328521\n",
      "epoch 331, loss 0.298123\n",
      "epoch 332, loss 0.300469\n",
      "epoch 333, loss 0.654380\n",
      "epoch 334, loss 0.239692\n",
      "epoch 335, loss 0.468734\n",
      "epoch 336, loss 0.218082\n",
      "epoch 337, loss 0.523492\n",
      "epoch 338, loss 0.451464\n",
      "epoch 339, loss 0.309955\n",
      "epoch 340, loss 0.350371\n",
      "epoch 341, loss 0.336306\n",
      "epoch 342, loss 0.265779\n",
      "epoch 343, loss 0.690349\n",
      "epoch 344, loss 0.624196\n",
      "epoch 345, loss 0.204704\n",
      "epoch 346, loss 0.270448\n",
      "epoch 347, loss 0.531644\n",
      "epoch 348, loss 0.304163\n",
      "epoch 349, loss 0.274724\n",
      "epoch 350, loss 0.320138\n",
      "epoch 351, loss 0.244209\n",
      "epoch 352, loss 0.324304\n",
      "epoch 353, loss 0.553336\n",
      "epoch 354, loss 0.233530\n",
      "epoch 355, loss 0.252673\n",
      "epoch 356, loss 0.269192\n",
      "epoch 357, loss 0.284821\n",
      "epoch 358, loss 0.297869\n",
      "epoch 359, loss 0.285817\n",
      "epoch 360, loss 0.210492\n",
      "epoch 361, loss 0.383616\n",
      "epoch 362, loss 0.181822\n",
      "epoch 363, loss 0.370488\n",
      "epoch 364, loss 0.341303\n",
      "epoch 365, loss 0.878229\n",
      "epoch 366, loss 0.826601\n",
      "epoch 367, loss 0.813352\n",
      "epoch 368, loss 0.540113\n",
      "epoch 369, loss 1.080068\n",
      "epoch 370, loss 0.636568\n",
      "epoch 371, loss 0.357048\n",
      "epoch 372, loss 0.745610\n",
      "epoch 373, loss 0.565439\n",
      "epoch 374, loss 0.653279\n",
      "epoch 375, loss 0.256174\n",
      "epoch 376, loss 0.717855\n",
      "epoch 377, loss 0.351848\n",
      "epoch 378, loss 0.654077\n",
      "epoch 379, loss 0.639981\n",
      "epoch 380, loss 0.311527\n",
      "epoch 381, loss 0.460618\n",
      "epoch 382, loss 0.234379\n",
      "epoch 383, loss 0.129873\n",
      "epoch 384, loss 0.318693\n",
      "epoch 385, loss 0.395872\n",
      "epoch 386, loss 0.179680\n",
      "epoch 387, loss 0.267632\n",
      "epoch 388, loss 0.226367\n",
      "epoch 389, loss 0.315737\n",
      "epoch 390, loss 0.315010\n",
      "epoch 391, loss 0.375177\n",
      "epoch 392, loss 0.171006\n",
      "epoch 393, loss 0.251981\n",
      "epoch 394, loss 0.481569\n",
      "epoch 395, loss 0.397024\n",
      "epoch 396, loss 0.184744\n",
      "epoch 397, loss 0.290306\n",
      "epoch 398, loss 0.526688\n",
      "epoch 399, loss 0.554022\n",
      "epoch 400, loss 0.067302\n",
      "epoch 401, loss 0.385410\n",
      "epoch 402, loss 0.387733\n",
      "epoch 403, loss 0.375612\n",
      "epoch 404, loss 0.716233\n",
      "epoch 405, loss 0.174771\n",
      "epoch 406, loss 0.758146\n",
      "epoch 407, loss 0.359368\n",
      "epoch 408, loss 0.450848\n",
      "epoch 409, loss 0.342114\n",
      "epoch 410, loss 0.409206\n",
      "epoch 411, loss 0.412419\n",
      "epoch 412, loss 0.206506\n",
      "epoch 413, loss 0.534088\n",
      "epoch 414, loss 0.310354\n",
      "epoch 415, loss 0.930352\n",
      "epoch 416, loss 0.775607\n",
      "epoch 417, loss 0.619402\n",
      "epoch 418, loss 0.301518\n",
      "epoch 419, loss 0.382721\n",
      "epoch 420, loss 0.716488\n",
      "epoch 421, loss 0.833630\n",
      "epoch 422, loss 0.401656\n",
      "epoch 423, loss 0.726767\n",
      "epoch 424, loss 0.125811\n",
      "epoch 425, loss 0.277052\n",
      "epoch 426, loss 0.429205\n",
      "epoch 427, loss 1.058473\n",
      "epoch 428, loss 0.317028\n",
      "epoch 429, loss 0.669557\n",
      "epoch 430, loss 0.295124\n",
      "epoch 431, loss 0.288292\n",
      "epoch 432, loss 0.277361\n",
      "epoch 433, loss 0.202153\n",
      "epoch 434, loss 0.697010\n",
      "epoch 435, loss 0.446935\n",
      "epoch 436, loss 0.317026\n",
      "epoch 437, loss 0.359064\n",
      "epoch 438, loss 0.865792\n",
      "epoch 439, loss 0.424362\n",
      "epoch 440, loss 0.192983\n",
      "epoch 441, loss 0.249415\n",
      "epoch 442, loss 0.353629\n",
      "epoch 443, loss 0.289109\n",
      "epoch 444, loss 0.877424\n",
      "epoch 445, loss 0.430851\n",
      "epoch 446, loss 0.640063\n",
      "epoch 447, loss 0.250242\n",
      "epoch 448, loss 0.829526\n",
      "epoch 449, loss 0.468699\n",
      "epoch 450, loss 0.489114\n",
      "epoch 451, loss 0.394077\n",
      "epoch 452, loss 0.569334\n",
      "epoch 453, loss 0.227687\n",
      "epoch 454, loss 0.294569\n",
      "epoch 455, loss 0.296341\n",
      "epoch 456, loss 0.236690\n",
      "epoch 457, loss 0.639989\n",
      "epoch 458, loss 0.597449\n",
      "epoch 459, loss 0.608769\n",
      "epoch 460, loss 0.393553\n",
      "epoch 461, loss 0.473763\n",
      "epoch 462, loss 0.330550\n",
      "epoch 463, loss 0.657318\n",
      "epoch 464, loss 0.310329\n",
      "epoch 465, loss 0.621975\n",
      "epoch 466, loss 0.496162\n",
      "epoch 467, loss 0.739438\n",
      "epoch 468, loss 0.397700\n",
      "epoch 469, loss 0.314694\n",
      "epoch 470, loss 0.233005\n",
      "epoch 471, loss 0.495649\n",
      "epoch 472, loss 0.602122\n",
      "epoch 473, loss 0.266989\n",
      "epoch 474, loss 0.608416\n",
      "epoch 475, loss 0.334931\n",
      "epoch 476, loss 0.475137\n",
      "epoch 477, loss 0.381639\n",
      "epoch 478, loss 0.348260\n",
      "epoch 479, loss 0.161455\n",
      "epoch 480, loss 0.274448\n",
      "epoch 481, loss 0.370405\n",
      "epoch 482, loss 0.690307\n",
      "epoch 483, loss 0.275516\n",
      "epoch 484, loss 0.589990\n",
      "epoch 485, loss 0.633020\n",
      "epoch 486, loss 0.312484\n",
      "epoch 487, loss 0.380370\n",
      "epoch 488, loss 0.354433\n",
      "epoch 489, loss 0.202478\n",
      "epoch 490, loss 0.280147\n",
      "epoch 491, loss 0.693387\n",
      "epoch 492, loss 0.636001\n",
      "epoch 493, loss 0.216255\n",
      "epoch 494, loss 0.257352\n",
      "epoch 495, loss 0.442949\n",
      "epoch 496, loss 0.400807\n",
      "epoch 497, loss 0.526445\n",
      "epoch 498, loss 0.380820\n",
      "epoch 499, loss 0.196402\n",
      "epoch 500, loss 0.373320\n",
      "epoch 501, loss 0.240202\n",
      "epoch 502, loss 0.429357\n",
      "epoch 503, loss 0.294784\n",
      "epoch 504, loss 0.408298\n",
      "epoch 505, loss 0.222932\n",
      "epoch 506, loss 0.267680\n",
      "epoch 507, loss 0.403115\n",
      "epoch 508, loss 0.472026\n",
      "epoch 509, loss 0.157569\n",
      "epoch 510, loss 0.247879\n",
      "epoch 511, loss 0.264835\n",
      "epoch 512, loss 0.264166\n"
     ]
    }
   ],
   "source": [
    "# MINI BATCH, calculate for each round the derivative for each minibatch, and then sum up them together\n",
    "\n",
    "print('Training loss:')\n",
    "for i in range(num_iterations):\n",
    "    for X, y in data_iter(batch_size, X_train_N, y_train_n):   \n",
    "        loss = squared_loss(linreg(X,weights,bias),y)    #calculate the prediction, i.e. X(train features) * weights +b; then the loss w.r.t. labels\n",
    "        loss.sum().backward() #derivate calc\n",
    "        sgd([weights,bias],lr,batch_size)   #update weights\n",
    "    with torch.no_grad():\n",
    "        train_l = squared_loss(linreg(X, weights, bias), y) #loss of the final batch of the round\n",
    "        print(f'epoch {i + 1}, loss {float(train_l.mean()):f}')\n",
    "        wandb.log({'train loss': train_l.mean()})\n",
    "        \n",
    "    "
   ]
  },
  {
   "cell_type": "markdown",
   "id": "3b23ff26",
   "metadata": {
    "papermill": {
     "duration": 0.016368,
     "end_time": "2023-11-14T15:21:00.533730",
     "exception": false,
     "start_time": "2023-11-14T15:21:00.517362",
     "status": "completed"
    },
    "tags": []
   },
   "source": [
    "## Testing"
   ]
  },
  {
   "cell_type": "markdown",
   "id": "a342c8be",
   "metadata": {
    "papermill": {
     "duration": 0.016181,
     "end_time": "2023-11-14T15:21:00.566831",
     "exception": false,
     "start_time": "2023-11-14T15:21:00.550650",
     "status": "completed"
    },
    "tags": []
   },
   "source": [
    "We need to calculate the loss also over the test set"
   ]
  },
  {
   "cell_type": "code",
   "execution_count": 10,
   "id": "1637bafe",
   "metadata": {
    "execution": {
     "iopub.execute_input": "2023-11-14T15:21:00.603690Z",
     "iopub.status.busy": "2023-11-14T15:21:00.603257Z",
     "iopub.status.idle": "2023-11-14T15:21:00.617357Z",
     "shell.execute_reply": "2023-11-14T15:21:00.616003Z"
    },
    "papermill": {
     "duration": 0.036373,
     "end_time": "2023-11-14T15:21:00.620898",
     "exception": false,
     "start_time": "2023-11-14T15:21:00.584525",
     "status": "completed"
    },
    "tags": []
   },
   "outputs": [
    {
     "name": "stdout",
     "output_type": "stream",
     "text": [
      "loss on the test dataset 0.417342\n"
     ]
    }
   ],
   "source": [
    "# test on the test dataset\n",
    "with torch.no_grad():\n",
    "    test_l = 0\n",
    "    for X, y in data_iter(batch_size, X_test_N, y_test_n):\n",
    "        test_l += squared_loss(linreg(X, weights, bias), y).sum()\n",
    "    test_l /= len(X_test)\n",
    "    print(f'loss on the test dataset {float(test_l):f}')\n",
    "    wandb.log({'test loss': test_l})"
   ]
  },
  {
   "cell_type": "markdown",
   "id": "4f3139fb",
   "metadata": {
    "papermill": {
     "duration": 0.016476,
     "end_time": "2023-11-14T15:21:00.658758",
     "exception": false,
     "start_time": "2023-11-14T15:21:00.642282",
     "status": "completed"
    },
    "tags": []
   },
   "source": [
    "## Results"
   ]
  },
  {
   "cell_type": "markdown",
   "id": "1f5f7530",
   "metadata": {
    "papermill": {
     "duration": 0.01631,
     "end_time": "2023-11-14T15:21:00.691918",
     "exception": false,
     "start_time": "2023-11-14T15:21:00.675608",
     "status": "completed"
    },
    "tags": []
   },
   "source": [
    "Finally, the obtained predictions are the following. \n",
    "\n",
    "We will evaluate the model using the following metrics:\n",
    "- **Mean Squared Error**: computes the average of the squared differences between predicted and actual values.\n",
    "- **Mean Absolute Error**: calculates the average absolute difference between the predicted and actual values.\n",
    "- **R-squared**: indicates the proportion of the variance in the dependent variable that is predictable from the independent variables."
   ]
  },
  {
   "cell_type": "code",
   "execution_count": 11,
   "id": "dbbaa886",
   "metadata": {
    "execution": {
     "iopub.execute_input": "2023-11-14T15:21:00.727571Z",
     "iopub.status.busy": "2023-11-14T15:21:00.727152Z",
     "iopub.status.idle": "2023-11-14T15:21:01.117780Z",
     "shell.execute_reply": "2023-11-14T15:21:01.116405Z"
    },
    "papermill": {
     "duration": 0.41233,
     "end_time": "2023-11-14T15:21:01.121273",
     "exception": false,
     "start_time": "2023-11-14T15:21:00.708943",
     "status": "completed"
    },
    "tags": []
   },
   "outputs": [
    {
     "name": "stdout",
     "output_type": "stream",
     "text": [
      "Mean Squared Error:\f",
      " 0.5478274\n",
      "Mean Absolute Error:\f",
      " 0.6043193\n",
      "R-squared:\f",
      " 0.14725815577492596\n",
      "Percentage of correct predictions:  47.708333333333336 %\n"
     ]
    },
    {
     "data": {
      "image/png": "[encoded data removed]",
      "text/plain": [
       "<Figure size 640x480 with 1 Axes>"
      ]
     },
     "metadata": {},
     "output_type": "display_data"
    }
   ],
   "source": [
    "test_predictions_N = []\n",
    "with torch.no_grad():\n",
    "    for X in X_test_N:\n",
    "        test_predictions_N.append(linreg(X,weights,bias))       #we calculate all the predictions on the test set\n",
    "\n",
    "_,_,test_predictions,y_test = denormalize_features(X_train_N,X_test_N,torch.tensor(test_predictions_N),y_test_n)    #we denormalize the features\n",
    "\n",
    "#test_predictions = test_predictions.round()     #aproximation, since we need int values\n",
    "\n",
    "with torch.no_grad():\n",
    "    print_correctness(y_test,test_predictions)  #prints accuracy\n",
    "    print_result(y_test,test_predictions)\n",
    "    "
   ]
  },
  {
   "cell_type": "code",
   "execution_count": 12,
   "id": "44718f6c",
   "metadata": {
    "execution": {
     "iopub.execute_input": "2023-11-14T15:21:01.163850Z",
     "iopub.status.busy": "2023-11-14T15:21:01.163280Z",
     "iopub.status.idle": "2023-11-14T15:21:02.072103Z",
     "shell.execute_reply": "2023-11-14T15:21:02.070478Z"
    },
    "papermill": {
     "duration": 0.934104,
     "end_time": "2023-11-14T15:21:02.075199",
     "exception": false,
     "start_time": "2023-11-14T15:21:01.141095",
     "status": "completed"
    },
    "tags": []
   },
   "outputs": [
    {
     "data": {
      "image/png": "[encoded data removed]",
      "text/plain": [
       "<Figure size 500x500 with 1 Axes>"
      ]
     },
     "metadata": {},
     "output_type": "display_data"
    }
   ],
   "source": [
    "plt.figure(figsize=(5,5))\n",
    "plt.scatter(y_test, test_predictions, c='crimson')\n",
    "plt.yscale('log')\n",
    "plt.xscale('log')\n",
    "\n",
    "p1 = max(max(y_test), max(test_predictions))\n",
    "p2 = min(min(test_predictions), min(y_test))\n",
    "plt.plot([p1, p2], [p1, p2], 'b-')\n",
    "plt.xlabel('True Values', fontsize=15)\n",
    "plt.ylabel('Predictions', fontsize=15)\n",
    "plt.axis('equal')\n",
    "plt.show()"
   ]
  }
 ],
 "metadata": {
  "kaggle": {
   "accelerator": "none",
   "dataSources": [
    {
     "datasetId": 4458,
     "sourceId": 8204,
     "sourceType": "datasetVersion"
    }
   ],
   "dockerImageVersionId": 30579,
   "isGpuEnabled": false,
   "isInternetEnabled": true,
   "language": "python",
   "sourceType": "notebook"
  },
  "kernelspec": {
   "display_name": "Python 3",
   "language": "python",
   "name": "python3"
  },
  "language_info": {
   "codemirror_mode": {
    "name": "ipython",
    "version": 3
   },
   "file_extension": ".py",
   "mimetype": "text/x-python",
   "name": "python",
   "nbconvert_exporter": "python",
   "pygments_lexer": "ipython3",
   "version": "3.10.12"
  },
  "papermill": {
   "default_parameters": {},
   "duration": 63.958684,
   "end_time": "2023-11-14T15:21:04.720469",
   "environment_variables": {},
   "exception": null,
   "input_path": "__notebook__.ipynb",
   "output_path": "__notebook__.ipynb",
   "parameters": {},
   "start_time": "2023-11-14T15:20:00.761785",
   "version": "2.4.0"
  }
 },
 "nbformat": 4,
 "nbformat_minor": 5
}
