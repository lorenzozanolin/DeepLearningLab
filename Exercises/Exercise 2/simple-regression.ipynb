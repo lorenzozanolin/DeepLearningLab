{
 "cells": [
  {
   "cell_type": "markdown",
   "metadata": {},
   "source": [
    "# Red Wine Quality\n",
    "\n",
    "Kaggle link: https://www.kaggle.com/uciml/red-wine-quality-cortez-et-al-2009"
   ]
  },
  {
   "cell_type": "code",
   "execution_count": 73,
   "metadata": {
    "_cell_guid": "b1076dfc-b9ad-4769-8c92-a6c4dae69d19",
    "_uuid": "8f2839f25d086af736a60e9eeb907d3b93b6e0e5",
    "execution": {
     "iopub.execute_input": "2021-07-20T09:27:21.990824Z",
     "iopub.status.busy": "2021-07-20T09:27:21.990322Z",
     "iopub.status.idle": "2021-07-20T09:27:21.998746Z",
     "shell.execute_reply": "2021-07-20T09:27:21.99754Z",
     "shell.execute_reply.started": "2021-07-20T09:27:21.990792Z"
    }
   },
   "outputs": [
    {
     "name": "stdout",
     "output_type": "stream",
     "text": [
      "./simple-regression.ipynb\n",
      "./winequality-red.csv\n",
      "./wandb/debug-internal.log\n",
      "./wandb/debug-cli.lorenzozanolin.log\n",
      "./wandb/debug.log\n",
      "./wandb/run-20231013_152213-1mdmbnvn/run-1mdmbnvn.wandb\n",
      "./wandb/run-20231013_152213-1mdmbnvn/logs/debug-internal.log\n",
      "./wandb/run-20231013_152213-1mdmbnvn/logs/debug.log\n",
      "./wandb/run-20231013_152213-1mdmbnvn/files/requirements.txt\n",
      "./wandb/run-20231013_152213-1mdmbnvn/files/output.log\n",
      "./wandb/run-20231013_152213-1mdmbnvn/files/config.yaml\n",
      "./wandb/run-20231013_152213-1mdmbnvn/files/wandb-metadata.json\n",
      "./wandb/run-20231013_153847-h2jvr2b3/run-h2jvr2b3.wandb\n",
      "./wandb/run-20231013_153847-h2jvr2b3/logs/debug-internal.log\n",
      "./wandb/run-20231013_153847-h2jvr2b3/logs/debug.log\n",
      "./wandb/run-20231013_153847-h2jvr2b3/files/requirements.txt\n",
      "./wandb/run-20231013_153847-h2jvr2b3/files/output.log\n",
      "./wandb/run-20231013_153847-h2jvr2b3/files/config.yaml\n",
      "./wandb/run-20231013_153847-h2jvr2b3/files/wandb-summary.json\n",
      "./wandb/run-20231013_153847-h2jvr2b3/files/wandb-metadata.json\n",
      "./wandb/run-20231013_174402-lyfy6v40/run-lyfy6v40.wandb\n",
      "./wandb/run-20231013_174402-lyfy6v40/logs/debug-internal.log\n",
      "./wandb/run-20231013_174402-lyfy6v40/logs/debug.log\n",
      "./wandb/run-20231013_174402-lyfy6v40/files/requirements.txt\n",
      "./wandb/run-20231013_174402-lyfy6v40/files/output.log\n",
      "./wandb/run-20231013_174402-lyfy6v40/files/config.yaml\n",
      "./wandb/run-20231013_174402-lyfy6v40/files/wandb-metadata.json\n"
     ]
    }
   ],
   "source": [
    "# This Python 3 environment comes with many helpful analytics libraries installed\n",
    "# It is defined by the kaggle/python Docker image: https://github.com/kaggle/docker-python\n",
    "# For example, here's several helpful packages to load\n",
    "\n",
    "import numpy as np # linear algebra\n",
    "import pandas as pd # data processing, CSV file I/O (e.g. pd.read_csv)\n",
    "import wandb\n",
    "import random\n",
    "\n",
    "\n",
    "# Input data files are available in the read-only \"../input/\" directory\n",
    "# For example, running this (by clicking run or pressing Shift+Enter) will list all files under the input directory\n",
    "\n",
    "import os\n",
    "for dirname, _, filenames in os.walk('./'): # '/kaggle/input'\n",
    "    for filename in filenames:\n",
    "        print(os.path.join(dirname, filename))\n",
    "\n",
    "# You can write up to 20GB to the current directory (/kaggle/working/) that gets preserved as output when you create a version using \"Save & Run All\" \n",
    "# You can also write temporary files to /kaggle/temp/, but they won't be saved outside of the current session"
   ]
  },
  {
   "cell_type": "markdown",
   "metadata": {},
   "source": [
    "First, we need to import Pytorch"
   ]
  },
  {
   "cell_type": "code",
   "execution_count": 74,
   "metadata": {
    "execution": {
     "iopub.execute_input": "2021-07-20T09:27:22.001769Z",
     "iopub.status.busy": "2021-07-20T09:27:22.000817Z",
     "iopub.status.idle": "2021-07-20T09:27:22.016019Z",
     "shell.execute_reply": "2021-07-20T09:27:22.01474Z",
     "shell.execute_reply.started": "2021-07-20T09:27:22.001726Z"
    }
   },
   "outputs": [
    {
     "data": {
      "text/html": [
       "Finishing last run (ID:lyfy6v40) before initializing another..."
      ],
      "text/plain": [
       "<IPython.core.display.HTML object>"
      ]
     },
     "metadata": {},
     "output_type": "display_data"
    },
    {
     "data": {
      "text/html": [
       "Waiting for W&B process to finish... <strong style=\"color:green\">(success).</strong>"
      ],
      "text/plain": [
       "<IPython.core.display.HTML object>"
      ]
     },
     "metadata": {},
     "output_type": "display_data"
    },
    {
     "name": "stderr",
     "output_type": "stream",
     "text": [
      "wandb: WARNING Source type is set to 'repo' but some required information is missing from the environment. A job will not be created from this run. See https://docs.wandb.ai/guides/launch/create-job\n"
     ]
    },
    {
     "data": {
      "text/html": [
       " View run <strong style=\"color:#cdcd00\">lunar-cloud-5</strong> at: <a href='https://wandb.ai/lorenzozanolin-52/simple_regression/runs/lyfy6v40' target=\"_blank\">https://wandb.ai/lorenzozanolin-52/simple_regression/runs/lyfy6v40</a><br/>Synced 5 W&B file(s), 0 media file(s), 0 artifact file(s) and 0 other file(s)"
      ],
      "text/plain": [
       "<IPython.core.display.HTML object>"
      ]
     },
     "metadata": {},
     "output_type": "display_data"
    },
    {
     "data": {
      "text/html": [
       "Find logs at: <code>./wandb/run-20231013_174402-lyfy6v40/logs</code>"
      ],
      "text/plain": [
       "<IPython.core.display.HTML object>"
      ]
     },
     "metadata": {},
     "output_type": "display_data"
    },
    {
     "data": {
      "text/html": [
       "Successfully finished last run (ID:lyfy6v40). Initializing new run:<br/>"
      ],
      "text/plain": [
       "<IPython.core.display.HTML object>"
      ]
     },
     "metadata": {},
     "output_type": "display_data"
    },
    {
     "data": {
      "text/html": [
       "Tracking run with wandb version 0.15.12"
      ],
      "text/plain": [
       "<IPython.core.display.HTML object>"
      ]
     },
     "metadata": {},
     "output_type": "display_data"
    },
    {
     "data": {
      "text/html": [
       "Run data is saved locally in <code>/Users/lorenzozanolin/Library/Mobile Documents/com~apple~CloudDocs/Università/Artifical Intelligence & Cybersecurity/Secondo periodo/Klagenfurt/Machine Learning and Deep Learning/Laboratory/Exercises/Exercise 2/wandb/run-20231013_185200-93c2cktk</code>"
      ],
      "text/plain": [
       "<IPython.core.display.HTML object>"
      ]
     },
     "metadata": {},
     "output_type": "display_data"
    },
    {
     "data": {
      "text/html": [
       "Syncing run <strong><a href='https://wandb.ai/lorenzozanolin-52/simple_regression/runs/93c2cktk' target=\"_blank\">worldly-firebrand-6</a></strong> to <a href='https://wandb.ai/lorenzozanolin-52/simple_regression' target=\"_blank\">Weights & Biases</a> (<a href='https://wandb.me/run' target=\"_blank\">docs</a>)<br/>"
      ],
      "text/plain": [
       "<IPython.core.display.HTML object>"
      ]
     },
     "metadata": {},
     "output_type": "display_data"
    },
    {
     "data": {
      "text/html": [
       " View project at <a href='https://wandb.ai/lorenzozanolin-52/simple_regression' target=\"_blank\">https://wandb.ai/lorenzozanolin-52/simple_regression</a>"
      ],
      "text/plain": [
       "<IPython.core.display.HTML object>"
      ]
     },
     "metadata": {},
     "output_type": "display_data"
    },
    {
     "data": {
      "text/html": [
       " View run at <a href='https://wandb.ai/lorenzozanolin-52/simple_regression/runs/93c2cktk' target=\"_blank\">https://wandb.ai/lorenzozanolin-52/simple_regression/runs/93c2cktk</a>"
      ],
      "text/plain": [
       "<IPython.core.display.HTML object>"
      ]
     },
     "metadata": {},
     "output_type": "display_data"
    },
    {
     "data": {
      "text/html": [
       "<button onClick=\"this.nextSibling.style.display='block';this.style.display='none';\">Display W&B run</button><iframe src='https://wandb.ai/lorenzozanolin-52/simple_regression/runs/93c2cktk?jupyter=true' style='border:none;width:100%;height:420px;display:none;'></iframe>"
      ],
      "text/plain": [
       "<wandb.sdk.wandb_run.Run at 0x14186fa60>"
      ]
     },
     "execution_count": 74,
     "metadata": {},
     "output_type": "execute_result"
    }
   ],
   "source": [
    "import torch\n",
    "from torch import nn\n",
    "from torch import optim\n",
    "from torch.utils import data\n",
    "import wandb\n",
    "wandb.init(project=\"simple_regression\")"
   ]
  },
  {
   "cell_type": "markdown",
   "metadata": {},
   "source": [
    "# Data Processing"
   ]
  },
  {
   "cell_type": "code",
   "execution_count": 75,
   "metadata": {
    "execution": {
     "iopub.execute_input": "2021-07-20T09:27:22.019074Z",
     "iopub.status.busy": "2021-07-20T09:27:22.018711Z",
     "iopub.status.idle": "2021-07-20T09:27:22.054046Z",
     "shell.execute_reply": "2021-07-20T09:27:22.052743Z",
     "shell.execute_reply.started": "2021-07-20T09:27:22.01904Z"
    }
   },
   "outputs": [
    {
     "data": {
      "text/plain": [
       "(1599, 12)"
      ]
     },
     "execution_count": 75,
     "metadata": {},
     "output_type": "execute_result"
    }
   ],
   "source": [
    "train_data = pd.read_csv('./winequality-red.csv')    #'/kaggle/input/red-wine-quality-cortez-et-al-2009/winequality-red.csv'\n",
    "train_data.head()\n",
    "train_data.shape"
   ]
  },
  {
   "cell_type": "markdown",
   "metadata": {},
   "source": [
    "We need to separate features from target"
   ]
  },
  {
   "cell_type": "code",
   "execution_count": 76,
   "metadata": {
    "execution": {
     "iopub.execute_input": "2021-07-20T09:27:22.056464Z",
     "iopub.status.busy": "2021-07-20T09:27:22.056075Z",
     "iopub.status.idle": "2021-07-20T09:27:22.078596Z",
     "shell.execute_reply": "2021-07-20T09:27:22.077606Z",
     "shell.execute_reply.started": "2021-07-20T09:27:22.05643Z"
    }
   },
   "outputs": [
    {
     "data": {
      "text/plain": [
       "torch.Size([1599, 11])"
      ]
     },
     "execution_count": 76,
     "metadata": {},
     "output_type": "execute_result"
    }
   ],
   "source": [
    "n_train = train_data.shape[0]   #rows number\n",
    "all_features = train_data.iloc[:, 0:-1] #features excluding the first column (row index) and the last column (quality), which is the label => features are X\n",
    "all_features = all_features.apply(lambda x: (x - x.mean()) / (x.std())) #normalization\n",
    "train_features = torch.tensor(all_features[:n_train].values, dtype=torch.float32)   #create the tensor containing the features\n",
    "\n",
    "train_features.shape\n"
   ]
  },
  {
   "cell_type": "code",
   "execution_count": 77,
   "metadata": {
    "execution": {
     "iopub.execute_input": "2021-07-20T09:27:22.07993Z",
     "iopub.status.busy": "2021-07-20T09:27:22.079658Z",
     "iopub.status.idle": "2021-07-20T09:27:22.088282Z",
     "shell.execute_reply": "2021-07-20T09:27:22.087172Z",
     "shell.execute_reply.started": "2021-07-20T09:27:22.079904Z"
    }
   },
   "outputs": [
    {
     "data": {
      "text/plain": [
       "array([[5],\n",
       "       [5],\n",
       "       [5],\n",
       "       ...,\n",
       "       [6],\n",
       "       [5],\n",
       "       [6]])"
      ]
     },
     "execution_count": 77,
     "metadata": {},
     "output_type": "execute_result"
    }
   ],
   "source": [
    "trains_labels = train_data.quality.values.reshape(-1, 1)\n",
    "trains_labels   #labels representing the quality of the wine"
   ]
  },
  {
   "cell_type": "code",
   "execution_count": 78,
   "metadata": {
    "execution": {
     "iopub.execute_input": "2021-07-20T09:27:22.090275Z",
     "iopub.status.busy": "2021-07-20T09:27:22.089806Z",
     "iopub.status.idle": "2021-07-20T09:27:22.107085Z",
     "shell.execute_reply": "2021-07-20T09:27:22.105645Z",
     "shell.execute_reply.started": "2021-07-20T09:27:22.090224Z"
    }
   },
   "outputs": [
    {
     "data": {
      "text/plain": [
       "tensor([[-0.7878],\n",
       "        [-0.7878],\n",
       "        [-0.7878],\n",
       "        ...,\n",
       "        [ 0.4508],\n",
       "        [-0.7878],\n",
       "        [ 0.4508]])"
      ]
     },
     "execution_count": 78,
     "metadata": {},
     "output_type": "execute_result"
    }
   ],
   "source": [
    "trains_mean = trains_labels.mean()\n",
    "trains_std = trains_labels.std()\n",
    "trains_labels = (trains_labels - trains_mean) / trains_std  #normalization\n",
    "train_labels = torch.tensor(trains_labels,          #tensor containing the normalized training labels\n",
    "                            dtype=torch.float32)\n",
    "train_labels"
   ]
  },
  {
   "cell_type": "markdown",
   "metadata": {},
   "source": [
    "## Training"
   ]
  },
  {
   "cell_type": "markdown",
   "metadata": {},
   "source": [
    "Initialize the weights and bias of the linear regression"
   ]
  },
  {
   "cell_type": "code",
   "execution_count": 83,
   "metadata": {
    "execution": {
     "iopub.execute_input": "2021-07-20T09:27:22.108789Z",
     "iopub.status.busy": "2021-07-20T09:27:22.108457Z",
     "iopub.status.idle": "2021-07-20T09:27:22.116208Z",
     "shell.execute_reply": "2021-07-20T09:27:22.114731Z",
     "shell.execute_reply.started": "2021-07-20T09:27:22.10876Z"
    }
   },
   "outputs": [
    {
     "data": {
      "text/plain": [
       "(tensor([ 1.0756, -0.0727,  0.8611, -0.7896, -1.2702, -1.8445,  0.7174, -1.6390,\n",
       "          1.6959, -0.6130, -0.7053], requires_grad=True),\n",
       " tensor([0.], requires_grad=True))"
      ]
     },
     "execution_count": 83,
     "metadata": {},
     "output_type": "execute_result"
    }
   ],
   "source": [
    "n_features = train_features.shape[1] \n",
    "weights = torch.randn((n_features),requires_grad=True) # TODO, initialize a random tensor of weights, one weight for each feature\n",
    "bias = torch.zeros(1, requires_grad=True)\n",
    "weights,bias"
   ]
  },
  {
   "cell_type": "markdown",
   "metadata": {},
   "source": [
    "Some functions definitions"
   ]
  },
  {
   "cell_type": "code",
   "execution_count": 88,
   "metadata": {},
   "outputs": [],
   "source": [
    "def linreg(X, w, b):        #linear regression\n",
    "    return torch.matmul(X, w) + b\n",
    "\n",
    "def sgd(params, lr, batch_size):    #we will use stochastic GD\n",
    "    with torch.no_grad():\n",
    "        for param in params:\n",
    "            param -= lr * param.grad / batch_size\n",
    "            param.grad.zero_()\n",
    "            \n",
    "criterion = nn.MSELoss()    #the loss function will be mean squared error\n",
    "\n",
    "def data_iter(batch_size, features, labels):    #to divide a single batch in multiple minibatches\n",
    "    num_examples = len(features)\n",
    "    indices = list(range(num_examples))\n",
    "    # The examples are read at random, in no particular order\n",
    "    random.shuffle(indices)\n",
    "    for i in range(0, num_examples, batch_size):\n",
    "        batch_indices = torch.tensor(indices[i:min(i +\n",
    "                                                   batch_size, num_examples)])\n",
    "        yield features[batch_indices], labels[batch_indices]\n",
    "        \n",
    "def squared_loss(y_hat, y):\n",
    "    return (y_hat - y.reshape(y_hat.shape))**2 / 2"
   ]
  },
  {
   "cell_type": "markdown",
   "metadata": {},
   "source": [
    "Training loop"
   ]
  },
  {
   "cell_type": "code",
   "execution_count": 89,
   "metadata": {},
   "outputs": [
    {
     "name": "stdout",
     "output_type": "stream",
     "text": [
      "epoch 1, loss 2.467809\n",
      "epoch 2, loss 1.616591\n",
      "epoch 3, loss 1.183097\n",
      "epoch 4, loss 3.642277\n",
      "epoch 5, loss 1.223997\n",
      "epoch 6, loss 1.139056\n",
      "epoch 7, loss 1.244240\n",
      "epoch 8, loss 2.207870\n",
      "epoch 9, loss 1.452906\n",
      "epoch 10, loss 0.670021\n",
      "epoch 11, loss 1.043539\n",
      "epoch 12, loss 1.275869\n",
      "epoch 13, loss 0.883948\n",
      "epoch 14, loss 1.025992\n",
      "epoch 15, loss 0.719447\n",
      "epoch 16, loss 0.753684\n",
      "epoch 17, loss 0.785309\n",
      "epoch 18, loss 1.231531\n",
      "epoch 19, loss 0.610319\n",
      "epoch 20, loss 0.702089\n",
      "epoch 21, loss 0.348262\n",
      "epoch 22, loss 0.692109\n",
      "epoch 23, loss 0.504640\n",
      "epoch 24, loss 0.558261\n",
      "epoch 25, loss 0.475146\n",
      "epoch 26, loss 0.395076\n",
      "epoch 27, loss 0.832110\n",
      "epoch 28, loss 0.555774\n",
      "epoch 29, loss 0.632138\n",
      "epoch 30, loss 0.547659\n",
      "epoch 31, loss 1.378829\n",
      "epoch 32, loss 0.503376\n",
      "epoch 33, loss 0.381123\n",
      "epoch 34, loss 0.619662\n",
      "epoch 35, loss 0.269801\n",
      "epoch 36, loss 0.456109\n",
      "epoch 37, loss 0.277859\n",
      "epoch 38, loss 0.539562\n",
      "epoch 39, loss 0.845437\n",
      "epoch 40, loss 0.834585\n",
      "epoch 41, loss 0.324753\n",
      "epoch 42, loss 0.203017\n",
      "epoch 43, loss 0.521988\n",
      "epoch 44, loss 0.439088\n",
      "epoch 45, loss 0.365955\n",
      "epoch 46, loss 0.440672\n",
      "epoch 47, loss 0.522934\n",
      "epoch 48, loss 0.321250\n",
      "epoch 49, loss 0.234748\n",
      "epoch 50, loss 0.313676\n",
      "epoch 51, loss 0.336263\n",
      "epoch 52, loss 0.855798\n",
      "epoch 53, loss 0.401016\n",
      "epoch 54, loss 0.440879\n",
      "epoch 55, loss 0.678563\n",
      "epoch 56, loss 0.300119\n",
      "epoch 57, loss 0.309543\n",
      "epoch 58, loss 0.354404\n",
      "epoch 59, loss 0.343824\n",
      "epoch 60, loss 0.444640\n",
      "epoch 61, loss 0.355295\n",
      "epoch 62, loss 0.362532\n",
      "epoch 63, loss 0.521285\n",
      "epoch 64, loss 0.500939\n",
      "epoch 65, loss 0.369649\n",
      "epoch 66, loss 0.338717\n",
      "epoch 67, loss 0.465126\n",
      "epoch 68, loss 0.456730\n",
      "epoch 69, loss 0.127707\n",
      "epoch 70, loss 0.281799\n",
      "epoch 71, loss 0.385272\n",
      "epoch 72, loss 0.357224\n",
      "epoch 73, loss 0.799705\n",
      "epoch 74, loss 0.316502\n",
      "epoch 75, loss 0.275609\n",
      "epoch 76, loss 0.680133\n",
      "epoch 77, loss 0.894422\n",
      "epoch 78, loss 0.228623\n",
      "epoch 79, loss 0.174165\n",
      "epoch 80, loss 0.547178\n",
      "epoch 81, loss 0.296109\n",
      "epoch 82, loss 0.300988\n",
      "epoch 83, loss 0.244461\n",
      "epoch 84, loss 0.553437\n",
      "epoch 85, loss 0.611303\n",
      "epoch 86, loss 0.188093\n",
      "epoch 87, loss 0.425747\n",
      "epoch 88, loss 0.328935\n",
      "epoch 89, loss 0.477553\n",
      "epoch 90, loss 0.477997\n",
      "epoch 91, loss 0.427147\n",
      "epoch 92, loss 0.177399\n",
      "epoch 93, loss 0.320289\n",
      "epoch 94, loss 0.733262\n",
      "epoch 95, loss 0.253124\n",
      "epoch 96, loss 0.569352\n",
      "epoch 97, loss 0.394994\n",
      "epoch 98, loss 0.396790\n",
      "epoch 99, loss 0.324220\n",
      "epoch 100, loss 0.413378\n",
      "epoch 101, loss 0.323649\n",
      "epoch 102, loss 0.438119\n",
      "epoch 103, loss 0.309757\n",
      "epoch 104, loss 0.385314\n",
      "epoch 105, loss 0.602470\n",
      "epoch 106, loss 0.227041\n",
      "epoch 107, loss 0.452535\n",
      "epoch 108, loss 0.202128\n",
      "epoch 109, loss 0.164078\n",
      "epoch 110, loss 0.247516\n",
      "epoch 111, loss 0.238758\n",
      "epoch 112, loss 0.407507\n",
      "epoch 113, loss 0.483217\n",
      "epoch 114, loss 0.220733\n",
      "epoch 115, loss 0.211287\n",
      "epoch 116, loss 0.484001\n",
      "epoch 117, loss 0.368344\n",
      "epoch 118, loss 0.288621\n",
      "epoch 119, loss 0.496565\n",
      "epoch 120, loss 0.417342\n",
      "epoch 121, loss 0.574393\n",
      "epoch 122, loss 0.764476\n",
      "epoch 123, loss 0.377596\n",
      "epoch 124, loss 0.401296\n",
      "epoch 125, loss 0.356852\n",
      "epoch 126, loss 0.331646\n",
      "epoch 127, loss 0.429877\n",
      "epoch 128, loss 0.275820\n",
      "epoch 129, loss 0.433702\n",
      "epoch 130, loss 0.086797\n",
      "epoch 131, loss 0.299642\n",
      "epoch 132, loss 0.577223\n",
      "epoch 133, loss 0.377507\n",
      "epoch 134, loss 0.220735\n",
      "epoch 135, loss 0.710168\n",
      "epoch 136, loss 0.305850\n",
      "epoch 137, loss 0.385212\n",
      "epoch 138, loss 0.504238\n",
      "epoch 139, loss 0.354902\n",
      "epoch 140, loss 0.236626\n",
      "epoch 141, loss 0.458236\n",
      "epoch 142, loss 0.566086\n",
      "epoch 143, loss 0.457644\n",
      "epoch 144, loss 0.557690\n",
      "epoch 145, loss 0.169196\n",
      "epoch 146, loss 0.374406\n",
      "epoch 147, loss 0.437483\n",
      "epoch 148, loss 0.305583\n",
      "epoch 149, loss 0.213792\n",
      "epoch 150, loss 0.256032\n",
      "epoch 151, loss 0.329200\n",
      "epoch 152, loss 0.283963\n",
      "epoch 153, loss 0.319005\n",
      "epoch 154, loss 0.263302\n",
      "epoch 155, loss 0.318786\n",
      "epoch 156, loss 0.338462\n",
      "epoch 157, loss 0.316368\n",
      "epoch 158, loss 0.120542\n",
      "epoch 159, loss 0.325015\n",
      "epoch 160, loss 0.274970\n",
      "epoch 161, loss 0.237573\n",
      "epoch 162, loss 0.134420\n",
      "epoch 163, loss 0.281865\n",
      "epoch 164, loss 0.880019\n",
      "epoch 165, loss 0.192890\n",
      "epoch 166, loss 0.337497\n",
      "epoch 167, loss 0.239180\n",
      "epoch 168, loss 0.185144\n",
      "epoch 169, loss 0.511807\n",
      "epoch 170, loss 0.107742\n",
      "epoch 171, loss 0.718612\n",
      "epoch 172, loss 0.203411\n",
      "epoch 173, loss 0.137106\n",
      "epoch 174, loss 0.179916\n",
      "epoch 175, loss 0.545399\n",
      "epoch 176, loss 0.356645\n",
      "epoch 177, loss 0.113939\n",
      "epoch 178, loss 0.291291\n",
      "epoch 179, loss 0.382443\n",
      "epoch 180, loss 0.478319\n",
      "epoch 181, loss 0.230575\n",
      "epoch 182, loss 0.245912\n",
      "epoch 183, loss 0.235052\n",
      "epoch 184, loss 0.187223\n",
      "epoch 185, loss 0.344315\n",
      "epoch 186, loss 0.292325\n",
      "epoch 187, loss 0.592326\n",
      "epoch 188, loss 0.174001\n",
      "epoch 189, loss 0.305496\n",
      "epoch 190, loss 0.439149\n",
      "epoch 191, loss 0.208038\n",
      "epoch 192, loss 0.207491\n",
      "epoch 193, loss 0.512065\n",
      "epoch 194, loss 0.423473\n",
      "epoch 195, loss 0.442785\n",
      "epoch 196, loss 0.315354\n",
      "epoch 197, loss 0.222898\n",
      "epoch 198, loss 0.754494\n",
      "epoch 199, loss 0.421623\n",
      "epoch 200, loss 0.704841\n",
      "epoch 201, loss 0.239327\n",
      "epoch 202, loss 0.328514\n",
      "epoch 203, loss 0.161965\n",
      "epoch 204, loss 0.222215\n",
      "epoch 205, loss 0.150876\n",
      "epoch 206, loss 0.503412\n",
      "epoch 207, loss 0.757327\n",
      "epoch 208, loss 0.533084\n",
      "epoch 209, loss 0.293468\n",
      "epoch 210, loss 0.365435\n",
      "epoch 211, loss 0.304972\n",
      "epoch 212, loss 0.268065\n",
      "epoch 213, loss 0.162651\n",
      "epoch 214, loss 0.406128\n",
      "epoch 215, loss 0.163109\n",
      "epoch 216, loss 0.292174\n",
      "epoch 217, loss 0.533116\n",
      "epoch 218, loss 0.096242\n",
      "epoch 219, loss 0.294149\n",
      "epoch 220, loss 0.427611\n",
      "epoch 221, loss 0.142035\n",
      "epoch 222, loss 0.767226\n",
      "epoch 223, loss 0.475406\n",
      "epoch 224, loss 0.559969\n",
      "epoch 225, loss 0.209558\n",
      "epoch 226, loss 0.199816\n",
      "epoch 227, loss 0.162011\n",
      "epoch 228, loss 0.421959\n",
      "epoch 229, loss 0.329770\n",
      "epoch 230, loss 0.223836\n",
      "epoch 231, loss 0.122495\n",
      "epoch 232, loss 0.311989\n",
      "epoch 233, loss 0.320519\n",
      "epoch 234, loss 0.343492\n",
      "epoch 235, loss 0.278069\n",
      "epoch 236, loss 0.242130\n",
      "epoch 237, loss 0.437519\n",
      "epoch 238, loss 0.522044\n",
      "epoch 239, loss 0.457994\n",
      "epoch 240, loss 0.468085\n",
      "epoch 241, loss 0.283098\n",
      "epoch 242, loss 0.167559\n",
      "epoch 243, loss 0.322781\n",
      "epoch 244, loss 0.252783\n",
      "epoch 245, loss 0.184277\n",
      "epoch 246, loss 0.225368\n",
      "epoch 247, loss 0.379297\n",
      "epoch 248, loss 0.282846\n",
      "epoch 249, loss 0.314446\n",
      "epoch 250, loss 0.236390\n",
      "epoch 251, loss 0.422675\n",
      "epoch 252, loss 0.215009\n",
      "epoch 253, loss 0.377724\n",
      "epoch 254, loss 0.181402\n",
      "epoch 255, loss 0.376516\n",
      "epoch 256, loss 0.310093\n",
      "epoch 257, loss 0.733435\n",
      "epoch 258, loss 0.229715\n",
      "epoch 259, loss 0.259779\n",
      "epoch 260, loss 0.273473\n",
      "epoch 261, loss 0.186504\n",
      "epoch 262, loss 0.439547\n",
      "epoch 263, loss 0.236776\n",
      "epoch 264, loss 0.127072\n",
      "epoch 265, loss 0.299131\n",
      "epoch 266, loss 0.544370\n",
      "epoch 267, loss 0.326563\n",
      "epoch 268, loss 0.322606\n",
      "epoch 269, loss 0.328574\n",
      "epoch 270, loss 0.359327\n",
      "epoch 271, loss 0.179830\n",
      "epoch 272, loss 0.603171\n",
      "epoch 273, loss 0.252484\n",
      "epoch 274, loss 0.417362\n",
      "epoch 275, loss 0.376932\n",
      "epoch 276, loss 0.508485\n",
      "epoch 277, loss 0.303482\n",
      "epoch 278, loss 0.200357\n",
      "epoch 279, loss 0.238406\n",
      "epoch 280, loss 0.225391\n",
      "epoch 281, loss 0.266891\n",
      "epoch 282, loss 0.196283\n",
      "epoch 283, loss 0.402004\n",
      "epoch 284, loss 0.296341\n",
      "epoch 285, loss 0.282626\n",
      "epoch 286, loss 0.552417\n",
      "epoch 287, loss 0.222054\n",
      "epoch 288, loss 0.282383\n",
      "epoch 289, loss 0.575966\n",
      "epoch 290, loss 0.201032\n",
      "epoch 291, loss 0.372053\n",
      "epoch 292, loss 0.253749\n",
      "epoch 293, loss 0.363764\n",
      "epoch 294, loss 0.382168\n",
      "epoch 295, loss 0.533231\n",
      "epoch 296, loss 0.363239\n",
      "epoch 297, loss 0.192479\n",
      "epoch 298, loss 0.263950\n",
      "epoch 299, loss 0.176975\n",
      "epoch 300, loss 0.250119\n",
      "epoch 301, loss 0.166203\n",
      "epoch 302, loss 0.296888\n",
      "epoch 303, loss 0.426980\n",
      "epoch 304, loss 0.187892\n",
      "epoch 305, loss 0.580007\n",
      "epoch 306, loss 0.168584\n",
      "epoch 307, loss 0.423110\n",
      "epoch 308, loss 0.372029\n",
      "epoch 309, loss 0.234492\n",
      "epoch 310, loss 0.322703\n",
      "epoch 311, loss 0.274292\n",
      "epoch 312, loss 0.280421\n",
      "epoch 313, loss 0.570729\n",
      "epoch 314, loss 0.278604\n",
      "epoch 315, loss 0.283763\n",
      "epoch 316, loss 0.334348\n",
      "epoch 317, loss 0.450497\n",
      "epoch 318, loss 0.249684\n",
      "epoch 319, loss 0.309391\n",
      "epoch 320, loss 0.271478\n",
      "epoch 321, loss 0.259792\n",
      "epoch 322, loss 0.465319\n",
      "epoch 323, loss 0.351604\n",
      "epoch 324, loss 0.387163\n",
      "epoch 325, loss 0.113875\n",
      "epoch 326, loss 0.488937\n",
      "epoch 327, loss 0.403071\n",
      "epoch 328, loss 0.554128\n",
      "epoch 329, loss 0.309963\n",
      "epoch 330, loss 0.590625\n",
      "epoch 331, loss 0.298766\n",
      "epoch 332, loss 0.337302\n",
      "epoch 333, loss 0.361896\n",
      "epoch 334, loss 0.566826\n",
      "epoch 335, loss 0.329775\n",
      "epoch 336, loss 0.321255\n",
      "epoch 337, loss 0.459714\n",
      "epoch 338, loss 0.397667\n",
      "epoch 339, loss 0.105788\n",
      "epoch 340, loss 0.252355\n",
      "epoch 341, loss 0.392229\n",
      "epoch 342, loss 0.291427\n",
      "epoch 343, loss 0.227207\n",
      "epoch 344, loss 0.438502\n",
      "epoch 345, loss 0.242761\n",
      "epoch 346, loss 0.404280\n",
      "epoch 347, loss 0.220767\n",
      "epoch 348, loss 0.497207\n",
      "epoch 349, loss 0.234255\n",
      "epoch 350, loss 0.358468\n",
      "epoch 351, loss 0.093820\n",
      "epoch 352, loss 0.506712\n",
      "epoch 353, loss 0.326057\n",
      "epoch 354, loss 0.369894\n",
      "epoch 355, loss 0.469429\n",
      "epoch 356, loss 0.458781\n",
      "epoch 357, loss 0.208527\n",
      "epoch 358, loss 0.291497\n",
      "epoch 359, loss 0.288064\n",
      "epoch 360, loss 0.356467\n",
      "epoch 361, loss 0.167684\n",
      "epoch 362, loss 0.394745\n",
      "epoch 363, loss 0.234441\n",
      "epoch 364, loss 0.375870\n",
      "epoch 365, loss 0.214788\n",
      "epoch 366, loss 0.167358\n",
      "epoch 367, loss 0.608778\n",
      "epoch 368, loss 0.183763\n",
      "epoch 369, loss 0.319863\n",
      "epoch 370, loss 0.530146\n",
      "epoch 371, loss 0.279999\n",
      "epoch 372, loss 0.399679\n",
      "epoch 373, loss 0.182270\n",
      "epoch 374, loss 0.222138\n",
      "epoch 375, loss 0.256460\n",
      "epoch 376, loss 0.259728\n",
      "epoch 377, loss 0.473812\n",
      "epoch 378, loss 0.207047\n",
      "epoch 379, loss 0.379793\n",
      "epoch 380, loss 0.208283\n",
      "epoch 381, loss 0.206183\n",
      "epoch 382, loss 0.204987\n",
      "epoch 383, loss 0.529066\n",
      "epoch 384, loss 0.210446\n",
      "epoch 385, loss 0.410945\n",
      "epoch 386, loss 0.273389\n",
      "epoch 387, loss 0.370176\n",
      "epoch 388, loss 0.291517\n",
      "epoch 389, loss 0.617573\n",
      "epoch 390, loss 0.150991\n",
      "epoch 391, loss 0.309403\n",
      "epoch 392, loss 0.428655\n",
      "epoch 393, loss 0.277996\n",
      "epoch 394, loss 0.350059\n",
      "epoch 395, loss 0.466035\n",
      "epoch 396, loss 0.182856\n",
      "epoch 397, loss 0.371498\n",
      "epoch 398, loss 0.297347\n",
      "epoch 399, loss 0.376990\n",
      "epoch 400, loss 0.543669\n",
      "epoch 401, loss 0.231640\n",
      "epoch 402, loss 0.365718\n",
      "epoch 403, loss 0.329234\n",
      "epoch 404, loss 0.280126\n",
      "epoch 405, loss 0.458194\n",
      "epoch 406, loss 0.336995\n",
      "epoch 407, loss 0.398115\n",
      "epoch 408, loss 0.332374\n",
      "epoch 409, loss 0.464314\n",
      "epoch 410, loss 0.514856\n",
      "epoch 411, loss 0.357088\n",
      "epoch 412, loss 0.317732\n",
      "epoch 413, loss 0.307013\n",
      "epoch 414, loss 0.351916\n",
      "epoch 415, loss 0.285490\n",
      "epoch 416, loss 0.182546\n",
      "epoch 417, loss 0.435166\n",
      "epoch 418, loss 0.266026\n",
      "epoch 419, loss 0.183966\n",
      "epoch 420, loss 0.157102\n",
      "epoch 421, loss 0.468040\n",
      "epoch 422, loss 0.440954\n",
      "epoch 423, loss 0.572228\n",
      "epoch 424, loss 0.201245\n",
      "epoch 425, loss 0.273738\n",
      "epoch 426, loss 0.292359\n",
      "epoch 427, loss 0.331073\n",
      "epoch 428, loss 0.256981\n",
      "epoch 429, loss 0.166512\n",
      "epoch 430, loss 0.427276\n",
      "epoch 431, loss 0.259960\n",
      "epoch 432, loss 0.173452\n",
      "epoch 433, loss 0.534281\n",
      "epoch 434, loss 0.175386\n",
      "epoch 435, loss 0.342295\n",
      "epoch 436, loss 0.279043\n",
      "epoch 437, loss 0.126634\n",
      "epoch 438, loss 0.201609\n",
      "epoch 439, loss 0.093255\n",
      "epoch 440, loss 0.131368\n",
      "epoch 441, loss 0.293528\n",
      "epoch 442, loss 0.187136\n",
      "epoch 443, loss 0.168093\n",
      "epoch 444, loss 0.285793\n",
      "epoch 445, loss 0.386871\n",
      "epoch 446, loss 0.278101\n",
      "epoch 447, loss 0.375771\n",
      "epoch 448, loss 0.390153\n",
      "epoch 449, loss 0.317560\n",
      "epoch 450, loss 0.149781\n",
      "epoch 451, loss 0.208782\n",
      "epoch 452, loss 0.594533\n",
      "epoch 453, loss 0.120905\n",
      "epoch 454, loss 0.255073\n",
      "epoch 455, loss 0.306390\n",
      "epoch 456, loss 0.353452\n",
      "epoch 457, loss 0.346582\n",
      "epoch 458, loss 0.305313\n",
      "epoch 459, loss 0.197158\n",
      "epoch 460, loss 0.597794\n",
      "epoch 461, loss 0.238548\n",
      "epoch 462, loss 0.472010\n",
      "epoch 463, loss 0.271061\n",
      "epoch 464, loss 0.226795\n",
      "epoch 465, loss 0.257567\n",
      "epoch 466, loss 0.481268\n",
      "epoch 467, loss 0.270021\n",
      "epoch 468, loss 0.287456\n",
      "epoch 469, loss 0.216170\n",
      "epoch 470, loss 0.365376\n",
      "epoch 471, loss 0.130617\n",
      "epoch 472, loss 0.197043\n",
      "epoch 473, loss 0.198655\n",
      "epoch 474, loss 0.361513\n",
      "epoch 475, loss 0.296098\n",
      "epoch 476, loss 0.473282\n",
      "epoch 477, loss 0.237669\n",
      "epoch 478, loss 0.161761\n",
      "epoch 479, loss 0.370789\n",
      "epoch 480, loss 0.286592\n",
      "epoch 481, loss 0.235536\n",
      "epoch 482, loss 0.347183\n",
      "epoch 483, loss 0.156896\n",
      "epoch 484, loss 0.469172\n",
      "epoch 485, loss 0.440384\n",
      "epoch 486, loss 0.498037\n",
      "epoch 487, loss 0.397332\n",
      "epoch 488, loss 0.439188\n",
      "epoch 489, loss 0.268608\n",
      "epoch 490, loss 0.123290\n",
      "epoch 491, loss 0.408744\n",
      "epoch 492, loss 0.172488\n",
      "epoch 493, loss 0.225969\n",
      "epoch 494, loss 0.227181\n",
      "epoch 495, loss 0.184731\n",
      "epoch 496, loss 0.479337\n",
      "epoch 497, loss 0.318327\n",
      "epoch 498, loss 0.197034\n",
      "epoch 499, loss 0.379693\n",
      "epoch 500, loss 0.234831\n",
      "epoch 501, loss 0.141464\n",
      "epoch 502, loss 0.236975\n",
      "epoch 503, loss 0.518427\n",
      "epoch 504, loss 0.353626\n",
      "epoch 505, loss 0.293431\n",
      "epoch 506, loss 0.360627\n",
      "epoch 507, loss 0.274657\n",
      "epoch 508, loss 0.406471\n",
      "epoch 509, loss 0.304818\n",
      "epoch 510, loss 0.286127\n",
      "epoch 511, loss 0.375899\n",
      "epoch 512, loss 0.449455\n"
     ]
    }
   ],
   "source": [
    "# MINI BATCH, calculate for each round the derivative for each minibatch, and then sum up them together\n",
    "\n",
    "num_iterations = 512\n",
    "batch_size = 16\n",
    "lr = 1e-3\n",
    "\n",
    "for i in range(num_iterations):\n",
    "    for X, y in data_iter(batch_size, train_features, train_labels):    \n",
    "        predictions = squared_loss(linreg(X,weights,bias),y)    #calculate the prediction, i.e. X(train features) * weights +b; then the loss w.r.t. labels\n",
    "        predictions.sum().backward() #derivate calc\n",
    "        sgd([weights,bias],lr,batch_size)\n",
    "    with torch.no_grad():\n",
    "        train_l = squared_loss(linreg(X, weights, bias), y)\n",
    "        print(f'epoch {i + 1}, loss {float(train_l.mean()):f}')\n",
    "    "
   ]
  },
  {
   "cell_type": "markdown",
   "metadata": {},
   "source": [
    "Get the real predictions"
   ]
  },
  {
   "cell_type": "code",
   "execution_count": 90,
   "metadata": {
    "execution": {
     "iopub.execute_input": "2021-07-20T09:27:22.449495Z",
     "iopub.status.busy": "2021-07-20T09:27:22.449118Z",
     "iopub.status.idle": "2021-07-20T09:27:22.459333Z",
     "shell.execute_reply": "2021-07-20T09:27:22.457917Z",
     "shell.execute_reply.started": "2021-07-20T09:27:22.449447Z"
    }
   },
   "outputs": [
    {
     "data": {
      "text/plain": [
       "tensor([6.1017, 5.7241, 6.0344, 5.6368, 5.6717, 5.6719, 6.2113, 6.3774, 5.7180,\n",
       "        5.6739, 5.7465, 6.1013, 6.2913, 5.7514, 7.2777],\n",
       "       grad_fn=<AddBackward0>)"
      ]
     },
     "execution_count": 90,
     "metadata": {},
     "output_type": "execute_result"
    }
   ],
   "source": [
    "predictions = (predictions * trains_std) + trains_mean  #denormalization \n",
    "predictions #resulting labels"
   ]
  },
  {
   "cell_type": "markdown",
   "metadata": {},
   "source": [
    "Our predictions seem very close to the ground truth!"
   ]
  },
  {
   "cell_type": "markdown",
   "metadata": {},
   "source": [
    "**To go further**: Stochastic Gradient Descent is not the optimal algorithm in terms of convergeance.\n",
    "If you are curious, you can read this nice article about an improvement to SGD, momentum and try to implement it: https://distill.pub/2017/momentum/"
   ]
  },
  {
   "cell_type": "code",
   "execution_count": null,
   "metadata": {},
   "outputs": [],
   "source": []
  }
 ],
 "metadata": {
  "kernelspec": {
   "display_name": "Python 3 (ipykernel)",
   "language": "python",
   "name": "python3"
  },
  "language_info": {
   "codemirror_mode": {
    "name": "ipython",
    "version": 3
   },
   "file_extension": ".py",
   "mimetype": "text/x-python",
   "name": "python",
   "nbconvert_exporter": "python",
   "pygments_lexer": "ipython3",
   "version": "3.9.10"
  }
 },
 "nbformat": 4,
 "nbformat_minor": 4
}
