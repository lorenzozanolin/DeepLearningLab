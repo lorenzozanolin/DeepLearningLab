{
 "cells": [
  {
   "cell_type": "markdown",
   "metadata": {},
   "source": [
    "# Red Wine Quality\n",
    "\n",
    "Kaggle link: https://www.kaggle.com/uciml/red-wine-quality-cortez-et-al-2009"
   ]
  },
  {
   "cell_type": "code",
   "execution_count": 118,
   "metadata": {
    "_cell_guid": "b1076dfc-b9ad-4769-8c92-a6c4dae69d19",
    "_uuid": "8f2839f25d086af736a60e9eeb907d3b93b6e0e5",
    "execution": {
     "iopub.execute_input": "2021-07-20T09:27:21.990824Z",
     "iopub.status.busy": "2021-07-20T09:27:21.990322Z",
     "iopub.status.idle": "2021-07-20T09:27:21.998746Z",
     "shell.execute_reply": "2021-07-20T09:27:21.99754Z",
     "shell.execute_reply.started": "2021-07-20T09:27:21.990792Z"
    }
   },
   "outputs": [
    {
     "name": "stdout",
     "output_type": "stream",
     "text": [
      "./simple-regression.ipynb\n",
      "./winequality-red.csv\n",
      "./wandb/debug-internal.log\n",
      "./wandb/debug-cli.lorenzozanolin.log\n",
      "./wandb/debug.log\n",
      "./wandb/run-20231013_152213-1mdmbnvn/run-1mdmbnvn.wandb\n",
      "./wandb/run-20231013_152213-1mdmbnvn/logs/debug-internal.log\n",
      "./wandb/run-20231013_152213-1mdmbnvn/logs/debug.log\n",
      "./wandb/run-20231013_152213-1mdmbnvn/files/requirements.txt\n",
      "./wandb/run-20231013_152213-1mdmbnvn/files/output.log\n",
      "./wandb/run-20231013_152213-1mdmbnvn/files/config.yaml\n",
      "./wandb/run-20231013_152213-1mdmbnvn/files/wandb-metadata.json\n",
      "./wandb/run-20231013_153847-h2jvr2b3/run-h2jvr2b3.wandb\n",
      "./wandb/run-20231013_153847-h2jvr2b3/logs/debug-internal.log\n",
      "./wandb/run-20231013_153847-h2jvr2b3/logs/debug.log\n",
      "./wandb/run-20231013_153847-h2jvr2b3/files/requirements.txt\n",
      "./wandb/run-20231013_153847-h2jvr2b3/files/output.log\n",
      "./wandb/run-20231013_153847-h2jvr2b3/files/config.yaml\n",
      "./wandb/run-20231013_153847-h2jvr2b3/files/wandb-summary.json\n",
      "./wandb/run-20231013_153847-h2jvr2b3/files/wandb-metadata.json\n",
      "./wandb/run-20231013_185200-93c2cktk/run-93c2cktk.wandb\n",
      "./wandb/run-20231013_185200-93c2cktk/logs/debug-internal.log\n",
      "./wandb/run-20231013_185200-93c2cktk/logs/debug.log\n",
      "./wandb/run-20231013_185200-93c2cktk/files/requirements.txt\n",
      "./wandb/run-20231013_185200-93c2cktk/files/output.log\n",
      "./wandb/run-20231013_185200-93c2cktk/files/config.yaml\n",
      "./wandb/run-20231013_185200-93c2cktk/files/wandb-summary.json\n",
      "./wandb/run-20231013_185200-93c2cktk/files/wandb-metadata.json\n",
      "./wandb/run-20231013_191122-avdh1qxy/run-avdh1qxy.wandb\n",
      "./wandb/run-20231013_191122-avdh1qxy/logs/debug-internal.log\n",
      "./wandb/run-20231013_191122-avdh1qxy/logs/debug.log\n",
      "./wandb/run-20231013_191122-avdh1qxy/files/requirements.txt\n",
      "./wandb/run-20231013_191122-avdh1qxy/files/output.log\n",
      "./wandb/run-20231013_191122-avdh1qxy/files/config.yaml\n",
      "./wandb/run-20231013_191122-avdh1qxy/files/wandb-metadata.json\n",
      "./wandb/run-20231013_190728-bf3lc0ff/run-bf3lc0ff.wandb\n",
      "./wandb/run-20231013_190728-bf3lc0ff/logs/debug-internal.log\n",
      "./wandb/run-20231013_190728-bf3lc0ff/logs/debug.log\n",
      "./wandb/run-20231013_190728-bf3lc0ff/files/requirements.txt\n",
      "./wandb/run-20231013_190728-bf3lc0ff/files/output.log\n",
      "./wandb/run-20231013_190728-bf3lc0ff/files/config.yaml\n",
      "./wandb/run-20231013_190728-bf3lc0ff/files/wandb-summary.json\n",
      "./wandb/run-20231013_190728-bf3lc0ff/files/wandb-metadata.json\n",
      "./wandb/run-20231013_174402-lyfy6v40/run-lyfy6v40.wandb\n",
      "./wandb/run-20231013_174402-lyfy6v40/logs/debug-internal.log\n",
      "./wandb/run-20231013_174402-lyfy6v40/logs/debug.log\n",
      "./wandb/run-20231013_174402-lyfy6v40/files/requirements.txt\n",
      "./wandb/run-20231013_174402-lyfy6v40/files/output.log\n",
      "./wandb/run-20231013_174402-lyfy6v40/files/config.yaml\n",
      "./wandb/run-20231013_174402-lyfy6v40/files/wandb-summary.json\n",
      "./wandb/run-20231013_174402-lyfy6v40/files/wandb-metadata.json\n"
     ]
    }
   ],
   "source": [
    "# This Python 3 environment comes with many helpful analytics libraries installed\n",
    "# It is defined by the kaggle/python Docker image: https://github.com/kaggle/docker-python\n",
    "# For example, here's several helpful packages to load\n",
    "\n",
    "import numpy as np # linear algebra\n",
    "import pandas as pd # data processing, CSV file I/O (e.g. pd.read_csv)\n",
    "import wandb\n",
    "import random\n",
    "\n",
    "\n",
    "# Input data files are available in the read-only \"../input/\" directory\n",
    "# For example, running this (by clicking run or pressing Shift+Enter) will list all files under the input directory\n",
    "\n",
    "import os\n",
    "for dirname, _, filenames in os.walk('./'): # '/kaggle/input'\n",
    "    for filename in filenames:\n",
    "        print(os.path.join(dirname, filename))\n",
    "\n",
    "# You can write up to 20GB to the current directory (/kaggle/working/) that gets preserved as output when you create a version using \"Save & Run All\" \n",
    "# You can also write temporary files to /kaggle/temp/, but they won't be saved outside of the current session"
   ]
  },
  {
   "cell_type": "markdown",
   "metadata": {},
   "source": [
    "First, we need to import Pytorch"
   ]
  },
  {
   "cell_type": "code",
   "execution_count": 119,
   "metadata": {
    "execution": {
     "iopub.execute_input": "2021-07-20T09:27:22.001769Z",
     "iopub.status.busy": "2021-07-20T09:27:22.000817Z",
     "iopub.status.idle": "2021-07-20T09:27:22.016019Z",
     "shell.execute_reply": "2021-07-20T09:27:22.01474Z",
     "shell.execute_reply.started": "2021-07-20T09:27:22.001726Z"
    }
   },
   "outputs": [
    {
     "data": {
      "text/html": [
       "Finishing last run (ID:avdh1qxy) before initializing another..."
      ],
      "text/plain": [
       "<IPython.core.display.HTML object>"
      ]
     },
     "metadata": {},
     "output_type": "display_data"
    },
    {
     "data": {
      "text/html": [
       "Waiting for W&B process to finish... <strong style=\"color:green\">(success).</strong>"
      ],
      "text/plain": [
       "<IPython.core.display.HTML object>"
      ]
     },
     "metadata": {},
     "output_type": "display_data"
    },
    {
     "name": "stderr",
     "output_type": "stream",
     "text": [
      "wandb: WARNING Source type is set to 'repo' but some required information is missing from the environment. A job will not be created from this run. See https://docs.wandb.ai/guides/launch/create-job\n"
     ]
    },
    {
     "data": {
      "application/vnd.jupyter.widget-view+json": {
       "model_id": "9832dd5aa5e040c9ac844028c54537b8",
       "version_major": 2,
       "version_minor": 0
      },
      "text/plain": [
       "VBox(children=(Label(value='0.001 MB of 0.001 MB uploaded (0.000 MB deduped)\\r'), FloatProgress(value=1.0, max…"
      ]
     },
     "metadata": {},
     "output_type": "display_data"
    },
    {
     "data": {
      "text/html": [
       " View run <strong style=\"color:#cdcd00\">royal-flower-8</strong> at: <a href='https://wandb.ai/lorenzozanolin-52/simple_regression/runs/avdh1qxy' target=\"_blank\">https://wandb.ai/lorenzozanolin-52/simple_regression/runs/avdh1qxy</a><br/>Synced 5 W&B file(s), 0 media file(s), 0 artifact file(s) and 0 other file(s)"
      ],
      "text/plain": [
       "<IPython.core.display.HTML object>"
      ]
     },
     "metadata": {},
     "output_type": "display_data"
    },
    {
     "data": {
      "text/html": [
       "Find logs at: <code>./wandb/run-20231013_191122-avdh1qxy/logs</code>"
      ],
      "text/plain": [
       "<IPython.core.display.HTML object>"
      ]
     },
     "metadata": {},
     "output_type": "display_data"
    },
    {
     "data": {
      "text/html": [
       "Successfully finished last run (ID:avdh1qxy). Initializing new run:<br/>"
      ],
      "text/plain": [
       "<IPython.core.display.HTML object>"
      ]
     },
     "metadata": {},
     "output_type": "display_data"
    },
    {
     "data": {
      "application/vnd.jupyter.widget-view+json": {
       "model_id": "e41722c3fcdc4d5cb2fb604b764db9f8",
       "version_major": 2,
       "version_minor": 0
      },
      "text/plain": [
       "VBox(children=(Label(value='Waiting for wandb.init()...\\r'), FloatProgress(value=0.011168903700005709, max=1.0…"
      ]
     },
     "metadata": {},
     "output_type": "display_data"
    },
    {
     "data": {
      "text/html": [
       "Tracking run with wandb version 0.15.12"
      ],
      "text/plain": [
       "<IPython.core.display.HTML object>"
      ]
     },
     "metadata": {},
     "output_type": "display_data"
    },
    {
     "data": {
      "text/html": [
       "Run data is saved locally in <code>/Users/lorenzozanolin/Library/Mobile Documents/com~apple~CloudDocs/Università/Artifical Intelligence & Cybersecurity/Secondo periodo/Klagenfurt/Machine Learning and Deep Learning/Laboratory/Exercises/Exercise 2/wandb/run-20231013_191325-iou2i80k</code>"
      ],
      "text/plain": [
       "<IPython.core.display.HTML object>"
      ]
     },
     "metadata": {},
     "output_type": "display_data"
    },
    {
     "data": {
      "text/html": [
       "Syncing run <strong><a href='https://wandb.ai/lorenzozanolin-52/simple_regression/runs/iou2i80k' target=\"_blank\">soft-river-9</a></strong> to <a href='https://wandb.ai/lorenzozanolin-52/simple_regression' target=\"_blank\">Weights & Biases</a> (<a href='https://wandb.me/run' target=\"_blank\">docs</a>)<br/>"
      ],
      "text/plain": [
       "<IPython.core.display.HTML object>"
      ]
     },
     "metadata": {},
     "output_type": "display_data"
    },
    {
     "data": {
      "text/html": [
       " View project at <a href='https://wandb.ai/lorenzozanolin-52/simple_regression' target=\"_blank\">https://wandb.ai/lorenzozanolin-52/simple_regression</a>"
      ],
      "text/plain": [
       "<IPython.core.display.HTML object>"
      ]
     },
     "metadata": {},
     "output_type": "display_data"
    },
    {
     "data": {
      "text/html": [
       " View run at <a href='https://wandb.ai/lorenzozanolin-52/simple_regression/runs/iou2i80k' target=\"_blank\">https://wandb.ai/lorenzozanolin-52/simple_regression/runs/iou2i80k</a>"
      ],
      "text/plain": [
       "<IPython.core.display.HTML object>"
      ]
     },
     "metadata": {},
     "output_type": "display_data"
    },
    {
     "data": {
      "text/html": [
       "<button onClick=\"this.nextSibling.style.display='block';this.style.display='none';\">Display W&B run</button><iframe src='https://wandb.ai/lorenzozanolin-52/simple_regression/runs/iou2i80k?jupyter=true' style='border:none;width:100%;height:420px;display:none;'></iframe>"
      ],
      "text/plain": [
       "<wandb.sdk.wandb_run.Run at 0x1419b4bb0>"
      ]
     },
     "execution_count": 119,
     "metadata": {},
     "output_type": "execute_result"
    }
   ],
   "source": [
    "import torch\n",
    "from torch import nn\n",
    "from torch import optim\n",
    "from torch.utils import data\n",
    "import wandb\n",
    "wandb.init(project=\"simple_regression\")"
   ]
  },
  {
   "cell_type": "markdown",
   "metadata": {},
   "source": [
    "# Data Processing"
   ]
  },
  {
   "cell_type": "code",
   "execution_count": 120,
   "metadata": {
    "execution": {
     "iopub.execute_input": "2021-07-20T09:27:22.019074Z",
     "iopub.status.busy": "2021-07-20T09:27:22.018711Z",
     "iopub.status.idle": "2021-07-20T09:27:22.054046Z",
     "shell.execute_reply": "2021-07-20T09:27:22.052743Z",
     "shell.execute_reply.started": "2021-07-20T09:27:22.01904Z"
    }
   },
   "outputs": [
    {
     "data": {
      "text/plain": [
       "(1599, 12)"
      ]
     },
     "execution_count": 120,
     "metadata": {},
     "output_type": "execute_result"
    }
   ],
   "source": [
    "train_data = pd.read_csv('./winequality-red.csv')    #'/kaggle/input/red-wine-quality-cortez-et-al-2009/winequality-red.csv'\n",
    "train_data.head()\n",
    "train_data.shape"
   ]
  },
  {
   "cell_type": "markdown",
   "metadata": {},
   "source": [
    "We need to separate features from target"
   ]
  },
  {
   "cell_type": "code",
   "execution_count": 121,
   "metadata": {
    "execution": {
     "iopub.execute_input": "2021-07-20T09:27:22.056464Z",
     "iopub.status.busy": "2021-07-20T09:27:22.056075Z",
     "iopub.status.idle": "2021-07-20T09:27:22.078596Z",
     "shell.execute_reply": "2021-07-20T09:27:22.077606Z",
     "shell.execute_reply.started": "2021-07-20T09:27:22.05643Z"
    }
   },
   "outputs": [
    {
     "data": {
      "text/plain": [
       "torch.Size([1599, 11])"
      ]
     },
     "execution_count": 121,
     "metadata": {},
     "output_type": "execute_result"
    }
   ],
   "source": [
    "n_train = train_data.shape[0]   #rows number\n",
    "all_features = train_data.iloc[:, 0:-1] #features excluding the first column (row index) and the last column (quality), which is the label => features are X\n",
    "all_features = all_features.apply(lambda x: (x - x.mean()) / (x.std())) #normalization\n",
    "train_features = torch.tensor(all_features[:n_train].values, dtype=torch.float32)   #create the tensor containing the features\n",
    "\n",
    "train_features.shape\n"
   ]
  },
  {
   "cell_type": "code",
   "execution_count": 122,
   "metadata": {
    "execution": {
     "iopub.execute_input": "2021-07-20T09:27:22.07993Z",
     "iopub.status.busy": "2021-07-20T09:27:22.079658Z",
     "iopub.status.idle": "2021-07-20T09:27:22.088282Z",
     "shell.execute_reply": "2021-07-20T09:27:22.087172Z",
     "shell.execute_reply.started": "2021-07-20T09:27:22.079904Z"
    }
   },
   "outputs": [
    {
     "data": {
      "text/plain": [
       "array([[5],\n",
       "       [5],\n",
       "       [5],\n",
       "       ...,\n",
       "       [6],\n",
       "       [5],\n",
       "       [6]])"
      ]
     },
     "execution_count": 122,
     "metadata": {},
     "output_type": "execute_result"
    }
   ],
   "source": [
    "trains_labels = train_data.quality.values.reshape(-1, 1)\n",
    "trains_labels   #labels representing the quality of the wine"
   ]
  },
  {
   "cell_type": "code",
   "execution_count": 123,
   "metadata": {
    "execution": {
     "iopub.execute_input": "2021-07-20T09:27:22.090275Z",
     "iopub.status.busy": "2021-07-20T09:27:22.089806Z",
     "iopub.status.idle": "2021-07-20T09:27:22.107085Z",
     "shell.execute_reply": "2021-07-20T09:27:22.105645Z",
     "shell.execute_reply.started": "2021-07-20T09:27:22.090224Z"
    }
   },
   "outputs": [
    {
     "data": {
      "text/plain": [
       "tensor([[-0.7878],\n",
       "        [-0.7878],\n",
       "        [-0.7878],\n",
       "        ...,\n",
       "        [ 0.4508],\n",
       "        [-0.7878],\n",
       "        [ 0.4508]])"
      ]
     },
     "execution_count": 123,
     "metadata": {},
     "output_type": "execute_result"
    }
   ],
   "source": [
    "trains_mean = trains_labels.mean()\n",
    "trains_std = trains_labels.std()\n",
    "trains_labels = (trains_labels - trains_mean) / trains_std  #normalization\n",
    "train_labels = torch.tensor(trains_labels,          #tensor containing the normalized training labels\n",
    "                            dtype=torch.float32)\n",
    "train_labels"
   ]
  },
  {
   "cell_type": "markdown",
   "metadata": {},
   "source": [
    "## Training"
   ]
  },
  {
   "cell_type": "markdown",
   "metadata": {},
   "source": [
    "Initialize the weights and bias of the linear regression"
   ]
  },
  {
   "cell_type": "code",
   "execution_count": 124,
   "metadata": {
    "execution": {
     "iopub.execute_input": "2021-07-20T09:27:22.108789Z",
     "iopub.status.busy": "2021-07-20T09:27:22.108457Z",
     "iopub.status.idle": "2021-07-20T09:27:22.116208Z",
     "shell.execute_reply": "2021-07-20T09:27:22.114731Z",
     "shell.execute_reply.started": "2021-07-20T09:27:22.10876Z"
    }
   },
   "outputs": [
    {
     "data": {
      "text/plain": [
       "(tensor([-1.2975,  1.6544, -0.1506,  0.7650, -0.6935,  0.3108,  0.1193, -0.3888,\n",
       "         -0.0314,  2.5950, -1.3929], requires_grad=True),\n",
       " tensor([0.], requires_grad=True))"
      ]
     },
     "execution_count": 124,
     "metadata": {},
     "output_type": "execute_result"
    }
   ],
   "source": [
    "n_features = train_features.shape[1] \n",
    "weights = torch.randn((n_features),requires_grad=True) # TODO, initialize a random tensor of weights, one weight for each feature\n",
    "bias = torch.zeros(1, requires_grad=True)\n",
    "weights,bias"
   ]
  },
  {
   "cell_type": "markdown",
   "metadata": {},
   "source": [
    "Some functions definitions"
   ]
  },
  {
   "cell_type": "code",
   "execution_count": 125,
   "metadata": {},
   "outputs": [],
   "source": [
    "def linreg(X, w, b):        #linear regression\n",
    "    return torch.matmul(X, w) + b\n",
    "\n",
    "def sgd(params, lr, batch_size):    #we will use stochastic GD\n",
    "    with torch.no_grad():\n",
    "        for param in params:\n",
    "            param -= lr * param.grad / batch_size\n",
    "            param.grad.zero_()\n",
    "            \n",
    "criterion = nn.MSELoss()    #the loss function will be mean squared error\n",
    "\n",
    "def data_iter(batch_size, features, labels):    #to divide a single batch in multiple minibatches\n",
    "    num_examples = len(features)\n",
    "    indices = list(range(num_examples))\n",
    "    # The examples are read at random, in no particular order\n",
    "    random.shuffle(indices)\n",
    "    for i in range(0, num_examples, batch_size):\n",
    "        batch_indices = torch.tensor(indices[i:min(i +\n",
    "                                                   batch_size, num_examples)])\n",
    "        yield features[batch_indices], labels[batch_indices]\n",
    "        \n",
    "def squared_loss(y_hat, y):\n",
    "    return (y_hat - y.reshape(y_hat.shape))**2 / 2"
   ]
  },
  {
   "cell_type": "markdown",
   "metadata": {},
   "source": [
    "Training loop"
   ]
  },
  {
   "cell_type": "code",
   "execution_count": 126,
   "metadata": {},
   "outputs": [
    {
     "name": "stdout",
     "output_type": "stream",
     "text": [
      "epoch 1, loss 1.268603\n",
      "epoch 2, loss 6.247308\n",
      "epoch 3, loss 2.489125\n",
      "epoch 4, loss 2.019293\n",
      "epoch 5, loss 1.756763\n",
      "epoch 6, loss 1.440218\n",
      "epoch 7, loss 2.183013\n",
      "epoch 8, loss 1.670986\n",
      "epoch 9, loss 1.688256\n",
      "epoch 10, loss 0.870260\n",
      "epoch 11, loss 0.775894\n",
      "epoch 12, loss 0.310049\n",
      "epoch 13, loss 0.574066\n",
      "epoch 14, loss 0.883134\n",
      "epoch 15, loss 1.128127\n",
      "epoch 16, loss 0.418630\n",
      "epoch 17, loss 0.561461\n",
      "epoch 18, loss 0.840668\n",
      "epoch 19, loss 0.642460\n",
      "epoch 20, loss 0.562327\n",
      "epoch 21, loss 0.425234\n",
      "epoch 22, loss 0.750776\n",
      "epoch 23, loss 0.418276\n",
      "epoch 24, loss 2.508132\n",
      "epoch 25, loss 0.251213\n",
      "epoch 26, loss 0.293227\n",
      "epoch 27, loss 0.504301\n",
      "epoch 28, loss 0.330711\n",
      "epoch 29, loss 0.335549\n",
      "epoch 30, loss 0.596530\n",
      "epoch 31, loss 0.351218\n",
      "epoch 32, loss 0.356759\n",
      "epoch 33, loss 0.291588\n",
      "epoch 34, loss 0.330009\n",
      "epoch 35, loss 0.331947\n",
      "epoch 36, loss 0.688176\n",
      "epoch 37, loss 0.402600\n",
      "epoch 38, loss 0.405288\n",
      "epoch 39, loss 0.156581\n",
      "epoch 40, loss 0.565883\n",
      "epoch 41, loss 0.441222\n",
      "epoch 42, loss 0.526309\n",
      "epoch 43, loss 0.348260\n",
      "epoch 44, loss 0.903425\n",
      "epoch 45, loss 0.256373\n",
      "epoch 46, loss 0.372173\n",
      "epoch 47, loss 0.341264\n",
      "epoch 48, loss 0.549457\n",
      "epoch 49, loss 0.516858\n",
      "epoch 50, loss 0.483554\n",
      "epoch 51, loss 0.462892\n",
      "epoch 52, loss 0.786817\n",
      "epoch 53, loss 0.339686\n",
      "epoch 54, loss 0.314107\n",
      "epoch 55, loss 0.196027\n",
      "epoch 56, loss 0.458692\n",
      "epoch 57, loss 0.328787\n",
      "epoch 58, loss 0.381318\n",
      "epoch 59, loss 0.378522\n",
      "epoch 60, loss 0.261273\n",
      "epoch 61, loss 0.237930\n",
      "epoch 62, loss 0.326695\n",
      "epoch 63, loss 0.371514\n",
      "epoch 64, loss 0.524191\n",
      "epoch 65, loss 0.189881\n",
      "epoch 66, loss 0.343959\n",
      "epoch 67, loss 0.441227\n",
      "epoch 68, loss 0.216921\n",
      "epoch 69, loss 0.390527\n",
      "epoch 70, loss 0.620750\n",
      "epoch 71, loss 0.214570\n",
      "epoch 72, loss 0.315586\n",
      "epoch 73, loss 0.574872\n",
      "epoch 74, loss 0.389750\n",
      "epoch 75, loss 0.383497\n",
      "epoch 76, loss 0.523580\n",
      "epoch 77, loss 0.377605\n",
      "epoch 78, loss 0.175654\n",
      "epoch 79, loss 0.457285\n",
      "epoch 80, loss 0.203758\n",
      "epoch 81, loss 0.204282\n",
      "epoch 82, loss 0.316733\n",
      "epoch 83, loss 0.253919\n",
      "epoch 84, loss 0.326662\n",
      "epoch 85, loss 0.080113\n",
      "epoch 86, loss 0.558396\n",
      "epoch 87, loss 0.315198\n",
      "epoch 88, loss 0.109053\n",
      "epoch 89, loss 0.419238\n",
      "epoch 90, loss 0.381010\n",
      "epoch 91, loss 0.324415\n",
      "epoch 92, loss 0.271980\n",
      "epoch 93, loss 0.371927\n",
      "epoch 94, loss 0.213714\n",
      "epoch 95, loss 0.354484\n",
      "epoch 96, loss 0.058721\n",
      "epoch 97, loss 0.125296\n",
      "epoch 98, loss 0.489340\n",
      "epoch 99, loss 0.591704\n",
      "epoch 100, loss 0.218211\n",
      "epoch 101, loss 0.285712\n",
      "epoch 102, loss 0.459517\n",
      "epoch 103, loss 0.348332\n",
      "epoch 104, loss 0.195965\n",
      "epoch 105, loss 0.428614\n",
      "epoch 106, loss 0.397408\n",
      "epoch 107, loss 0.164349\n",
      "epoch 108, loss 0.778401\n",
      "epoch 109, loss 0.186512\n",
      "epoch 110, loss 0.240515\n",
      "epoch 111, loss 0.331354\n",
      "epoch 112, loss 0.261000\n",
      "epoch 113, loss 0.271168\n",
      "epoch 114, loss 0.180850\n",
      "epoch 115, loss 0.566464\n",
      "epoch 116, loss 0.355479\n",
      "epoch 117, loss 0.244582\n",
      "epoch 118, loss 0.284376\n",
      "epoch 119, loss 0.308448\n",
      "epoch 120, loss 0.461720\n",
      "epoch 121, loss 0.394093\n",
      "epoch 122, loss 0.452502\n",
      "epoch 123, loss 0.215493\n",
      "epoch 124, loss 0.353188\n",
      "epoch 125, loss 0.440724\n",
      "epoch 126, loss 0.497866\n",
      "epoch 127, loss 0.125947\n",
      "epoch 128, loss 0.438727\n",
      "epoch 129, loss 0.344440\n",
      "epoch 130, loss 0.471592\n",
      "epoch 131, loss 0.253000\n",
      "epoch 132, loss 0.454679\n",
      "epoch 133, loss 0.301638\n",
      "epoch 134, loss 0.227766\n",
      "epoch 135, loss 0.177486\n",
      "epoch 136, loss 0.403073\n",
      "epoch 137, loss 0.270888\n",
      "epoch 138, loss 0.341983\n",
      "epoch 139, loss 0.202477\n",
      "epoch 140, loss 0.203268\n",
      "epoch 141, loss 0.310381\n",
      "epoch 142, loss 0.343233\n",
      "epoch 143, loss 0.325731\n",
      "epoch 144, loss 0.403945\n",
      "epoch 145, loss 0.329089\n",
      "epoch 146, loss 0.394560\n",
      "epoch 147, loss 0.621393\n",
      "epoch 148, loss 0.110120\n",
      "epoch 149, loss 0.458558\n",
      "epoch 150, loss 0.308011\n",
      "epoch 151, loss 0.270547\n",
      "epoch 152, loss 0.166657\n",
      "epoch 153, loss 0.160373\n",
      "epoch 154, loss 0.277804\n",
      "epoch 155, loss 0.314322\n",
      "epoch 156, loss 0.354422\n",
      "epoch 157, loss 0.434955\n",
      "epoch 158, loss 0.473807\n",
      "epoch 159, loss 0.267863\n",
      "epoch 160, loss 0.312388\n",
      "epoch 161, loss 0.250667\n",
      "epoch 162, loss 0.202994\n",
      "epoch 163, loss 0.464033\n",
      "epoch 164, loss 0.378154\n",
      "epoch 165, loss 0.363800\n",
      "epoch 166, loss 0.498946\n",
      "epoch 167, loss 0.369668\n",
      "epoch 168, loss 0.126077\n",
      "epoch 169, loss 0.432934\n",
      "epoch 170, loss 0.507734\n",
      "epoch 171, loss 0.394075\n",
      "epoch 172, loss 0.464454\n",
      "epoch 173, loss 0.342935\n",
      "epoch 174, loss 0.342342\n",
      "epoch 175, loss 0.384543\n",
      "epoch 176, loss 0.440437\n",
      "epoch 177, loss 0.440264\n",
      "epoch 178, loss 0.342943\n",
      "epoch 179, loss 0.584026\n",
      "epoch 180, loss 0.279961\n",
      "epoch 181, loss 0.236871\n",
      "epoch 182, loss 0.324738\n",
      "epoch 183, loss 0.408188\n",
      "epoch 184, loss 0.388196\n",
      "epoch 185, loss 0.276208\n",
      "epoch 186, loss 0.721058\n",
      "epoch 187, loss 0.371159\n",
      "epoch 188, loss 0.673062\n",
      "epoch 189, loss 0.233955\n",
      "epoch 190, loss 0.553045\n",
      "epoch 191, loss 0.353782\n",
      "epoch 192, loss 0.380917\n",
      "epoch 193, loss 0.287336\n",
      "epoch 194, loss 0.270103\n",
      "epoch 195, loss 0.169494\n",
      "epoch 196, loss 0.199060\n",
      "epoch 197, loss 0.335110\n",
      "epoch 198, loss 0.219121\n",
      "epoch 199, loss 0.291946\n",
      "epoch 200, loss 0.504034\n",
      "epoch 201, loss 0.322736\n",
      "epoch 202, loss 0.544333\n",
      "epoch 203, loss 0.285063\n",
      "epoch 204, loss 0.229005\n",
      "epoch 205, loss 0.329152\n",
      "epoch 206, loss 0.308405\n",
      "epoch 207, loss 0.206244\n",
      "epoch 208, loss 0.465371\n",
      "epoch 209, loss 0.238920\n",
      "epoch 210, loss 0.435112\n",
      "epoch 211, loss 0.386902\n",
      "epoch 212, loss 0.416197\n",
      "epoch 213, loss 0.246916\n",
      "epoch 214, loss 0.451283\n",
      "epoch 215, loss 0.383376\n",
      "epoch 216, loss 0.143222\n",
      "epoch 217, loss 0.485664\n",
      "epoch 218, loss 0.373832\n",
      "epoch 219, loss 0.130003\n",
      "epoch 220, loss 0.321408\n",
      "epoch 221, loss 0.424748\n",
      "epoch 222, loss 0.243206\n",
      "epoch 223, loss 0.342621\n",
      "epoch 224, loss 0.679857\n",
      "epoch 225, loss 0.335548\n",
      "epoch 226, loss 0.463803\n",
      "epoch 227, loss 0.234348\n",
      "epoch 228, loss 0.123420\n",
      "epoch 229, loss 0.376561\n",
      "epoch 230, loss 0.432429\n",
      "epoch 231, loss 0.324903\n",
      "epoch 232, loss 0.447303\n",
      "epoch 233, loss 0.163800\n",
      "epoch 234, loss 0.414054\n",
      "epoch 235, loss 0.272670\n",
      "epoch 236, loss 0.493869\n",
      "epoch 237, loss 0.214642\n",
      "epoch 238, loss 0.261162\n",
      "epoch 239, loss 0.359544\n",
      "epoch 240, loss 0.376938\n",
      "epoch 241, loss 0.342136\n",
      "epoch 242, loss 0.241555\n",
      "epoch 243, loss 0.472976\n",
      "epoch 244, loss 0.161815\n",
      "epoch 245, loss 0.314159\n",
      "epoch 246, loss 0.355597\n",
      "epoch 247, loss 0.101248\n",
      "epoch 248, loss 0.338855\n",
      "epoch 249, loss 0.492341\n",
      "epoch 250, loss 0.546982\n",
      "epoch 251, loss 0.347754\n",
      "epoch 252, loss 0.393683\n",
      "epoch 253, loss 0.117556\n",
      "epoch 254, loss 0.133983\n",
      "epoch 255, loss 0.413974\n",
      "epoch 256, loss 0.461169\n",
      "epoch 257, loss 0.471398\n",
      "epoch 258, loss 0.313022\n",
      "epoch 259, loss 0.231756\n",
      "epoch 260, loss 0.405377\n",
      "epoch 261, loss 0.554097\n",
      "epoch 262, loss 0.280238\n",
      "epoch 263, loss 0.390559\n",
      "epoch 264, loss 0.271659\n",
      "epoch 265, loss 0.189057\n",
      "epoch 266, loss 0.551450\n",
      "epoch 267, loss 0.655958\n",
      "epoch 268, loss 0.292642\n",
      "epoch 269, loss 0.362474\n",
      "epoch 270, loss 0.123922\n",
      "epoch 271, loss 0.237707\n",
      "epoch 272, loss 0.247392\n",
      "epoch 273, loss 0.369449\n",
      "epoch 274, loss 0.298106\n",
      "epoch 275, loss 0.351631\n",
      "epoch 276, loss 0.315992\n",
      "epoch 277, loss 0.495009\n",
      "epoch 278, loss 0.135123\n",
      "epoch 279, loss 0.084966\n",
      "epoch 280, loss 0.180196\n",
      "epoch 281, loss 0.147797\n",
      "epoch 282, loss 0.264472\n",
      "epoch 283, loss 0.123013\n",
      "epoch 284, loss 0.596571\n",
      "epoch 285, loss 0.205801\n",
      "epoch 286, loss 0.632751\n",
      "epoch 287, loss 0.542794\n",
      "epoch 288, loss 0.372150\n",
      "epoch 289, loss 0.366742\n",
      "epoch 290, loss 0.269734\n",
      "epoch 291, loss 0.364144\n",
      "epoch 292, loss 0.214988\n",
      "epoch 293, loss 0.419363\n",
      "epoch 294, loss 0.221617\n",
      "epoch 295, loss 0.258000\n",
      "epoch 296, loss 0.627223\n",
      "epoch 297, loss 0.327222\n",
      "epoch 298, loss 0.312957\n",
      "epoch 299, loss 0.232951\n",
      "epoch 300, loss 0.291697\n",
      "epoch 301, loss 0.307620\n",
      "epoch 302, loss 0.312064\n",
      "epoch 303, loss 0.249911\n",
      "epoch 304, loss 0.263660\n",
      "epoch 305, loss 0.300774\n",
      "epoch 306, loss 0.430283\n",
      "epoch 307, loss 0.254574\n",
      "epoch 308, loss 0.959499\n",
      "epoch 309, loss 0.245126\n",
      "epoch 310, loss 0.200309\n",
      "epoch 311, loss 0.208461\n",
      "epoch 312, loss 0.526752\n",
      "epoch 313, loss 0.357259\n",
      "epoch 314, loss 0.301337\n",
      "epoch 315, loss 0.366944\n",
      "epoch 316, loss 0.224561\n",
      "epoch 317, loss 0.235338\n",
      "epoch 318, loss 0.356574\n",
      "epoch 319, loss 0.554416\n",
      "epoch 320, loss 0.424535\n",
      "epoch 321, loss 0.160747\n",
      "epoch 322, loss 0.559770\n",
      "epoch 323, loss 0.356839\n",
      "epoch 324, loss 0.751411\n",
      "epoch 325, loss 0.316608\n",
      "epoch 326, loss 0.303708\n",
      "epoch 327, loss 0.444165\n",
      "epoch 328, loss 0.457660\n",
      "epoch 329, loss 0.390230\n",
      "epoch 330, loss 0.352725\n",
      "epoch 331, loss 0.220639\n",
      "epoch 332, loss 0.400918\n",
      "epoch 333, loss 0.199598\n",
      "epoch 334, loss 0.187246\n",
      "epoch 335, loss 0.255735\n",
      "epoch 336, loss 0.277573\n",
      "epoch 337, loss 0.357215\n",
      "epoch 338, loss 0.319647\n",
      "epoch 339, loss 0.101668\n",
      "epoch 340, loss 0.371236\n",
      "epoch 341, loss 0.181434\n",
      "epoch 342, loss 0.294444\n",
      "epoch 343, loss 0.275811\n",
      "epoch 344, loss 0.219429\n",
      "epoch 345, loss 0.593389\n",
      "epoch 346, loss 0.152107\n",
      "epoch 347, loss 0.376520\n",
      "epoch 348, loss 0.209726\n",
      "epoch 349, loss 0.342952\n",
      "epoch 350, loss 0.209764\n",
      "epoch 351, loss 0.315389\n",
      "epoch 352, loss 0.351334\n",
      "epoch 353, loss 0.442206\n",
      "epoch 354, loss 0.207357\n",
      "epoch 355, loss 0.501951\n",
      "epoch 356, loss 0.396889\n",
      "epoch 357, loss 0.338197\n",
      "epoch 358, loss 0.399222\n",
      "epoch 359, loss 0.176629\n",
      "epoch 360, loss 0.456099\n",
      "epoch 361, loss 0.542166\n",
      "epoch 362, loss 0.276831\n",
      "epoch 363, loss 0.134489\n",
      "epoch 364, loss 0.442173\n",
      "epoch 365, loss 0.424907\n",
      "epoch 366, loss 0.388977\n",
      "epoch 367, loss 0.217365\n",
      "epoch 368, loss 0.314967\n",
      "epoch 369, loss 0.167258\n",
      "epoch 370, loss 0.502686\n",
      "epoch 371, loss 0.187189\n",
      "epoch 372, loss 0.225918\n",
      "epoch 373, loss 0.173760\n",
      "epoch 374, loss 0.219440\n",
      "epoch 375, loss 0.215490\n",
      "epoch 376, loss 0.207528\n",
      "epoch 377, loss 0.405873\n",
      "epoch 378, loss 0.253139\n",
      "epoch 379, loss 0.243662\n",
      "epoch 380, loss 0.111247\n",
      "epoch 381, loss 0.165314\n",
      "epoch 382, loss 0.448293\n",
      "epoch 383, loss 0.158683\n",
      "epoch 384, loss 0.227933\n",
      "epoch 385, loss 0.349162\n",
      "epoch 386, loss 0.181511\n",
      "epoch 387, loss 0.195248\n",
      "epoch 388, loss 0.419890\n",
      "epoch 389, loss 0.319647\n",
      "epoch 390, loss 0.181836\n",
      "epoch 391, loss 0.205147\n",
      "epoch 392, loss 0.160659\n",
      "epoch 393, loss 0.464838\n",
      "epoch 394, loss 0.221791\n",
      "epoch 395, loss 0.379227\n",
      "epoch 396, loss 0.563040\n",
      "epoch 397, loss 0.240314\n",
      "epoch 398, loss 0.205544\n",
      "epoch 399, loss 0.254286\n",
      "epoch 400, loss 0.299733\n",
      "epoch 401, loss 0.326445\n",
      "epoch 402, loss 0.352621\n",
      "epoch 403, loss 0.280859\n",
      "epoch 404, loss 0.312774\n",
      "epoch 405, loss 0.392456\n",
      "epoch 406, loss 0.432652\n",
      "epoch 407, loss 0.397491\n",
      "epoch 408, loss 0.229448\n",
      "epoch 409, loss 0.305083\n",
      "epoch 410, loss 0.311360\n",
      "epoch 411, loss 0.198204\n",
      "epoch 412, loss 0.219146\n",
      "epoch 413, loss 0.307866\n",
      "epoch 414, loss 0.550282\n",
      "epoch 415, loss 0.249029\n",
      "epoch 416, loss 0.508069\n",
      "epoch 417, loss 0.288815\n",
      "epoch 418, loss 0.240613\n",
      "epoch 419, loss 0.188090\n",
      "epoch 420, loss 0.267819\n",
      "epoch 421, loss 0.326130\n",
      "epoch 422, loss 0.332974\n",
      "epoch 423, loss 0.407937\n",
      "epoch 424, loss 0.460965\n",
      "epoch 425, loss 0.499725\n",
      "epoch 426, loss 0.288108\n",
      "epoch 427, loss 0.285738\n",
      "epoch 428, loss 0.293123\n",
      "epoch 429, loss 0.291925\n",
      "epoch 430, loss 0.226714\n",
      "epoch 431, loss 0.302057\n",
      "epoch 432, loss 0.153442\n",
      "epoch 433, loss 0.161823\n",
      "epoch 434, loss 0.295910\n",
      "epoch 435, loss 0.340881\n",
      "epoch 436, loss 0.522329\n",
      "epoch 437, loss 0.118745\n",
      "epoch 438, loss 0.194742\n",
      "epoch 439, loss 0.314567\n",
      "epoch 440, loss 0.093066\n",
      "epoch 441, loss 0.188487\n",
      "epoch 442, loss 0.172029\n",
      "epoch 443, loss 0.462667\n",
      "epoch 444, loss 0.396462\n",
      "epoch 445, loss 0.195777\n",
      "epoch 446, loss 0.334862\n",
      "epoch 447, loss 0.195986\n",
      "epoch 448, loss 0.612967\n",
      "epoch 449, loss 0.540025\n",
      "epoch 450, loss 0.569829\n",
      "epoch 451, loss 0.232894\n",
      "epoch 452, loss 0.307998\n",
      "epoch 453, loss 0.472491\n",
      "epoch 454, loss 0.303373\n",
      "epoch 455, loss 0.411252\n",
      "epoch 456, loss 0.569063\n",
      "epoch 457, loss 0.059932\n",
      "epoch 458, loss 0.166929\n",
      "epoch 459, loss 0.268657\n",
      "epoch 460, loss 0.552454\n",
      "epoch 461, loss 0.239677\n",
      "epoch 462, loss 0.251418\n",
      "epoch 463, loss 0.253563\n",
      "epoch 464, loss 0.163914\n",
      "epoch 465, loss 0.111560\n",
      "epoch 466, loss 0.357867\n",
      "epoch 467, loss 0.418064\n",
      "epoch 468, loss 0.192192\n",
      "epoch 469, loss 0.294027\n",
      "epoch 470, loss 0.298711\n",
      "epoch 471, loss 0.510571\n",
      "epoch 472, loss 0.115661\n",
      "epoch 473, loss 0.336334\n",
      "epoch 474, loss 0.198910\n",
      "epoch 475, loss 0.342332\n",
      "epoch 476, loss 0.343527\n",
      "epoch 477, loss 0.324698\n",
      "epoch 478, loss 0.191889\n",
      "epoch 479, loss 0.239382\n",
      "epoch 480, loss 0.466629\n",
      "epoch 481, loss 0.169892\n",
      "epoch 482, loss 0.350475\n",
      "epoch 483, loss 0.240005\n",
      "epoch 484, loss 0.342984\n",
      "epoch 485, loss 0.304009\n",
      "epoch 486, loss 0.141716\n",
      "epoch 487, loss 0.343622\n",
      "epoch 488, loss 0.242150\n",
      "epoch 489, loss 0.343013\n",
      "epoch 490, loss 0.221489\n",
      "epoch 491, loss 0.463878\n",
      "epoch 492, loss 0.556178\n",
      "epoch 493, loss 0.223035\n",
      "epoch 494, loss 0.383977\n",
      "epoch 495, loss 0.446557\n",
      "epoch 496, loss 0.396898\n",
      "epoch 497, loss 0.173984\n",
      "epoch 498, loss 0.244281\n",
      "epoch 499, loss 0.130673\n",
      "epoch 500, loss 0.248526\n",
      "epoch 501, loss 0.416563\n",
      "epoch 502, loss 0.282268\n",
      "epoch 503, loss 0.421661\n",
      "epoch 504, loss 0.180718\n",
      "epoch 505, loss 0.244146\n",
      "epoch 506, loss 0.191941\n",
      "epoch 507, loss 0.169942\n",
      "epoch 508, loss 0.177998\n",
      "epoch 509, loss 0.288264\n",
      "epoch 510, loss 0.348755\n",
      "epoch 511, loss 0.192854\n",
      "epoch 512, loss 0.319156\n"
     ]
    }
   ],
   "source": [
    "# MINI BATCH, calculate for each round the derivative for each minibatch, and then sum up them together\n",
    "\n",
    "num_iterations = 512\n",
    "batch_size = 16\n",
    "lr = 1e-3\n",
    "\n",
    "for i in range(num_iterations):\n",
    "    for X, y in data_iter(batch_size, train_features, train_labels):    \n",
    "        predictions = squared_loss(linreg(X,weights,bias),y)    #calculate the prediction, i.e. X(train features) * weights +b; then the loss w.r.t. labels\n",
    "        predictions.sum().backward() #derivate calc\n",
    "        sgd([weights,bias],lr,batch_size)   #update weights\n",
    "    with torch.no_grad():\n",
    "        train_l = squared_loss(linreg(X, weights, bias), y)\n",
    "        print(f'epoch {i + 1}, loss {float(train_l.mean()):f}')\n",
    "    "
   ]
  },
  {
   "cell_type": "markdown",
   "metadata": {},
   "source": [
    "Get the real predictions"
   ]
  },
  {
   "cell_type": "code",
   "execution_count": 129,
   "metadata": {
    "execution": {
     "iopub.execute_input": "2021-07-20T09:27:22.449495Z",
     "iopub.status.busy": "2021-07-20T09:27:22.449118Z",
     "iopub.status.idle": "2021-07-20T09:27:22.459333Z",
     "shell.execute_reply": "2021-07-20T09:27:22.457917Z",
     "shell.execute_reply.started": "2021-07-20T09:27:22.449447Z"
    }
   },
   "outputs": [
    {
     "name": "stdout",
     "output_type": "stream",
     "text": [
      "torch.Size([15])\n"
     ]
    },
    {
     "data": {
      "text/plain": [
       "tensor([13., 13., 14., 13., 13., 13., 13., 13., 13., 14., 13., 14., 13., 14.,\n",
       "        14.], grad_fn=<FloorBackward0>)"
      ]
     },
     "execution_count": 129,
     "metadata": {},
     "output_type": "execute_result"
    }
   ],
   "source": [
    "predictions = (predictions * trains_std) + trains_mean  #denormalization \n",
    "print(predictions.shape)\n",
    "torch.floor(predictions) #resulting labels"
   ]
  },
  {
   "cell_type": "markdown",
   "metadata": {},
   "source": [
    "Our predictions seem very close to the ground truth!"
   ]
  },
  {
   "cell_type": "markdown",
   "metadata": {},
   "source": [
    "**To go further**: Stochastic Gradient Descent is not the optimal algorithm in terms of convergeance.\n",
    "If you are curious, you can read this nice article about an improvement to SGD, momentum and try to implement it: https://distill.pub/2017/momentum/"
   ]
  },
  {
   "cell_type": "code",
   "execution_count": null,
   "metadata": {},
   "outputs": [],
   "source": []
  }
 ],
 "metadata": {
  "kernelspec": {
   "display_name": "Python 3 (ipykernel)",
   "language": "python",
   "name": "python3"
  },
  "language_info": {
   "codemirror_mode": {
    "name": "ipython",
    "version": 3
   },
   "file_extension": ".py",
   "mimetype": "text/x-python",
   "name": "python",
   "nbconvert_exporter": "python",
   "pygments_lexer": "ipython3",
   "version": "3.9.10"
  }
 },
 "nbformat": 4,
 "nbformat_minor": 4
}
