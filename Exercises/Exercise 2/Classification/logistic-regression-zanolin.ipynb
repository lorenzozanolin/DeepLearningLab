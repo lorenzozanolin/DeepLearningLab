{
 "cells": [
  {
   "cell_type": "markdown",
   "id": "1c69527c",
   "metadata": {
    "papermill": {
     "duration": 0.007764,
     "end_time": "2023-11-14T15:01:44.643385",
     "exception": false,
     "start_time": "2023-11-14T15:01:44.635621",
     "status": "completed"
    },
    "tags": []
   },
   "source": [
    "# Titanic - Machine Learning from Disaster\n",
    "\n",
    "\n",
    "Kaggle link: https://www.kaggle.com/code/lorenzozanolin/logistic-regression\n",
    "\n",
    "W&B link: https://wandb.ai/lorenzozanolin-52/logistic_regression/table?workspace=user-lorenzozanolin-52"
   ]
  },
  {
   "cell_type": "code",
   "execution_count": 1,
   "id": "c620dcfe",
   "metadata": {
    "_cell_guid": "b1076dfc-b9ad-4769-8c92-a6c4dae69d19",
    "_uuid": "8f2839f25d086af736a60e9eeb907d3b93b6e0e5",
    "execution": {
     "iopub.execute_input": "2023-11-14T15:01:44.660435Z",
     "iopub.status.busy": "2023-11-14T15:01:44.659896Z",
     "iopub.status.idle": "2023-11-14T15:01:45.567477Z",
     "shell.execute_reply": "2023-11-14T15:01:45.566314Z"
    },
    "papermill": {
     "duration": 0.919524,
     "end_time": "2023-11-14T15:01:45.570326",
     "exception": false,
     "start_time": "2023-11-14T15:01:44.650802",
     "status": "completed"
    },
    "tags": []
   },
   "outputs": [
    {
     "name": "stdout",
     "output_type": "stream",
     "text": [
      "/kaggle/input/titanic/train.csv\n",
      "/kaggle/input/titanic/test.csv\n",
      "/kaggle/input/titanic/gender_submission.csv\n"
     ]
    }
   ],
   "source": [
    "# This Python 3 environment comes with many helpful analytics libraries installed\n",
    "# It is defined by the kaggle/python Docker image: https://github.com/kaggle/docker-python\n",
    "# For example, here's several helpful packages to load\n",
    "#!pip install wandb\n",
    "import numpy as np # linear algebra\n",
    "import pandas as pd # data processing, CSV file I/O (e.g. pd.read_csv)\n",
    "\n",
    "# Input data files are available in the read-only \"../input/\" directory\n",
    "# For example, running this (by clicking run or pressing Shift+Enter) will list all files under the input directory\n",
    "\n",
    "import os\n",
    "for dirname, _, filenames in os.walk('/kaggle/input'):    # ''\n",
    "    for filename in filenames:\n",
    "        print(os.path.join(dirname, filename))\n",
    "\n",
    "# You can write up to 20GB to the current directory (/kaggle/working/) that gets preserved as output when you create a version using \"Save & Run All\" \n",
    "# You can also write temporary files to /kaggle/temp/, but they won't be saved outside of the current session"
   ]
  },
  {
   "cell_type": "markdown",
   "id": "cb838c0f",
   "metadata": {
    "papermill": {
     "duration": 0.00716,
     "end_time": "2023-11-14T15:01:45.585077",
     "exception": false,
     "start_time": "2023-11-14T15:01:45.577917",
     "status": "completed"
    },
    "tags": []
   },
   "source": [
    "Import all the needed library and init Weights and Biases"
   ]
  },
  {
   "cell_type": "code",
   "execution_count": 2,
   "id": "3f915a09",
   "metadata": {
    "execution": {
     "iopub.execute_input": "2023-11-14T15:01:45.602389Z",
     "iopub.status.busy": "2023-11-14T15:01:45.601519Z",
     "iopub.status.idle": "2023-11-14T15:01:54.460493Z",
     "shell.execute_reply": "2023-11-14T15:01:54.459295Z"
    },
    "papermill": {
     "duration": 8.870647,
     "end_time": "2023-11-14T15:01:54.463127",
     "exception": false,
     "start_time": "2023-11-14T15:01:45.592480",
     "status": "completed"
    },
    "tags": []
   },
   "outputs": [
    {
     "name": "stderr",
     "output_type": "stream",
     "text": [
      "\u001b[34m\u001b[1mwandb\u001b[0m: W&B API key is configured. Use \u001b[1m`wandb login --relogin`\u001b[0m to force relogin\n",
      "\u001b[34m\u001b[1mwandb\u001b[0m: \u001b[33mWARNING\u001b[0m If you're specifying your api key in code, ensure this code is not shared publicly.\n",
      "\u001b[34m\u001b[1mwandb\u001b[0m: \u001b[33mWARNING\u001b[0m Consider setting the WANDB_API_KEY environment variable, or running `wandb login` from the command line.\n",
      "\u001b[34m\u001b[1mwandb\u001b[0m: Appending key for api.wandb.ai to your netrc file: /root/.netrc\n"
     ]
    },
    {
     "data": {
      "text/plain": [
       "True"
      ]
     },
     "execution_count": 2,
     "metadata": {},
     "output_type": "execute_result"
    }
   ],
   "source": [
    "import numpy as np\n",
    "\n",
    "import torch\n",
    "import torch.nn as nn\n",
    "torch.manual_seed(0)\n",
    "\n",
    "import matplotlib\n",
    "import matplotlib.pyplot as plt\n",
    "%matplotlib inline\n",
    "\n",
    "from scipy import stats\n",
    "import pandas as pd\n",
    "\n",
    "import wandb\n",
    "from kaggle_secrets import UserSecretsClient\n",
    "user_secrets = UserSecretsClient()\n",
    "secret_value_0 = user_secrets.get_secret(\"a\")\n",
    "wandb.login(key=secret_value_0)"
   ]
  },
  {
   "cell_type": "markdown",
   "id": "4dede07a",
   "metadata": {
    "papermill": {
     "duration": 0.007976,
     "end_time": "2023-11-14T15:01:54.479318",
     "exception": false,
     "start_time": "2023-11-14T15:01:54.471342",
     "status": "completed"
    },
    "tags": []
   },
   "source": [
    "We first need to read the datasets"
   ]
  },
  {
   "cell_type": "code",
   "execution_count": 3,
   "id": "cdd84112",
   "metadata": {
    "execution": {
     "iopub.execute_input": "2023-11-14T15:01:54.498107Z",
     "iopub.status.busy": "2023-11-14T15:01:54.496928Z",
     "iopub.status.idle": "2023-11-14T15:01:54.558214Z",
     "shell.execute_reply": "2023-11-14T15:01:54.557001Z"
    },
    "papermill": {
     "duration": 0.073455,
     "end_time": "2023-11-14T15:01:54.560857",
     "exception": false,
     "start_time": "2023-11-14T15:01:54.487402",
     "status": "completed"
    },
    "tags": []
   },
   "outputs": [
    {
     "data": {
      "text/html": [
       "<div>\n",
       "<style scoped>\n",
       "    .dataframe tbody tr th:only-of-type {\n",
       "        vertical-align: middle;\n",
       "    }\n",
       "\n",
       "    .dataframe tbody tr th {\n",
       "        vertical-align: top;\n",
       "    }\n",
       "\n",
       "    .dataframe thead th {\n",
       "        text-align: right;\n",
       "    }\n",
       "</style>\n",
       "<table border=\"1\" class=\"dataframe\">\n",
       "  <thead>\n",
       "    <tr style=\"text-align: right;\">\n",
       "      <th></th>\n",
       "      <th>PassengerId</th>\n",
       "      <th>Survived</th>\n",
       "      <th>Pclass</th>\n",
       "      <th>Name</th>\n",
       "      <th>Sex</th>\n",
       "      <th>Age</th>\n",
       "      <th>SibSp</th>\n",
       "      <th>Parch</th>\n",
       "      <th>Ticket</th>\n",
       "      <th>Fare</th>\n",
       "      <th>Cabin</th>\n",
       "      <th>Embarked</th>\n",
       "    </tr>\n",
       "  </thead>\n",
       "  <tbody>\n",
       "    <tr>\n",
       "      <th>0</th>\n",
       "      <td>1</td>\n",
       "      <td>0</td>\n",
       "      <td>3</td>\n",
       "      <td>Braund, Mr. Owen Harris</td>\n",
       "      <td>male</td>\n",
       "      <td>22.0</td>\n",
       "      <td>1</td>\n",
       "      <td>0</td>\n",
       "      <td>A/5 21171</td>\n",
       "      <td>7.2500</td>\n",
       "      <td>NaN</td>\n",
       "      <td>S</td>\n",
       "    </tr>\n",
       "    <tr>\n",
       "      <th>1</th>\n",
       "      <td>2</td>\n",
       "      <td>1</td>\n",
       "      <td>1</td>\n",
       "      <td>Cumings, Mrs. John Bradley (Florence Briggs Th...</td>\n",
       "      <td>female</td>\n",
       "      <td>38.0</td>\n",
       "      <td>1</td>\n",
       "      <td>0</td>\n",
       "      <td>PC 17599</td>\n",
       "      <td>71.2833</td>\n",
       "      <td>C85</td>\n",
       "      <td>C</td>\n",
       "    </tr>\n",
       "    <tr>\n",
       "      <th>2</th>\n",
       "      <td>3</td>\n",
       "      <td>1</td>\n",
       "      <td>3</td>\n",
       "      <td>Heikkinen, Miss. Laina</td>\n",
       "      <td>female</td>\n",
       "      <td>26.0</td>\n",
       "      <td>0</td>\n",
       "      <td>0</td>\n",
       "      <td>STON/O2. 3101282</td>\n",
       "      <td>7.9250</td>\n",
       "      <td>NaN</td>\n",
       "      <td>S</td>\n",
       "    </tr>\n",
       "    <tr>\n",
       "      <th>3</th>\n",
       "      <td>4</td>\n",
       "      <td>1</td>\n",
       "      <td>1</td>\n",
       "      <td>Futrelle, Mrs. Jacques Heath (Lily May Peel)</td>\n",
       "      <td>female</td>\n",
       "      <td>35.0</td>\n",
       "      <td>1</td>\n",
       "      <td>0</td>\n",
       "      <td>113803</td>\n",
       "      <td>53.1000</td>\n",
       "      <td>C123</td>\n",
       "      <td>S</td>\n",
       "    </tr>\n",
       "    <tr>\n",
       "      <th>4</th>\n",
       "      <td>5</td>\n",
       "      <td>0</td>\n",
       "      <td>3</td>\n",
       "      <td>Allen, Mr. William Henry</td>\n",
       "      <td>male</td>\n",
       "      <td>35.0</td>\n",
       "      <td>0</td>\n",
       "      <td>0</td>\n",
       "      <td>373450</td>\n",
       "      <td>8.0500</td>\n",
       "      <td>NaN</td>\n",
       "      <td>S</td>\n",
       "    </tr>\n",
       "  </tbody>\n",
       "</table>\n",
       "</div>"
      ],
      "text/plain": [
       "   PassengerId  Survived  Pclass  \\\n",
       "0            1         0       3   \n",
       "1            2         1       1   \n",
       "2            3         1       3   \n",
       "3            4         1       1   \n",
       "4            5         0       3   \n",
       "\n",
       "                                                Name     Sex   Age  SibSp  \\\n",
       "0                            Braund, Mr. Owen Harris    male  22.0      1   \n",
       "1  Cumings, Mrs. John Bradley (Florence Briggs Th...  female  38.0      1   \n",
       "2                             Heikkinen, Miss. Laina  female  26.0      0   \n",
       "3       Futrelle, Mrs. Jacques Heath (Lily May Peel)  female  35.0      1   \n",
       "4                           Allen, Mr. William Henry    male  35.0      0   \n",
       "\n",
       "   Parch            Ticket     Fare Cabin Embarked  \n",
       "0      0         A/5 21171   7.2500   NaN        S  \n",
       "1      0          PC 17599  71.2833   C85        C  \n",
       "2      0  STON/O2. 3101282   7.9250   NaN        S  \n",
       "3      0            113803  53.1000  C123        S  \n",
       "4      0            373450   8.0500   NaN        S  "
      ]
     },
     "execution_count": 3,
     "metadata": {},
     "output_type": "execute_result"
    }
   ],
   "source": [
    "titanic_training_data = pd.read_csv('/kaggle/input/titanic/train.csv')    #/kaggle/input/titanic/train.csv './titanic/train.csv'\n",
    "titanic_test_data = pd.read_csv('/kaggle/input/titanic/test.csv')\n",
    "titanic_training_data.shape\n",
    "titanic_training_data.head()"
   ]
  },
  {
   "cell_type": "markdown",
   "id": "587b4743",
   "metadata": {
    "papermill": {
     "duration": 0.008154,
     "end_time": "2023-11-14T15:01:54.577644",
     "exception": false,
     "start_time": "2023-11-14T15:01:54.569490",
     "status": "completed"
    },
    "tags": []
   },
   "source": [
    "Dataframe needs to be cleaned, knowing if some informations are unknown can be very important to determine if someone survived"
   ]
  },
  {
   "cell_type": "code",
   "execution_count": 4,
   "id": "59800aa4",
   "metadata": {
    "execution": {
     "iopub.execute_input": "2023-11-14T15:01:54.596133Z",
     "iopub.status.busy": "2023-11-14T15:01:54.595720Z",
     "iopub.status.idle": "2023-11-14T15:01:54.882686Z",
     "shell.execute_reply": "2023-11-14T15:01:54.881548Z"
    },
    "papermill": {
     "duration": 0.299759,
     "end_time": "2023-11-14T15:01:54.885627",
     "exception": false,
     "start_time": "2023-11-14T15:01:54.585868",
     "status": "completed"
    },
    "tags": []
   },
   "outputs": [],
   "source": [
    "from statsmodels.stats.outliers_influence import variance_inflation_factor  \n",
    "def remove_multicollinearity(df,features):   #we will use it to remove features whom VIF is higher than 20\n",
    "    vif_data=pd.DataFrame()\n",
    "    vif_data[\"Feature\"]=features # names of the features\n",
    "    vif_data[\"VIF\"]=[variance_inflation_factor(df[features].values,i) for i in range(len(features))] # VIF score for each features, higher VIF means higher correlation\n",
    "    return vif_data.sort_values(by=[\"VIF\"]).reset_index(drop=True)\n",
    "        "
   ]
  },
  {
   "cell_type": "code",
   "execution_count": 5,
   "id": "ef139b18",
   "metadata": {
    "execution": {
     "iopub.execute_input": "2023-11-14T15:01:54.905082Z",
     "iopub.status.busy": "2023-11-14T15:01:54.904681Z",
     "iopub.status.idle": "2023-11-14T15:01:54.999609Z",
     "shell.execute_reply": "2023-11-14T15:01:54.998463Z"
    },
    "papermill": {
     "duration": 0.107937,
     "end_time": "2023-11-14T15:01:55.002369",
     "exception": false,
     "start_time": "2023-11-14T15:01:54.894432",
     "status": "completed"
    },
    "tags": []
   },
   "outputs": [
    {
     "data": {
      "text/html": [
       "<div>\n",
       "<style scoped>\n",
       "    .dataframe tbody tr th:only-of-type {\n",
       "        vertical-align: middle;\n",
       "    }\n",
       "\n",
       "    .dataframe tbody tr th {\n",
       "        vertical-align: top;\n",
       "    }\n",
       "\n",
       "    .dataframe thead th {\n",
       "        text-align: right;\n",
       "    }\n",
       "</style>\n",
       "<table border=\"1\" class=\"dataframe\">\n",
       "  <thead>\n",
       "    <tr style=\"text-align: right;\">\n",
       "      <th></th>\n",
       "      <th>Age</th>\n",
       "      <th>SibSp</th>\n",
       "      <th>Parch</th>\n",
       "      <th>Fare</th>\n",
       "      <th>Cabin</th>\n",
       "      <th>Embarked</th>\n",
       "      <th>AgeNan</th>\n",
       "      <th>sex__female</th>\n",
       "      <th>sex__male</th>\n",
       "      <th>pclass__1</th>\n",
       "      <th>pclass__2</th>\n",
       "      <th>pclass__3</th>\n",
       "    </tr>\n",
       "  </thead>\n",
       "  <tbody>\n",
       "    <tr>\n",
       "      <th>0</th>\n",
       "      <td>-0.530005</td>\n",
       "      <td>0.432550</td>\n",
       "      <td>-0.473408</td>\n",
       "      <td>-0.502163</td>\n",
       "      <td>True</td>\n",
       "      <td>False</td>\n",
       "      <td>False</td>\n",
       "      <td>False</td>\n",
       "      <td>True</td>\n",
       "      <td>False</td>\n",
       "      <td>False</td>\n",
       "      <td>True</td>\n",
       "    </tr>\n",
       "    <tr>\n",
       "      <th>1</th>\n",
       "      <td>0.571430</td>\n",
       "      <td>0.432550</td>\n",
       "      <td>-0.473408</td>\n",
       "      <td>0.786404</td>\n",
       "      <td>False</td>\n",
       "      <td>False</td>\n",
       "      <td>False</td>\n",
       "      <td>True</td>\n",
       "      <td>False</td>\n",
       "      <td>True</td>\n",
       "      <td>False</td>\n",
       "      <td>False</td>\n",
       "    </tr>\n",
       "    <tr>\n",
       "      <th>2</th>\n",
       "      <td>-0.254646</td>\n",
       "      <td>-0.474279</td>\n",
       "      <td>-0.473408</td>\n",
       "      <td>-0.488580</td>\n",
       "      <td>True</td>\n",
       "      <td>False</td>\n",
       "      <td>False</td>\n",
       "      <td>True</td>\n",
       "      <td>False</td>\n",
       "      <td>False</td>\n",
       "      <td>False</td>\n",
       "      <td>True</td>\n",
       "    </tr>\n",
       "    <tr>\n",
       "      <th>3</th>\n",
       "      <td>0.364911</td>\n",
       "      <td>0.432550</td>\n",
       "      <td>-0.473408</td>\n",
       "      <td>0.420494</td>\n",
       "      <td>False</td>\n",
       "      <td>False</td>\n",
       "      <td>False</td>\n",
       "      <td>True</td>\n",
       "      <td>False</td>\n",
       "      <td>True</td>\n",
       "      <td>False</td>\n",
       "      <td>False</td>\n",
       "    </tr>\n",
       "    <tr>\n",
       "      <th>4</th>\n",
       "      <td>0.364911</td>\n",
       "      <td>-0.474279</td>\n",
       "      <td>-0.473408</td>\n",
       "      <td>-0.486064</td>\n",
       "      <td>True</td>\n",
       "      <td>False</td>\n",
       "      <td>False</td>\n",
       "      <td>False</td>\n",
       "      <td>True</td>\n",
       "      <td>False</td>\n",
       "      <td>False</td>\n",
       "      <td>True</td>\n",
       "    </tr>\n",
       "  </tbody>\n",
       "</table>\n",
       "</div>"
      ],
      "text/plain": [
       "        Age     SibSp     Parch      Fare  Cabin  Embarked  AgeNan  \\\n",
       "0 -0.530005  0.432550 -0.473408 -0.502163   True     False   False   \n",
       "1  0.571430  0.432550 -0.473408  0.786404  False     False   False   \n",
       "2 -0.254646 -0.474279 -0.473408 -0.488580   True     False   False   \n",
       "3  0.364911  0.432550 -0.473408  0.420494  False     False   False   \n",
       "4  0.364911 -0.474279 -0.473408 -0.486064   True     False   False   \n",
       "\n",
       "   sex__female  sex__male  pclass__1  pclass__2  pclass__3  \n",
       "0        False       True      False      False       True  \n",
       "1         True      False       True      False      False  \n",
       "2         True      False      False      False       True  \n",
       "3         True      False       True      False      False  \n",
       "4        False       True      False      False       True  "
      ]
     },
     "execution_count": 5,
     "metadata": {},
     "output_type": "execute_result"
    }
   ],
   "source": [
    "def clean_titanic(df, train=True):\n",
    "    df[\"Cabin\"] = df[\"Cabin\"].apply(lambda x: pd.isna(x)).astype(bool)  # will set True for each missing Cabin value, False for each cabin whom value was known\n",
    "    df[\"Embarked\"] = df[\"Embarked\"].apply(lambda x: pd.isna(x)).astype(bool) # same as before\n",
    "    df[\"AgeNan\"] = df[\"Age\"].apply(lambda x: pd.isna(x)).astype(bool) # same as before\n",
    "    df = pd.concat([df, pd.get_dummies(df['Sex'], dtype='bool', prefix='sex_'), pd.get_dummies(df['Pclass'], dtype='bool', prefix='pclass_')], axis=1) # adds new columns to the pre-existing dataframe. pd.get_dummies() encodes categorical variables into one-hot encoded dummy variables\n",
    "    df = df.drop(['PassengerId', 'Name','Ticket','Sex','Pclass'], axis=1) # removes useless features\n",
    "    if train:\n",
    "        df = df.drop(['Survived'], axis=1) # removes last column since we are considering the training set\n",
    "    numeric_features = df.dtypes[(df.dtypes != 'object') & (df.dtypes != 'bool')].index # This results in a list of column names corresponding to the numeric features\n",
    "    df[numeric_features] = df[numeric_features].apply(lambda x: (x - x.mean()) / (x.std())) #mean normalization\n",
    "    df[\"Age\"] = df[\"Age\"].fillna(df[\"Age\"].mean()) # fills empty values with the mean\n",
    "    df[\"Fare\"] = df[\"Fare\"].fillna(df[\"Fare\"].mean()) # same\n",
    "    \n",
    "    return df\n",
    "\n",
    "y_data = torch.tensor(titanic_training_data[\"Survived\"].values, dtype=torch.float32)\n",
    "X_data = clean_titanic(titanic_training_data)\n",
    "X_data.head()\n"
   ]
  },
  {
   "cell_type": "markdown",
   "id": "7630c4e6",
   "metadata": {
    "papermill": {
     "duration": 0.008199,
     "end_time": "2023-11-14T15:01:55.019039",
     "exception": false,
     "start_time": "2023-11-14T15:01:55.010840",
     "status": "completed"
    },
    "tags": []
   },
   "source": [
    "We then transform the data from numpy (pandas representation) into torch's `Tensor`"
   ]
  },
  {
   "cell_type": "code",
   "execution_count": 6,
   "id": "5eb13fd6",
   "metadata": {
    "execution": {
     "iopub.execute_input": "2023-11-14T15:01:55.038076Z",
     "iopub.status.busy": "2023-11-14T15:01:55.037680Z",
     "iopub.status.idle": "2023-11-14T15:01:55.117757Z",
     "shell.execute_reply": "2023-11-14T15:01:55.116605Z"
    },
    "papermill": {
     "duration": 0.092856,
     "end_time": "2023-11-14T15:01:55.120436",
     "exception": false,
     "start_time": "2023-11-14T15:01:55.027580",
     "status": "completed"
    },
    "tags": []
   },
   "outputs": [
    {
     "data": {
      "text/plain": [
       "tensor([[-5.3001e-01,  4.3255e-01, -4.7341e-01,  ...,  0.0000e+00,\n",
       "          0.0000e+00,  1.0000e+00],\n",
       "        [ 5.7143e-01,  4.3255e-01, -4.7341e-01,  ...,  1.0000e+00,\n",
       "          0.0000e+00,  0.0000e+00],\n",
       "        [-2.5465e-01, -4.7428e-01, -4.7341e-01,  ...,  0.0000e+00,\n",
       "          0.0000e+00,  1.0000e+00],\n",
       "        ...,\n",
       "        [ 2.3386e-16,  4.3255e-01,  2.0078e+00,  ...,  0.0000e+00,\n",
       "          0.0000e+00,  1.0000e+00],\n",
       "        [-2.5465e-01, -4.7428e-01, -4.7341e-01,  ...,  1.0000e+00,\n",
       "          0.0000e+00,  0.0000e+00],\n",
       "        [ 1.5839e-01, -4.7428e-01, -4.7341e-01,  ...,  0.0000e+00,\n",
       "          0.0000e+00,  1.0000e+00]])"
      ]
     },
     "execution_count": 6,
     "metadata": {},
     "output_type": "execute_result"
    }
   ],
   "source": [
    "X_data = torch.tensor(X_data.astype('float').values, dtype=torch.float32)    # create a tensor where each value is a FLOAT\n",
    "X_data\n"
   ]
  },
  {
   "cell_type": "markdown",
   "id": "8724c2cd",
   "metadata": {
    "papermill": {
     "duration": 0.008869,
     "end_time": "2023-11-14T15:01:55.138427",
     "exception": false,
     "start_time": "2023-11-14T15:01:55.129558",
     "status": "completed"
    },
    "tags": []
   },
   "source": [
    "Create a `TensorDataset` to get tuple of data and label"
   ]
  },
  {
   "cell_type": "code",
   "execution_count": 7,
   "id": "0edf3574",
   "metadata": {
    "execution": {
     "iopub.execute_input": "2023-11-14T15:01:55.158177Z",
     "iopub.status.busy": "2023-11-14T15:01:55.157747Z",
     "iopub.status.idle": "2023-11-14T15:01:55.162946Z",
     "shell.execute_reply": "2023-11-14T15:01:55.161728Z"
    },
    "papermill": {
     "duration": 0.018525,
     "end_time": "2023-11-14T15:01:55.165630",
     "exception": false,
     "start_time": "2023-11-14T15:01:55.147105",
     "status": "completed"
    },
    "tags": []
   },
   "outputs": [],
   "source": [
    "dataset = torch.utils.data.TensorDataset(X_data, y_data)"
   ]
  },
  {
   "cell_type": "markdown",
   "id": "1848fb73",
   "metadata": {
    "papermill": {
     "duration": 0.00849,
     "end_time": "2023-11-14T15:01:55.182902",
     "exception": false,
     "start_time": "2023-11-14T15:01:55.174412",
     "status": "completed"
    },
    "tags": []
   },
   "source": [
    "We then split between the training and validation set"
   ]
  },
  {
   "cell_type": "code",
   "execution_count": 8,
   "id": "7f008508",
   "metadata": {
    "execution": {
     "iopub.execute_input": "2023-11-14T15:01:55.202516Z",
     "iopub.status.busy": "2023-11-14T15:01:55.202076Z",
     "iopub.status.idle": "2023-11-14T15:01:55.212786Z",
     "shell.execute_reply": "2023-11-14T15:01:55.211902Z"
    },
    "papermill": {
     "duration": 0.023508,
     "end_time": "2023-11-14T15:01:55.215330",
     "exception": false,
     "start_time": "2023-11-14T15:01:55.191822",
     "status": "completed"
    },
    "tags": []
   },
   "outputs": [],
   "source": [
    "training_size = int(0.7 * len(dataset))\n",
    "validation_size = len(dataset) - training_size\n",
    "train, val = torch.utils.data.random_split(dataset, [training_size, validation_size], generator=torch.Generator().manual_seed(0))\n",
    "data_loader_train = torch.utils.data.DataLoader(train, batch_size=32, shuffle=True) #prima era a 32\n",
    "data_loader_val = torch.utils.data.DataLoader(val, batch_size=32, shuffle=True) #prima era a 10"
   ]
  },
  {
   "cell_type": "markdown",
   "id": "a740f123",
   "metadata": {
    "papermill": {
     "duration": 0.008369,
     "end_time": "2023-11-14T15:01:55.233498",
     "exception": false,
     "start_time": "2023-11-14T15:01:55.225129",
     "status": "completed"
    },
    "tags": []
   },
   "source": [
    "Layer initialization using Xavier Uniform on the weight and a constant 0 value on the bias"
   ]
  },
  {
   "cell_type": "code",
   "execution_count": 9,
   "id": "3cb24e46",
   "metadata": {
    "execution": {
     "iopub.execute_input": "2023-11-14T15:01:55.252691Z",
     "iopub.status.busy": "2023-11-14T15:01:55.252297Z",
     "iopub.status.idle": "2023-11-14T15:01:55.260528Z",
     "shell.execute_reply": "2023-11-14T15:01:55.259473Z"
    },
    "papermill": {
     "duration": 0.020602,
     "end_time": "2023-11-14T15:01:55.262769",
     "exception": false,
     "start_time": "2023-11-14T15:01:55.242167",
     "status": "completed"
    },
    "tags": []
   },
   "outputs": [],
   "source": [
    "import torch.nn.functional as F    \n",
    "\n",
    "def init_my_layer(m, gain=1):\n",
    "    torch.nn.init.xavier_normal_(m.weight, gain)\n",
    "    torch.nn.init.constant_(m.bias, 0)\n",
    "    return m\n",
    "\n",
    "class MyNetwork(nn.Module):\n",
    "    def __init__(self):\n",
    "        super(MyNetwork, self).__init__() \n",
    "        #self.tanh = nn.Tanh()\n",
    "        self.sigmoid = nn.Sigmoid()\n",
    "        self.ln = init_my_layer(nn.Linear(12, 1), nn.init.calculate_gain('sigmoid'))\n",
    "        #self.ln1 = init_my_layer(nn.Linear(12, 5), nn.init.calculate_gain('tanh'))\n",
    "        #self.ln2 = init_my_layer(nn.Linear(5, 1), nn.init.calculate_gain('sigmoid'))\n",
    "        \n",
    "    def forward(self, x):\n",
    "        #x = self.tanh(self.ln1(x))\n",
    "        #x = self.sigmoid(self.ln2(x))\n",
    "        x = self.sigmoid(self.ln(x))\n",
    "        #return F.sigmoid(x) \n",
    "        return x"
   ]
  },
  {
   "cell_type": "markdown",
   "id": "e2406a31",
   "metadata": {
    "papermill": {
     "duration": 0.008675,
     "end_time": "2023-11-14T15:01:55.280488",
     "exception": false,
     "start_time": "2023-11-14T15:01:55.271813",
     "status": "completed"
    },
    "tags": []
   },
   "source": [
    "Create the LinearModel with one Linear layer and Sigmoid applied to the output"
   ]
  },
  {
   "cell_type": "code",
   "execution_count": 10,
   "id": "da082b8d",
   "metadata": {
    "execution": {
     "iopub.execute_input": "2023-11-14T15:01:55.300007Z",
     "iopub.status.busy": "2023-11-14T15:01:55.299590Z",
     "iopub.status.idle": "2023-11-14T15:01:55.310103Z",
     "shell.execute_reply": "2023-11-14T15:01:55.309225Z"
    },
    "papermill": {
     "duration": 0.022869,
     "end_time": "2023-11-14T15:01:55.312330",
     "exception": false,
     "start_time": "2023-11-14T15:01:55.289461",
     "status": "completed"
    },
    "tags": []
   },
   "outputs": [
    {
     "name": "stdout",
     "output_type": "stream",
     "text": [
      "[Parameter containing:\n",
      "tensor([[-0.1316,  0.1790, -0.2453,  0.1780, -0.5389,  1.1169, -0.2872,  0.1503,\n",
      "          0.4314, -0.0344,  0.1629,  0.2520]], requires_grad=True), Parameter containing:\n",
      "tensor([0.], requires_grad=True)]\n"
     ]
    }
   ],
   "source": [
    "net = MyNetwork() \n",
    "print(list(net.parameters()))"
   ]
  },
  {
   "cell_type": "markdown",
   "id": "35ad2798",
   "metadata": {
    "papermill": {
     "duration": 0.008363,
     "end_time": "2023-11-14T15:01:55.329668",
     "exception": false,
     "start_time": "2023-11-14T15:01:55.321305",
     "status": "completed"
    },
    "tags": []
   },
   "source": [
    "Initialize the network (call it `net`, it would makes things easier later), the loss, the optimizer and write the training loop\n",
    "\n",
    "Don't forget to check the validation loss and save your model at the end of each epoch!"
   ]
  },
  {
   "cell_type": "code",
   "execution_count": 11,
   "id": "67ff0490",
   "metadata": {
    "execution": {
     "iopub.execute_input": "2023-11-14T15:01:55.349154Z",
     "iopub.status.busy": "2023-11-14T15:01:55.348723Z",
     "iopub.status.idle": "2023-11-14T15:02:35.651394Z",
     "shell.execute_reply": "2023-11-14T15:02:35.649992Z"
    },
    "papermill": {
     "duration": 40.316528,
     "end_time": "2023-11-14T15:02:35.654952",
     "exception": false,
     "start_time": "2023-11-14T15:01:55.338424",
     "status": "completed"
    },
    "tags": []
   },
   "outputs": [
    {
     "name": "stderr",
     "output_type": "stream",
     "text": [
      "\u001b[34m\u001b[1mwandb\u001b[0m: Currently logged in as: \u001b[33mlorenzozanolin-52\u001b[0m. Use \u001b[1m`wandb login --relogin`\u001b[0m to force relogin\n",
      "\u001b[34m\u001b[1mwandb\u001b[0m: wandb version 0.16.0 is available!  To upgrade, please run:\n",
      "\u001b[34m\u001b[1mwandb\u001b[0m:  $ pip install wandb --upgrade\n",
      "\u001b[34m\u001b[1mwandb\u001b[0m: Tracking run with wandb version 0.15.9\n",
      "\u001b[34m\u001b[1mwandb\u001b[0m: Run data is saved locally in \u001b[35m\u001b[1m/kaggle/working/wandb/run-20231114_150155-3gwpzlny\u001b[0m\n",
      "\u001b[34m\u001b[1mwandb\u001b[0m: Run \u001b[1m`wandb offline`\u001b[0m to turn off syncing.\n",
      "\u001b[34m\u001b[1mwandb\u001b[0m: Syncing run \u001b[33musual-capybara-68\u001b[0m\n",
      "\u001b[34m\u001b[1mwandb\u001b[0m: ⭐️ View project at \u001b[34m\u001b[4mhttps://wandb.ai/lorenzozanolin-52/logistic_regression\u001b[0m\n",
      "\u001b[34m\u001b[1mwandb\u001b[0m: 🚀 View run at \u001b[34m\u001b[4mhttps://wandb.ai/lorenzozanolin-52/logistic_regression/runs/3gwpzlny\u001b[0m\n"
     ]
    },
    {
     "name": "stdout",
     "output_type": "stream",
     "text": [
      "{'epoch': 0, 'training_loss': 0.44058147072792053, 'validation_loss': 0.201175719499588}\n",
      "{'epoch': 1, 'training_loss': 0.43604183197021484, 'validation_loss': 0.20046254992485046}\n",
      "{'epoch': 2, 'training_loss': 0.43021202087402344, 'validation_loss': 0.19862404465675354}\n",
      "{'epoch': 3, 'training_loss': 0.42582178115844727, 'validation_loss': 0.19708026945590973}\n",
      "{'epoch': 4, 'training_loss': 0.42320096492767334, 'validation_loss': 0.19482684135437012}\n",
      "{'epoch': 5, 'training_loss': 0.4176844358444214, 'validation_loss': 0.19338904321193695}\n",
      "{'epoch': 6, 'training_loss': 0.41406551003456116, 'validation_loss': 0.19135496020317078}\n",
      "{'epoch': 7, 'training_loss': 0.41195860505104065, 'validation_loss': 0.1904674470424652}\n",
      "{'epoch': 8, 'training_loss': 0.4071662127971649, 'validation_loss': 0.19002071022987366}\n",
      "{'epoch': 9, 'training_loss': 0.4059814214706421, 'validation_loss': 0.1888469159603119}\n",
      "{'epoch': 10, 'training_loss': 0.4034539461135864, 'validation_loss': 0.1875779628753662}\n",
      "{'epoch': 11, 'training_loss': 0.39959806203842163, 'validation_loss': 0.18828167021274567}\n",
      "{'epoch': 12, 'training_loss': 0.3953997492790222, 'validation_loss': 0.18575572967529297}\n",
      "{'epoch': 13, 'training_loss': 0.39213377237319946, 'validation_loss': 0.18703487515449524}\n",
      "{'epoch': 14, 'training_loss': 0.3913828134536743, 'validation_loss': 0.18312062323093414}\n",
      "{'epoch': 15, 'training_loss': 0.3904676139354706, 'validation_loss': 0.18186047673225403}\n",
      "{'epoch': 16, 'training_loss': 0.3864450454711914, 'validation_loss': 0.18126119673252106}\n",
      "{'epoch': 17, 'training_loss': 0.3828276991844177, 'validation_loss': 0.18180176615715027}\n",
      "{'epoch': 18, 'training_loss': 0.3818463683128357, 'validation_loss': 0.18196219205856323}\n",
      "{'epoch': 19, 'training_loss': 0.38012099266052246, 'validation_loss': 0.18353332579135895}\n",
      "{'epoch': 20, 'training_loss': 0.3813362717628479, 'validation_loss': 0.17873044312000275}\n",
      "{'epoch': 21, 'training_loss': 0.37857604026794434, 'validation_loss': 0.18105608224868774}\n",
      "{'epoch': 22, 'training_loss': 0.3750161826610565, 'validation_loss': 0.1795904040336609}\n",
      "{'epoch': 23, 'training_loss': 0.3733404278755188, 'validation_loss': 0.17623686790466309}\n",
      "{'epoch': 24, 'training_loss': 0.3719470798969269, 'validation_loss': 0.17934001982212067}\n",
      "{'epoch': 25, 'training_loss': 0.3717603385448456, 'validation_loss': 0.17392054200172424}\n",
      "{'epoch': 26, 'training_loss': 0.3682135343551636, 'validation_loss': 0.1743534654378891}\n",
      "{'epoch': 27, 'training_loss': 0.3666532039642334, 'validation_loss': 0.17284519970417023}\n",
      "{'epoch': 28, 'training_loss': 0.3659432530403137, 'validation_loss': 0.17264710366725922}\n",
      "{'epoch': 29, 'training_loss': 0.36293819546699524, 'validation_loss': 0.17579016089439392}\n",
      "{'epoch': 30, 'training_loss': 0.36558088660240173, 'validation_loss': 0.17299538850784302}\n",
      "{'epoch': 31, 'training_loss': 0.36188313364982605, 'validation_loss': 0.17375880479812622}\n",
      "{'epoch': 32, 'training_loss': 0.3589943051338196, 'validation_loss': 0.17764392495155334}\n",
      "{'epoch': 33, 'training_loss': 0.35757875442504883, 'validation_loss': 0.17450746893882751}\n",
      "{'epoch': 34, 'training_loss': 0.3584805130958557, 'validation_loss': 0.17289333045482635}\n",
      "{'epoch': 35, 'training_loss': 0.35630765557289124, 'validation_loss': 0.171399787068367}\n",
      "{'epoch': 36, 'training_loss': 0.3562575876712799, 'validation_loss': 0.1706458181142807}\n",
      "{'epoch': 37, 'training_loss': 0.35489895939826965, 'validation_loss': 0.17195290327072144}\n",
      "{'epoch': 38, 'training_loss': 0.3530924618244171, 'validation_loss': 0.1719105839729309}\n",
      "{'epoch': 39, 'training_loss': 0.352406769990921, 'validation_loss': 0.17291346192359924}\n",
      "{'epoch': 40, 'training_loss': 0.35296815633773804, 'validation_loss': 0.17164039611816406}\n",
      "{'epoch': 41, 'training_loss': 0.3514018952846527, 'validation_loss': 0.17016024887561798}\n",
      "{'epoch': 42, 'training_loss': 0.35043877363204956, 'validation_loss': 0.16596035659313202}\n",
      "{'epoch': 43, 'training_loss': 0.34905099868774414, 'validation_loss': 0.16686463356018066}\n",
      "{'epoch': 44, 'training_loss': 0.34711530804634094, 'validation_loss': 0.16646480560302734}\n",
      "{'epoch': 45, 'training_loss': 0.34805524349212646, 'validation_loss': 0.16611583530902863}\n",
      "{'epoch': 46, 'training_loss': 0.3482085168361664, 'validation_loss': 0.16630588471889496}\n",
      "{'epoch': 47, 'training_loss': 0.34505215287208557, 'validation_loss': 0.16565443575382233}\n",
      "{'epoch': 48, 'training_loss': 0.34570667147636414, 'validation_loss': 0.16466078162193298}\n",
      "{'epoch': 49, 'training_loss': 0.34188607335090637, 'validation_loss': 0.16834498941898346}\n",
      "{'epoch': 50, 'training_loss': 0.34410712122917175, 'validation_loss': 0.16498742997646332}\n",
      "{'epoch': 51, 'training_loss': 0.34560897946357727, 'validation_loss': 0.16483919322490692}\n",
      "{'epoch': 52, 'training_loss': 0.34218114614486694, 'validation_loss': 0.165711909532547}\n",
      "{'epoch': 53, 'training_loss': 0.3390764594078064, 'validation_loss': 0.1670462042093277}\n",
      "{'epoch': 54, 'training_loss': 0.3383010923862457, 'validation_loss': 0.16197596490383148}\n",
      "{'epoch': 55, 'training_loss': 0.3384282886981964, 'validation_loss': 0.16805782914161682}\n",
      "{'epoch': 56, 'training_loss': 0.3382215201854706, 'validation_loss': 0.16356994211673737}\n",
      "{'epoch': 57, 'training_loss': 0.3395640552043915, 'validation_loss': 0.1643267124891281}\n",
      "{'epoch': 58, 'training_loss': 0.3367697298526764, 'validation_loss': 0.1630292385816574}\n",
      "{'epoch': 59, 'training_loss': 0.33810511231422424, 'validation_loss': 0.162493497133255}\n",
      "{'epoch': 60, 'training_loss': 0.3341633081436157, 'validation_loss': 0.16146259009838104}\n",
      "{'epoch': 61, 'training_loss': 0.33742427825927734, 'validation_loss': 0.16308185458183289}\n",
      "{'epoch': 62, 'training_loss': 0.3334496319293976, 'validation_loss': 0.16272439062595367}\n",
      "{'epoch': 63, 'training_loss': 0.33469387888908386, 'validation_loss': 0.16554595530033112}\n",
      "{'epoch': 64, 'training_loss': 0.33492034673690796, 'validation_loss': 0.16377326846122742}\n",
      "{'epoch': 65, 'training_loss': 0.3360613286495209, 'validation_loss': 0.16150973737239838}\n",
      "{'epoch': 66, 'training_loss': 0.3317923843860626, 'validation_loss': 0.16119682788848877}\n",
      "{'epoch': 67, 'training_loss': 0.33042022585868835, 'validation_loss': 0.15806418657302856}\n",
      "{'epoch': 68, 'training_loss': 0.3324626684188843, 'validation_loss': 0.16001397371292114}\n",
      "{'epoch': 69, 'training_loss': 0.3323901295661926, 'validation_loss': 0.15780536830425262}\n",
      "{'epoch': 70, 'training_loss': 0.33085474371910095, 'validation_loss': 0.15749101340770721}\n",
      "{'epoch': 71, 'training_loss': 0.32862189412117004, 'validation_loss': 0.1588248461484909}\n",
      "{'epoch': 72, 'training_loss': 0.3288134038448334, 'validation_loss': 0.15599337220191956}\n",
      "{'epoch': 73, 'training_loss': 0.33165809512138367, 'validation_loss': 0.15582038462162018}\n",
      "{'epoch': 74, 'training_loss': 0.3264826536178589, 'validation_loss': 0.16086158156394958}\n",
      "{'epoch': 75, 'training_loss': 0.3261658549308777, 'validation_loss': 0.15986047685146332}\n",
      "{'epoch': 76, 'training_loss': 0.32848599553108215, 'validation_loss': 0.156509131193161}\n",
      "{'epoch': 77, 'training_loss': 0.32680246233940125, 'validation_loss': 0.1600290834903717}\n",
      "{'epoch': 78, 'training_loss': 0.3249802589416504, 'validation_loss': 0.15614892542362213}\n",
      "{'epoch': 79, 'training_loss': 0.3247831165790558, 'validation_loss': 0.15477325022220612}\n",
      "{'epoch': 80, 'training_loss': 0.32577165961265564, 'validation_loss': 0.15575067698955536}\n",
      "{'epoch': 81, 'training_loss': 0.3237898349761963, 'validation_loss': 0.15532542765140533}\n",
      "{'epoch': 82, 'training_loss': 0.3263806700706482, 'validation_loss': 0.15700145065784454}\n",
      "{'epoch': 83, 'training_loss': 0.3211945593357086, 'validation_loss': 0.15756109356880188}\n",
      "{'epoch': 84, 'training_loss': 0.32421988248825073, 'validation_loss': 0.15678121149539948}\n",
      "{'epoch': 85, 'training_loss': 0.3250781297683716, 'validation_loss': 0.15791529417037964}\n",
      "{'epoch': 86, 'training_loss': 0.32494932413101196, 'validation_loss': 0.15895023941993713}\n",
      "{'epoch': 87, 'training_loss': 0.32142841815948486, 'validation_loss': 0.15533429384231567}\n",
      "{'epoch': 88, 'training_loss': 0.31820449233055115, 'validation_loss': 0.15241512656211853}\n",
      "{'epoch': 89, 'training_loss': 0.32172614336013794, 'validation_loss': 0.15374401211738586}\n",
      "{'epoch': 90, 'training_loss': 0.3223609924316406, 'validation_loss': 0.15599720180034637}\n",
      "{'epoch': 91, 'training_loss': 0.3195822536945343, 'validation_loss': 0.15737318992614746}\n",
      "{'epoch': 92, 'training_loss': 0.31911441683769226, 'validation_loss': 0.15206800401210785}\n",
      "{'epoch': 93, 'training_loss': 0.3222992718219757, 'validation_loss': 0.15429753065109253}\n",
      "{'epoch': 94, 'training_loss': 0.3161790370941162, 'validation_loss': 0.15351687371730804}\n",
      "{'epoch': 95, 'training_loss': 0.31926020979881287, 'validation_loss': 0.1523784101009369}\n",
      "{'epoch': 96, 'training_loss': 0.31534889340400696, 'validation_loss': 0.14980557560920715}\n",
      "{'epoch': 97, 'training_loss': 0.32250815629959106, 'validation_loss': 0.15845946967601776}\n",
      "{'epoch': 98, 'training_loss': 0.31952282786369324, 'validation_loss': 0.149606391787529}\n",
      "{'epoch': 99, 'training_loss': 0.3164524734020233, 'validation_loss': 0.14878849685192108}\n",
      "{'epoch': 100, 'training_loss': 0.31644752621650696, 'validation_loss': 0.1523624211549759}\n",
      "{'epoch': 101, 'training_loss': 0.31552186608314514, 'validation_loss': 0.15025687217712402}\n",
      "{'epoch': 102, 'training_loss': 0.3163350820541382, 'validation_loss': 0.14914092421531677}\n",
      "{'epoch': 103, 'training_loss': 0.3175545334815979, 'validation_loss': 0.14953944087028503}\n",
      "{'epoch': 104, 'training_loss': 0.3126727342605591, 'validation_loss': 0.15224802494049072}\n",
      "{'epoch': 105, 'training_loss': 0.3128972351551056, 'validation_loss': 0.14810918271541595}\n",
      "{'epoch': 106, 'training_loss': 0.31547537446022034, 'validation_loss': 0.14934825897216797}\n",
      "{'epoch': 107, 'training_loss': 0.3172653317451477, 'validation_loss': 0.1541762799024582}\n",
      "{'epoch': 108, 'training_loss': 0.31162020564079285, 'validation_loss': 0.1534871757030487}\n",
      "{'epoch': 109, 'training_loss': 0.3122949004173279, 'validation_loss': 0.1486840546131134}\n",
      "{'epoch': 110, 'training_loss': 0.3162759244441986, 'validation_loss': 0.1492488533258438}\n",
      "{'epoch': 111, 'training_loss': 0.3109302818775177, 'validation_loss': 0.14905714988708496}\n",
      "{'epoch': 112, 'training_loss': 0.31326615810394287, 'validation_loss': 0.14969433844089508}\n",
      "{'epoch': 113, 'training_loss': 0.3119252622127533, 'validation_loss': 0.14898625016212463}\n",
      "{'epoch': 114, 'training_loss': 0.3133225440979004, 'validation_loss': 0.1525566726922989}\n",
      "{'epoch': 115, 'training_loss': 0.3090357482433319, 'validation_loss': 0.15146636962890625}\n",
      "{'epoch': 116, 'training_loss': 0.3123435080051422, 'validation_loss': 0.14991116523742676}\n",
      "{'epoch': 117, 'training_loss': 0.31178978085517883, 'validation_loss': 0.14915849268436432}\n",
      "{'epoch': 118, 'training_loss': 0.30750489234924316, 'validation_loss': 0.14928799867630005}\n",
      "{'epoch': 119, 'training_loss': 0.30860182642936707, 'validation_loss': 0.15236595273017883}\n",
      "{'epoch': 120, 'training_loss': 0.3073190748691559, 'validation_loss': 0.15078309178352356}\n",
      "{'epoch': 121, 'training_loss': 0.3077266812324524, 'validation_loss': 0.14899863302707672}\n",
      "{'epoch': 122, 'training_loss': 0.30923885107040405, 'validation_loss': 0.14630092680454254}\n",
      "{'epoch': 123, 'training_loss': 0.30781084299087524, 'validation_loss': 0.14545461535453796}\n",
      "{'epoch': 124, 'training_loss': 0.31149086356163025, 'validation_loss': 0.14901244640350342}\n",
      "{'epoch': 125, 'training_loss': 0.31072700023651123, 'validation_loss': 0.150644451379776}\n",
      "{'epoch': 126, 'training_loss': 0.30870163440704346, 'validation_loss': 0.1499345302581787}\n",
      "{'epoch': 127, 'training_loss': 0.3083915710449219, 'validation_loss': 0.1475345641374588}\n",
      "{'epoch': 128, 'training_loss': 0.30422788858413696, 'validation_loss': 0.14629517495632172}\n",
      "{'epoch': 129, 'training_loss': 0.3072740435600281, 'validation_loss': 0.14638018608093262}\n",
      "{'epoch': 130, 'training_loss': 0.30919748544692993, 'validation_loss': 0.14733901619911194}\n",
      "{'epoch': 131, 'training_loss': 0.3042858839035034, 'validation_loss': 0.1517968326807022}\n",
      "{'epoch': 132, 'training_loss': 0.3062426447868347, 'validation_loss': 0.1470905989408493}\n",
      "{'epoch': 133, 'training_loss': 0.3044927418231964, 'validation_loss': 0.14552468061447144}\n",
      "{'epoch': 134, 'training_loss': 0.3082866072654724, 'validation_loss': 0.14595024287700653}\n",
      "{'epoch': 135, 'training_loss': 0.30510392785072327, 'validation_loss': 0.14584194123744965}\n",
      "{'epoch': 136, 'training_loss': 0.30494391918182373, 'validation_loss': 0.14953550696372986}\n",
      "{'epoch': 137, 'training_loss': 0.3068104684352875, 'validation_loss': 0.1457105576992035}\n",
      "{'epoch': 138, 'training_loss': 0.3062310516834259, 'validation_loss': 0.14938834309577942}\n",
      "{'epoch': 139, 'training_loss': 0.30337321758270264, 'validation_loss': 0.1482807993888855}\n",
      "{'epoch': 140, 'training_loss': 0.3049677908420563, 'validation_loss': 0.14437979459762573}\n",
      "{'epoch': 141, 'training_loss': 0.3063710033893585, 'validation_loss': 0.1464497447013855}\n",
      "{'epoch': 142, 'training_loss': 0.3055766820907593, 'validation_loss': 0.14403632283210754}\n",
      "{'epoch': 143, 'training_loss': 0.3070458769798279, 'validation_loss': 0.1430901437997818}\n",
      "{'epoch': 144, 'training_loss': 0.30577555298805237, 'validation_loss': 0.1474679708480835}\n",
      "{'epoch': 145, 'training_loss': 0.30594149231910706, 'validation_loss': 0.1446838080883026}\n",
      "{'epoch': 146, 'training_loss': 0.3051341772079468, 'validation_loss': 0.14176379144191742}\n",
      "{'epoch': 147, 'training_loss': 0.30253371596336365, 'validation_loss': 0.145294189453125}\n",
      "{'epoch': 148, 'training_loss': 0.30170780420303345, 'validation_loss': 0.14173276722431183}\n",
      "{'epoch': 149, 'training_loss': 0.3020869791507721, 'validation_loss': 0.14015965163707733}\n",
      "{'epoch': 150, 'training_loss': 0.30331483483314514, 'validation_loss': 0.148613840341568}\n",
      "{'epoch': 151, 'training_loss': 0.301404744386673, 'validation_loss': 0.1453259438276291}\n",
      "{'epoch': 152, 'training_loss': 0.2997950613498688, 'validation_loss': 0.1521623730659485}\n",
      "{'epoch': 153, 'training_loss': 0.29926469922065735, 'validation_loss': 0.1411372572183609}\n",
      "{'epoch': 154, 'training_loss': 0.29988712072372437, 'validation_loss': 0.14399978518486023}\n",
      "{'epoch': 155, 'training_loss': 0.3030725121498108, 'validation_loss': 0.14256328344345093}\n",
      "{'epoch': 156, 'training_loss': 0.30416637659072876, 'validation_loss': 0.14355523884296417}\n",
      "{'epoch': 157, 'training_loss': 0.3022928237915039, 'validation_loss': 0.1454913318157196}\n",
      "{'epoch': 158, 'training_loss': 0.3015005886554718, 'validation_loss': 0.14048931002616882}\n",
      "{'epoch': 159, 'training_loss': 0.301104873418808, 'validation_loss': 0.14064724743366241}\n",
      "{'epoch': 160, 'training_loss': 0.2982979118824005, 'validation_loss': 0.14739015698432922}\n",
      "{'epoch': 161, 'training_loss': 0.3010130226612091, 'validation_loss': 0.141744002699852}\n",
      "{'epoch': 162, 'training_loss': 0.29971447587013245, 'validation_loss': 0.14315973222255707}\n",
      "{'epoch': 163, 'training_loss': 0.3036915361881256, 'validation_loss': 0.1426759660243988}\n",
      "{'epoch': 164, 'training_loss': 0.3023207187652588, 'validation_loss': 0.14093442261219025}\n",
      "{'epoch': 165, 'training_loss': 0.30465060472488403, 'validation_loss': 0.14027002453804016}\n",
      "{'epoch': 166, 'training_loss': 0.29854726791381836, 'validation_loss': 0.14148294925689697}\n",
      "{'epoch': 167, 'training_loss': 0.2985732853412628, 'validation_loss': 0.14117932319641113}\n",
      "{'epoch': 168, 'training_loss': 0.29950711131095886, 'validation_loss': 0.14409831166267395}\n",
      "{'epoch': 169, 'training_loss': 0.29896777868270874, 'validation_loss': 0.14374250173568726}\n",
      "{'epoch': 170, 'training_loss': 0.2978622615337372, 'validation_loss': 0.13976234197616577}\n",
      "{'epoch': 171, 'training_loss': 0.3007752299308777, 'validation_loss': 0.13990570604801178}\n",
      "{'epoch': 172, 'training_loss': 0.2957724332809448, 'validation_loss': 0.140317901968956}\n",
      "{'epoch': 173, 'training_loss': 0.2976630628108978, 'validation_loss': 0.14433437585830688}\n",
      "{'epoch': 174, 'training_loss': 0.29995355010032654, 'validation_loss': 0.13994257152080536}\n",
      "{'epoch': 175, 'training_loss': 0.2991907000541687, 'validation_loss': 0.14312802255153656}\n",
      "{'epoch': 176, 'training_loss': 0.29853856563568115, 'validation_loss': 0.14471791684627533}\n",
      "{'epoch': 177, 'training_loss': 0.2971605658531189, 'validation_loss': 0.14379262924194336}\n",
      "{'epoch': 178, 'training_loss': 0.29915907979011536, 'validation_loss': 0.13920047879219055}\n",
      "{'epoch': 179, 'training_loss': 0.2972998023033142, 'validation_loss': 0.14019016921520233}\n",
      "{'epoch': 180, 'training_loss': 0.29746538400650024, 'validation_loss': 0.1435948610305786}\n",
      "{'epoch': 181, 'training_loss': 0.2961626946926117, 'validation_loss': 0.1417994350194931}\n",
      "{'epoch': 182, 'training_loss': 0.29668986797332764, 'validation_loss': 0.14001204073429108}\n",
      "{'epoch': 183, 'training_loss': 0.29841750860214233, 'validation_loss': 0.14331631362438202}\n",
      "{'epoch': 184, 'training_loss': 0.2976701557636261, 'validation_loss': 0.14494985342025757}\n",
      "{'epoch': 185, 'training_loss': 0.2961249351501465, 'validation_loss': 0.1434994488954544}\n",
      "{'epoch': 186, 'training_loss': 0.299591064453125, 'validation_loss': 0.1406857669353485}\n",
      "{'epoch': 187, 'training_loss': 0.2944177985191345, 'validation_loss': 0.13967227935791016}\n",
      "{'epoch': 188, 'training_loss': 0.2999371886253357, 'validation_loss': 0.1420488804578781}\n",
      "{'epoch': 189, 'training_loss': 0.296467661857605, 'validation_loss': 0.13914665579795837}\n",
      "{'epoch': 190, 'training_loss': 0.2950276732444763, 'validation_loss': 0.1386219710111618}\n",
      "{'epoch': 191, 'training_loss': 0.29366835951805115, 'validation_loss': 0.13895274698734283}\n",
      "{'epoch': 192, 'training_loss': 0.2953904867172241, 'validation_loss': 0.14116553962230682}\n",
      "{'epoch': 193, 'training_loss': 0.29463911056518555, 'validation_loss': 0.1377103626728058}\n",
      "{'epoch': 194, 'training_loss': 0.29582273960113525, 'validation_loss': 0.14019441604614258}\n",
      "{'epoch': 195, 'training_loss': 0.29528775811195374, 'validation_loss': 0.13723012804985046}\n",
      "{'epoch': 196, 'training_loss': 0.29335492849349976, 'validation_loss': 0.1369432806968689}\n",
      "{'epoch': 197, 'training_loss': 0.2926560938358307, 'validation_loss': 0.14007800817489624}\n",
      "{'epoch': 198, 'training_loss': 0.2959842085838318, 'validation_loss': 0.14146722853183746}\n",
      "{'epoch': 199, 'training_loss': 0.29433223605155945, 'validation_loss': 0.13601349294185638}\n",
      "{'epoch': 200, 'training_loss': 0.29724225401878357, 'validation_loss': 0.1365531086921692}\n",
      "{'epoch': 201, 'training_loss': 0.2937493622303009, 'validation_loss': 0.14068423211574554}\n",
      "{'epoch': 202, 'training_loss': 0.2946203947067261, 'validation_loss': 0.13773329555988312}\n",
      "{'epoch': 203, 'training_loss': 0.29457053542137146, 'validation_loss': 0.13706617057323456}\n",
      "{'epoch': 204, 'training_loss': 0.2930741608142853, 'validation_loss': 0.14146962761878967}\n",
      "{'epoch': 205, 'training_loss': 0.2937681972980499, 'validation_loss': 0.13552673161029816}\n",
      "{'epoch': 206, 'training_loss': 0.2967512309551239, 'validation_loss': 0.13642644882202148}\n",
      "{'epoch': 207, 'training_loss': 0.2942734956741333, 'validation_loss': 0.13815471529960632}\n",
      "{'epoch': 208, 'training_loss': 0.2918582856655121, 'validation_loss': 0.13742199540138245}\n",
      "{'epoch': 209, 'training_loss': 0.29369574785232544, 'validation_loss': 0.13795892894268036}\n",
      "{'epoch': 210, 'training_loss': 0.2909560203552246, 'validation_loss': 0.13737615942955017}\n",
      "{'epoch': 211, 'training_loss': 0.29223382472991943, 'validation_loss': 0.13686873018741608}\n",
      "{'epoch': 212, 'training_loss': 0.29601141810417175, 'validation_loss': 0.13823768496513367}\n",
      "{'epoch': 213, 'training_loss': 0.29407450556755066, 'validation_loss': 0.13720712065696716}\n",
      "{'epoch': 214, 'training_loss': 0.29700079560279846, 'validation_loss': 0.14023052155971527}\n",
      "{'epoch': 215, 'training_loss': 0.29215556383132935, 'validation_loss': 0.13696002960205078}\n",
      "{'epoch': 216, 'training_loss': 0.29523393511772156, 'validation_loss': 0.13535167276859283}\n",
      "{'epoch': 217, 'training_loss': 0.2909913659095764, 'validation_loss': 0.13846756517887115}\n",
      "{'epoch': 218, 'training_loss': 0.2941950559616089, 'validation_loss': 0.13832411170005798}\n",
      "{'epoch': 219, 'training_loss': 0.2927141487598419, 'validation_loss': 0.13658078014850616}\n",
      "{'epoch': 220, 'training_loss': 0.29481041431427, 'validation_loss': 0.13883750140666962}\n",
      "{'epoch': 221, 'training_loss': 0.2908577024936676, 'validation_loss': 0.14160247147083282}\n",
      "{'epoch': 222, 'training_loss': 0.29279324412345886, 'validation_loss': 0.1362585574388504}\n",
      "{'epoch': 223, 'training_loss': 0.2916823625564575, 'validation_loss': 0.1371540129184723}\n",
      "{'epoch': 224, 'training_loss': 0.2907704710960388, 'validation_loss': 0.13769842684268951}\n",
      "{'epoch': 225, 'training_loss': 0.2915409803390503, 'validation_loss': 0.13290515542030334}\n",
      "{'epoch': 226, 'training_loss': 0.2943698763847351, 'validation_loss': 0.13815100491046906}\n",
      "{'epoch': 227, 'training_loss': 0.290730744600296, 'validation_loss': 0.13419924676418304}\n",
      "{'epoch': 228, 'training_loss': 0.294577419757843, 'validation_loss': 0.13702905178070068}\n",
      "{'epoch': 229, 'training_loss': 0.2909318804740906, 'validation_loss': 0.13379748165607452}\n",
      "{'epoch': 230, 'training_loss': 0.2911948561668396, 'validation_loss': 0.13258689641952515}\n",
      "{'epoch': 231, 'training_loss': 0.29057905077934265, 'validation_loss': 0.1365814208984375}\n",
      "{'epoch': 232, 'training_loss': 0.287776380777359, 'validation_loss': 0.13891254365444183}\n",
      "{'epoch': 233, 'training_loss': 0.2918529510498047, 'validation_loss': 0.14550748467445374}\n",
      "{'epoch': 234, 'training_loss': 0.2897646427154541, 'validation_loss': 0.13455148041248322}\n",
      "{'epoch': 235, 'training_loss': 0.292022705078125, 'validation_loss': 0.13793647289276123}\n",
      "{'epoch': 236, 'training_loss': 0.2904280424118042, 'validation_loss': 0.13680940866470337}\n",
      "{'epoch': 237, 'training_loss': 0.2923557758331299, 'validation_loss': 0.13578464090824127}\n",
      "{'epoch': 238, 'training_loss': 0.289750337600708, 'validation_loss': 0.13225893676280975}\n",
      "{'epoch': 239, 'training_loss': 0.28905531764030457, 'validation_loss': 0.1347365826368332}\n",
      "{'epoch': 240, 'training_loss': 0.2908262610435486, 'validation_loss': 0.13810817897319794}\n",
      "{'epoch': 241, 'training_loss': 0.29128187894821167, 'validation_loss': 0.13299228250980377}\n",
      "{'epoch': 242, 'training_loss': 0.2871731221675873, 'validation_loss': 0.1385350376367569}\n",
      "{'epoch': 243, 'training_loss': 0.2898843288421631, 'validation_loss': 0.1351299285888672}\n",
      "{'epoch': 244, 'training_loss': 0.2907419204711914, 'validation_loss': 0.13572637736797333}\n",
      "{'epoch': 245, 'training_loss': 0.2908218801021576, 'validation_loss': 0.13189737498760223}\n",
      "{'epoch': 246, 'training_loss': 0.2855853736400604, 'validation_loss': 0.13981744647026062}\n",
      "{'epoch': 247, 'training_loss': 0.28975820541381836, 'validation_loss': 0.13278593122959137}\n",
      "{'epoch': 248, 'training_loss': 0.28813788294792175, 'validation_loss': 0.13810063898563385}\n",
      "{'epoch': 249, 'training_loss': 0.29102739691734314, 'validation_loss': 0.13335445523262024}\n",
      "{'epoch': 250, 'training_loss': 0.2896956503391266, 'validation_loss': 0.1355111449956894}\n",
      "{'epoch': 251, 'training_loss': 0.28959664702415466, 'validation_loss': 0.13172008097171783}\n",
      "{'epoch': 252, 'training_loss': 0.289679616689682, 'validation_loss': 0.13632237911224365}\n",
      "{'epoch': 253, 'training_loss': 0.29054880142211914, 'validation_loss': 0.13080862164497375}\n",
      "{'epoch': 254, 'training_loss': 0.29055413603782654, 'validation_loss': 0.1342131346464157}\n",
      "{'epoch': 255, 'training_loss': 0.2878406345844269, 'validation_loss': 0.13632389903068542}\n",
      "{'epoch': 256, 'training_loss': 0.28809496760368347, 'validation_loss': 0.13500286638736725}\n",
      "{'epoch': 257, 'training_loss': 0.28985166549682617, 'validation_loss': 0.1328575760126114}\n",
      "{'epoch': 258, 'training_loss': 0.2875460088253021, 'validation_loss': 0.13338463008403778}\n",
      "{'epoch': 259, 'training_loss': 0.29078128933906555, 'validation_loss': 0.13303707540035248}\n",
      "{'epoch': 260, 'training_loss': 0.28787773847579956, 'validation_loss': 0.13996651768684387}\n",
      "{'epoch': 261, 'training_loss': 0.2933664619922638, 'validation_loss': 0.13551796972751617}\n",
      "{'epoch': 262, 'training_loss': 0.2873544692993164, 'validation_loss': 0.13349683582782745}\n",
      "{'epoch': 263, 'training_loss': 0.28598493337631226, 'validation_loss': 0.13866911828517914}\n",
      "{'epoch': 264, 'training_loss': 0.2877139449119568, 'validation_loss': 0.1312263458967209}\n",
      "{'epoch': 265, 'training_loss': 0.2932208478450775, 'validation_loss': 0.13322162628173828}\n",
      "{'epoch': 266, 'training_loss': 0.2904638946056366, 'validation_loss': 0.1321648210287094}\n",
      "{'epoch': 267, 'training_loss': 0.2876104712486267, 'validation_loss': 0.13432252407073975}\n",
      "{'epoch': 268, 'training_loss': 0.29355335235595703, 'validation_loss': 0.13124094903469086}\n",
      "{'epoch': 269, 'training_loss': 0.29236993193626404, 'validation_loss': 0.1334269791841507}\n",
      "{'epoch': 270, 'training_loss': 0.28683432936668396, 'validation_loss': 0.13163602352142334}\n",
      "{'epoch': 271, 'training_loss': 0.28801876306533813, 'validation_loss': 0.1328398883342743}\n",
      "{'epoch': 272, 'training_loss': 0.289603590965271, 'validation_loss': 0.13281385600566864}\n",
      "{'epoch': 273, 'training_loss': 0.2867370843887329, 'validation_loss': 0.13330236077308655}\n",
      "{'epoch': 274, 'training_loss': 0.2883092761039734, 'validation_loss': 0.13516952097415924}\n",
      "{'epoch': 275, 'training_loss': 0.2868761122226715, 'validation_loss': 0.13231468200683594}\n",
      "{'epoch': 276, 'training_loss': 0.2910006642341614, 'validation_loss': 0.13154561817646027}\n",
      "{'epoch': 277, 'training_loss': 0.28694573044776917, 'validation_loss': 0.1310407966375351}\n",
      "{'epoch': 278, 'training_loss': 0.28583812713623047, 'validation_loss': 0.1333286464214325}\n",
      "{'epoch': 279, 'training_loss': 0.28873398900032043, 'validation_loss': 0.13630637526512146}\n",
      "{'epoch': 280, 'training_loss': 0.28420230746269226, 'validation_loss': 0.13216111063957214}\n",
      "{'epoch': 281, 'training_loss': 0.28493255376815796, 'validation_loss': 0.13369658589363098}\n",
      "{'epoch': 282, 'training_loss': 0.285197913646698, 'validation_loss': 0.134926438331604}\n",
      "{'epoch': 283, 'training_loss': 0.2844841182231903, 'validation_loss': 0.13213369250297546}\n",
      "{'epoch': 284, 'training_loss': 0.2879830598831177, 'validation_loss': 0.1367107629776001}\n",
      "{'epoch': 285, 'training_loss': 0.28656983375549316, 'validation_loss': 0.13709820806980133}\n",
      "{'epoch': 286, 'training_loss': 0.2879260778427124, 'validation_loss': 0.13092674314975739}\n",
      "{'epoch': 287, 'training_loss': 0.2847827076911926, 'validation_loss': 0.13602052628993988}\n",
      "{'epoch': 288, 'training_loss': 0.28738945722579956, 'validation_loss': 0.14257603883743286}\n",
      "{'epoch': 289, 'training_loss': 0.28805023431777954, 'validation_loss': 0.13294275104999542}\n",
      "{'epoch': 290, 'training_loss': 0.28598353266716003, 'validation_loss': 0.12950852513313293}\n",
      "{'epoch': 291, 'training_loss': 0.2857927083969116, 'validation_loss': 0.1319287270307541}\n",
      "{'epoch': 292, 'training_loss': 0.28305283188819885, 'validation_loss': 0.13538119196891785}\n",
      "{'epoch': 293, 'training_loss': 0.2880651652812958, 'validation_loss': 0.1323474943637848}\n",
      "{'epoch': 294, 'training_loss': 0.2907100319862366, 'validation_loss': 0.13336250185966492}\n",
      "{'epoch': 295, 'training_loss': 0.28379347920417786, 'validation_loss': 0.13477344810962677}\n",
      "{'epoch': 296, 'training_loss': 0.28822997212409973, 'validation_loss': 0.12930333614349365}\n",
      "{'epoch': 297, 'training_loss': 0.28608638048171997, 'validation_loss': 0.13402113318443298}\n",
      "{'epoch': 298, 'training_loss': 0.28912439942359924, 'validation_loss': 0.13314762711524963}\n",
      "{'epoch': 299, 'training_loss': 0.289884090423584, 'validation_loss': 0.1365886628627777}\n",
      "{'epoch': 300, 'training_loss': 0.28451845049858093, 'validation_loss': 0.13563518226146698}\n",
      "{'epoch': 301, 'training_loss': 0.28625744581222534, 'validation_loss': 0.13933290541172028}\n",
      "{'epoch': 302, 'training_loss': 0.28705862164497375, 'validation_loss': 0.1416701376438141}\n",
      "{'epoch': 303, 'training_loss': 0.28650906682014465, 'validation_loss': 0.13196858763694763}\n",
      "{'epoch': 304, 'training_loss': 0.2849087119102478, 'validation_loss': 0.12905731797218323}\n",
      "{'epoch': 305, 'training_loss': 0.2846733629703522, 'validation_loss': 0.131940558552742}\n",
      "{'epoch': 306, 'training_loss': 0.285529762506485, 'validation_loss': 0.13109317421913147}\n",
      "{'epoch': 307, 'training_loss': 0.28473734855651855, 'validation_loss': 0.13277316093444824}\n",
      "{'epoch': 308, 'training_loss': 0.28403979539871216, 'validation_loss': 0.13740018010139465}\n",
      "{'epoch': 309, 'training_loss': 0.2866784632205963, 'validation_loss': 0.13137930631637573}\n",
      "{'epoch': 310, 'training_loss': 0.28898659348487854, 'validation_loss': 0.13018907606601715}\n",
      "{'epoch': 311, 'training_loss': 0.28888246417045593, 'validation_loss': 0.12725235521793365}\n",
      "{'epoch': 312, 'training_loss': 0.28372636437416077, 'validation_loss': 0.13249434530735016}\n",
      "{'epoch': 313, 'training_loss': 0.2875385284423828, 'validation_loss': 0.13001590967178345}\n",
      "{'epoch': 314, 'training_loss': 0.28877976536750793, 'validation_loss': 0.1344650536775589}\n",
      "{'epoch': 315, 'training_loss': 0.2826380729675293, 'validation_loss': 0.13374528288841248}\n",
      "{'epoch': 316, 'training_loss': 0.2850096821784973, 'validation_loss': 0.1346452534198761}\n",
      "{'epoch': 317, 'training_loss': 0.2885669767856598, 'validation_loss': 0.13195070624351501}\n",
      "{'epoch': 318, 'training_loss': 0.2853195369243622, 'validation_loss': 0.1333923190832138}\n",
      "{'epoch': 319, 'training_loss': 0.28824546933174133, 'validation_loss': 0.13035809993743896}\n",
      "{'epoch': 320, 'training_loss': 0.2873675227165222, 'validation_loss': 0.13638758659362793}\n",
      "{'epoch': 321, 'training_loss': 0.28562256693840027, 'validation_loss': 0.13588504493236542}\n",
      "{'epoch': 322, 'training_loss': 0.28185567259788513, 'validation_loss': 0.12935204803943634}\n",
      "{'epoch': 323, 'training_loss': 0.28660404682159424, 'validation_loss': 0.12852802872657776}\n",
      "{'epoch': 324, 'training_loss': 0.28484097123146057, 'validation_loss': 0.1300416886806488}\n",
      "{'epoch': 325, 'training_loss': 0.2840360701084137, 'validation_loss': 0.12975893914699554}\n",
      "{'epoch': 326, 'training_loss': 0.2862609922885895, 'validation_loss': 0.12974445521831512}\n",
      "{'epoch': 327, 'training_loss': 0.2846522629261017, 'validation_loss': 0.12872213125228882}\n",
      "{'epoch': 328, 'training_loss': 0.2821691930294037, 'validation_loss': 0.13285641372203827}\n",
      "{'epoch': 329, 'training_loss': 0.28579917550086975, 'validation_loss': 0.13145263493061066}\n",
      "{'epoch': 330, 'training_loss': 0.2883732318878174, 'validation_loss': 0.12867578864097595}\n",
      "{'epoch': 331, 'training_loss': 0.28356778621673584, 'validation_loss': 0.12864412367343903}\n",
      "{'epoch': 332, 'training_loss': 0.282472163438797, 'validation_loss': 0.13218434154987335}\n",
      "{'epoch': 333, 'training_loss': 0.2824116051197052, 'validation_loss': 0.13077886402606964}\n",
      "{'epoch': 334, 'training_loss': 0.28782203793525696, 'validation_loss': 0.134324312210083}\n",
      "{'epoch': 335, 'training_loss': 0.28398293256759644, 'validation_loss': 0.13184136152267456}\n",
      "{'epoch': 336, 'training_loss': 0.2846640944480896, 'validation_loss': 0.13200506567955017}\n",
      "{'epoch': 337, 'training_loss': 0.28715217113494873, 'validation_loss': 0.13913525640964508}\n",
      "{'epoch': 338, 'training_loss': 0.28431281447410583, 'validation_loss': 0.12977385520935059}\n",
      "{'epoch': 339, 'training_loss': 0.28098928928375244, 'validation_loss': 0.13338123261928558}\n",
      "{'epoch': 340, 'training_loss': 0.2836427092552185, 'validation_loss': 0.13256828486919403}\n",
      "{'epoch': 341, 'training_loss': 0.28317874670028687, 'validation_loss': 0.13094693422317505}\n",
      "{'epoch': 342, 'training_loss': 0.29014334082603455, 'validation_loss': 0.12931568920612335}\n",
      "{'epoch': 343, 'training_loss': 0.28655683994293213, 'validation_loss': 0.1304720938205719}\n",
      "{'epoch': 344, 'training_loss': 0.28377389907836914, 'validation_loss': 0.13278013467788696}\n",
      "{'epoch': 345, 'training_loss': 0.2856161892414093, 'validation_loss': 0.1303975135087967}\n",
      "{'epoch': 346, 'training_loss': 0.28018802404403687, 'validation_loss': 0.13081051409244537}\n",
      "{'epoch': 347, 'training_loss': 0.2860220968723297, 'validation_loss': 0.1274857223033905}\n",
      "{'epoch': 348, 'training_loss': 0.28607264161109924, 'validation_loss': 0.13162802159786224}\n",
      "{'epoch': 349, 'training_loss': 0.2823818325996399, 'validation_loss': 0.13102488219738007}\n",
      "{'epoch': 350, 'training_loss': 0.2834450602531433, 'validation_loss': 0.13391385972499847}\n",
      "{'epoch': 351, 'training_loss': 0.28451302647590637, 'validation_loss': 0.12631678581237793}\n",
      "{'epoch': 352, 'training_loss': 0.28269752860069275, 'validation_loss': 0.12811756134033203}\n",
      "{'epoch': 353, 'training_loss': 0.28568387031555176, 'validation_loss': 0.12854410707950592}\n",
      "{'epoch': 354, 'training_loss': 0.28035566210746765, 'validation_loss': 0.1295381486415863}\n",
      "{'epoch': 355, 'training_loss': 0.28356853127479553, 'validation_loss': 0.13479110598564148}\n",
      "{'epoch': 356, 'training_loss': 0.28353384137153625, 'validation_loss': 0.13376548886299133}\n",
      "{'epoch': 357, 'training_loss': 0.282274454832077, 'validation_loss': 0.1293121874332428}\n",
      "{'epoch': 358, 'training_loss': 0.28363996744155884, 'validation_loss': 0.12867555022239685}\n",
      "{'epoch': 359, 'training_loss': 0.2834031879901886, 'validation_loss': 0.13042804598808289}\n",
      "{'epoch': 360, 'training_loss': 0.2859989404678345, 'validation_loss': 0.12958523631095886}\n",
      "{'epoch': 361, 'training_loss': 0.28413036465644836, 'validation_loss': 0.13354286551475525}\n",
      "{'epoch': 362, 'training_loss': 0.28028252720832825, 'validation_loss': 0.13272367417812347}\n",
      "{'epoch': 363, 'training_loss': 0.2822652757167816, 'validation_loss': 0.13238362967967987}\n",
      "{'epoch': 364, 'training_loss': 0.28477203845977783, 'validation_loss': 0.1348796784877777}\n",
      "{'epoch': 365, 'training_loss': 0.28194618225097656, 'validation_loss': 0.1265520304441452}\n",
      "{'epoch': 366, 'training_loss': 0.28253278136253357, 'validation_loss': 0.12837062776088715}\n",
      "{'epoch': 367, 'training_loss': 0.28355082869529724, 'validation_loss': 0.12827405333518982}\n",
      "{'epoch': 368, 'training_loss': 0.2810116112232208, 'validation_loss': 0.13102921843528748}\n",
      "{'epoch': 369, 'training_loss': 0.27954617142677307, 'validation_loss': 0.12602658569812775}\n",
      "{'epoch': 370, 'training_loss': 0.28289034962654114, 'validation_loss': 0.1320534348487854}\n",
      "{'epoch': 371, 'training_loss': 0.2830779254436493, 'validation_loss': 0.12593798339366913}\n",
      "{'epoch': 372, 'training_loss': 0.284575879573822, 'validation_loss': 0.1319863349199295}\n",
      "{'epoch': 373, 'training_loss': 0.28408658504486084, 'validation_loss': 0.13023684918880463}\n",
      "{'epoch': 374, 'training_loss': 0.2867065966129303, 'validation_loss': 0.12829455733299255}\n",
      "{'epoch': 375, 'training_loss': 0.2797905206680298, 'validation_loss': 0.12828867137432098}\n",
      "{'epoch': 376, 'training_loss': 0.28032857179641724, 'validation_loss': 0.134109765291214}\n",
      "{'epoch': 377, 'training_loss': 0.2808114290237427, 'validation_loss': 0.1292416751384735}\n",
      "{'epoch': 378, 'training_loss': 0.2838061451911926, 'validation_loss': 0.12927435338497162}\n",
      "{'epoch': 379, 'training_loss': 0.28381094336509705, 'validation_loss': 0.1349014937877655}\n",
      "{'epoch': 380, 'training_loss': 0.28425782918930054, 'validation_loss': 0.12754884362220764}\n",
      "{'epoch': 381, 'training_loss': 0.28169143199920654, 'validation_loss': 0.1291114091873169}\n",
      "{'epoch': 382, 'training_loss': 0.2838047444820404, 'validation_loss': 0.12665730714797974}\n",
      "{'epoch': 383, 'training_loss': 0.2806711196899414, 'validation_loss': 0.12998640537261963}\n",
      "{'epoch': 384, 'training_loss': 0.28061869740486145, 'validation_loss': 0.1298297941684723}\n",
      "{'epoch': 385, 'training_loss': 0.28557100892066956, 'validation_loss': 0.12964347004890442}\n",
      "{'epoch': 386, 'training_loss': 0.2821381092071533, 'validation_loss': 0.1297747939825058}\n",
      "{'epoch': 387, 'training_loss': 0.2814239263534546, 'validation_loss': 0.12450829148292542}\n",
      "{'epoch': 388, 'training_loss': 0.2820022404193878, 'validation_loss': 0.1279551088809967}\n",
      "{'epoch': 389, 'training_loss': 0.28022679686546326, 'validation_loss': 0.1275506317615509}\n",
      "{'epoch': 390, 'training_loss': 0.28284886479377747, 'validation_loss': 0.128729447722435}\n",
      "{'epoch': 391, 'training_loss': 0.2810591161251068, 'validation_loss': 0.12891250848770142}\n",
      "{'epoch': 392, 'training_loss': 0.2812039256095886, 'validation_loss': 0.13334305584430695}\n",
      "{'epoch': 393, 'training_loss': 0.2805197834968567, 'validation_loss': 0.12889252603054047}\n",
      "{'epoch': 394, 'training_loss': 0.28149110078811646, 'validation_loss': 0.12425579130649567}\n",
      "{'epoch': 395, 'training_loss': 0.2834044098854065, 'validation_loss': 0.1310553401708603}\n",
      "{'epoch': 396, 'training_loss': 0.2847138047218323, 'validation_loss': 0.1265898495912552}\n",
      "{'epoch': 397, 'training_loss': 0.2857418954372406, 'validation_loss': 0.13058501482009888}\n",
      "{'epoch': 398, 'training_loss': 0.282729834318161, 'validation_loss': 0.1296980082988739}\n",
      "{'epoch': 399, 'training_loss': 0.28306785225868225, 'validation_loss': 0.13084106147289276}\n"
     ]
    }
   ],
   "source": [
    "from torch.autograd import Variable\n",
    "num_epochs = 400 \n",
    "lr = 3e-3 \n",
    "wandb.init(project=\"logistic_regression\",config={\"lr\": lr, \"epochs\": num_epochs}) \n",
    "criterion = nn.BCELoss()    #binary cross entropy loss\n",
    "\n",
    "o = 's'\n",
    "\n",
    "if o == 's':\n",
    "    optimizer = torch.optim.SGD(net.parameters(), lr)\n",
    "    #optimizer = torch.optim.SGD(net.parameters(), lr, weight_decay=1e-4)\n",
    "    wandb.log({'optimizer':'SGD'})\n",
    "elif o == 'sg':\n",
    "    #optimizer = torch.optim.SGD(net.parameters(), lr, momentum=0.9)\n",
    "    optimizer = torch.optim.SGD(net.parameters(), lr, momentum=0.9, weight_decay=1e-4)\n",
    "    wandb.log({'optimizer':'SGD-M'})\n",
    "elif o == 'r':\n",
    "    optimizer = torch.optim.RMSprop(net.parameters(), lr)\n",
    "    wandb.log({'optimizer':'RMS'})\n",
    "elif o == 'a':\n",
    "    optimizer = torch.optim.Adam(net.parameters(), lr)\n",
    "    wandb.log({'optimizer':'Adam'})\n",
    "    \n",
    "for epoch in range(num_epochs):\n",
    "    training_loss = 0\n",
    "    #TRAINING LOOP\n",
    "    for X,y in data_loader_train:\n",
    "        optimizer.zero_grad()\n",
    "        y_pred=net(X)\n",
    "        loss=criterion(y_pred,y.reshape(-1, 1))\n",
    "        training_loss += loss\n",
    "        loss.sum().backward()\n",
    "        optimizer.step()\n",
    "    validation_loss = 0\n",
    "    with torch.no_grad():\n",
    "        #VALIDATION LOOP\n",
    "        for X,y in data_loader_val:\n",
    "            y_pred=net(X)\n",
    "            loss=criterion(y_pred,y.reshape(-1, 1))\n",
    "            validation_loss+=loss\n",
    "\n",
    "    print({'epoch':(epoch), 'training_loss': (training_loss/32).item(), 'validation_loss': (validation_loss/32).item()})\n",
    "    wandb.log({'training loss': (training_loss/32).item()}, step=epoch)\n",
    "    wandb.log({'validation loss': (validation_loss/32).item()}, step=epoch)"
   ]
  },
  {
   "cell_type": "markdown",
   "id": "d0f49345",
   "metadata": {
    "papermill": {
     "duration": 0.014413,
     "end_time": "2023-11-14T15:02:35.687625",
     "exception": false,
     "start_time": "2023-11-14T15:02:35.673212",
     "status": "completed"
    },
    "tags": []
   },
   "source": [
    "Now let's see the accuracy on the predictions, then we will create the submission file.\n",
    "\n",
    "This loop computes the prediction on the test dataset and create a submission file\n"
   ]
  },
  {
   "cell_type": "code",
   "execution_count": 12,
   "id": "b9c090fb",
   "metadata": {
    "execution": {
     "iopub.execute_input": "2023-11-14T15:02:35.718879Z",
     "iopub.status.busy": "2023-11-14T15:02:35.718423Z",
     "iopub.status.idle": "2023-11-14T15:02:35.785407Z",
     "shell.execute_reply": "2023-11-14T15:02:35.784133Z"
    },
    "papermill": {
     "duration": 0.086533,
     "end_time": "2023-11-14T15:02:35.788788",
     "exception": false,
     "start_time": "2023-11-14T15:02:35.702255",
     "status": "completed"
    },
    "tags": []
   },
   "outputs": [],
   "source": [
    "titanic_test_data_cleaned = clean_titanic(titanic_test_data, train=False)\n",
    "titanic_data_tensor = torch.tensor(titanic_test_data_cleaned.astype('float').values, dtype=torch.float32)\n",
    "\n",
    "test = pd.read_csv('/kaggle/input/titanic/gender_submission.csv')\n",
    "\n",
    "with torch.no_grad():\n",
    "    net.eval()\n",
    "    test_pred = torch.LongTensor()\n",
    "    for i, data in enumerate(titanic_data_tensor):\n",
    "        output = net(data)\n",
    "        predicted = torch.ge(output, 0.5)\n",
    "        test_pred = torch.cat((test_pred, predicted), dim=0)\n",
    "    out_df = pd.DataFrame(np.c_[titanic_test_data['PassengerId'].values, test_pred.numpy()], columns=['PassengerId', 'Survived'])\n",
    "    out_df.to_csv('submission.csv', index=False)"
   ]
  }
 ],
 "metadata": {
  "kaggle": {
   "accelerator": "none",
   "dataSources": [
    {
     "databundleVersionId": 26502,
     "sourceId": 3136,
     "sourceType": "competition"
    }
   ],
   "dockerImageVersionId": 30558,
   "isGpuEnabled": false,
   "isInternetEnabled": true,
   "language": "python",
   "sourceType": "notebook"
  },
  "kernelspec": {
   "display_name": "Python 3",
   "language": "python",
   "name": "python3"
  },
  "language_info": {
   "codemirror_mode": {
    "name": "ipython",
    "version": 3
   },
   "file_extension": ".py",
   "mimetype": "text/x-python",
   "name": "python",
   "nbconvert_exporter": "python",
   "pygments_lexer": "ipython3",
   "version": "3.10.12"
  },
  "papermill": {
   "default_parameters": {},
   "duration": 58.121783,
   "end_time": "2023-11-14T15:02:38.428819",
   "environment_variables": {},
   "exception": null,
   "input_path": "__notebook__.ipynb",
   "output_path": "__notebook__.ipynb",
   "parameters": {},
   "start_time": "2023-11-14T15:01:40.307036",
   "version": "2.4.0"
  }
 },
 "nbformat": 4,
 "nbformat_minor": 5
}
