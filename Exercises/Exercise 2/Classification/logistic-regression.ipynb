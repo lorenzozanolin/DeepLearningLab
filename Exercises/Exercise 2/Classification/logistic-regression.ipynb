{
 "cells": [
  {
   "cell_type": "markdown",
   "metadata": {},
   "source": [
    "# Titanic - Machine Learning from Disaster\n",
    "\n",
    "\n",
    "Kaggle link: https://www.kaggle.com/c/titanic"
   ]
  },
  {
   "cell_type": "code",
   "execution_count": null,
   "metadata": {
    "_cell_guid": "b1076dfc-b9ad-4769-8c92-a6c4dae69d19",
    "_uuid": "8f2839f25d086af736a60e9eeb907d3b93b6e0e5",
    "execution": {
     "iopub.execute_input": "2021-10-10T13:32:46.252284Z",
     "iopub.status.busy": "2021-10-10T13:32:46.251469Z",
     "iopub.status.idle": "2021-10-10T13:32:46.2621Z",
     "shell.execute_reply": "2021-10-10T13:32:46.261503Z",
     "shell.execute_reply.started": "2021-10-10T13:32:46.252238Z"
    }
   },
   "outputs": [],
   "source": [
    "# This Python 3 environment comes with many helpful analytics libraries installed\n",
    "# It is defined by the kaggle/python Docker image: https://github.com/kaggle/docker-python\n",
    "# For example, here's several helpful packages to load\n",
    "\n",
    "import numpy as np # linear algebra\n",
    "import pandas as pd # data processing, CSV file I/O (e.g. pd.read_csv)\n",
    "\n",
    "# Input data files are available in the read-only \"../input/\" directory\n",
    "# For example, running this (by clicking run or pressing Shift+Enter) will list all files under the input directory\n",
    "\n",
    "import os\n",
    "for dirname, _, filenames in os.walk('/kaggle/input'):\n",
    "    for filename in filenames:\n",
    "        print(os.path.join(dirname, filename))\n",
    "\n",
    "# You can write up to 20GB to the current directory (/kaggle/working/) that gets preserved as output when you create a version using \"Save & Run All\" \n",
    "# You can also write temporary files to /kaggle/temp/, but they won't be saved outside of the current session"
   ]
  },
  {
   "cell_type": "markdown",
   "metadata": {},
   "source": [
    "Import all the needed library and init Weights and Biases"
   ]
  },
  {
   "cell_type": "code",
   "execution_count": null,
   "metadata": {
    "execution": {
     "iopub.execute_input": "2021-10-10T13:32:46.264424Z",
     "iopub.status.busy": "2021-10-10T13:32:46.263756Z",
     "iopub.status.idle": "2021-10-10T13:33:58.7676Z",
     "shell.execute_reply": "2021-10-10T13:33:58.766516Z",
     "shell.execute_reply.started": "2021-10-10T13:32:46.264393Z"
    }
   },
   "outputs": [],
   "source": [
    "import numpy as np\n",
    "\n",
    "import torch\n",
    "import torch.nn as nn\n",
    "torch.manual_seed(0)\n",
    "\n",
    "import matplotlib\n",
    "import matplotlib.pyplot as plt\n",
    "%matplotlib inline\n",
    "\n",
    "from scipy import stats\n",
    "import pandas as pd\n",
    "\n",
    "import wandb\n",
    "wandb.init(project='titanic_kaggle')"
   ]
  },
  {
   "cell_type": "markdown",
   "metadata": {},
   "source": [
    "We first need to read the datasets"
   ]
  },
  {
   "cell_type": "code",
   "execution_count": null,
   "metadata": {
    "execution": {
     "iopub.execute_input": "2021-10-10T13:33:58.770261Z",
     "iopub.status.busy": "2021-10-10T13:33:58.76936Z",
     "iopub.status.idle": "2021-10-10T13:33:59.803319Z",
     "shell.execute_reply": "2021-10-10T13:33:59.802393Z",
     "shell.execute_reply.started": "2021-10-10T13:33:58.770207Z"
    }
   },
   "outputs": [],
   "source": [
    "titanic_training_data = pd.read_csv('/kaggle/input/titanic/train.csv')\n",
    "titanic_test_data = pd.read_csv('/kaggle/input/titanic/test.csv')\n",
    "titanic_training_data.head()"
   ]
  },
  {
   "cell_type": "markdown",
   "metadata": {},
   "source": [
    "Dataframe needs to be cleaned, knowing if some informations are unknown can be very important to determine if someone survived"
   ]
  },
  {
   "cell_type": "code",
   "execution_count": null,
   "metadata": {
    "execution": {
     "iopub.execute_input": "2021-10-10T13:33:59.805725Z",
     "iopub.status.busy": "2021-10-10T13:33:59.80462Z",
     "iopub.status.idle": "2021-10-10T13:34:01.812832Z",
     "shell.execute_reply": "2021-10-10T13:34:01.81219Z",
     "shell.execute_reply.started": "2021-10-10T13:33:59.805689Z"
    }
   },
   "outputs": [],
   "source": [
    "def clean_titanic(df, train=True):\n",
    "    df[\"Cabin\"] = df[\"Cabin\"].apply(lambda x: pd.isna(x)).astype(bool)\n",
    "    df[\"Embarked\"] = df[\"Embarked\"].apply(lambda x: pd.isna(x)).astype(bool)\n",
    "    df[\"AgeNan\"] = df[\"Age\"].apply(lambda x: pd.isna(x)).astype(bool)\n",
    "    df = pd.concat([df, pd.get_dummies(df['Sex'], dtype='bool', prefix='sex_'), pd.get_dummies(df['Pclass'], dtype='bool', prefix='pclass_')], axis=1)\n",
    "    df = df.drop(['PassengerId', 'Name','Ticket','Sex','Pclass'], axis=1)\n",
    "    if train:\n",
    "        df = df.drop(['Survived'], axis=1)\n",
    "    numeric_features = df.dtypes[(df.dtypes != 'object') & (df.dtypes != 'bool')].index\n",
    "    df[numeric_features] = df[numeric_features].apply(lambda x: (x - x.mean()) / (x.std()))\n",
    "    df[\"Age\"] = df[\"Age\"].fillna(df[\"Age\"].mean())\n",
    "    df[\"Fare\"] = df[\"Fare\"].fillna(df[\"Fare\"].mean())\n",
    "    return df\n",
    "\n",
    "labels = torch.tensor(titanic_training_data[\"Survived\"].values, dtype=torch.float32)\n",
    "titanic_training_data = clean_titanic(titanic_training_data)\n",
    "titanic_training_data.head()"
   ]
  },
  {
   "cell_type": "markdown",
   "metadata": {},
   "source": [
    "We then transform the data from numpy (pandas representation) into torch's `Tensor`"
   ]
  },
  {
   "cell_type": "code",
   "execution_count": null,
   "metadata": {
    "execution": {
     "iopub.execute_input": "2021-10-10T13:34:01.815358Z",
     "iopub.status.busy": "2021-10-10T13:34:01.814569Z",
     "iopub.status.idle": "2021-10-10T13:34:03.82247Z",
     "shell.execute_reply": "2021-10-10T13:34:03.821521Z",
     "shell.execute_reply.started": "2021-10-10T13:34:01.815322Z"
    }
   },
   "outputs": [],
   "source": [
    "titanic_data_tensor = torch.tensor(titanic_training_data.astype('float').values, dtype=torch.float32)\n",
    "titanic_data_tensor.shape"
   ]
  },
  {
   "cell_type": "markdown",
   "metadata": {},
   "source": [
    "Create a `TensorDataset` to get tuple of data and label"
   ]
  },
  {
   "cell_type": "code",
   "execution_count": null,
   "metadata": {
    "execution": {
     "iopub.execute_input": "2021-10-10T13:34:03.823837Z",
     "iopub.status.busy": "2021-10-10T13:34:03.823619Z",
     "iopub.status.idle": "2021-10-10T13:34:04.778522Z",
     "shell.execute_reply": "2021-10-10T13:34:04.777862Z",
     "shell.execute_reply.started": "2021-10-10T13:34:03.823813Z"
    }
   },
   "outputs": [],
   "source": [
    "dataset = torch.utils.data.TensorDataset(titanic_data_tensor, labels)"
   ]
  },
  {
   "cell_type": "markdown",
   "metadata": {},
   "source": [
    "We then split between the training and validation set"
   ]
  },
  {
   "cell_type": "code",
   "execution_count": null,
   "metadata": {
    "execution": {
     "iopub.execute_input": "2021-10-10T13:34:04.779951Z",
     "iopub.status.busy": "2021-10-10T13:34:04.779561Z",
     "iopub.status.idle": "2021-10-10T13:34:06.662383Z",
     "shell.execute_reply": "2021-10-10T13:34:06.661501Z",
     "shell.execute_reply.started": "2021-10-10T13:34:04.779923Z"
    }
   },
   "outputs": [],
   "source": [
    "training_size = int(0.7 * len(dataset))\n",
    "validation_size = len(dataset) - training_size\n",
    "train, val = torch.utils.data.random_split(dataset, [training_size, validation_size], generator=torch.Generator().manual_seed(0))\n",
    "data_loader_train = torch.utils.data.DataLoader(train, batch_size=32, shuffle=True)\n",
    "data_loader_val = torch.utils.data.DataLoader(val, batch_size=32, shuffle=True)"
   ]
  },
  {
   "cell_type": "markdown",
   "metadata": {},
   "source": [
    "Layer initialization using Xavier Uniform on the weight and a constant 0 value on the bias"
   ]
  },
  {
   "cell_type": "code",
   "execution_count": null,
   "metadata": {
    "execution": {
     "iopub.execute_input": "2021-10-10T13:34:06.663762Z",
     "iopub.status.busy": "2021-10-10T13:34:06.663538Z",
     "iopub.status.idle": "2021-10-10T13:34:07.65232Z",
     "shell.execute_reply": "2021-10-10T13:34:07.651454Z",
     "shell.execute_reply.started": "2021-10-10T13:34:06.663737Z"
    }
   },
   "outputs": [],
   "source": [
    "#TODO Xavier Uniform to the weight and set the bias to 0"
   ]
  },
  {
   "cell_type": "markdown",
   "metadata": {},
   "source": [
    "Create the LinearModel with one Linear layer and Sigmoid applied to the output"
   ]
  },
  {
   "cell_type": "code",
   "execution_count": null,
   "metadata": {
    "execution": {
     "iopub.execute_input": "2021-10-10T13:34:07.65673Z",
     "iopub.status.busy": "2021-10-10T13:34:07.655929Z",
     "iopub.status.idle": "2021-10-10T13:34:09.553684Z",
     "shell.execute_reply": "2021-10-10T13:34:09.552791Z",
     "shell.execute_reply.started": "2021-10-10T13:34:07.656675Z"
    }
   },
   "outputs": [],
   "source": [
    "class LinearModel(nn.Module):\n",
    "    #TODO One linear layer and Sigmoid to the ouput"
   ]
  },
  {
   "cell_type": "markdown",
   "metadata": {},
   "source": [
    "Initialize the network (call it `net`, it would makes things easier later), the loss, the optimizer and write the training loop\n",
    "\n",
    "Don't forget to check the validation loss and save your model at the end of each epoch!"
   ]
  },
  {
   "cell_type": "code",
   "execution_count": null,
   "metadata": {
    "execution": {
     "iopub.execute_input": "2021-10-10T13:34:09.558331Z",
     "iopub.status.busy": "2021-10-10T13:34:09.558012Z",
     "iopub.status.idle": "2021-10-10T13:34:23.141552Z",
     "shell.execute_reply": "2021-10-10T13:34:23.140451Z",
     "shell.execute_reply.started": "2021-10-10T13:34:09.558291Z"
    }
   },
   "outputs": [],
   "source": [
    "num_epochs = 400 # should be more than enought, but can be changed\n",
    "lr = 3e-3 # e.q to 0.003, you can change it if needed\n",
    "\n",
    "net = #TODO\n",
    "\n",
    "criterion = #TODO\n",
    "\n",
    "optimizer = #TODO\n",
    "for epoch in range(num_epochs):\n",
    "    training_loss = 0\n",
    "    #TODO TRAINING LOOP\n",
    "    validation_loss = 0\n",
    "    #TODO VALIDATION LOOP\n",
    "    wandb.log({'training_loss': training_loss, 'validation_loss': validation_loss})\n",
    "\n",
    "    # SAVE THE MODEL"
   ]
  },
  {
   "cell_type": "markdown",
   "metadata": {},
   "source": [
    "This loop computes the prediction on the test dataset and create a submission file\n",
    "\n",
    "You then just have to click the submit button to get your score, lucky you!"
   ]
  },
  {
   "cell_type": "code",
   "execution_count": null,
   "metadata": {
    "execution": {
     "iopub.execute_input": "2021-10-10T13:34:23.143007Z",
     "iopub.status.busy": "2021-10-10T13:34:23.142769Z",
     "iopub.status.idle": "2021-10-10T13:34:24.203754Z",
     "shell.execute_reply": "2021-10-10T13:34:24.203105Z",
     "shell.execute_reply.started": "2021-10-10T13:34:23.142978Z"
    }
   },
   "outputs": [],
   "source": [
    "titanic_test_data_cleaned = clean_titanic(titanic_test_data, train=False)\n",
    "titanic_data_tensor = torch.tensor(titanic_test_data_cleaned.astype('float').values, dtype=torch.float32)\n",
    "\n",
    "with torch.no_grad():\n",
    "    net.eval()\n",
    "    test_pred = torch.LongTensor()\n",
    "    for i, data in enumerate(titanic_data_tensor):\n",
    "        output = net(data)\n",
    "        predicted = torch.ge(output, 0.5)\n",
    "        test_pred = torch.cat((test_pred, predicted), dim=0)\n",
    "    out_df = pd.DataFrame(np.c_[titanic_test_data['PassengerId'].values, test_pred.numpy()], columns=['PassengerId', 'Survived'])\n",
    "    out_df.to_csv('submission.csv', index=False)"
   ]
  }
 ],
 "metadata": {
  "kernelspec": {
   "display_name": "Python 3 (ipykernel)",
   "language": "python",
   "name": "python3"
  },
  "language_info": {
   "codemirror_mode": {
    "name": "ipython",
    "version": 3
   },
   "file_extension": ".py",
   "mimetype": "text/x-python",
   "name": "python",
   "nbconvert_exporter": "python",
   "pygments_lexer": "ipython3",
   "version": "3.9.13"
  }
 },
 "nbformat": 4,
 "nbformat_minor": 4
}
