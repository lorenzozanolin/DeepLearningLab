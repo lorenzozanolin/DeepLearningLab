{
 "cells": [
  {
   "cell_type": "markdown",
   "metadata": {},
   "source": [
    "# Titanic - Machine Learning from Disaster\n",
    "\n",
    "\n",
    "Kaggle link: https://www.kaggle.com/c/titanic"
   ]
  },
  {
   "cell_type": "code",
   "execution_count": 1,
   "metadata": {
    "_cell_guid": "b1076dfc-b9ad-4769-8c92-a6c4dae69d19",
    "_uuid": "8f2839f25d086af736a60e9eeb907d3b93b6e0e5",
    "execution": {
     "iopub.execute_input": "2021-10-10T13:32:46.252284Z",
     "iopub.status.busy": "2021-10-10T13:32:46.251469Z",
     "iopub.status.idle": "2021-10-10T13:32:46.2621Z",
     "shell.execute_reply": "2021-10-10T13:32:46.261503Z",
     "shell.execute_reply.started": "2021-10-10T13:32:46.252238Z"
    }
   },
   "outputs": [
    {
     "name": "stdout",
     "output_type": "stream",
     "text": [
      "./titanic/test.csv\n",
      "./titanic/train.csv\n",
      "./titanic/gender_submission.csv\n"
     ]
    }
   ],
   "source": [
    "# This Python 3 environment comes with many helpful analytics libraries installed\n",
    "# It is defined by the kaggle/python Docker image: https://github.com/kaggle/docker-python\n",
    "# For example, here's several helpful packages to load\n",
    "\n",
    "import numpy as np # linear algebra\n",
    "import pandas as pd # data processing, CSV file I/O (e.g. pd.read_csv)\n",
    "\n",
    "# Input data files are available in the read-only \"../input/\" directory\n",
    "# For example, running this (by clicking run or pressing Shift+Enter) will list all files under the input directory\n",
    "\n",
    "import os\n",
    "for dirname, _, filenames in os.walk('./titanic'):    # '/kaggle/input'\n",
    "    for filename in filenames:\n",
    "        print(os.path.join(dirname, filename))\n",
    "\n",
    "# You can write up to 20GB to the current directory (/kaggle/working/) that gets preserved as output when you create a version using \"Save & Run All\" \n",
    "# You can also write temporary files to /kaggle/temp/, but they won't be saved outside of the current session"
   ]
  },
  {
   "cell_type": "markdown",
   "metadata": {},
   "source": [
    "Import all the needed library and init Weights and Biases"
   ]
  },
  {
   "cell_type": "code",
   "execution_count": 2,
   "metadata": {
    "execution": {
     "iopub.execute_input": "2021-10-10T13:32:46.264424Z",
     "iopub.status.busy": "2021-10-10T13:32:46.263756Z",
     "iopub.status.idle": "2021-10-10T13:33:58.7676Z",
     "shell.execute_reply": "2021-10-10T13:33:58.766516Z",
     "shell.execute_reply.started": "2021-10-10T13:32:46.264393Z"
    }
   },
   "outputs": [
    {
     "name": "stderr",
     "output_type": "stream",
     "text": [
      "Failed to detect the name of this notebook, you can set it manually with the WANDB_NOTEBOOK_NAME environment variable to enable code saving.\n",
      "\u001b[34m\u001b[1mwandb\u001b[0m: Currently logged in as: \u001b[33mlorenzozanolin-52\u001b[0m. Use \u001b[1m`wandb login --relogin`\u001b[0m to force relogin\n"
     ]
    },
    {
     "data": {
      "text/html": [
       "Tracking run with wandb version 0.15.12"
      ],
      "text/plain": [
       "<IPython.core.display.HTML object>"
      ]
     },
     "metadata": {},
     "output_type": "display_data"
    },
    {
     "data": {
      "text/html": [
       "Run data is saved locally in <code>/Users/lorenzozanolin/Library/Mobile Documents/com~apple~CloudDocs/Università/Artifical Intelligence & Cybersecurity/Secondo periodo/Klagenfurt/Machine Learning and Deep Learning/Laboratory/Exercises/Exercise 2/Classification/wandb/run-20231020_175808-ruwnflfu</code>"
      ],
      "text/plain": [
       "<IPython.core.display.HTML object>"
      ]
     },
     "metadata": {},
     "output_type": "display_data"
    },
    {
     "data": {
      "text/html": [
       "Syncing run <strong><a href='https://wandb.ai/lorenzozanolin-52/titanic_kaggle/runs/ruwnflfu' target=\"_blank\">sunny-valley-3</a></strong> to <a href='https://wandb.ai/lorenzozanolin-52/titanic_kaggle' target=\"_blank\">Weights & Biases</a> (<a href='https://wandb.me/run' target=\"_blank\">docs</a>)<br/>"
      ],
      "text/plain": [
       "<IPython.core.display.HTML object>"
      ]
     },
     "metadata": {},
     "output_type": "display_data"
    },
    {
     "data": {
      "text/html": [
       " View project at <a href='https://wandb.ai/lorenzozanolin-52/titanic_kaggle' target=\"_blank\">https://wandb.ai/lorenzozanolin-52/titanic_kaggle</a>"
      ],
      "text/plain": [
       "<IPython.core.display.HTML object>"
      ]
     },
     "metadata": {},
     "output_type": "display_data"
    },
    {
     "data": {
      "text/html": [
       " View run at <a href='https://wandb.ai/lorenzozanolin-52/titanic_kaggle/runs/ruwnflfu' target=\"_blank\">https://wandb.ai/lorenzozanolin-52/titanic_kaggle/runs/ruwnflfu</a>"
      ],
      "text/plain": [
       "<IPython.core.display.HTML object>"
      ]
     },
     "metadata": {},
     "output_type": "display_data"
    },
    {
     "data": {
      "text/html": [
       "<button onClick=\"this.nextSibling.style.display='block';this.style.display='none';\">Display W&B run</button><iframe src='https://wandb.ai/lorenzozanolin-52/titanic_kaggle/runs/ruwnflfu?jupyter=true' style='border:none;width:100%;height:420px;display:none;'></iframe>"
      ],
      "text/plain": [
       "<wandb.sdk.wandb_run.Run at 0x18a0b6490>"
      ]
     },
     "execution_count": 2,
     "metadata": {},
     "output_type": "execute_result"
    }
   ],
   "source": [
    "import numpy as np\n",
    "\n",
    "import torch\n",
    "import torch.nn as nn\n",
    "torch.manual_seed(0)\n",
    "\n",
    "import matplotlib\n",
    "import matplotlib.pyplot as plt\n",
    "%matplotlib inline\n",
    "\n",
    "from scipy import stats\n",
    "import pandas as pd\n",
    "\n",
    "import wandb\n",
    "wandb.init(project='titanic_kaggle')"
   ]
  },
  {
   "cell_type": "markdown",
   "metadata": {},
   "source": [
    "We first need to read the datasets"
   ]
  },
  {
   "cell_type": "code",
   "execution_count": 3,
   "metadata": {
    "execution": {
     "iopub.execute_input": "2021-10-10T13:33:58.770261Z",
     "iopub.status.busy": "2021-10-10T13:33:58.76936Z",
     "iopub.status.idle": "2021-10-10T13:33:59.803319Z",
     "shell.execute_reply": "2021-10-10T13:33:59.802393Z",
     "shell.execute_reply.started": "2021-10-10T13:33:58.770207Z"
    }
   },
   "outputs": [
    {
     "data": {
      "text/plain": [
       "(891, 12)"
      ]
     },
     "execution_count": 3,
     "metadata": {},
     "output_type": "execute_result"
    }
   ],
   "source": [
    "titanic_training_data = pd.read_csv('./titanic/train.csv')    #/kaggle/input/titanic/train.csv\n",
    "titanic_test_data = pd.read_csv('./titanic/test.csv')\n",
    "titanic_training_data.shape"
   ]
  },
  {
   "cell_type": "markdown",
   "metadata": {},
   "source": [
    "Dataframe needs to be cleaned, knowing if some informations are unknown can be very important to determine if someone survived"
   ]
  },
  {
   "cell_type": "code",
   "execution_count": 4,
   "metadata": {
    "execution": {
     "iopub.execute_input": "2021-10-10T13:33:59.805725Z",
     "iopub.status.busy": "2021-10-10T13:33:59.80462Z",
     "iopub.status.idle": "2021-10-10T13:34:01.812832Z",
     "shell.execute_reply": "2021-10-10T13:34:01.81219Z",
     "shell.execute_reply.started": "2021-10-10T13:33:59.805689Z"
    }
   },
   "outputs": [
    {
     "data": {
      "text/html": [
       "<div>\n",
       "<style scoped>\n",
       "    .dataframe tbody tr th:only-of-type {\n",
       "        vertical-align: middle;\n",
       "    }\n",
       "\n",
       "    .dataframe tbody tr th {\n",
       "        vertical-align: top;\n",
       "    }\n",
       "\n",
       "    .dataframe thead th {\n",
       "        text-align: right;\n",
       "    }\n",
       "</style>\n",
       "<table border=\"1\" class=\"dataframe\">\n",
       "  <thead>\n",
       "    <tr style=\"text-align: right;\">\n",
       "      <th></th>\n",
       "      <th>Age</th>\n",
       "      <th>SibSp</th>\n",
       "      <th>Parch</th>\n",
       "      <th>Fare</th>\n",
       "      <th>Cabin</th>\n",
       "      <th>Embarked</th>\n",
       "      <th>AgeNan</th>\n",
       "      <th>sex__female</th>\n",
       "      <th>sex__male</th>\n",
       "      <th>pclass__1</th>\n",
       "      <th>pclass__2</th>\n",
       "      <th>pclass__3</th>\n",
       "    </tr>\n",
       "  </thead>\n",
       "  <tbody>\n",
       "    <tr>\n",
       "      <th>0</th>\n",
       "      <td>-0.530005</td>\n",
       "      <td>0.432550</td>\n",
       "      <td>-0.473408</td>\n",
       "      <td>-0.502163</td>\n",
       "      <td>True</td>\n",
       "      <td>False</td>\n",
       "      <td>False</td>\n",
       "      <td>False</td>\n",
       "      <td>True</td>\n",
       "      <td>False</td>\n",
       "      <td>False</td>\n",
       "      <td>True</td>\n",
       "    </tr>\n",
       "    <tr>\n",
       "      <th>1</th>\n",
       "      <td>0.571430</td>\n",
       "      <td>0.432550</td>\n",
       "      <td>-0.473408</td>\n",
       "      <td>0.786404</td>\n",
       "      <td>False</td>\n",
       "      <td>False</td>\n",
       "      <td>False</td>\n",
       "      <td>True</td>\n",
       "      <td>False</td>\n",
       "      <td>True</td>\n",
       "      <td>False</td>\n",
       "      <td>False</td>\n",
       "    </tr>\n",
       "    <tr>\n",
       "      <th>2</th>\n",
       "      <td>-0.254646</td>\n",
       "      <td>-0.474279</td>\n",
       "      <td>-0.473408</td>\n",
       "      <td>-0.488580</td>\n",
       "      <td>True</td>\n",
       "      <td>False</td>\n",
       "      <td>False</td>\n",
       "      <td>True</td>\n",
       "      <td>False</td>\n",
       "      <td>False</td>\n",
       "      <td>False</td>\n",
       "      <td>True</td>\n",
       "    </tr>\n",
       "    <tr>\n",
       "      <th>3</th>\n",
       "      <td>0.364911</td>\n",
       "      <td>0.432550</td>\n",
       "      <td>-0.473408</td>\n",
       "      <td>0.420494</td>\n",
       "      <td>False</td>\n",
       "      <td>False</td>\n",
       "      <td>False</td>\n",
       "      <td>True</td>\n",
       "      <td>False</td>\n",
       "      <td>True</td>\n",
       "      <td>False</td>\n",
       "      <td>False</td>\n",
       "    </tr>\n",
       "    <tr>\n",
       "      <th>4</th>\n",
       "      <td>0.364911</td>\n",
       "      <td>-0.474279</td>\n",
       "      <td>-0.473408</td>\n",
       "      <td>-0.486064</td>\n",
       "      <td>True</td>\n",
       "      <td>False</td>\n",
       "      <td>False</td>\n",
       "      <td>False</td>\n",
       "      <td>True</td>\n",
       "      <td>False</td>\n",
       "      <td>False</td>\n",
       "      <td>True</td>\n",
       "    </tr>\n",
       "  </tbody>\n",
       "</table>\n",
       "</div>"
      ],
      "text/plain": [
       "        Age     SibSp     Parch      Fare  Cabin  Embarked  AgeNan  \\\n",
       "0 -0.530005  0.432550 -0.473408 -0.502163   True     False   False   \n",
       "1  0.571430  0.432550 -0.473408  0.786404  False     False   False   \n",
       "2 -0.254646 -0.474279 -0.473408 -0.488580   True     False   False   \n",
       "3  0.364911  0.432550 -0.473408  0.420494  False     False   False   \n",
       "4  0.364911 -0.474279 -0.473408 -0.486064   True     False   False   \n",
       "\n",
       "   sex__female  sex__male  pclass__1  pclass__2  pclass__3  \n",
       "0        False       True      False      False       True  \n",
       "1         True      False       True      False      False  \n",
       "2         True      False      False      False       True  \n",
       "3         True      False       True      False      False  \n",
       "4        False       True      False      False       True  "
      ]
     },
     "execution_count": 4,
     "metadata": {},
     "output_type": "execute_result"
    }
   ],
   "source": [
    "def clean_titanic(df, train=True):\n",
    "    df[\"Cabin\"] = df[\"Cabin\"].apply(lambda x: pd.isna(x)).astype(bool)\n",
    "    df[\"Embarked\"] = df[\"Embarked\"].apply(lambda x: pd.isna(x)).astype(bool)\n",
    "    df[\"AgeNan\"] = df[\"Age\"].apply(lambda x: pd.isna(x)).astype(bool)\n",
    "    df = pd.concat([df, pd.get_dummies(df['Sex'], dtype='bool', prefix='sex_'), pd.get_dummies(df['Pclass'], dtype='bool', prefix='pclass_')], axis=1)\n",
    "    df = df.drop(['PassengerId', 'Name','Ticket','Sex','Pclass'], axis=1)\n",
    "    if train:\n",
    "        df = df.drop(['Survived'], axis=1)\n",
    "    numeric_features = df.dtypes[(df.dtypes != 'object') & (df.dtypes != 'bool')].index\n",
    "    df[numeric_features] = df[numeric_features].apply(lambda x: (x - x.mean()) / (x.std())) #normalization\n",
    "    df[\"Age\"] = df[\"Age\"].fillna(df[\"Age\"].mean())\n",
    "    df[\"Fare\"] = df[\"Fare\"].fillna(df[\"Fare\"].mean())\n",
    "    return df\n",
    "\n",
    "y_data = torch.tensor(titanic_training_data[\"Survived\"].values, dtype=torch.float32)\n",
    "X_data = clean_titanic(titanic_training_data)\n",
    "X_data.head()"
   ]
  },
  {
   "cell_type": "markdown",
   "metadata": {},
   "source": [
    "We then transform the data from numpy (pandas representation) into torch's `Tensor`"
   ]
  },
  {
   "cell_type": "code",
   "execution_count": 5,
   "metadata": {
    "execution": {
     "iopub.execute_input": "2021-10-10T13:34:01.815358Z",
     "iopub.status.busy": "2021-10-10T13:34:01.814569Z",
     "iopub.status.idle": "2021-10-10T13:34:03.82247Z",
     "shell.execute_reply": "2021-10-10T13:34:03.821521Z",
     "shell.execute_reply.started": "2021-10-10T13:34:01.815322Z"
    }
   },
   "outputs": [
    {
     "data": {
      "text/plain": [
       "torch.Size([891, 12])"
      ]
     },
     "execution_count": 5,
     "metadata": {},
     "output_type": "execute_result"
    }
   ],
   "source": [
    "X_data = torch.tensor(X_data.astype('float').values, dtype=torch.float32)\n",
    "X_data.shape"
   ]
  },
  {
   "cell_type": "markdown",
   "metadata": {},
   "source": [
    "Create a `TensorDataset` to get tuple of data and label"
   ]
  },
  {
   "cell_type": "code",
   "execution_count": 6,
   "metadata": {
    "execution": {
     "iopub.execute_input": "2021-10-10T13:34:03.823837Z",
     "iopub.status.busy": "2021-10-10T13:34:03.823619Z",
     "iopub.status.idle": "2021-10-10T13:34:04.778522Z",
     "shell.execute_reply": "2021-10-10T13:34:04.777862Z",
     "shell.execute_reply.started": "2021-10-10T13:34:03.823813Z"
    }
   },
   "outputs": [],
   "source": [
    "dataset = torch.utils.data.TensorDataset(X_data, y_data)"
   ]
  },
  {
   "cell_type": "markdown",
   "metadata": {},
   "source": [
    "We then split between the training and validation set"
   ]
  },
  {
   "cell_type": "code",
   "execution_count": 7,
   "metadata": {
    "execution": {
     "iopub.execute_input": "2021-10-10T13:34:04.779951Z",
     "iopub.status.busy": "2021-10-10T13:34:04.779561Z",
     "iopub.status.idle": "2021-10-10T13:34:06.662383Z",
     "shell.execute_reply": "2021-10-10T13:34:06.661501Z",
     "shell.execute_reply.started": "2021-10-10T13:34:04.779923Z"
    }
   },
   "outputs": [],
   "source": [
    "training_size = int(0.7 * len(dataset))\n",
    "validation_size = len(dataset) - training_size\n",
    "train, val = torch.utils.data.random_split(dataset, [training_size, validation_size], generator=torch.Generator().manual_seed(0))\n",
    "data_loader_train = torch.utils.data.DataLoader(train, batch_size=32, shuffle=True)\n",
    "data_loader_val = torch.utils.data.DataLoader(val, batch_size=32, shuffle=True)"
   ]
  },
  {
   "cell_type": "markdown",
   "metadata": {},
   "source": [
    "Layer initialization using Xavier Uniform on the weight and a constant 0 value on the bias"
   ]
  },
  {
   "cell_type": "code",
   "execution_count": 22,
   "metadata": {
    "execution": {
     "iopub.execute_input": "2021-10-10T13:34:07.65673Z",
     "iopub.status.busy": "2021-10-10T13:34:07.655929Z",
     "iopub.status.idle": "2021-10-10T13:34:09.553684Z",
     "shell.execute_reply": "2021-10-10T13:34:09.552791Z",
     "shell.execute_reply.started": "2021-10-10T13:34:07.656675Z"
    }
   },
   "outputs": [],
   "source": [
    "import torch.nn.functional as F    \n",
    "\n",
    "def init_my_layer(m):\n",
    "    torch.nn.init.xavier_normal_(m.weight)\n",
    "    torch.nn.init.constant_(m.bias, 0)\n",
    "    return m\n",
    "\n",
    "class MyNetwork(nn.Module):\n",
    "    def __init__(self):\n",
    "        super(MyNetwork, self).__init__() \n",
    "        self.ln = init_my_layer(nn.Linear(12, 1))\n",
    "\n",
    "    def forward(self, x):\n",
    "        x_transformed = self.ln(x)\n",
    "        # here I can do other thing\n",
    "        x = x + x_transformed\n",
    "        return F.sigmoid(x, dim=1) # dim0 is batch, dim1 is input"
   ]
  },
  {
   "cell_type": "markdown",
   "metadata": {},
   "source": [
    "Create the LinearModel with one Linear layer and Sigmoid applied to the output"
   ]
  },
  {
   "cell_type": "code",
   "execution_count": 27,
   "metadata": {},
   "outputs": [],
   "source": [
    "#TODO Xavier Uniform to the weight and set the bias to 0\n",
    "net = MyNetwork() "
   ]
  },
  {
   "cell_type": "markdown",
   "metadata": {},
   "source": [
    "Initialize the network (call it `net`, it would makes things easier later), the loss, the optimizer and write the training loop\n",
    "\n",
    "Don't forget to check the validation loss and save your model at the end of each epoch!"
   ]
  },
  {
   "cell_type": "code",
   "execution_count": null,
   "metadata": {
    "execution": {
     "iopub.execute_input": "2021-10-10T13:34:09.558331Z",
     "iopub.status.busy": "2021-10-10T13:34:09.558012Z",
     "iopub.status.idle": "2021-10-10T13:34:23.141552Z",
     "shell.execute_reply": "2021-10-10T13:34:23.140451Z",
     "shell.execute_reply.started": "2021-10-10T13:34:09.558291Z"
    }
   },
   "outputs": [],
   "source": [
    "num_epochs = 400 # should be more than enought, but can be changed\n",
    "lr = 3e-3 # e.q to 0.003, you can change it if needed\n",
    "\n",
    "criterion = #TODO\n",
    "\n",
    "optimizer = #TODO\n",
    "for epoch in range(num_epochs):\n",
    "    training_loss = 0\n",
    "    #TODO TRAINING LOOP\n",
    "    validation_loss = 0\n",
    "    #TODO VALIDATION LOOP\n",
    "    wandb.log({'training_loss': training_loss, 'validation_loss': validation_loss})\n",
    "\n",
    "    # SAVE THE MODEL"
   ]
  },
  {
   "cell_type": "markdown",
   "metadata": {},
   "source": [
    "This loop computes the prediction on the test dataset and create a submission file\n",
    "\n",
    "You then just have to click the submit button to get your score, lucky you!"
   ]
  },
  {
   "cell_type": "code",
   "execution_count": null,
   "metadata": {
    "execution": {
     "iopub.execute_input": "2021-10-10T13:34:23.143007Z",
     "iopub.status.busy": "2021-10-10T13:34:23.142769Z",
     "iopub.status.idle": "2021-10-10T13:34:24.203754Z",
     "shell.execute_reply": "2021-10-10T13:34:24.203105Z",
     "shell.execute_reply.started": "2021-10-10T13:34:23.142978Z"
    }
   },
   "outputs": [],
   "source": [
    "titanic_test_data_cleaned = clean_titanic(titanic_test_data, train=False)\n",
    "titanic_data_tensor = torch.tensor(titanic_test_data_cleaned.astype('float').values, dtype=torch.float32)\n",
    "\n",
    "with torch.no_grad():\n",
    "    net.eval()\n",
    "    test_pred = torch.LongTensor()\n",
    "    for i, data in enumerate(titanic_data_tensor):\n",
    "        output = net(data)\n",
    "        predicted = torch.ge(output, 0.5)\n",
    "        test_pred = torch.cat((test_pred, predicted), dim=0)\n",
    "    out_df = pd.DataFrame(np.c_[titanic_test_data['PassengerId'].values, test_pred.numpy()], columns=['PassengerId', 'Survived'])\n",
    "    out_df.to_csv('submission.csv', index=False)"
   ]
  }
 ],
 "metadata": {
  "kernelspec": {
   "display_name": "Python 3 (ipykernel)",
   "language": "python",
   "name": "python3"
  },
  "language_info": {
   "codemirror_mode": {
    "name": "ipython",
    "version": 3
   },
   "file_extension": ".py",
   "mimetype": "text/x-python",
   "name": "python",
   "nbconvert_exporter": "python",
   "pygments_lexer": "ipython3",
   "version": "3.9.10"
  }
 },
 "nbformat": 4,
 "nbformat_minor": 4
}
