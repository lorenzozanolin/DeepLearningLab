{
 "cells": [
  {
   "cell_type": "markdown",
   "id": "40212943",
   "metadata": {},
   "source": [
    "# Weights & Biases\n",
    "\n",
    "The best way to track your experiments"
   ]
  },
  {
   "cell_type": "markdown",
   "source": [
    "**Weights & Biases** allows to log all the inputs and outputs of your program on an online platform.\n",
    "It generates plots for you, allowing to analyze your algorithm's output and keep track of your research.\n",
    "**Tips:** Plot as many things as possible\n",
    "\n",
    "**Geoffrey Hinton:**\n",
    "```\n",
    "Every time you plot something new, you learn something new.\n",
    "```"
   ],
   "metadata": {
    "collapsed": false
   }
  },
  {
   "cell_type": "markdown",
   "id": "7933828c",
   "metadata": {
    "slideshow": {
     "slide_type": "slide"
    }
   },
   "source": [
    "First create an account on https://wandb.ai/"
   ]
  },
  {
   "cell_type": "markdown",
   "id": "c13a5347",
   "metadata": {},
   "source": [
    "Then, install the Python's API"
   ]
  },
  {
   "cell_type": "code",
   "execution_count": 1,
   "id": "2d156a6d",
   "metadata": {},
   "outputs": [
    {
     "name": "stdout",
     "output_type": "stream",
     "text": [
      "Requirement already satisfied: wandb in /Users/ingambe/miniforge3/envs/deep-learning/lib/python3.9/site-packages (0.12.7)\n",
      "Requirement already satisfied: psutil>=5.0.0 in /Users/ingambe/miniforge3/envs/deep-learning/lib/python3.9/site-packages (from wandb) (5.9.0)\n",
      "Requirement already satisfied: GitPython>=1.0.0 in /Users/ingambe/miniforge3/envs/deep-learning/lib/python3.9/site-packages (from wandb) (3.1.27)\n",
      "Requirement already satisfied: pathtools in /Users/ingambe/miniforge3/envs/deep-learning/lib/python3.9/site-packages (from wandb) (0.1.2)\n",
      "Requirement already satisfied: Click!=8.0.0,>=7.0 in /Users/ingambe/miniforge3/envs/deep-learning/lib/python3.9/site-packages (from wandb) (8.0.4)\n",
      "Requirement already satisfied: subprocess32>=3.5.3 in /Users/ingambe/miniforge3/envs/deep-learning/lib/python3.9/site-packages (from wandb) (3.5.4)\n",
      "Requirement already satisfied: promise<3,>=2.0 in /Users/ingambe/miniforge3/envs/deep-learning/lib/python3.9/site-packages (from wandb) (2.3)\n",
      "Requirement already satisfied: configparser>=3.8.1 in /Users/ingambe/miniforge3/envs/deep-learning/lib/python3.9/site-packages (from wandb) (5.2.0)\n",
      "Requirement already satisfied: PyYAML in /Users/ingambe/miniforge3/envs/deep-learning/lib/python3.9/site-packages (from wandb) (6.0)\n",
      "Requirement already satisfied: six>=1.13.0 in /Users/ingambe/miniforge3/envs/deep-learning/lib/python3.9/site-packages (from wandb) (1.16.0)\n",
      "Requirement already satisfied: python-dateutil>=2.6.1 in /Users/ingambe/miniforge3/envs/deep-learning/lib/python3.9/site-packages (from wandb) (2.8.2)\n",
      "Requirement already satisfied: shortuuid>=0.5.0 in /Users/ingambe/miniforge3/envs/deep-learning/lib/python3.9/site-packages (from wandb) (1.0.8)\n",
      "Requirement already satisfied: yaspin>=1.0.0 in /Users/ingambe/miniforge3/envs/deep-learning/lib/python3.9/site-packages (from wandb) (2.1.0)\n",
      "Requirement already satisfied: protobuf>=3.12.0 in /Users/ingambe/.local/lib/python3.9/site-packages (from wandb) (3.19.4)\n",
      "Requirement already satisfied: docker-pycreds>=0.4.0 in /Users/ingambe/miniforge3/envs/deep-learning/lib/python3.9/site-packages (from wandb) (0.4.0)\n",
      "Requirement already satisfied: requests<3,>=2.0.0 in /Users/ingambe/miniforge3/envs/deep-learning/lib/python3.9/site-packages (from wandb) (2.27.1)\n",
      "Requirement already satisfied: sentry-sdk>=1.0.0 in /Users/ingambe/miniforge3/envs/deep-learning/lib/python3.9/site-packages (from wandb) (1.5.12)\n",
      "Requirement already satisfied: gitdb<5,>=4.0.1 in /Users/ingambe/miniforge3/envs/deep-learning/lib/python3.9/site-packages (from GitPython>=1.0.0->wandb) (4.0.7)\n",
      "Requirement already satisfied: charset-normalizer~=2.0.0 in /Users/ingambe/miniforge3/envs/deep-learning/lib/python3.9/site-packages (from requests<3,>=2.0.0->wandb) (2.0.12)\n",
      "Requirement already satisfied: certifi>=2017.4.17 in /Users/ingambe/miniforge3/envs/deep-learning/lib/python3.9/site-packages (from requests<3,>=2.0.0->wandb) (2022.5.18.1)\n",
      "Requirement already satisfied: idna<4,>=2.5 in /Users/ingambe/miniforge3/envs/deep-learning/lib/python3.9/site-packages (from requests<3,>=2.0.0->wandb) (3.3)\n",
      "Requirement already satisfied: urllib3<1.27,>=1.21.1 in /Users/ingambe/miniforge3/envs/deep-learning/lib/python3.9/site-packages (from requests<3,>=2.0.0->wandb) (1.26.9)\n",
      "Requirement already satisfied: termcolor<2.0.0,>=1.1.0 in /Users/ingambe/miniforge3/envs/deep-learning/lib/python3.9/site-packages (from yaspin>=1.0.0->wandb) (1.1.0)\n",
      "Requirement already satisfied: smmap<5,>=3.0.1 in /Users/ingambe/miniforge3/envs/deep-learning/lib/python3.9/site-packages (from gitdb<5,>=4.0.1->GitPython>=1.0.0->wandb) (4.0.0)\n"
     ]
    }
   ],
   "source": [
    "!pip install wandb"
   ]
  },
  {
   "cell_type": "markdown",
   "id": "a865277a",
   "metadata": {
    "slideshow": {
     "slide_type": "slide"
    }
   },
   "source": [
    "WandB allows you to **create project** and logs metrics for **each run**"
   ]
  },
  {
   "cell_type": "markdown",
   "id": "53d39e2c",
   "metadata": {},
   "source": [
    "Example: https://wandb.ai/ingambe/es-jss?workspace=user-ingambe"
   ]
  },
  {
   "cell_type": "markdown",
   "id": "22bb8350",
   "metadata": {
    "slideshow": {
     "slide_type": "slide"
    }
   },
   "source": [
    "To use it and track experiments"
   ]
  },
  {
   "cell_type": "code",
   "execution_count": 2,
   "id": "0d5c8073",
   "metadata": {},
   "outputs": [
    {
     "name": "stderr",
     "output_type": "stream",
     "text": [
      "\u001B[34m\u001B[1mwandb\u001B[0m: Currently logged in as: \u001B[33mingambe\u001B[0m (use `wandb login --relogin` to force relogin)\n",
      "\u001B[34m\u001B[1mwandb\u001B[0m: wandb version 0.13.4 is available!  To upgrade, please run:\n",
      "\u001B[34m\u001B[1mwandb\u001B[0m:  $ pip install wandb --upgrade\n"
     ]
    },
    {
     "data": {
      "text/html": [
       "\n",
       "                    Syncing run <strong><a href=\"https://wandb.ai/ingambe/course/runs/2z7c7hu3\" target=\"_blank\">devoted-voice-11</a></strong> to <a href=\"https://wandb.ai/ingambe/course\" target=\"_blank\">Weights & Biases</a> (<a href=\"https://docs.wandb.com/integrations/jupyter.html\" target=\"_blank\">docs</a>).<br/>\n",
       "\n",
       "                "
      ],
      "text/plain": [
       "<IPython.core.display.HTML object>"
      ]
     },
     "metadata": {},
     "output_type": "display_data"
    },
    {
     "data": {
      "text/html": [
       "<button onClick=\"this.nextSibling.style.display='block';this.style.display='none';\">Display W&B run</button><iframe src=\"https://wandb.ai/ingambe/course/runs/2z7c7hu3?jupyter=true\" style=\"border:none;width:100%;height:420px;display:none;\"></iframe>"
      ],
      "text/plain": [
       "<wandb.sdk.wandb_run.Run at 0x1170c02b0>"
      ]
     },
     "execution_count": 2,
     "metadata": {},
     "output_type": "execute_result"
    }
   ],
   "source": [
    "import wandb\n",
    "wandb.init(project='course') # specify the project of the current run"
   ]
  },
  {
   "cell_type": "markdown",
   "id": "8f344d2c",
   "metadata": {
    "slideshow": {
     "slide_type": "slide"
    }
   },
   "source": [
    "For the first run, it will ask for your API key, you can found it in your profile's settings"
   ]
  },
  {
   "cell_type": "markdown",
   "id": "d1e3138e",
   "metadata": {},
   "source": [
    "<center>\n",
    "    <img src='images/settings.png' />\n",
    "</center>"
   ]
  },
  {
   "cell_type": "markdown",
   "id": "d0e0e937",
   "metadata": {
    "slideshow": {
     "slide_type": "slide"
    }
   },
   "source": [
    "Loggin information is very simple"
   ]
  },
  {
   "cell_type": "code",
   "execution_count": 3,
   "id": "dc25aeea",
   "metadata": {},
   "outputs": [],
   "source": [
    "wandb.log({'current_performance': 15})"
   ]
  },
  {
   "cell_type": "markdown",
   "id": "a25778ab",
   "metadata": {
    "slideshow": {
     "slide_type": "slide"
    }
   },
   "source": [
    "If you have a training loop, you can define your own step"
   ]
  },
  {
   "cell_type": "code",
   "execution_count": 4,
   "id": "b3eccd11",
   "metadata": {},
   "outputs": [],
   "source": [
    "import random\n",
    "for i in range(10):\n",
    "    wandb.log({'value_a': random.randint(0, 10)}, step=i + 1) # +1 here because step 0 was the previous log call\n",
    "    wandb.log({'value_b': random.randint(0, 5)}, step=i + 1)"
   ]
  },
  {
   "cell_type": "markdown",
   "id": "6a815049",
   "metadata": {
    "slideshow": {
     "slide_type": "slide"
    }
   },
   "source": [
    "If you have a lot of different type of log, you can make categories"
   ]
  },
  {
   "cell_type": "code",
   "execution_count": 5,
   "id": "1adbce67",
   "metadata": {},
   "outputs": [],
   "source": [
    "wandb.log({'my_category/my_log': 1.4})"
   ]
  },
  {
   "cell_type": "markdown",
   "id": "ec77ffab",
   "metadata": {
    "slideshow": {
     "slide_type": "slide"
    }
   },
   "source": [
    "You can log everything, from Table, to Plot, even Musics or Video"
   ]
  },
  {
   "cell_type": "markdown",
   "id": "166fc47e",
   "metadata": {
    "slideshow": {
     "slide_type": "-"
    }
   },
   "source": [
    "WandB natively integrate with PyTorch, but we will discuss this later ..."
   ]
  },
  {
   "cell_type": "markdown",
   "id": "02fc20bc",
   "metadata": {
    "slideshow": {
     "slide_type": "-"
    }
   },
   "source": [
    "WandB also allows you to search for the best hyper parameters\n",
    "\n",
    "This advance functionnality will be discussed when needed..."
   ]
  }
 ],
 "metadata": {
  "celltoolbar": "Slideshow",
  "kernelspec": {
   "display_name": "Python 3 (ipykernel)",
   "language": "python",
   "name": "python3"
  },
  "language_info": {
   "codemirror_mode": {
    "name": "ipython",
    "version": 3
   },
   "file_extension": ".py",
   "mimetype": "text/x-python",
   "name": "python",
   "nbconvert_exporter": "python",
   "pygments_lexer": "ipython3",
   "version": "3.9.12"
  }
 },
 "nbformat": 4,
 "nbformat_minor": 5
}
