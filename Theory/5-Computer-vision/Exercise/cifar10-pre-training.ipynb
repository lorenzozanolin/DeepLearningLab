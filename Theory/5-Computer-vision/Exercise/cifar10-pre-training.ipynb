{
 "cells": [
  {
   "cell_type": "code",
   "execution_count": 3,
   "metadata": {
    "_cell_guid": "b1076dfc-b9ad-4769-8c92-a6c4dae69d19",
    "_uuid": "8f2839f25d086af736a60e9eeb907d3b93b6e0e5",
    "execution": {
     "iopub.execute_input": "2022-01-15T19:18:11.915522Z",
     "iopub.status.busy": "2022-01-15T19:18:11.915248Z",
     "iopub.status.idle": "2022-01-15T19:18:11.926804Z",
     "shell.execute_reply": "2022-01-15T19:18:11.925884Z",
     "shell.execute_reply.started": "2022-01-15T19:18:11.915493Z"
    }
   },
   "outputs": [],
   "source": [
    "# This Python 3 environment comes with many helpful analytics libraries installed\n",
    "# It is defined by the kaggle/python Docker image: https://github.com/kaggle/docker-python\n",
    "# For example, here's several helpful packages to load\n",
    "\n",
    "import numpy as np # linear algebra\n",
    "import pandas as pd # data processing, CSV file I/O (e.g. pd.read_csv)\n",
    "\n",
    "# Input data files are available in the read-only \"../input/\" directory\n",
    "# For example, running this (by clicking run or pressing Shift+Enter) will list all files under the input directory\n",
    "\n",
    "import os\n",
    "for dirname, _, filenames in os.walk('/kaggle/input'):\n",
    "    for filename in filenames:\n",
    "        print(os.path.join(dirname, filename))\n",
    "\n",
    "# You can write up to 20GB to the current directory (/kaggle/working/) that gets preserved as output when you create a version using \"Save & Run All\" \n",
    "# You can also write temporary files to /kaggle/temp/, but they won't be saved outside of the current session"
   ]
  },
  {
   "cell_type": "markdown",
   "metadata": {},
   "source": [
    "## Import everything needed"
   ]
  },
  {
   "cell_type": "code",
   "execution_count": 13,
   "metadata": {
    "execution": {
     "iopub.execute_input": "2022-01-15T19:19:35.654518Z",
     "iopub.status.busy": "2022-01-15T19:19:35.654244Z",
     "iopub.status.idle": "2022-01-15T19:19:35.663031Z",
     "shell.execute_reply": "2022-01-15T19:19:35.662229Z",
     "shell.execute_reply.started": "2022-01-15T19:19:35.654489Z"
    }
   },
   "outputs": [],
   "source": [
    "import glob\n",
    "from PIL import Image\n",
    "import matplotlib.pyplot as plt\n",
    "import collections\n",
    "import math\n",
    "import os\n",
    "import shutil\n",
    "from sklearn.model_selection import train_test_split\n",
    "import torch\n",
    "import torch.nn as nn\n",
    "import torch.nn.functional as F\n",
    "import torch.optim as optim\n",
    "from torch.utils.data import DataLoader, Dataset\n",
    "import torchvision\n",
    "from torchvision import datasets, transforms\n",
    "np.random.seed(0)\n",
    "torch.manual_seed(0)\n",
    "torch.cuda.manual_seed(0)"
   ]
  },
  {
   "cell_type": "markdown",
   "metadata": {},
   "source": [
    "## Unzip datasets"
   ]
  },
  {
   "cell_type": "code",
   "execution_count": null,
   "metadata": {
    "execution": {
     "iopub.execute_input": "2022-01-15T18:02:38.145518Z",
     "iopub.status.busy": "2022-01-15T18:02:38.145262Z",
     "iopub.status.idle": "2022-01-15T18:02:46.95283Z",
     "shell.execute_reply": "2022-01-15T18:02:46.951879Z",
     "shell.execute_reply.started": "2022-01-15T18:02:38.145488Z"
    }
   },
   "outputs": [],
   "source": [
    "!pip install py7zr"
   ]
  },
  {
   "cell_type": "markdown",
   "metadata": {},
   "source": [
    "# WARNING: It can take a lot of time to uncompress!"
   ]
  },
  {
   "cell_type": "code",
   "execution_count": null,
   "metadata": {
    "execution": {
     "iopub.execute_input": "2022-01-15T18:02:46.954912Z",
     "iopub.status.busy": "2022-01-15T18:02:46.954538Z",
     "iopub.status.idle": "2022-01-15T18:03:34.61089Z",
     "shell.execute_reply": "2022-01-15T18:03:34.609396Z",
     "shell.execute_reply.started": "2022-01-15T18:02:46.954866Z"
    }
   },
   "outputs": [],
   "source": [
    "!python -m py7zr x /kaggle/input/cifar-10/train.7z"
   ]
  },
  {
   "cell_type": "code",
   "execution_count": null,
   "metadata": {
    "execution": {
     "iopub.execute_input": "2022-01-15T18:03:34.612799Z",
     "iopub.status.busy": "2022-01-15T18:03:34.612518Z"
    }
   },
   "outputs": [],
   "source": [
    "!python -m py7zr x /kaggle/input/cifar-10/test.7z"
   ]
  },
  {
   "cell_type": "code",
   "execution_count": 8,
   "metadata": {
    "execution": {
     "iopub.execute_input": "2022-01-15T19:18:45.739101Z",
     "iopub.status.busy": "2022-01-15T19:18:45.738459Z",
     "iopub.status.idle": "2022-01-15T19:18:45.743342Z",
     "shell.execute_reply": "2022-01-15T19:18:45.742392Z",
     "shell.execute_reply.started": "2022-01-15T19:18:45.739062Z"
    }
   },
   "outputs": [],
   "source": [
    "data_dir = '/kaggle/working/'"
   ]
  },
  {
   "cell_type": "code",
   "execution_count": 25,
   "metadata": {
    "execution": {
     "iopub.execute_input": "2022-01-15T19:31:46.310913Z",
     "iopub.status.busy": "2022-01-15T19:31:46.310325Z",
     "iopub.status.idle": "2022-01-15T19:31:46.599942Z",
     "shell.execute_reply": "2022-01-15T19:31:46.598941Z",
     "shell.execute_reply.started": "2022-01-15T19:31:46.310865Z"
    }
   },
   "outputs": [],
   "source": [
    "def read_csv_labels(fname):\n",
    "    \"\"\"Read `fname` to return a filename to label dictionary.\"\"\"\n",
    "    with open(fname, 'r') as f:\n",
    "        # Skip the file header line (column name)\n",
    "        lines = f.readlines()[1:]\n",
    "    tokens = [l.rstrip().split(',') for l in lines]\n",
    "    return dict(((name, label) for name, label in tokens))\n",
    "\n",
    "labels = read_csv_labels(os.path.join(data_dir, '/kaggle/input/cifar-10/trainLabels.csv'))\n",
    "print(f'Number training examples: {len(labels)}')\n",
    "print(f'Number classes: {len(set(labels.values()))}')"
   ]
  },
  {
   "cell_type": "code",
   "execution_count": 10,
   "metadata": {
    "execution": {
     "iopub.execute_input": "2022-01-15T19:18:57.614575Z",
     "iopub.status.busy": "2022-01-15T19:18:57.614308Z",
     "iopub.status.idle": "2022-01-15T19:18:57.624832Z",
     "shell.execute_reply": "2022-01-15T19:18:57.624150Z",
     "shell.execute_reply.started": "2022-01-15T19:18:57.614547Z"
    }
   },
   "outputs": [],
   "source": [
    "def copyfile(filename, target_dir):\n",
    "    \"\"\"Copy a file into a target directory.\"\"\"\n",
    "    os.makedirs(target_dir, exist_ok=True)\n",
    "    shutil.copy(filename, target_dir)\n",
    "\n",
    "def reorg_train_valid(data_dir, labels, valid_ratio):\n",
    "    \"\"\"Split the validation set out of the original training set.\"\"\"\n",
    "    # The number of examples of the class that has the fewest examples in the\n",
    "    # training dataset\n",
    "    n = collections.Counter(labels.values()).most_common()[-1][1]\n",
    "    # The number of examples per class for the validation set\n",
    "    n_valid_per_label = max(1, math.floor(n * valid_ratio))\n",
    "    label_count = {}\n",
    "    for train_file in os.listdir(os.path.join(data_dir, 'train')):\n",
    "        label = labels[train_file.split('.')[0]]\n",
    "        fname = os.path.join(data_dir, 'train', train_file)\n",
    "        copyfile(fname, os.path.join(data_dir, 'train_valid_test',\n",
    "                                     'train_valid', label))\n",
    "        if label not in label_count or label_count[label] < n_valid_per_label:\n",
    "            copyfile(fname, os.path.join(data_dir, 'train_valid_test',\n",
    "                                         'valid', label))\n",
    "            label_count[label] = label_count.get(label, 0) + 1\n",
    "        else:\n",
    "            copyfile(fname, os.path.join(data_dir, 'train_valid_test',\n",
    "                                         'train', label))\n",
    "    return n_valid_per_label"
   ]
  },
  {
   "cell_type": "code",
   "execution_count": 14,
   "metadata": {
    "execution": {
     "iopub.execute_input": "2022-01-15T19:19:41.898639Z",
     "iopub.status.busy": "2022-01-15T19:19:41.898215Z",
     "iopub.status.idle": "2022-01-15T19:19:41.904585Z",
     "shell.execute_reply": "2022-01-15T19:19:41.904024Z",
     "shell.execute_reply.started": "2022-01-15T19:19:41.898609Z"
    }
   },
   "outputs": [],
   "source": [
    "def reorg_test(data_dir):\n",
    "    \"\"\"Organize the testing set for data loading during prediction.\"\"\"\n",
    "    for test_file in os.listdir(os.path.join(data_dir, 'test')):\n",
    "        copyfile(os.path.join(data_dir, 'test', test_file),\n",
    "                 os.path.join(data_dir, 'train_valid_test', 'test',\n",
    "                              'unknown'))"
   ]
  },
  {
   "cell_type": "code",
   "execution_count": 15,
   "metadata": {
    "execution": {
     "iopub.execute_input": "2022-01-15T19:19:46.375356Z",
     "iopub.status.busy": "2022-01-15T19:19:46.374564Z",
     "iopub.status.idle": "2022-01-15T19:19:46.381750Z",
     "shell.execute_reply": "2022-01-15T19:19:46.379155Z",
     "shell.execute_reply.started": "2022-01-15T19:19:46.375295Z"
    }
   },
   "outputs": [],
   "source": [
    "def reorg_cifar10_data(data_dir, valid_ratio):\n",
    "    labels = read_csv_labels('/kaggle/input/cifar-10/trainLabels.csv')\n",
    "    reorg_train_valid(data_dir, labels, valid_ratio)\n",
    "    reorg_test(data_dir)"
   ]
  },
  {
   "cell_type": "code",
   "execution_count": 16,
   "metadata": {
    "execution": {
     "iopub.execute_input": "2022-01-15T19:19:48.946369Z",
     "iopub.status.busy": "2022-01-15T19:19:48.945452Z",
     "iopub.status.idle": "2022-01-15T19:22:19.157941Z",
     "shell.execute_reply": "2022-01-15T19:22:19.157029Z",
     "shell.execute_reply.started": "2022-01-15T19:19:48.946312Z"
    }
   },
   "outputs": [],
   "source": [
    "batch_size = 64\n",
    "valid_ratio = 0.1\n",
    "reorg_cifar10_data(data_dir, valid_ratio)"
   ]
  },
  {
   "cell_type": "code",
   "execution_count": 18,
   "metadata": {
    "execution": {
     "iopub.execute_input": "2022-01-15T19:22:55.175499Z",
     "iopub.status.busy": "2022-01-15T19:22:55.175179Z",
     "iopub.status.idle": "2022-01-15T19:22:55.181571Z",
     "shell.execute_reply": "2022-01-15T19:22:55.180517Z",
     "shell.execute_reply.started": "2022-01-15T19:22:55.175465Z"
    }
   },
   "outputs": [],
   "source": [
    "transform_train = torchvision.transforms.Compose([\n",
    "    # TODO,\n",
    "    # HorizontalFlip, RandomSizeCrop\n",
    "    torchvision.transforms.ToTensor(),\n",
    "    torchvision.transforms.Normalize([0.4914, 0.4822, 0.4465],\n",
    "                                     [0.2023, 0.1994, 0.2010])\n",
    "])\n",
    "\n",
    "transform_test = torchvision.transforms.Compose([\n",
    "    torchvision.transforms.ToTensor(),\n",
    "    torchvision.transforms.Normalize([0.4914, 0.4822, 0.4465],\n",
    "                                     [0.2023, 0.1994, 0.2010])])"
   ]
  },
  {
   "cell_type": "code",
   "execution_count": 27,
   "metadata": {
    "execution": {
     "iopub.execute_input": "2022-01-15T19:32:39.135951Z",
     "iopub.status.busy": "2022-01-15T19:32:39.135662Z",
     "iopub.status.idle": "2022-01-15T19:32:41.914085Z",
     "shell.execute_reply": "2022-01-15T19:32:41.913213Z",
     "shell.execute_reply.started": "2022-01-15T19:32:39.135923Z"
    }
   },
   "outputs": [],
   "source": [
    "train_ds, train_valid_ds = [torchvision.datasets.ImageFolder(\n",
    "    os.path.join(data_dir, 'train_valid_test', folder),\n",
    "    transform=transform_train) for folder in ['train', 'train_valid']]\n",
    "\n",
    "valid_ds, test_ds = [torchvision.datasets.ImageFolder(\n",
    "    os.path.join(data_dir, 'train_valid_test', folder),\n",
    "    transform=transform_test) for folder in ['valid', 'test']]\n",
    "\n",
    "train_iter, train_valid_iter = [torch.utils.data.DataLoader(\n",
    "    dataset, batch_size, shuffle=True, drop_last=True)\n",
    "    for dataset in (train_ds, train_valid_ds)]\n",
    "\n",
    "valid_iter = torch.utils.data.DataLoader(valid_ds, batch_size, shuffle=False,\n",
    "                                         drop_last=True)\n",
    "\n",
    "test_iter = torch.utils.data.DataLoader(test_ds, batch_size, shuffle=False,\n",
    "                                        drop_last=False)"
   ]
  },
  {
   "cell_type": "markdown",
   "metadata": {},
   "source": [
    "## TODO: \n",
    "* Define the data augmentation technique \n",
    "* Fine-tune a pre-trained ResNet-18 on CIFAR-10\n",
    "* Submit to Kaggle your submission file and get your accuracy on the test set"
   ]
  }
 ],
 "metadata": {
  "kernelspec": {
   "display_name": "Python 3",
   "language": "python",
   "name": "python3"
  },
  "language_info": {
   "codemirror_mode": {
    "name": "ipython",
    "version": 3
   },
   "file_extension": ".py",
   "mimetype": "text/x-python",
   "name": "python",
   "nbconvert_exporter": "python",
   "pygments_lexer": "ipython3",
   "version": "3.7.12"
  }
 },
 "nbformat": 4,
 "nbformat_minor": 4
}
