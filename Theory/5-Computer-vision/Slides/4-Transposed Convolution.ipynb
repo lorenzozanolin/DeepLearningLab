{
 "cells": [
  {
   "cell_type": "markdown",
   "id": "f5732147",
   "metadata": {},
   "source": [
    "# Transposed Convolution"
   ]
  },
  {
   "cell_type": "code",
   "execution_count": 2,
   "id": "d56a47f3",
   "metadata": {
    "slideshow": {
     "slide_type": "skip"
    }
   },
   "outputs": [],
   "source": [
    "import torch\n",
    "import torch.nn as nn"
   ]
  },
  {
   "cell_type": "markdown",
   "id": "30ada9d7",
   "metadata": {
    "slideshow": {
     "slide_type": "slide"
    }
   },
   "source": [
    "So far, we have seen convolution layers that are downsampling the spatial dimension of the input  \n",
    "However, for generative models, we need to upsample the signal  \n",
    "This can be done with transposed convolution layers whose forward operation corresponds to a convolution layer’s backward pass"
   ]
  },
  {
   "cell_type": "markdown",
   "id": "edcc489a",
   "metadata": {
    "slideshow": {
     "slide_type": "slide"
    }
   },
   "source": [
    "<center>\n",
    "    <img src='images/0011.jpg' />\n",
    "</center>"
   ]
  },
  {
   "cell_type": "markdown",
   "id": "1990ffd5",
   "metadata": {
    "slideshow": {
     "slide_type": "slide"
    }
   },
   "source": [
    "<center>\n",
    "    <img src='images/0012.jpg' />\n",
    "</center>"
   ]
  },
  {
   "cell_type": "markdown",
   "id": "3172ad1e",
   "metadata": {
    "slideshow": {
     "slide_type": "slide"
    }
   },
   "source": [
    "<center>\n",
    "    <img src='images/0013.jpg' />\n",
    "</center>"
   ]
  },
  {
   "cell_type": "markdown",
   "id": "2e84ca7e",
   "metadata": {
    "slideshow": {
     "slide_type": "slide"
    }
   },
   "source": [
    "<center>\n",
    "    <img src='images/0014.jpg' />\n",
    "</center>"
   ]
  },
  {
   "cell_type": "markdown",
   "id": "a63f89b1",
   "metadata": {
    "slideshow": {
     "slide_type": "slide"
    }
   },
   "source": [
    "<center>\n",
    "    <img src='images/0015.jpg' />\n",
    "</center>"
   ]
  },
  {
   "cell_type": "markdown",
   "id": "2f8447a9",
   "metadata": {
    "slideshow": {
     "slide_type": "slide"
    }
   },
   "source": [
    "<center>\n",
    "    <img src='images/0016.jpg' />\n",
    "</center>"
   ]
  },
  {
   "cell_type": "markdown",
   "id": "6e37521d",
   "metadata": {
    "slideshow": {
     "slide_type": "slide"
    }
   },
   "source": [
    "<center>\n",
    "    <img src='images/0017.jpg' />\n",
    "</center>"
   ]
  },
  {
   "cell_type": "markdown",
   "id": "a5974d4c",
   "metadata": {
    "slideshow": {
     "slide_type": "slide"
    }
   },
   "source": [
    "<center>\n",
    "    <img src='images/0018.jpg' />\n",
    "</center>"
   ]
  },
  {
   "cell_type": "markdown",
   "id": "da31857d",
   "metadata": {
    "slideshow": {
     "slide_type": "slide"
    }
   },
   "source": [
    "<center>\n",
    "    <img src='images/0019.jpg' />\n",
    "</center>"
   ]
  },
  {
   "cell_type": "markdown",
   "id": "23da4006",
   "metadata": {
    "slideshow": {
     "slide_type": "slide"
    }
   },
   "source": [
    "<center>\n",
    "    <img src='images/0020.jpg' />\n",
    "</center>"
   ]
  },
  {
   "cell_type": "markdown",
   "id": "ed4cccd0",
   "metadata": {
    "slideshow": {
     "slide_type": "slide"
    }
   },
   "source": [
    "<center>\n",
    "    <img src='images/0021.jpg' />\n",
    "</center>"
   ]
  },
  {
   "cell_type": "markdown",
   "id": "39dc81ca",
   "metadata": {
    "slideshow": {
     "slide_type": "slide"
    }
   },
   "source": [
    "<center>\n",
    "    <img src='images/0022.jpg' />\n",
    "</center>"
   ]
  },
  {
   "cell_type": "markdown",
   "id": "71894a8d",
   "metadata": {
    "slideshow": {
     "slide_type": "slide"
    }
   },
   "source": [
    "<center>\n",
    "    <img src='images/0023.jpg' />\n",
    "</center>"
   ]
  },
  {
   "cell_type": "markdown",
   "id": "9758dfda",
   "metadata": {
    "slideshow": {
     "slide_type": "slide"
    }
   },
   "source": [
    "<center>\n",
    "    <img src='images/0024.jpg' />\n",
    "</center>"
   ]
  },
  {
   "cell_type": "markdown",
   "id": "0a748b48",
   "metadata": {
    "slideshow": {
     "slide_type": "slide"
    }
   },
   "source": [
    "<center>\n",
    "    <img src='images/0025.jpg' />\n",
    "</center>"
   ]
  },
  {
   "cell_type": "markdown",
   "id": "30e7490e",
   "metadata": {
    "slideshow": {
     "slide_type": "slide"
    }
   },
   "source": [
    "<center>\n",
    "    <img src='images/0026.jpg' />\n",
    "</center>"
   ]
  },
  {
   "cell_type": "markdown",
   "id": "2175cca3",
   "metadata": {
    "slideshow": {
     "slide_type": "slide"
    }
   },
   "source": [
    "<center>\n",
    "    <img src='images/0027.jpg' />\n",
    "</center>"
   ]
  },
  {
   "cell_type": "code",
   "execution_count": null,
   "id": "11f3e8bf",
   "metadata": {
    "slideshow": {
     "slide_type": "skip"
    }
   },
   "outputs": [],
   "source": []
  }
 ],
 "metadata": {
  "celltoolbar": "Slideshow",
  "kernelspec": {
   "display_name": "deep-learning",
   "language": "python",
   "name": "deep-learning"
  },
  "language_info": {
   "codemirror_mode": {
    "name": "ipython",
    "version": 3
   },
   "file_extension": ".py",
   "mimetype": "text/x-python",
   "name": "python",
   "nbconvert_exporter": "python",
   "pygments_lexer": "ipython3",
   "version": "3.9.7"
  }
 },
 "nbformat": 4,
 "nbformat_minor": 5
}
