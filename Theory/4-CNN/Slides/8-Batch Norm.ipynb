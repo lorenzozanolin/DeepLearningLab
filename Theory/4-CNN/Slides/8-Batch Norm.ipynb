{
 "cells": [
  {
   "cell_type": "markdown",
   "id": "b5c7dbbe",
   "metadata": {
    "slideshow": {
     "slide_type": "-"
    }
   },
   "source": [
    "# Batch Norm\n",
    "\n",
    "Accelerate convergence of deep neural network"
   ]
  },
  {
   "cell_type": "code",
   "execution_count": 1,
   "id": "5b07c910",
   "metadata": {
    "slideshow": {
     "slide_type": "skip"
    }
   },
   "outputs": [],
   "source": [
    "import torch\n",
    "import torch.nn as nn"
   ]
  },
  {
   "cell_type": "markdown",
   "id": "45f03d70",
   "metadata": {
    "slideshow": {
     "slide_type": "slide"
    }
   },
   "source": [
    "Standardizing the input data point helps models convergence by setting the *a priori* scale of the parameters to a similar scale  \n",
    "But what about the intermediates layer latent features? They can take a wide range of magnitude from one to another"
   ]
  },
  {
   "cell_type": "markdown",
   "id": "271c98f9",
   "metadata": {
    "slideshow": {
     "slide_type": "slide"
    }
   },
   "source": [
    "To fix this phenomenon, we normalize the input by the **mean** and **standard deviation** of the batch. We then scale by a learned factor and offset coefficient\n",
    "\n",
    "$$\\mathrm{BN}(\\mathbf{x}) = \\boldsymbol{\\gamma} \\odot \\frac{\\mathbf{x} - \\hat{\\boldsymbol{\\mu}}_\\mathcal{B}}{\\hat{\\boldsymbol{\\sigma}}_\\mathcal{B}} + \\boldsymbol{\\beta}$$\n",
    "\n",
    "These coefficients allow the model to avoid having 0 mean and unit variance if it needs it\n",
    "\n",
    "The computation of mean and std on batch adds some noise during the training and regularizes. Thus we generally don't put **Dropout** after **BatchNorm**, or we set a dropout probability very low $\\approx 0.1$   \n",
    "During training, the **BatchNorm** layers keep a running estimate of the mean and std that will be used during evaluation time"
   ]
  },
  {
   "cell_type": "markdown",
   "id": "bb8b84cb",
   "metadata": {
    "slideshow": {
     "slide_type": "slide"
    }
   },
   "source": [
    "In the original paper, **BatchNorm** layers are placed before the activation function  \n",
    "However, it seems that putting **BatchNorm** after the activation function provides better performance (and makes more sense) even if some SOTA CNN architecture have **BatchNorm** layers before activation\n",
    "\n",
    "<center>\n",
    "    <img src='images/bn_activation.png' width=55% style=\"margin-left:auto; margin-right:auto\"/>\n",
    "    <p style=\"font-size:14px;\">Source: <a href='https://github.com/ducha-aiki/caffenet-benchmark/blob/master/batchnorm.md'>CaffeNet Benchmark</a></p>\n",
    "</center>\n",
    "\n",
    "For convolutional layers, the normalization is applied *per channel*"
   ]
  },
  {
   "cell_type": "code",
   "execution_count": 3,
   "id": "d6d231bd",
   "metadata": {
    "slideshow": {
     "slide_type": "slide"
    }
   },
   "outputs": [],
   "source": [
    "batch_norm_example = nn.Sequential(nn.Conv2d(1, 6, kernel_size=3), \n",
    "              nn.ReLU(),\n",
    "              nn.BatchNorm2d(6),\n",
    "              nn.MaxPool2d(kernel_size=2, stride=2)) # for batchNorm2d (i.e., images), we need to give the number of channels"
   ]
  },
  {
   "cell_type": "code",
   "execution_count": null,
   "id": "4b72aa7f",
   "metadata": {},
   "outputs": [],
   "source": []
  }
 ],
 "metadata": {
  "celltoolbar": "Slideshow",
  "kernelspec": {
   "display_name": "Python 3 (ipykernel)",
   "language": "python",
   "name": "python3"
  },
  "language_info": {
   "codemirror_mode": {
    "name": "ipython",
    "version": 3
   },
   "file_extension": ".py",
   "mimetype": "text/x-python",
   "name": "python",
   "nbconvert_exporter": "python",
   "pygments_lexer": "ipython3",
   "version": "3.9.7"
  }
 },
 "nbformat": 4,
 "nbformat_minor": 5
}
