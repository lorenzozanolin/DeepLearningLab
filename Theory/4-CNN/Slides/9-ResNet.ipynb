{
 "cells": [
  {
   "cell_type": "markdown",
   "id": "1bbbf00d",
   "metadata": {},
   "source": [
    "# ResNet\n",
    "\n",
    "ResNet architecture never dies: https://twitter.com/wightmanr/status/1444852719773122565"
   ]
  },
  {
   "cell_type": "code",
   "execution_count": 1,
   "id": "309de9e1",
   "metadata": {
    "slideshow": {
     "slide_type": "-"
    }
   },
   "outputs": [],
   "source": [
    "import torch\n",
    "from torch import nn\n",
    "from torch.nn import functional as F"
   ]
  },
  {
   "cell_type": "markdown",
   "id": "9921cd5a",
   "metadata": {
    "slideshow": {
     "slide_type": "slide"
    }
   },
   "source": [
    "Architectures we have seen before have 2 issues:\n",
    "* Intuitively, we could think that deeper neural networks are always better. While behind true *in theory*, in practice, it's not. If the *optimal* neural network has 8 layers and we designed one with 9, *in theory*, the last layer to be learned is the identity function. *In practice* it's extremely hard to learn this very function precisely.\n",
    "<center>\n",
    "    <img src='images/functionclasses.svg' width=55% style=\"margin-left:auto; margin-right:auto\"/>\n",
    "    <p style=\"font-size:14px;\">Source: <a href='http://d2l.ai/'>D2L</a></p>\n",
    "</center>\n",
    "* Even if **BatchNorm** greatly mitigate the vanishing gradient problem, this issue strikes back when the network becomes very deep."
   ]
  },
  {
   "cell_type": "markdown",
   "id": "75dde0ee",
   "metadata": {
    "slideshow": {
     "slide_type": "slide"
    }
   },
   "source": [
    "To mitigate this issue, **ResNet** introduces residual connections between blocks\n",
    "\n",
    "<center>\n",
    "    <img src='images/resnet-block.svg' width=55% style=\"margin-left:auto; margin-right:auto\"/>\n",
    "    <p style=\"font-size:14px;\">Source: <a href='http://d2l.ai/'>D2L</a></p>\n",
    "</center>"
   ]
  },
  {
   "cell_type": "markdown",
   "id": "549990b2",
   "metadata": {
    "slideshow": {
     "slide_type": "slide"
    }
   },
   "source": [
    "**ResNet** architecture is very similar to **VGG**'s one with 3x3 convolution while introducing **BatchNorm** layers  \n",
    "The residual connections enforce the number of channels on the input and output of each block to be equal. To do so, a 1x1 convolution layer is applied to the input to have a compatible channel dimension"
   ]
  },
  {
   "cell_type": "code",
   "execution_count": 2,
   "id": "863e70f1",
   "metadata": {},
   "outputs": [],
   "source": [
    "class Residual(nn.Module):\n",
    "    def __init__(self, input_channels, num_channels, use_1x1conv=False, strides=1):\n",
    "        super().__init__()\n",
    "        self.conv1 = nn.Conv2d(input_channels, num_channels, kernel_size=3,\n",
    "                               padding=1, stride=strides)\n",
    "        self.conv2 = nn.Conv2d(num_channels, num_channels, kernel_size=3,\n",
    "                               padding=1)\n",
    "        if use_1x1conv:\n",
    "            self.conv3 = nn.Conv2d(input_channels, num_channels,\n",
    "                                   kernel_size=1, stride=strides)\n",
    "        else:\n",
    "            self.conv3 = None\n",
    "        self.bn1 = nn.BatchNorm2d(num_channels)\n",
    "        self.bn2 = nn.BatchNorm2d(num_channels)\n",
    "\n",
    "    def forward(self, X):\n",
    "        Y = F.relu(self.bn1(self.conv1(X)))\n",
    "        Y = self.bn2(self.conv2(Y))\n",
    "        if self.conv3:\n",
    "            X = self.conv3(X)\n",
    "        Y += X\n",
    "        return F.relu(Y)"
   ]
  },
  {
   "cell_type": "markdown",
   "id": "647e422b",
   "metadata": {
    "slideshow": {
     "slide_type": "slide"
    }
   },
   "source": [
    "Same as for **GoogleLeNet**, first block is a 7x7 CNN with 64 output channels with a stride of 2 followed by a 3x3 MaxPooling layer with stride of 2"
   ]
  },
  {
   "cell_type": "code",
   "execution_count": 3,
   "id": "f4798104",
   "metadata": {},
   "outputs": [],
   "source": [
    "b1 = nn.Sequential(nn.Conv2d(3, 64, kernel_size=7, stride=2, padding=3),\n",
    "                              nn.BatchNorm2d(64), nn.ReLU(),\n",
    "                              nn.MaxPool2d(kernel_size=3, stride=2, padding=1))"
   ]
  },
  {
   "cell_type": "markdown",
   "id": "0b0d3b61",
   "metadata": {
    "slideshow": {
     "slide_type": "slide"
    }
   },
   "source": [
    "Number of convolutional layers depends on the choosen architecure (i.e. **ResNet-18**, **ResNet-34**, **ResNet-50**, **ResNet-101**, **ResNet-110**, **ResNet-152**, etc.)"
   ]
  },
  {
   "cell_type": "markdown",
   "id": "cd239545",
   "metadata": {},
   "source": [
    "<center>\n",
    "    <img src='images/resnet18.svg' width=15% height=15% style=\"margin-left:auto; margin-right:auto\"/>\n",
    "    <p style=\"font-size:14px;\">Source: <a href='http://d2l.ai/'>D2L</a></p>\n",
    "</center>"
   ]
  },
  {
   "cell_type": "code",
   "execution_count": 4,
   "id": "445d82aa",
   "metadata": {
    "slideshow": {
     "slide_type": "slide"
    }
   },
   "outputs": [],
   "source": [
    "def resnet_block(input_channels, num_channels, num_residuals):\n",
    "    blk = []\n",
    "    for i in range(num_residuals):\n",
    "        if i == 0 and input_channels != num_channels: # 1x1 applied only once per block if needed\n",
    "            blk.append(\n",
    "                Residual(input_channels, num_channels, use_1x1conv=True,\n",
    "                         strides=2))\n",
    "        else:\n",
    "            blk.append(Residual(num_channels, num_channels))\n",
    "    return blk"
   ]
  },
  {
   "cell_type": "markdown",
   "id": "b1fd8855",
   "metadata": {},
   "source": [
    "**ResNet-18**: 1 Convolution layer in the initial block, 16 in the ResNet blocks and 1 final linear layer"
   ]
  },
  {
   "cell_type": "code",
   "execution_count": 5,
   "id": "20341b73",
   "metadata": {},
   "outputs": [],
   "source": [
    "b2 = nn.Sequential(*resnet_block(64, 64, 2))\n",
    "b3 = nn.Sequential(*resnet_block(64, 128, 2))\n",
    "b4 = nn.Sequential(*resnet_block(128, 256, 2))\n",
    "b5 = nn.Sequential(*resnet_block(256, 512, 2))"
   ]
  },
  {
   "cell_type": "code",
   "execution_count": 6,
   "id": "64f976f3",
   "metadata": {},
   "outputs": [],
   "source": [
    "net = nn.Sequential(b1, b2, b3, b4, b5, nn.AdaptiveAvgPool2d((1, 1)),\n",
    "                    nn.Flatten(), nn.Linear(512, 10))"
   ]
  },
  {
   "cell_type": "code",
   "execution_count": 7,
   "id": "fbb9b7b0",
   "metadata": {
    "slideshow": {
     "slide_type": "slide"
    }
   },
   "outputs": [
    {
     "data": {
      "text/plain": [
       "==========================================================================================\n",
       "Layer (type:depth-idx)                   Output Shape              Param #\n",
       "==========================================================================================\n",
       "Sequential                               --                        --\n",
       "├─Sequential: 1-1                        [32, 64, 56, 56]          --\n",
       "│    └─Conv2d: 2-1                       [32, 64, 112, 112]        9,472\n",
       "│    └─BatchNorm2d: 2-2                  [32, 64, 112, 112]        128\n",
       "│    └─ReLU: 2-3                         [32, 64, 112, 112]        --\n",
       "│    └─MaxPool2d: 2-4                    [32, 64, 56, 56]          --\n",
       "├─Sequential: 1-2                        [32, 64, 56, 56]          --\n",
       "│    └─Residual: 2-5                     [32, 64, 56, 56]          --\n",
       "│    │    └─Conv2d: 3-1                  [32, 64, 56, 56]          36,928\n",
       "│    │    └─BatchNorm2d: 3-2             [32, 64, 56, 56]          128\n",
       "│    │    └─Conv2d: 3-3                  [32, 64, 56, 56]          36,928\n",
       "│    │    └─BatchNorm2d: 3-4             [32, 64, 56, 56]          128\n",
       "│    └─Residual: 2-6                     [32, 64, 56, 56]          --\n",
       "│    │    └─Conv2d: 3-5                  [32, 64, 56, 56]          36,928\n",
       "│    │    └─BatchNorm2d: 3-6             [32, 64, 56, 56]          128\n",
       "│    │    └─Conv2d: 3-7                  [32, 64, 56, 56]          36,928\n",
       "│    │    └─BatchNorm2d: 3-8             [32, 64, 56, 56]          128\n",
       "├─Sequential: 1-3                        [32, 128, 28, 28]         --\n",
       "│    └─Residual: 2-7                     [32, 128, 28, 28]         --\n",
       "│    │    └─Conv2d: 3-9                  [32, 128, 28, 28]         73,856\n",
       "│    │    └─BatchNorm2d: 3-10            [32, 128, 28, 28]         256\n",
       "│    │    └─Conv2d: 3-11                 [32, 128, 28, 28]         147,584\n",
       "│    │    └─BatchNorm2d: 3-12            [32, 128, 28, 28]         256\n",
       "│    │    └─Conv2d: 3-13                 [32, 128, 28, 28]         8,320\n",
       "│    └─Residual: 2-8                     [32, 128, 28, 28]         --\n",
       "│    │    └─Conv2d: 3-14                 [32, 128, 28, 28]         147,584\n",
       "│    │    └─BatchNorm2d: 3-15            [32, 128, 28, 28]         256\n",
       "│    │    └─Conv2d: 3-16                 [32, 128, 28, 28]         147,584\n",
       "│    │    └─BatchNorm2d: 3-17            [32, 128, 28, 28]         256\n",
       "├─Sequential: 1-4                        [32, 256, 14, 14]         --\n",
       "│    └─Residual: 2-9                     [32, 256, 14, 14]         --\n",
       "│    │    └─Conv2d: 3-18                 [32, 256, 14, 14]         295,168\n",
       "│    │    └─BatchNorm2d: 3-19            [32, 256, 14, 14]         512\n",
       "│    │    └─Conv2d: 3-20                 [32, 256, 14, 14]         590,080\n",
       "│    │    └─BatchNorm2d: 3-21            [32, 256, 14, 14]         512\n",
       "│    │    └─Conv2d: 3-22                 [32, 256, 14, 14]         33,024\n",
       "│    └─Residual: 2-10                    [32, 256, 14, 14]         --\n",
       "│    │    └─Conv2d: 3-23                 [32, 256, 14, 14]         590,080\n",
       "│    │    └─BatchNorm2d: 3-24            [32, 256, 14, 14]         512\n",
       "│    │    └─Conv2d: 3-25                 [32, 256, 14, 14]         590,080\n",
       "│    │    └─BatchNorm2d: 3-26            [32, 256, 14, 14]         512\n",
       "├─Sequential: 1-5                        [32, 512, 7, 7]           --\n",
       "│    └─Residual: 2-11                    [32, 512, 7, 7]           --\n",
       "│    │    └─Conv2d: 3-27                 [32, 512, 7, 7]           1,180,160\n",
       "│    │    └─BatchNorm2d: 3-28            [32, 512, 7, 7]           1,024\n",
       "│    │    └─Conv2d: 3-29                 [32, 512, 7, 7]           2,359,808\n",
       "│    │    └─BatchNorm2d: 3-30            [32, 512, 7, 7]           1,024\n",
       "│    │    └─Conv2d: 3-31                 [32, 512, 7, 7]           131,584\n",
       "│    └─Residual: 2-12                    [32, 512, 7, 7]           --\n",
       "│    │    └─Conv2d: 3-32                 [32, 512, 7, 7]           2,359,808\n",
       "│    │    └─BatchNorm2d: 3-33            [32, 512, 7, 7]           1,024\n",
       "│    │    └─Conv2d: 3-34                 [32, 512, 7, 7]           2,359,808\n",
       "│    │    └─BatchNorm2d: 3-35            [32, 512, 7, 7]           1,024\n",
       "├─AdaptiveAvgPool2d: 1-6                 [32, 512, 1, 1]           --\n",
       "├─Flatten: 1-7                           [32, 512]                 --\n",
       "├─Linear: 1-8                            [32, 10]                  5,130\n",
       "==========================================================================================\n",
       "Total params: 11,184,650\n",
       "Trainable params: 11,184,650\n",
       "Non-trainable params: 0\n",
       "Total mult-adds (G): 58.11\n",
       "==========================================================================================\n",
       "Input size (MB): 19.27\n",
       "Forward/backward pass size (MB): 1226.71\n",
       "Params size (MB): 44.74\n",
       "Estimated Total Size (MB): 1290.71\n",
       "=========================================================================================="
      ]
     },
     "execution_count": 7,
     "metadata": {},
     "output_type": "execute_result"
    }
   ],
   "source": [
    "from torchinfo import summary\n",
    "summary(net, input_size=(32, 3, 224, 224))"
   ]
  },
  {
   "cell_type": "code",
   "execution_count": null,
   "id": "12d9d2a7",
   "metadata": {},
   "outputs": [],
   "source": []
  }
 ],
 "metadata": {
  "celltoolbar": "Slideshow",
  "kernelspec": {
   "display_name": "Python 3 (ipykernel)",
   "language": "python",
   "name": "python3"
  },
  "language_info": {
   "codemirror_mode": {
    "name": "ipython",
    "version": 3
   },
   "file_extension": ".py",
   "mimetype": "text/x-python",
   "name": "python",
   "nbconvert_exporter": "python",
   "pygments_lexer": "ipython3",
   "version": "3.9.7"
  }
 },
 "nbformat": 4,
 "nbformat_minor": 5
}
