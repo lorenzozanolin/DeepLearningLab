{
 "cells": [
  {
   "cell_type": "markdown",
   "id": "3d40bc98",
   "metadata": {
    "slideshow": {
     "slide_type": "-"
    }
   },
   "source": [
    "# Network in Network"
   ]
  },
  {
   "cell_type": "code",
   "execution_count": 2,
   "id": "a8e6b5a5",
   "metadata": {
    "slideshow": {
     "slide_type": "skip"
    }
   },
   "outputs": [],
   "source": [
    "import torch\n",
    "from torch import nn"
   ]
  },
  {
   "cell_type": "markdown",
   "id": "ce11e0fc",
   "metadata": {
    "slideshow": {
     "slide_type": "slide"
    }
   },
   "source": [
    "To enhance model discriminability for local patches within the receptive field (i.e., across output channels), researchers proposed to apply an MLP on the channel for each pixel individually  \n",
    "\n",
    "A clever implementation trick is to apply a convolution layer of kernel size 1 to the output"
   ]
  },
  {
   "cell_type": "markdown",
   "id": "4ded22d9",
   "metadata": {},
   "source": [
    "<center>\n",
    "    <img src='images/nin.svg' width=50% style=\"margin-left:auto; margin-right:auto\"/>\n",
    "    <p style=\"font-size:14px;\">Source: <a href='http://d2l.ai/'>D2L</a></p>\n",
    "</center>"
   ]
  },
  {
   "cell_type": "code",
   "execution_count": 4,
   "id": "88ecfaf2",
   "metadata": {
    "slideshow": {
     "slide_type": "slide"
    }
   },
   "outputs": [],
   "source": [
    "def nin_block(in_channels, out_channels, kernel_size, strides, padding):\n",
    "    return nn.Sequential(\n",
    "        nn.Conv2d(in_channels, out_channels, kernel_size, strides, padding),\n",
    "        nn.ReLU(), nn.Conv2d(out_channels, out_channels, kernel_size=1),\n",
    "        nn.ReLU(), nn.Conv2d(out_channels, out_channels, kernel_size=1),\n",
    "        nn.ReLU())"
   ]
  },
  {
   "cell_type": "markdown",
   "id": "951c32d8",
   "metadata": {},
   "source": [
    "The 1x1 convolution helps to share information across the output channel (i.e., the extracted feature) while having a very low cost (few extra parameters)"
   ]
  },
  {
   "cell_type": "markdown",
   "id": "83ef69bb",
   "metadata": {},
   "source": [
    "An extra specificity of *NiN* is the absence of a fully connected layer at the output\n",
    "The number of output channels of the last block is equal to the number of classes. Then a global average pooling layer is applied to each output channel, producing logits"
   ]
  },
  {
   "cell_type": "code",
   "execution_count": null,
   "id": "6c710f9a",
   "metadata": {
    "slideshow": {
     "slide_type": "skip"
    }
   },
   "outputs": [],
   "source": []
  }
 ],
 "metadata": {
  "celltoolbar": "Slideshow",
  "kernelspec": {
   "display_name": "Python 3 (ipykernel)",
   "language": "python",
   "name": "python3"
  },
  "language_info": {
   "codemirror_mode": {
    "name": "ipython",
    "version": 3
   },
   "file_extension": ".py",
   "mimetype": "text/x-python",
   "name": "python",
   "nbconvert_exporter": "python",
   "pygments_lexer": "ipython3",
   "version": "3.9.13"
  }
 },
 "nbformat": 4,
 "nbformat_minor": 5
}
