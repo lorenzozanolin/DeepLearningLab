{
 "cells": [
  {
   "cell_type": "markdown",
   "id": "ddb042ca",
   "metadata": {
    "slideshow": {
     "slide_type": "-"
    }
   },
   "source": [
    "# LeNet\n",
    "\n",
    "Among the first ground breaking result for CNN"
   ]
  },
  {
   "cell_type": "code",
   "execution_count": 1,
   "id": "db98b7a4",
   "metadata": {
    "slideshow": {
     "slide_type": "skip"
    }
   },
   "outputs": [],
   "source": [
    "import torch\n",
    "import torch.nn as nn\n",
    "import torch.nn.functional as F\n",
    "import torch.optim as optim\n",
    "import wandb"
   ]
  },
  {
   "cell_type": "markdown",
   "id": "470524da",
   "metadata": {
    "slideshow": {
     "slide_type": "slide"
    }
   },
   "source": [
    "In the 90s, optical character recognition was a hot topic  \n",
    "Especially for banks who had to had to process millions of bank check a year (at that time, credit cards were not as popular as today)\n",
    "\n",
    "In 1998, Yann LeCun, Leon Bottou, Yoshua Bengio, and Patrick Haffner proposed a CNN architecture and a gradient-based approach to train it on handwritten character recognition (**MNIST** dataset)"
   ]
  },
  {
   "cell_type": "code",
   "execution_count": 2,
   "id": "6b23dca5",
   "metadata": {
    "slideshow": {
     "slide_type": "slide"
    }
   },
   "outputs": [
    {
     "data": {
      "text/html": [
       "\n",
       "        <iframe\n",
       "            width=\"560\"\n",
       "            height=\"315\"\n",
       "            src=\"https://www.youtube-nocookie.com/embed/FwFduRA_L6Q\"\n",
       "            frameborder=\"0\"\n",
       "            allowfullscreen\n",
       "            \n",
       "        ></iframe>\n",
       "        "
      ],
      "text/plain": [
       "<IPython.lib.display.IFrame at 0x1488cb670>"
      ]
     },
     "execution_count": 2,
     "metadata": {},
     "output_type": "execute_result"
    }
   ],
   "source": [
    "from IPython.display import IFrame\n",
    "IFrame('https://www.youtube-nocookie.com/embed/FwFduRA_L6Q',width=560, height=315)"
   ]
  },
  {
   "cell_type": "markdown",
   "id": "abdec2d7",
   "metadata": {
    "slideshow": {
     "slide_type": "slide"
    }
   },
   "source": [
    "<center>\n",
    "    <img src='images/mnist.png' width=\"65%\" style=\"margin-left:auto; margin-right:auto\"/>\n",
    "    <p style=\"font-size:14px;\">Source: <a href='http://vision.stanford.edu/cs598_spring07/papers/Lecun98.pdf'>LeCun's MNIST paper</a></p>\n",
    "</center>"
   ]
  },
  {
   "cell_type": "code",
   "execution_count": 3,
   "id": "f74d68f2",
   "metadata": {
    "slideshow": {
     "slide_type": "-"
    }
   },
   "outputs": [],
   "source": [
    "class LeCunRevisited(nn.Module):\n",
    "    \n",
    "    def __init__(self):\n",
    "        super(LeCunRevisited, self).__init__()\n",
    "        self.conv1 = nn.Conv2d(1, 6, 5)\n",
    "        self.conv2 = nn.Conv2d(6, 16, 5)\n",
    "        self.fc1 = nn.Linear(16 * 5 * 5, 120)  # 5*5 from image dimension\n",
    "        self.fc2 = nn.Linear(120, 84)\n",
    "        self.fc3 = nn.Linear(84, 10)\n",
    "        self.max_pool = nn.MaxPool2d(kernel_size=2) # original uses AvgPool, kernel size 2 divide the ouput by 4\n",
    "        \n",
    "    def forward(self, x):\n",
    "        x = self.max_pool(F.relu(self.conv1(x)))\n",
    "        x = self.max_pool(F.relu(self.conv2(x)))\n",
    "        x = x.reshape(x.size(0), -1)\n",
    "        x = F.relu(self.fc1(x)) # original uses Sigmoid\n",
    "        x = F.relu(self.fc2(x))\n",
    "        return self.fc3(x)"
   ]
  },
  {
   "cell_type": "code",
   "execution_count": 4,
   "id": "6e019d6e",
   "metadata": {
    "slideshow": {
     "slide_type": "slide"
    }
   },
   "outputs": [
    {
     "data": {
      "text/plain": [
       "tensor([[-0.1359,  0.0311, -0.0336, -0.0388,  0.0132,  0.0497,  0.0007, -0.0014,\n",
       "         -0.1168,  0.0448],\n",
       "        [-0.1307,  0.0708, -0.0664, -0.0187, -0.0031,  0.0550,  0.0124,  0.0043,\n",
       "         -0.0965,  0.0405]], grad_fn=<AddmmBackward0>)"
      ]
     },
     "execution_count": 4,
     "metadata": {},
     "output_type": "execute_result"
    }
   ],
   "source": [
    "net = LeCunRevisited()\n",
    "net(torch.randn(2, 1, 32, 32))"
   ]
  },
  {
   "cell_type": "markdown",
   "id": "09bc48ee",
   "metadata": {
    "slideshow": {
     "slide_type": "slide"
    }
   },
   "source": [
    "Let's now solve MNIST using *LeCun* architecture\n",
    "\n",
    "First, let's download the data"
   ]
  },
  {
   "cell_type": "code",
   "execution_count": 5,
   "id": "90d75d62",
   "metadata": {},
   "outputs": [],
   "source": [
    "import torchvision\n",
    "from torchvision import transforms\n",
    "mnist_train = torchvision.datasets.MNIST(root='data', train=True, download=True, transform=transforms.ToTensor())\n",
    "mnist_test = torchvision.datasets.MNIST(root='data', train=False, download=True, transform=transforms.ToTensor())\n"
   ]
  },
  {
   "cell_type": "code",
   "execution_count": 6,
   "id": "31b9f34e",
   "metadata": {
    "slideshow": {
     "slide_type": "slide"
    }
   },
   "outputs": [
    {
     "name": "stdout",
     "output_type": "stream",
     "text": [
      "Number of training examples: 60000\n",
      "Number of test examples: 10000\n",
      "Image size: torch.Size([1, 28, 28])\n"
     ]
    }
   ],
   "source": [
    "print(f'Number of training examples: {len(mnist_train)}')\n",
    "print(f'Number of test examples: {len(mnist_test)}')\n",
    "print(f'Image size: {mnist_train[0][0].shape}')"
   ]
  },
  {
   "cell_type": "markdown",
   "id": "19bb5f61",
   "metadata": {},
   "source": [
    "Notice that the MNIST data from *torchvision* are 28x28 compare to the 32x32 from *LeCun*'s paper"
   ]
  },
  {
   "cell_type": "markdown",
   "id": "7562c138",
   "metadata": {
    "slideshow": {
     "slide_type": "slide"
    }
   },
   "source": [
    "It's always a good idea to look at our data before doing anything"
   ]
  },
  {
   "cell_type": "code",
   "execution_count": 7,
   "id": "e69b0e1d",
   "metadata": {},
   "outputs": [
    {
     "data": {
      "image/png": "[encoded data removed]",
      "text/plain": [
       "<Figure size 640x480 with 1 Axes>"
      ]
     },
     "metadata": {},
     "output_type": "display_data"
    }
   ],
   "source": [
    "import matplotlib.pyplot as plt\n",
    "import numpy as np\n",
    "\n",
    "def show(img, title=None):\n",
    "    npimg = img.numpy()\n",
    "    plt.imshow(np.transpose(npimg, (1, 2, 0)), interpolation='nearest')\n",
    "    if title is not None:\n",
    "        plt.title(title)\n",
    "    plt.show()\n",
    "\n",
    "show(mnist_train[0][0], mnist_train[0][1])"
   ]
  },
  {
   "cell_type": "markdown",
   "id": "bcb50ad8",
   "metadata": {
    "slideshow": {
     "slide_type": "slide"
    }
   },
   "source": [
    "Now let's create the dataloaders so we can have batch to train/test our network on"
   ]
  },
  {
   "cell_type": "code",
   "execution_count": 8,
   "id": "bb4b135f",
   "metadata": {},
   "outputs": [],
   "source": [
    "mnist_dataloader_train = torch.utils.data.DataLoader(mnist_train, batch_size=64, shuffle=True)\n",
    "mnist_dataloader_test = torch.utils.data.DataLoader(mnist_test, batch_size=64, shuffle=False)"
   ]
  },
  {
   "cell_type": "markdown",
   "id": "33422f77",
   "metadata": {
    "slideshow": {
     "slide_type": "slide"
    }
   },
   "source": [
    "We have to define a *LeCun* model that is compatible with the 28*28 input image"
   ]
  },
  {
   "cell_type": "code",
   "execution_count": 16,
   "id": "2a102fd2",
   "metadata": {},
   "outputs": [
    {
     "data": {
      "text/plain": [
       "LeCunRevisited(\n",
       "  (conv1): Conv2d(1, 6, kernel_size=(3, 3), stride=(1, 1))\n",
       "  (conv2): Conv2d(6, 16, kernel_size=(3, 3), stride=(1, 1))\n",
       "  (conv3): Conv2d(16, 32, kernel_size=(3, 3), stride=(1, 1))\n",
       "  (fc): Linear(in_features=32, out_features=10, bias=True)\n",
       "  (max_pool): MaxPool2d(kernel_size=2, stride=2, padding=0, dilation=1, ceil_mode=False)\n",
       "  (adaptive_avg_pool): AdaptiveAvgPool2d(output_size=1)\n",
       ")"
      ]
     },
     "execution_count": 16,
     "metadata": {},
     "output_type": "execute_result"
    }
   ],
   "source": [
    "device = torch.device(\"cuda:0\" if torch.cuda.is_available() else \"cpu\")\n",
    "\n",
    "class LeCunRevisited(nn.Module):\n",
    "\n",
    "    def __init__(self):\n",
    "        super(LeCunRevisited, self).__init__()\n",
    "        self.conv1 = nn.Conv2d(1, 6, 3)\n",
    "        self.conv2 = nn.Conv2d(6, 16, 3)\n",
    "        self.conv3 = nn.Conv2d(16, 32, 3)\n",
    "        self.fc = nn.Linear(32, 10)\n",
    "        self.max_pool = nn.MaxPool2d(kernel_size=2)\n",
    "        self.adaptive_avg_pool = nn.AdaptiveAvgPool2d(1)\n",
    "\n",
    "    def forward(self, x):\n",
    "        x = self.max_pool(F.relu(self.conv1(x)))\n",
    "        x = self.max_pool(F.relu(self.conv2(x)))\n",
    "        x = F.relu(self.conv3(x))\n",
    "        x = self.adaptive_avg_pool(x)\n",
    "        x = x.reshape(x.size(0), -1)\n",
    "        return self.fc(x)\n",
    "\n",
    "model = LeCunRevisited()\n",
    "model.to(device)"
   ]
  },
  {
   "cell_type": "markdown",
   "id": "e18422bd",
   "metadata": {
    "slideshow": {
     "slide_type": "slide"
    }
   },
   "source": [
    "Our traditional training loop"
   ]
  },
  {
   "cell_type": "code",
   "execution_count": 17,
   "id": "a945e6c2",
   "metadata": {},
   "outputs": [],
   "source": [
    "criterion = nn.CrossEntropyLoss()\n",
    "optimizer = optim.SGD(model.parameters(), lr=0.01, momentum=0.9)"
   ]
  },
  {
   "cell_type": "code",
   "execution_count": 18,
   "id": "a0f10715",
   "metadata": {},
   "outputs": [
    {
     "data": {
      "text/html": [
       "Finishing last run (ID:2hefks79) before initializing another..."
      ],
      "text/plain": [
       "<IPython.core.display.HTML object>"
      ]
     },
     "metadata": {},
     "output_type": "display_data"
    },
    {
     "data": {
      "text/html": [
       "<br/>Waiting for W&B process to finish, PID 2577... <strong style=\"color:green\">(success).</strong>"
      ],
      "text/plain": [
       "<IPython.core.display.HTML object>"
      ]
     },
     "metadata": {},
     "output_type": "display_data"
    },
    {
     "data": {
      "application/vnd.jupyter.widget-view+json": {
       "model_id": "",
       "version_major": 2,
       "version_minor": 0
      },
      "text/plain": [
       "VBox(children=(Label(value=' 1.71MB of 1.71MB uploaded (0.00MB deduped)\\r'), FloatProgress(value=1.0, max=1.0)…"
      ]
     },
     "metadata": {},
     "output_type": "display_data"
    },
    {
     "data": {
      "text/html": [
       "<style>\n",
       "    table.wandb td:nth-child(1) { padding: 0 10px; text-align: right }\n",
       "    .wandb-row { display: flex; flex-direction: row; flex-wrap: wrap; width: 100% }\n",
       "    .wandb-col { display: flex; flex-direction: column; flex-basis: 100%; flex: 1; padding: 10px; }\n",
       "    </style>\n",
       "<div class=\"wandb-row\"><div class=\"wandb-col\">\n",
       "</div><div class=\"wandb-col\">\n",
       "</div></div>\n",
       "Synced 6 W&B file(s), 0 media file(s), 0 artifact file(s) and 0 other file(s)\n",
       "<br/>Synced <strong style=\"color:#cdcd00\">winter-galaxy-7</strong>: <a href=\"https://wandb.ai/ingambe/LeCunExample/runs/2hefks79\" target=\"_blank\">https://wandb.ai/ingambe/LeCunExample/runs/2hefks79</a><br/>\n",
       "Find logs at: <code>./wandb/run-20221128_115051-2hefks79/logs</code><br/>\n"
      ],
      "text/plain": [
       "<IPython.core.display.HTML object>"
      ]
     },
     "metadata": {},
     "output_type": "display_data"
    },
    {
     "data": {
      "text/html": [
       "Successfully finished last run (ID:2hefks79). Initializing new run:<br/>"
      ],
      "text/plain": [
       "<IPython.core.display.HTML object>"
      ]
     },
     "metadata": {},
     "output_type": "display_data"
    },
    {
     "name": "stderr",
     "output_type": "stream",
     "text": [
      "\u001b[34m\u001b[1mwandb\u001b[0m: wandb version 0.13.5 is available!  To upgrade, please run:\n",
      "\u001b[34m\u001b[1mwandb\u001b[0m:  $ pip install wandb --upgrade\n"
     ]
    },
    {
     "data": {
      "text/html": [
       "\n",
       "                    Syncing run <strong><a href=\"https://wandb.ai/ingambe/LeCunExample/runs/1c41vhlb\" target=\"_blank\">apricot-firebrand-8</a></strong> to <a href=\"https://wandb.ai/ingambe/LeCunExample\" target=\"_blank\">Weights & Biases</a> (<a href=\"https://docs.wandb.com/integrations/jupyter.html\" target=\"_blank\">docs</a>).<br/>\n",
       "\n",
       "                "
      ],
      "text/plain": [
       "<IPython.core.display.HTML object>"
      ]
     },
     "metadata": {},
     "output_type": "display_data"
    },
    {
     "name": "stderr",
     "output_type": "stream",
     "text": [
      "wandb: Network error (ConnectionError), entering retry loop.\n"
     ]
    }
   ],
   "source": [
    "wandb.init(project='LeCunExample')\n",
    "\n",
    "epochs = 5\n",
    "for epoch in range(epochs):\n",
    "    running_loss = 0.0\n",
    "    running_acc = 0.0\n",
    "    i = 0\n",
    "    for i, data in enumerate(mnist_dataloader_train):\n",
    "        inputs, labels = data\n",
    "        inputs, labels = inputs.to(device), labels.to(device)\n",
    "        optimizer.zero_grad()\n",
    "        outputs = model(inputs)\n",
    "        loss = criterion(outputs, labels)\n",
    "        loss.backward()\n",
    "        optimizer.step()\n",
    "        with torch.no_grad():\n",
    "            running_loss += loss.cpu().item()\n",
    "            _, predicted = torch.max(outputs.data, 1)\n",
    "            predicted = predicted.cpu()\n",
    "            running_acc += (predicted == labels).float().mean().item()\n",
    "    wandb.log({'loss': running_loss / (i + 1),\n",
    "                'acc': running_acc / (i + 1),\n",
    "                'epoch': epoch + 1})\n"
   ]
  },
  {
   "cell_type": "markdown",
   "id": "d64cc213",
   "metadata": {
    "slideshow": {
     "slide_type": "slide"
    }
   },
   "source": [
    "We now need to check the accuracy on the test dataset"
   ]
  },
  {
   "cell_type": "code",
   "execution_count": null,
   "id": "054c06b5",
   "metadata": {},
   "outputs": [],
   "source": [
    "with torch.no_grad():\n",
    "    correct = 0\n",
    "    total = 0\n",
    "    for data in mnist_dataloader_test:\n",
    "        images, labels = data\n",
    "        images, labels = images.to(device), labels.to(device)\n",
    "        outputs = model(images)\n",
    "        _, predicted = torch.max(outputs.data, 1)\n",
    "        total += labels.size(0)\n",
    "        correct += (predicted == labels).sum().item()\n",
    "    print(f'Accuracy of the network on the {total} test images dataset: {100 * correct / total}%')"
   ]
  },
  {
   "cell_type": "markdown",
   "id": "1a9a4cbb",
   "metadata": {
    "slideshow": {
     "slide_type": "slide"
    }
   },
   "source": [
    "Great! Now let's save our awesome model to the disk"
   ]
  },
  {
   "cell_type": "code",
   "execution_count": null,
   "id": "c7e5d0dd",
   "metadata": {},
   "outputs": [],
   "source": [
    "torch.save(model.state_dict(), 'mnist.pth')\n",
    "wandb.save('mnist.pth')"
   ]
  },
  {
   "cell_type": "code",
   "execution_count": null,
   "id": "dbc7f645",
   "metadata": {
    "slideshow": {
     "slide_type": "skip"
    }
   },
   "outputs": [],
   "source": []
  }
 ],
 "metadata": {
  "celltoolbar": "Slideshow",
  "kernelspec": {
   "display_name": "deep-learning",
   "language": "python",
   "name": "deep-learning"
  },
  "language_info": {
   "codemirror_mode": {
    "name": "ipython",
    "version": 3
   },
   "file_extension": ".py",
   "mimetype": "text/x-python",
   "name": "python",
   "nbconvert_exporter": "python",
   "pygments_lexer": "ipython3",
   "version": "3.9.13"
  }
 },
 "nbformat": 4,
 "nbformat_minor": 5
}
