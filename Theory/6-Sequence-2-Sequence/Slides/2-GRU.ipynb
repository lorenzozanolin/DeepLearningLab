{
 "cells": [
  {
   "cell_type": "markdown",
   "id": "b6355b75",
   "metadata": {},
   "source": [
    "# GRU"
   ]
  },
  {
   "cell_type": "markdown",
   "id": "d93fb495",
   "metadata": {},
   "source": [
    "There are 3 main problems with 'vanilla' RNNs:\n",
    "* Some information needs to be remembered for a long time\n",
    "* Some information needs to be skipped\n",
    "* In case of a change of context, we should reset the memory state"
   ]
  },
  {
   "cell_type": "markdown",
   "id": "a6c0ca5e",
   "metadata": {
    "slideshow": {
     "slide_type": "slide"
    }
   },
   "source": [
    "**GRU** is an architecture which allows the network to decide when to *reset* and *update* the memory state"
   ]
  },
  {
   "cell_type": "markdown",
   "id": "1290a910",
   "metadata": {},
   "source": [
    "Compared to 'vanilla' RNN, we learn extra weight to decide what we will keep and what we will update from the input and the previous hidden state (i.e., the memory)\n",
    "\n",
    "<center>\n",
    "    <img src='data/gru-1.svg' width=\"65%\" style=\"margin-left:auto; margin-right:auto\"/>\n",
    "    <p style=\"font-size:14px;\">Source: <a href='d2l.ai'>D2L</a></p>\n",
    "</center>"
   ]
  },
  {
   "cell_type": "markdown",
   "id": "1bface33",
   "metadata": {
    "slideshow": {
     "slide_type": "slide"
    }
   },
   "source": [
    "Each gate, is a function of the input $\\mathbf{X}_t$ and the previous hidden state $\\mathbf{H}_{t-1}$ which determine the next hidden state $\\mathbf{H}_t$\n",
    "\n",
    "\\begin{split}\n",
    "\\begin{aligned}\n",
    "\\mathbf{R}_t = \\sigma(\\mathbf{X}_t \\mathbf{W}_{xr} + \\mathbf{H}_{t-1} \\mathbf{W}_{hr} + \\mathbf{b}_r)\\\\\n",
    "\\mathbf{Z}_t = \\sigma(\\mathbf{X}_t \\mathbf{W}_{xz} + \\mathbf{H}_{t-1} \\mathbf{W}_{hz} + \\mathbf{b}_z)\n",
    "\\end{aligned}\n",
    "\\end{split}\n",
    "\n",
    "We apply sigmoid ($\\sigma$) to ensure that both $\\mathbf{R}_t$ and $\\mathbf{Z}_t$ have value between $[0, 1]$"
   ]
  },
  {
   "cell_type": "markdown",
   "id": "58271228",
   "metadata": {
    "slideshow": {
     "slide_type": "slide"
    }
   },
   "source": [
    "Once we have, $\\mathbf{R}_t$ and $\\mathbf{Z}_t$, we can update $\\mathbf{H}_{t-1}$ to obtain a candidate $\\tilde{\\mathbf{H}}_t$:\n",
    "$$\n",
    "\\tilde{\\mathbf{H}}_t = \\tanh(\\mathbf{X}_t \\mathbf{W}_{xh} + \\left(\\mathbf{R}_t \\odot \\mathbf{H}_{t-1}\\right) \\mathbf{W}_{hh} + \\mathbf{b}_h)\n",
    "$$\n",
    "With $\\odot$ being the **elementwise** product. \n",
    "\n",
    "Remember, $\\mathbf{R}_t \\in [0, 1]$. Thus, $\\mathbf{R}_t$ decide which part of the previous state needs to be added to the new hidden state and which part needs to be removed\n",
    "\n",
    "<center>\n",
    "    <img src='data/gru-2.svg' width=\"65%\" style=\"margin-left:auto; margin-right:auto\"/>\n",
    "    <p style=\"font-size:14px;\">Source: <a href='d2l.ai'>D2L</a></p>\n",
    "</center>"
   ]
  },
  {
   "cell_type": "markdown",
   "id": "b77234a1",
   "metadata": {
    "slideshow": {
     "slide_type": "slide"
    }
   },
   "source": [
    "Now that we have computed our candidate hidden state, we use $\\mathbf{Z}_t$ to determine how much we should keep from the previous hidden state and how much we should update\n",
    "\n",
    "$$\n",
    "\\mathbf{H}_t = \\mathbf{Z}_t \\odot \\mathbf{H}_{t-1}  + (1 - \\mathbf{Z}_t) \\odot \\tilde{\\mathbf{H}}_t\n",
    "$$\n",
    "\n",
    "<center>\n",
    "    <img src='data/gru-3.svg' width=\"65%\" style=\"margin-left:auto; margin-right:auto\"/>\n",
    "    <p style=\"font-size:14px;\">Source: <a href='d2l.ai'>D2L</a></p>\n",
    "</center>"
   ]
  },
  {
   "cell_type": "markdown",
   "id": "d4dd86c3",
   "metadata": {
    "slideshow": {
     "slide_type": "slide"
    }
   },
   "source": [
    "Let's go back to our 3 issues with RNNs:\n",
    "* **Some information needs to be remembered for a long time**: The update gate can keep part of the hidden state unchanged for a long time\n",
    "* **Some information needs to be skipped**: The update gate can prevent update of the hidden state\n",
    "* **In case of a change of context, we should reset the memory state**: We can fully reset the hidden state by having a reset gate and an update gate with 0 values"
   ]
  },
  {
   "cell_type": "markdown",
   "id": "f30042dd",
   "metadata": {
    "slideshow": {
     "slide_type": "slide"
    }
   },
   "source": [
    "In Pytorch, replacing RNN with GRU is straightforward"
   ]
  },
  {
   "cell_type": "code",
   "execution_count": 3,
   "id": "3c69c5e7",
   "metadata": {
    "slideshow": {
     "slide_type": "-"
    }
   },
   "outputs": [],
   "source": [
    "import torch.nn as nn\n",
    "num_inputs = 8\n",
    "num_hiddens = 16\n",
    "gru_layer = nn.GRU(num_inputs, num_hiddens)"
   ]
  },
  {
   "cell_type": "code",
   "execution_count": null,
   "id": "fa4011e4",
   "metadata": {
    "slideshow": {
     "slide_type": "skip"
    }
   },
   "outputs": [],
   "source": []
  }
 ],
 "metadata": {
  "celltoolbar": "Slideshow",
  "kernelspec": {
   "display_name": "deep-learning",
   "language": "python",
   "name": "deep-learning"
  },
  "language_info": {
   "codemirror_mode": {
    "name": "ipython",
    "version": 3
   },
   "file_extension": ".py",
   "mimetype": "text/x-python",
   "name": "python",
   "nbconvert_exporter": "python",
   "pygments_lexer": "ipython3",
   "version": "3.9.13"
  }
 },
 "nbformat": 4,
 "nbformat_minor": 5
}
