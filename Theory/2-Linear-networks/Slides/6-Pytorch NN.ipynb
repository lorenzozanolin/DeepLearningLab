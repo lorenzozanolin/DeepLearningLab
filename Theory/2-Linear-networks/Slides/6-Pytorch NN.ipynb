{
 "cells": [
  {
   "cell_type": "markdown",
   "id": "d28b98ef",
   "metadata": {},
   "source": [
    "## Pytorch NN API\n",
    "\n",
    "Pytorch already includes everything we need to train a linear model in less than 10 lines of code!"
   ]
  },
  {
   "cell_type": "code",
   "execution_count": 1,
   "id": "885a3bc9",
   "metadata": {
    "slideshow": {
     "slide_type": "skip"
    }
   },
   "outputs": [],
   "source": [
    "%matplotlib inline\n",
    "import random\n",
    "import torch\n",
    "from torch.utils import data\n",
    "from d2l import torch as d2l"
   ]
  },
  {
   "cell_type": "code",
   "execution_count": 2,
   "id": "c086c7ea",
   "metadata": {
    "slideshow": {
     "slide_type": "slide"
    }
   },
   "outputs": [
    {
     "name": "stderr",
     "output_type": "stream",
     "text": [
      "\u001B[34m\u001B[1mwandb\u001B[0m: Currently logged in as: \u001B[33mingambe\u001B[0m (use `wandb login --relogin` to force relogin)\n",
      "\u001B[34m\u001B[1mwandb\u001B[0m: wandb version 0.13.4 is available!  To upgrade, please run:\n",
      "\u001B[34m\u001B[1mwandb\u001B[0m:  $ pip install wandb --upgrade\n"
     ]
    },
    {
     "data": {
      "text/html": [
       "\n",
       "                    Syncing run <strong><a href=\"https://wandb.ai/ingambe/course/runs/2znxka57\" target=\"_blank\">drawn-deluge-14</a></strong> to <a href=\"https://wandb.ai/ingambe/course\" target=\"_blank\">Weights & Biases</a> (<a href=\"https://docs.wandb.com/integrations/jupyter.html\" target=\"_blank\">docs</a>).<br/>\n",
       "\n",
       "                "
      ],
      "text/plain": [
       "<IPython.core.display.HTML object>"
      ]
     },
     "metadata": {},
     "output_type": "display_data"
    },
    {
     "data": {
      "text/html": [
       "<button onClick=\"this.nextSibling.style.display='block';this.style.display='none';\">Display W&B run</button><iframe src=\"https://wandb.ai/ingambe/course/runs/2znxka57?jupyter=true\" style=\"border:none;width:100%;height:420px;display:none;\"></iframe>"
      ],
      "text/plain": [
       "<wandb.sdk.wandb_run.Run at 0x297aa7880>"
      ]
     },
     "execution_count": 2,
     "metadata": {},
     "output_type": "execute_result"
    }
   ],
   "source": [
    "import wandb\n",
    "wandb.init(project='course') # specify the project of the current run"
   ]
  },
  {
   "cell_type": "code",
   "execution_count": 3,
   "id": "630a6827",
   "metadata": {
    "slideshow": {
     "slide_type": "slide"
    }
   },
   "outputs": [],
   "source": [
    "true_w = torch.tensor([2, -3.4, 5, 6])\n",
    "true_b = 2.4\n",
    "features, labels = d2l.synthetic_data(true_w, true_b, 2000)"
   ]
  },
  {
   "cell_type": "code",
   "execution_count": 4,
   "id": "ee15a747",
   "metadata": {
    "slideshow": {
     "slide_type": "-"
    }
   },
   "outputs": [],
   "source": [
    "def load_array(data_arrays, batch_size, is_train=True):\n",
    "    dataset = data.TensorDataset(*data_arrays)\n",
    "    return data.DataLoader(dataset, batch_size, shuffle=is_train)\n",
    "\n",
    "batch_size = 32\n",
    "data_iter = load_array((features, labels), batch_size)"
   ]
  },
  {
   "cell_type": "markdown",
   "id": "1d5eb666",
   "metadata": {
    "slideshow": {
     "slide_type": "-"
    }
   },
   "source": [
    "We can now iterate over minibtaches"
   ]
  },
  {
   "cell_type": "code",
   "execution_count": 5,
   "id": "cb5d27e4",
   "metadata": {},
   "outputs": [
    {
     "data": {
      "text/plain": [
       "[tensor([[ 6.3635e-01,  4.8927e-01,  8.2714e-01,  1.3653e+00],\n",
       "         [ 1.9924e+00,  1.2636e-01, -7.5565e-01, -9.1860e-01],\n",
       "         [-7.7989e-01, -1.6402e-01, -9.0170e-02,  2.6409e-01],\n",
       "         [ 1.7871e-01, -2.4488e-01, -7.8882e-01, -4.8697e-01],\n",
       "         [-1.3268e+00,  2.5297e-01, -3.7057e-01, -1.8454e+00],\n",
       "         [ 6.8182e-01,  3.8303e-01, -2.9347e-01, -8.0288e-02],\n",
       "         [-6.5389e-01, -2.8404e-01,  1.0362e-01,  3.7658e-01],\n",
       "         [-1.4634e+00, -6.4507e-01, -1.4562e+00,  7.2889e-01],\n",
       "         [-2.3555e+00,  7.6512e-01, -2.0183e-01, -3.4557e-01],\n",
       "         [ 5.1456e-01,  4.7775e-03,  2.7780e-01, -1.1815e+00],\n",
       "         [ 4.9889e-01,  1.6713e-01,  1.9295e-01,  5.7369e-02],\n",
       "         [-5.0471e-01, -1.2754e+00,  1.2549e+00,  9.9695e-01],\n",
       "         [-3.0187e-01, -1.3290e+00, -8.3497e-01, -2.6912e-01],\n",
       "         [-1.0125e+00,  6.7595e-01,  1.6548e-01, -6.0050e-01],\n",
       "         [ 1.0572e+00, -1.2656e+00, -1.2197e+00, -3.6436e-01],\n",
       "         [-1.8293e+00,  4.2128e-01,  3.9109e-01,  3.9792e-01],\n",
       "         [-1.6474e+00, -1.1768e+00,  1.2186e+00, -6.3082e-01],\n",
       "         [-4.6076e-01,  9.2131e-01, -1.5282e-01,  1.6337e+00],\n",
       "         [ 4.1167e-01,  1.7831e-03, -1.4909e-02,  3.8284e-01],\n",
       "         [-1.1990e+00,  7.3907e-01, -9.5263e-01, -4.4511e-01],\n",
       "         [-2.6851e-01,  1.9566e-01, -2.2465e-01, -9.5415e-01],\n",
       "         [ 1.2246e+00,  4.9553e-01,  2.5624e+00, -1.4162e+00],\n",
       "         [-5.6919e-01,  1.0905e+00, -1.4740e+00,  1.8330e-02],\n",
       "         [-1.3630e+00, -8.9490e-01, -1.2916e-01, -3.6340e-01],\n",
       "         [-5.6954e-01, -1.1153e+00,  1.5843e-01, -1.5524e+00],\n",
       "         [-5.9475e-01, -6.3572e-02, -7.4420e-01, -9.3204e-01],\n",
       "         [ 3.1283e-02,  1.9225e+00, -2.6058e-01, -4.6219e-03],\n",
       "         [-8.6032e-01, -5.9907e-01,  1.0558e+00,  1.9611e-01],\n",
       "         [-6.3909e-01,  1.1313e+00,  6.7489e-01,  7.6821e-02],\n",
       "         [-1.6263e+00, -5.3665e-01, -1.2805e+00,  6.7816e-02],\n",
       "         [ 6.7216e-01, -4.7108e-01,  4.0079e-01, -2.5580e-01],\n",
       "         [ 4.1786e-01, -2.3704e+00, -1.4185e+00, -1.8306e+00]]),\n",
       " tensor([[ 14.3400],\n",
       "         [ -3.3474],\n",
       "         [  2.5417],\n",
       "         [ -3.2705],\n",
       "         [-14.0436],\n",
       "         [  0.5115],\n",
       "         [  4.8335],\n",
       "         [ -1.2492],\n",
       "         [ -8.0000],\n",
       "         [ -2.2925],\n",
       "         [  4.1302],\n",
       "         [ 17.9807],\n",
       "         [  0.5179],\n",
       "         [ -4.6979],\n",
       "         [  0.5256],\n",
       "         [  1.6409],\n",
       "         [  5.3987],\n",
       "         [  7.3891],\n",
       "         [  5.4431],\n",
       "         [ -9.9171],\n",
       "         [ -5.6416],\n",
       "         [  7.4518],\n",
       "         [ -9.7216],\n",
       "         [ -0.1055],\n",
       "         [ -3.4956],\n",
       "         [ -7.8817],\n",
       "         [ -5.4187],\n",
       "         [  9.1629],\n",
       "         [  1.1140],\n",
       "         [ -5.0157],\n",
       "         [  5.8141],\n",
       "         [ -6.7774]])]"
      ]
     },
     "execution_count": 5,
     "metadata": {},
     "output_type": "execute_result"
    }
   ],
   "source": [
    "next(iter(data_iter))"
   ]
  },
  {
   "cell_type": "markdown",
   "id": "2b571b09",
   "metadata": {
    "slideshow": {
     "slide_type": "slide"
    }
   },
   "source": [
    "For standard operations, we can **use a framework's predefined layers,**\n",
    "which allow us to focus on the layers used to construct the model\n",
    "rather than having to focus on the implementation.\n",
    "\n",
    "The `Sequential` class defines a container\n",
    "for several layers that will be chained together.\n",
    "Given input data, a `Sequential` instance passes it through\n",
    "the first layer, in turn passing the output\n",
    "as the second layer's input and so forth.\n",
    "\n",
    "The layer is said to be *fully-connected*\n",
    "because each of its inputs is connected to each of its outputs\n",
    "by means of a matrix-vector multiplication."
   ]
  },
  {
   "cell_type": "code",
   "execution_count": 6,
   "id": "48343d99",
   "metadata": {},
   "outputs": [],
   "source": [
    "# `nn` is an abbreviation for neural networks\n",
    "from torch import nn\n",
    "\n",
    "net = nn.Sequential(nn.Linear(4, 1))"
   ]
  },
  {
   "cell_type": "markdown",
   "id": "46f23d59",
   "metadata": {
    "slideshow": {
     "slide_type": "slide"
    }
   },
   "source": [
    "We need to initialize the model parameters. By default Pytorch initialize the weight using an uniform distribution considering the size of the layer.\n",
    "\n",
    "You should **always** initialize your layer\n",
    "\n",
    "<center><img src=\"images/weights init.jpeg\" /></center>"
   ]
  },
  {
   "cell_type": "markdown",
   "id": "4439d9f2",
   "metadata": {
    "slideshow": {
     "slide_type": "slide"
    }
   },
   "source": [
    "Gradient descent doesn't move you far away from the initial starting point\n",
    "\n",
    "The literature is full of different weight initialization techniques\n",
    "\n",
    "You can write yours:"
   ]
  },
  {
   "cell_type": "code",
   "execution_count": 7,
   "id": "b30bb9dc",
   "metadata": {},
   "outputs": [
    {
     "data": {
      "text/plain": [
       "tensor([[ 0.0090,  0.0003,  0.0039, -0.0010]])"
      ]
     },
     "execution_count": 7,
     "metadata": {},
     "output_type": "execute_result"
    }
   ],
   "source": [
    "net[0].weight.data.normal_(0, 0.01) # net[0] is the first layer\n",
    "net[0].bias.data.fill_(0)\n",
    "net[0].weight.data"
   ]
  },
  {
   "cell_type": "markdown",
   "id": "b08ca6db",
   "metadata": {},
   "source": [
    "99.9999% of the time you will use one from the literature: [See Pytorch init doc](https://pytorch.org/docs/stable/nn.init.html)\n",
    "\n",
    "I recommend **Xavier normal**. It usually works well.\n",
    "If you have time/ressource, you can try different init and pick the best ;)"
   ]
  },
  {
   "cell_type": "code",
   "execution_count": 8,
   "id": "605492ef",
   "metadata": {},
   "outputs": [
    {
     "data": {
      "text/plain": [
       "tensor([[ 1.1035, -0.7534,  0.5630, -0.2494]])"
      ]
     },
     "execution_count": 8,
     "metadata": {},
     "output_type": "execute_result"
    }
   ],
   "source": [
    "def _weights_init(m):\n",
    "    if isinstance(m, nn.Linear):\n",
    "        torch.nn.init.xavier_normal_(m.weight)\n",
    "        m.bias.data.zero_()\n",
    "        \n",
    "net.apply(_weights_init)\n",
    "net[0].weight.data"
   ]
  },
  {
   "cell_type": "code",
   "execution_count": 9,
   "id": "a47fbb47",
   "metadata": {},
   "outputs": [
    {
     "data": {
      "text/plain": [
       "tensor([0.])"
      ]
     },
     "execution_count": 9,
     "metadata": {},
     "output_type": "execute_result"
    }
   ],
   "source": [
    "net[0].bias.data"
   ]
  },
  {
   "cell_type": "markdown",
   "id": "ffaa0622",
   "metadata": {
    "slideshow": {
     "slide_type": "slide"
    }
   },
   "source": [
    "Then we need to define the loss function we will use  \n",
    "The `MSELoss` class computes the mean squared error, also known as squared $L_2$ norm  \n",
    "By default, it returns the average loss over examples."
   ]
  },
  {
   "cell_type": "code",
   "execution_count": 10,
   "id": "6f2d84ff",
   "metadata": {},
   "outputs": [],
   "source": [
    "loss = nn.MSELoss()"
   ]
  },
  {
   "cell_type": "markdown",
   "id": "90f195d6",
   "metadata": {
    "slideshow": {
     "slide_type": "slide"
    }
   },
   "source": [
    "Weights and Biases can kee an eye on your model, login the structure and the gradient"
   ]
  },
  {
   "cell_type": "code",
   "execution_count": 11,
   "id": "ae50a6be",
   "metadata": {},
   "outputs": [
    {
     "name": "stderr",
     "output_type": "stream",
     "text": [
      "\u001B[34m\u001B[1mwandb\u001B[0m: logging graph, to disable use `wandb.watch(log_graph=False)`\n"
     ]
    },
    {
     "data": {
      "text/plain": [
       "[<wandb.wandb_torch.TorchGraph at 0x297acea00>]"
      ]
     },
     "execution_count": 11,
     "metadata": {},
     "output_type": "execute_result"
    }
   ],
   "source": [
    "wandb.watch(net, log=\"all\", criterion=loss, log_freq=1,  log_graph=(True)) #log frequency depend on your training"
   ]
  },
  {
   "cell_type": "markdown",
   "id": "d32d40a4",
   "metadata": {
    "slideshow": {
     "slide_type": "slide"
    }
   },
   "source": [
    "Last piece of the puzzle, we need to define the optimizer  \n",
    "When we (**instantiate an `SGD` instance,**) we will specify the parameters to optimize over (obtainable from our net via `net.parameters()`), with a dictionary of hyperparameters required by our optimization algorithm  \n",
    "Minibatch stochastic gradient descent just requires that we set the value `lr`, which is set to 0.03 here."
   ]
  },
  {
   "cell_type": "code",
   "execution_count": 12,
   "id": "02ec64dd",
   "metadata": {},
   "outputs": [],
   "source": [
    "optim = torch.optim.SGD(net.parameters(), lr=3e-2)"
   ]
  },
  {
   "cell_type": "code",
   "execution_count": 13,
   "id": "4217580f",
   "metadata": {},
   "outputs": [
    {
     "data": {
      "text/plain": [
       "Parameter containing:\n",
       "tensor([[ 1.1035, -0.7534,  0.5630, -0.2494]], requires_grad=True)"
      ]
     },
     "execution_count": 13,
     "metadata": {},
     "output_type": "execute_result"
    }
   ],
   "source": [
    "next(net.parameters())"
   ]
  },
  {
   "cell_type": "markdown",
   "id": "ddc550c0",
   "metadata": {
    "slideshow": {
     "slide_type": "slide"
    }
   },
   "source": [
    "Let's put everything together !\n",
    "\n",
    "The training loop itself is strikingly similar to what we did when implementing everything from scratch.\n",
    "\n",
    "For each minibatch, we go through the following ritual:\n",
    "\n",
    "* Generate predictions by calling `net(X)` and calculate the loss `l` (the forward propagation).\n",
    "* Calculate gradients by running the backpropagation.\n",
    "* Update the model parameters by invoking our optimizer.\n",
    "\n",
    "For good measure, we compute the loss after each epoch and print it to monitor progress."
   ]
  },
  {
   "cell_type": "code",
   "execution_count": 14,
   "id": "a8520988",
   "metadata": {},
   "outputs": [
    {
     "name": "stdout",
     "output_type": "stream",
     "text": [
      "epoch 1, loss 0.02376747503876686\n",
      "epoch 2, loss 0.00010779940930660814\n",
      "epoch 3, loss 9.956611756933853e-05\n",
      "epoch 4, loss 0.00010070821008412167\n",
      "epoch 5, loss 9.94472939055413e-05\n",
      "epoch 6, loss 9.973853593692183e-05\n",
      "epoch 7, loss 9.96062153717503e-05\n",
      "epoch 8, loss 0.00010021294292528182\n",
      "epoch 9, loss 9.957335714716464e-05\n",
      "epoch 10, loss 9.98900577542372e-05\n"
     ]
    }
   ],
   "source": [
    "num_epochs = 10\n",
    "for epoch in range(num_epochs):\n",
    "    for X, y in data_iter:\n",
    "        y_hat = net(X)\n",
    "        l = loss(y_hat, y)\n",
    "        optim.zero_grad() # please don't forget!\n",
    "        l.backward() # remember: You need to tell w.r.t what the gradient is computed\n",
    "        optim.step() # do a step in the gradient direction\n",
    "    with torch.no_grad():\n",
    "        l = loss(net(features), labels) \n",
    "        print(f'epoch {epoch + 1}, loss {l.item()}')\n",
    "        wandb.log({'loss': l.item()}, step=epoch)"
   ]
  },
  {
   "cell_type": "markdown",
   "id": "1863865c",
   "metadata": {
    "slideshow": {
     "slide_type": "slide"
    }
   },
   "source": [
    "# ⚠️ NEVER FORGET TO ZERO_GRAD THE OPTIMIZER ⚠️"
   ]
  },
  {
   "cell_type": "markdown",
   "id": "53a5b438",
   "metadata": {
    "slideshow": {
     "slide_type": "slide"
    }
   },
   "source": [
    "By default the optimizer accumulate the gradient!\n",
    "\n",
    "If you don't set it back to 0, it will keep previous gradient and sum them!\n",
    "\n",
    "If your model doesn't converge check this first!"
   ]
  },
  {
   "cell_type": "markdown",
   "id": "c8ce8575",
   "metadata": {
    "slideshow": {
     "slide_type": "slide"
    }
   },
   "source": [
    "Now let's compare the true parameters and the learned one:"
   ]
  },
  {
   "cell_type": "code",
   "execution_count": 15,
   "id": "5925519f",
   "metadata": {},
   "outputs": [
    {
     "name": "stdout",
     "output_type": "stream",
     "text": [
      "error in estimating w: tensor([-4.2677e-05,  6.3443e-04,  2.7037e-04, -8.1682e-04])\n",
      "error in estimating b: tensor([0.0006])\n"
     ]
    }
   ],
   "source": [
    "w = net[0].weight.data\n",
    "print('error in estimating w:', true_w - w.reshape(true_w.shape))\n",
    "b = net[0].bias.data\n",
    "print('error in estimating b:', true_b - b)"
   ]
  },
  {
   "cell_type": "markdown",
   "id": "f7f2f62a",
   "metadata": {
    "slideshow": {
     "slide_type": "slide"
    }
   },
   "source": [
    "We can save and load model to reuse them later"
   ]
  },
  {
   "cell_type": "code",
   "execution_count": 16,
   "id": "b444356a",
   "metadata": {},
   "outputs": [
    {
     "data": {
      "text/plain": [
       "OrderedDict([('0.weight', tensor([[ 2.0000, -3.4006,  4.9997,  6.0008]])),\n",
       "             ('0.bias', tensor([2.3994]))])"
      ]
     },
     "execution_count": 16,
     "metadata": {},
     "output_type": "execute_result"
    }
   ],
   "source": [
    "net.state_dict()"
   ]
  },
  {
   "cell_type": "code",
   "execution_count": 17,
   "id": "78f39bd3",
   "metadata": {},
   "outputs": [],
   "source": [
    "torch.save(net.state_dict(), 'my_model.pt')"
   ]
  },
  {
   "cell_type": "markdown",
   "id": "958c04ad",
   "metadata": {
    "slideshow": {
     "slide_type": "slide"
    }
   },
   "source": [
    "This save model's parameters as a dictionnary, but **doesn't save the structure** of the neural network"
   ]
  },
  {
   "cell_type": "code",
   "execution_count": 18,
   "id": "1cc584d8",
   "metadata": {},
   "outputs": [
    {
     "data": {
      "text/plain": [
       "OrderedDict([('0.weight', tensor([[ 2.0000, -3.4006,  4.9997,  6.0008]])),\n",
       "             ('0.bias', tensor([2.3994]))])"
      ]
     },
     "execution_count": 18,
     "metadata": {},
     "output_type": "execute_result"
    },
    {
     "name": "stderr",
     "output_type": "stream",
     "text": [
      "wandb: Network error (ConnectionError), entering retry loop.\n"
     ]
    }
   ],
   "source": [
    "new_model = nn.Sequential(nn.Linear(4, 1))\n",
    "new_model.load_state_dict(torch.load('my_model.pt'))\n",
    "new_model.state_dict()"
   ]
  },
  {
   "cell_type": "code",
   "execution_count": null,
   "id": "eeef5cbb",
   "metadata": {
    "slideshow": {
     "slide_type": "skip"
    }
   },
   "outputs": [],
   "source": []
  }
 ],
 "metadata": {
  "celltoolbar": "Slideshow",
  "kernelspec": {
   "display_name": "Python 3 (ipykernel)",
   "language": "python",
   "name": "python3"
  },
  "language_info": {
   "codemirror_mode": {
    "name": "ipython",
    "version": 3
   },
   "file_extension": ".py",
   "mimetype": "text/x-python",
   "name": "python",
   "nbconvert_exporter": "python",
   "pygments_lexer": "ipython3",
   "version": "3.9.13"
  }
 },
 "nbformat": 4,
 "nbformat_minor": 5
}
