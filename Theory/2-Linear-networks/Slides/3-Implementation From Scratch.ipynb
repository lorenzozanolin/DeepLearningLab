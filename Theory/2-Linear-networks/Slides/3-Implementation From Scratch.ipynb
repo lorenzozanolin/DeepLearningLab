{
 "cells": [
  {
   "cell_type": "markdown",
   "metadata": {
    "slideshow": {
     "slide_type": "-"
    }
   },
   "source": [
    "# Linear Regression Implementation\n",
    "\n"
   ]
  },
  {
   "cell_type": "code",
   "execution_count": 1,
   "metadata": {
    "origin_pos": 3,
    "slideshow": {
     "slide_type": "skip"
    },
    "tab": [
     "pytorch"
    ]
   },
   "outputs": [],
   "source": [
    "%matplotlib inline\n",
    "import random\n",
    "import torch"
   ]
  },
  {
   "cell_type": "markdown",
   "metadata": {
    "slideshow": {
     "slide_type": "slide"
    }
   },
   "source": [
    "## Dataset Generation\n",
    "\n",
    "We will generate synthetic data with a linear distribution.\n",
    "\n",
    "To be more realistic, we add noise $\\epsilon$ to the data. You could think of $\\epsilon$ as capturing potential measurement errors on the features and labels.\n",
    "\n",
    "$$\\mathbf{y}= \\mathbf{X} \\mathbf{w} + b + \\mathbf\\epsilon$$"
   ]
  },
  {
   "cell_type": "markdown",
   "metadata": {},
   "source": [
    "We generate 1000 examples, each consisting of 2 features drawn from a standard normal distribution.\n",
    "Thus our synthetic dataset will be a matrix $\\mathbf{X}\\in \\mathbb{R}^{1000 \\times 2}$."
   ]
  },
  {
   "cell_type": "code",
   "execution_count": 2,
   "metadata": {
    "origin_pos": 8,
    "slideshow": {
     "slide_type": "slide"
    },
    "tab": [
     "pytorch"
    ]
   },
   "outputs": [],
   "source": [
    "def synthetic_data(w, b, num_examples):     #per generare il dataset, in questo caso usa i weights corretti\n",
    "    \"\"\"Generate y = Xw + b + noise.\"\"\"\n",
    "    X = torch.normal(0, 1, (num_examples, len(w)))\n",
    "    y = torch.matmul(X, w) + b\n",
    "    y += torch.normal(0, 0.01, y.shape)\n",
    "    return X, y.reshape((-1, 1))    #il primo è il tensore che contiene le due features, il secondo è la y, ovvero la predizione\n",
    "\n",
    "true_w = torch.tensor([2, -3.4])\n",
    "true_b = 4.2\n",
    "features, labels = synthetic_data(true_w, true_b, 1000)"
   ]
  },
  {
   "cell_type": "markdown",
   "metadata": {
    "slideshow": {
     "slide_type": "slide"
    }
   },
   "source": [
    "Each row in `features` consists of a vector in $\\mathbb{R}^2$ and each row in `labels` is a scalar"
   ]
  },
  {
   "cell_type": "code",
   "execution_count": 3,
   "metadata": {
    "origin_pos": 10,
    "tab": [
     "pytorch"
    ]
   },
   "outputs": [
    {
     "name": "stdout",
     "output_type": "stream",
     "text": [
      "features: tensor([ 1.8333, -0.2282]) \n",
      "label: tensor([8.6425])\n"
     ]
    }
   ],
   "source": [
    "print('features:', features[0], '\\nlabel:', labels[0])  # label indica la predizione (un valore continuo)"
   ]
  },
  {
   "cell_type": "code",
   "execution_count": 4,
   "metadata": {
    "slideshow": {
     "slide_type": "slide"
    }
   },
   "outputs": [
    {
     "data": {
      "image/png": "[encoded data removed]",
      "text/plain": [
       "<Figure size 640x480 with 1 Axes>"
      ]
     },
     "metadata": {},
     "output_type": "display_data"
    }
   ],
   "source": [
    "import matplotlib.pyplot as plt\n",
    "plt.scatter(features[:, (1)].detach().numpy(), labels.detach().numpy(), 1)\n",
    "# style\n",
    "plt.title('Scatter plot of the features and labels')\n",
    "plt.xlabel('features')\n",
    "plt.ylabel('labels')\n",
    "# increase font size\n",
    "plt.rcParams.update({'font.size': 22})\n",
    "# increase size of the dot\n",
    "plt.rcParams['lines.markersize'] = 10\n",
    "plt.show()"
   ]
  },
  {
   "cell_type": "markdown",
   "metadata": {
    "slideshow": {
     "slide_type": "slide"
    }
   },
   "source": [
    "Define the `data_iter` function.\n",
    "Takes a batch size, a matrix of features, and a vector of labels and generates minibatches of size `batch_size`\n",
    "Each minibatch consists of a tuple of features and labels."
   ]
  },
  {
   "cell_type": "code",
   "execution_count": 5,
   "metadata": {
    "origin_pos": 14,
    "tab": [
     "pytorch"
    ]
   },
   "outputs": [],
   "source": [
    "def data_iter(batch_size, features, labels):\n",
    "    num_examples = len(features)\n",
    "    indices = list(range(num_examples))\n",
    "    # The examples are read at random, in no particular order\n",
    "    random.shuffle(indices)\n",
    "    for i in range(0, num_examples, batch_size):\n",
    "        batch_indices = torch.tensor(indices[i:min(i +\n",
    "                                                   batch_size, num_examples)])\n",
    "        yield features[batch_indices], labels[batch_indices]"
   ]
  },
  {
   "cell_type": "markdown",
   "metadata": {},
   "source": [
    "We need to separate train and test data\n",
    "We set the proportion of test to train at 30%\n",
    "\n",
    "\n",
    "<img src=\"images/sklearn.jpeg\">"
   ]
  },
  {
   "cell_type": "code",
   "execution_count": 6,
   "metadata": {},
   "outputs": [],
   "source": [
    "from sklearn.model_selection import train_test_split\n",
    "X_train, X_test, y_train, y_test = train_test_split(features, labels, test_size=0.3, random_state=0)    #X sono le features, Y sono gli output"
   ]
  },
  {
   "cell_type": "markdown",
   "metadata": {
    "slideshow": {
     "slide_type": "slide"
    }
   },
   "source": [
    "Call the existing API in a framework to load data"
   ]
  },
  {
   "cell_type": "code",
   "execution_count": 7,
   "metadata": {
    "attributes": {
     "classes": [],
     "id": "",
     "n": "4"
    },
    "origin_pos": 18,
    "tab": [
     "pytorch"
    ]
   },
   "outputs": [
    {
     "name": "stdout",
     "output_type": "stream",
     "text": [
      "tensor([[-0.2802,  0.0652],\n",
      "        [ 0.2917,  0.0641],\n",
      "        [ 0.3373, -1.1489],\n",
      "        [-1.1988, -0.4372],\n",
      "        [-0.9641,  1.0670],\n",
      "        [ 0.0188, -0.5806],\n",
      "        [-1.4589, -0.8870],\n",
      "        [-2.1484,  0.2421],\n",
      "        [ 0.0099,  1.5328],\n",
      "        [ 1.3912, -0.1555],\n",
      "        [ 0.3333,  1.1372],\n",
      "        [-1.4236,  1.6273],\n",
      "        [-0.9447,  1.2858],\n",
      "        [-0.6456, -0.2737],\n",
      "        [ 0.7867,  0.1152],\n",
      "        [-1.5307,  0.6886]]) \n",
      " tensor([[ 3.4134],\n",
      "        [ 4.5780],\n",
      "        [ 8.7797],\n",
      "        [ 3.2797],\n",
      "        [-1.3503],\n",
      "        [ 6.1978],\n",
      "        [ 4.2975],\n",
      "        [-0.9083],\n",
      "        [-0.9974],\n",
      "        [ 7.5025],\n",
      "        [ 0.9938],\n",
      "        [-4.1959],\n",
      "        [-2.0530],\n",
      "        [ 3.8483],\n",
      "        [ 5.3735],\n",
      "        [-1.1972]])\n"
     ]
    }
   ],
   "source": [
    "batch_size = 16\n",
    "\n",
    "for X, y in data_iter(batch_size, X_train, y_train):\n",
    "    print(X, '\\n', y)\n",
    "    break"
   ]
  },
  {
   "cell_type": "markdown",
   "metadata": {
    "slideshow": {
     "slide_type": "slide"
    }
   },
   "source": [
    "## Model Definition\n",
    "\n",
    "To train using minibatch SGD, we first need to initialize model's parameters.\n",
    "\n",
    "We will initialize weights by sampling random numbers from a normal distribution with mean 0 and a standard deviation of 0.01, and setting the bias to 0."
   ]
  },
  {
   "cell_type": "code",
   "execution_count": 8,
   "metadata": {
    "slideshow": {
     "slide_type": "slide"
    }
   },
   "outputs": [],
   "source": [
    "w = torch.normal(0, 0.01, size=(2, 1), requires_grad=True)\n",
    "b = torch.zeros(1, requires_grad=True)\n",
    "\n",
    "def linreg(X, w, b):\n",
    "    return torch.matmul(X, w) + b"
   ]
  },
  {
   "cell_type": "markdown",
   "metadata": {},
   "source": [
    "To calculate the output of the linear model, we simply take the matrix-vector dot product of the input features $X$ and the model weights $w$, and add the offset $b$ to each example."
   ]
  },
  {
   "cell_type": "markdown",
   "metadata": {
    "slideshow": {
     "slide_type": "slide"
    }
   },
   "source": [
    "## Train The Model"
   ]
  },
  {
   "cell_type": "markdown",
   "metadata": {},
   "source": [
    "Since updating our model requires taking the gradient of our loss function with respect to the parameters, we have to define the loss function first.\n",
    "\n",
    "Given this gradient, we can update each parameter in the direction that may reduce the loss."
   ]
  },
  {
   "cell_type": "markdown",
   "metadata": {
    "slideshow": {
     "slide_type": "slide"
    }
   },
   "source": [
    "**Squared error** $$l^{(i)}(\\mathbf{w}, b) = \\frac{1}{2} \\left(\\hat{y}^{(i)} - y^{(i)}\\right)^2.$$"
   ]
  },
  {
   "cell_type": "code",
   "execution_count": 9,
   "metadata": {},
   "outputs": [],
   "source": [
    "def squared_loss(y_hat, y):\n",
    "    return (y_hat - y.reshape(y_hat.shape))**2 / 2"
   ]
  },
  {
   "cell_type": "markdown",
   "metadata": {
    "slideshow": {
     "slide_type": "slide"
    }
   },
   "source": [
    "We use automatic differentiation to estimate the gradient of the loss with respect to our parameters using one minibtach randomly drawn from our dataset\n",
    "\n",
    "Next, we update our parameters in the direction that may reduce the loss.\n",
    "\n",
    "The size of the update step is determined by the learning rate ```lr```.\n",
    "\n",
    "Because our loss is calculated as a sum over the minibatch of examples, we normalize our step size by the batch size, so that the magnitude of a typical step size does not depend heavily on our choice of the batch size."
   ]
  },
  {
   "cell_type": "code",
   "execution_count": 10,
   "metadata": {},
   "outputs": [],
   "source": [
    "def sgd(params, lr, batch_size):\n",
    "    with torch.no_grad():\n",
    "        for param in params:\n",
    "            param -= lr * param.grad / batch_size\n",
    "            param.grad.zero_()"
   ]
  },
  {
   "cell_type": "markdown",
   "metadata": {
    "slideshow": {
     "slide_type": "slide"
    }
   },
   "source": [
    "In each ```epoch```, we will execute the following loop:\n",
    "\n",
    "<ol>\n",
    "        <li>Compute gradient $\\mathbf{g} \\leftarrow \\partial_{(\\mathbf{w},b)} \\frac{1}{|\\mathcal{B}|} \\sum_{i \\in \\mathcal{B}} l(\\mathbf{x}^{(i)}, y^{(i)}, \\mathbf{w}, b)$</li>\n",
    "        <li>Update parameters $(\\mathbf{w}, b) \\leftarrow (\\mathbf{w}, b) - \\eta \\mathbf{g}$</li>\n",
    "</ol>"
   ]
  },
  {
   "cell_type": "code",
   "execution_count": 25,
   "metadata": {},
   "outputs": [
    {
     "name": "stdout",
     "output_type": "stream",
     "text": [
      "epoch 1, loss 0.000050\n",
      "epoch 2, loss 0.000050\n",
      "epoch 3, loss 0.000050\n",
      "epoch 4, loss 0.000050\n",
      "epoch 5, loss 0.000050\n",
      "epoch 6, loss 0.000050\n",
      "epoch 7, loss 0.000050\n",
      "epoch 8, loss 0.000050\n",
      "epoch 9, loss 0.000050\n",
      "epoch 10, loss 0.000050\n"
     ]
    }
   ],
   "source": [
    "lr = 0.01\n",
    "num_epochs = 10\n",
    "net = linreg\n",
    "loss = squared_loss\n",
    "\n",
    "for epoch in range(num_epochs):\n",
    "    for X, y in data_iter(batch_size, X_train, y_train):\n",
    "        l = loss(net(X, w, b), y)  # Minibatch loss in `X` and `y`, lo fa per un singolo minibatch\n",
    "        # Compute gradient on `l` with respect to [`w`, `b`]\n",
    "        l.sum().backward()  #somma perche ci sono piu elementi, sum the gradient over the mini-batch which further reduces the variance of the gradient.\n",
    "        sgd([w, b], lr, batch_size)  # Update parameters using their gradient\n",
    "    with torch.no_grad():\n",
    "        train_l = loss(net(features, w, b), labels)\n",
    "        print(f'epoch {epoch + 1}, loss {float(train_l.mean()):f}')"
   ]
  },
  {
   "cell_type": "markdown",
   "metadata": {},
   "source": [
    "We need to check that the loss on the test dataset is also low"
   ]
  },
  {
   "cell_type": "code",
   "execution_count": 26,
   "metadata": {},
   "outputs": [
    {
     "name": "stdout",
     "output_type": "stream",
     "text": [
      "loss on the test dataset 0.000051\n"
     ]
    }
   ],
   "source": [
    "# test on the test dataset\n",
    "with torch.no_grad():\n",
    "    test_l = 0\n",
    "    for X, y in data_iter(batch_size, X_test, y_test):\n",
    "        test_l += loss(net(X, w, b), y).sum()\n",
    "    test_l /= len(X_test)\n",
    "    print(f'loss on the test dataset {float(test_l):f}')"
   ]
  },
  {
   "cell_type": "markdown",
   "metadata": {
    "slideshow": {
     "slide_type": "slide"
    }
   },
   "source": [
    "Because we have generated the data ourselves, we know the true parameters and we can compare"
   ]
  },
  {
   "cell_type": "code",
   "execution_count": 27,
   "metadata": {},
   "outputs": [
    {
     "name": "stdout",
     "output_type": "stream",
     "text": [
      "error in estimating w: tensor([ 4.0531e-04, -4.6730e-05], grad_fn=<SubBackward0>)\n",
      "error in estimating b: tensor([-8.6308e-05], grad_fn=<RsubBackward1>)\n"
     ]
    }
   ],
   "source": [
    "print(f'error in estimating w: {true_w - w.reshape(true_w.shape)}')\n",
    "print(f'error in estimating b: {true_b - b}')"
   ]
  },
  {
   "cell_type": "markdown",
   "metadata": {
    "slideshow": {
     "slide_type": "slide"
    }
   },
   "source": [
    "Convergeance to optimal solution in **not guarantee**\n",
    "\n",
    "Most of the time we converge to a ```local minimum``` (or a ```saddle point```)\n",
    "\n",
    "In practice, we often reach a good solution **if correct initialization**"
   ]
  },
  {
   "cell_type": "code",
   "execution_count": null,
   "metadata": {
    "slideshow": {
     "slide_type": "skip"
    }
   },
   "outputs": [],
   "source": []
  }
 ],
 "metadata": {
  "celltoolbar": "Slideshow",
  "kernelspec": {
   "display_name": "Python 3 (ipykernel)",
   "language": "python",
   "name": "python3"
  },
  "language_info": {
   "codemirror_mode": {
    "name": "ipython",
    "version": 3
   },
   "file_extension": ".py",
   "mimetype": "text/x-python",
   "name": "python",
   "nbconvert_exporter": "python",
   "pygments_lexer": "ipython3",
   "version": "3.9.10"
  },
  "rise": {
   "autolaunch": true,
   "enable_chalkboard": true,
   "scroll": true
  }
 },
 "nbformat": 4,
 "nbformat_minor": 4
}
