{
 "cells": [
  {
   "cell_type": "markdown",
   "id": "40212943",
   "metadata": {},
   "source": [
    "# Weights & Biases\n",
    "\n",
    "The best way to track your experiments"
   ]
  },
  {
   "cell_type": "markdown",
   "metadata": {
    "collapsed": false
   },
   "source": [
    "**Weights & Biases** allows to log all the inputs and outputs of your program on an online platform.\n",
    "It generates plots for you, allowing to analyze your algorithm's output and keep track of your research.\n",
    "**Tips:** Plot as many things as possible\n",
    "\n",
    "**Geoffrey Hinton:**\n",
    "```\n",
    "Every time you plot something new, you learn something new.\n",
    "```"
   ]
  },
  {
   "cell_type": "markdown",
   "id": "7933828c",
   "metadata": {
    "slideshow": {
     "slide_type": "slide"
    }
   },
   "source": [
    "First create an account on https://wandb.ai/"
   ]
  },
  {
   "cell_type": "markdown",
   "id": "c13a5347",
   "metadata": {},
   "source": [
    "Then, install the Python's API"
   ]
  },
  {
   "cell_type": "code",
   "execution_count": 1,
   "id": "2d156a6d",
   "metadata": {},
   "outputs": [
    {
     "name": "stdout",
     "output_type": "stream",
     "text": [
      "Requirement already satisfied: wandb in /Users/ingambe/miniforge3/envs/deep-learning/lib/python3.9/site-packages (0.12.7)\n",
      "Requirement already satisfied: psutil>=5.0.0 in /Users/ingambe/miniforge3/envs/deep-learning/lib/python3.9/site-packages (from wandb) (5.9.0)\n",
      "Requirement already satisfied: GitPython>=1.0.0 in /Users/ingambe/miniforge3/envs/deep-learning/lib/python3.9/site-packages (from wandb) (3.1.27)\n",
      "Requirement already satisfied: pathtools in /Users/ingambe/miniforge3/envs/deep-learning/lib/python3.9/site-packages (from wandb) (0.1.2)\n",
      "Requirement already satisfied: Click!=8.0.0,>=7.0 in /Users/ingambe/miniforge3/envs/deep-learning/lib/python3.9/site-packages (from wandb) (8.0.4)\n",
      "Requirement already satisfied: subprocess32>=3.5.3 in /Users/ingambe/miniforge3/envs/deep-learning/lib/python3.9/site-packages (from wandb) (3.5.4)\n",
      "Requirement already satisfied: promise<3,>=2.0 in /Users/ingambe/miniforge3/envs/deep-learning/lib/python3.9/site-packages (from wandb) (2.3)\n",
      "Requirement already satisfied: configparser>=3.8.1 in /Users/ingambe/miniforge3/envs/deep-learning/lib/python3.9/site-packages (from wandb) (5.2.0)\n",
      "Requirement already satisfied: PyYAML in /Users/ingambe/miniforge3/envs/deep-learning/lib/python3.9/site-packages (from wandb) (6.0)\n",
      "Requirement already satisfied: six>=1.13.0 in /Users/ingambe/miniforge3/envs/deep-learning/lib/python3.9/site-packages (from wandb) (1.16.0)\n",
      "Requirement already satisfied: python-dateutil>=2.6.1 in /Users/ingambe/miniforge3/envs/deep-learning/lib/python3.9/site-packages (from wandb) (2.8.2)\n",
      "Requirement already satisfied: shortuuid>=0.5.0 in /Users/ingambe/miniforge3/envs/deep-learning/lib/python3.9/site-packages (from wandb) (1.0.8)\n",
      "Requirement already satisfied: yaspin>=1.0.0 in /Users/ingambe/miniforge3/envs/deep-learning/lib/python3.9/site-packages (from wandb) (2.1.0)\n",
      "Requirement already satisfied: protobuf>=3.12.0 in /Users/ingambe/.local/lib/python3.9/site-packages (from wandb) (3.19.4)\n",
      "Requirement already satisfied: docker-pycreds>=0.4.0 in /Users/ingambe/miniforge3/envs/deep-learning/lib/python3.9/site-packages (from wandb) (0.4.0)\n",
      "Requirement already satisfied: requests<3,>=2.0.0 in /Users/ingambe/miniforge3/envs/deep-learning/lib/python3.9/site-packages (from wandb) (2.27.1)\n",
      "Requirement already satisfied: sentry-sdk>=1.0.0 in /Users/ingambe/miniforge3/envs/deep-learning/lib/python3.9/site-packages (from wandb) (1.5.12)\n",
      "Requirement already satisfied: gitdb<5,>=4.0.1 in /Users/ingambe/miniforge3/envs/deep-learning/lib/python3.9/site-packages (from GitPython>=1.0.0->wandb) (4.0.7)\n",
      "Requirement already satisfied: charset-normalizer~=2.0.0 in /Users/ingambe/miniforge3/envs/deep-learning/lib/python3.9/site-packages (from requests<3,>=2.0.0->wandb) (2.0.12)\n",
      "Requirement already satisfied: certifi>=2017.4.17 in /Users/ingambe/miniforge3/envs/deep-learning/lib/python3.9/site-packages (from requests<3,>=2.0.0->wandb) (2022.5.18.1)\n",
      "Requirement already satisfied: idna<4,>=2.5 in /Users/ingambe/miniforge3/envs/deep-learning/lib/python3.9/site-packages (from requests<3,>=2.0.0->wandb) (3.3)\n",
      "Requirement already satisfied: urllib3<1.27,>=1.21.1 in /Users/ingambe/miniforge3/envs/deep-learning/lib/python3.9/site-packages (from requests<3,>=2.0.0->wandb) (1.26.9)\n",
      "Requirement already satisfied: termcolor<2.0.0,>=1.1.0 in /Users/ingambe/miniforge3/envs/deep-learning/lib/python3.9/site-packages (from yaspin>=1.0.0->wandb) (1.1.0)\n",
      "Requirement already satisfied: smmap<5,>=3.0.1 in /Users/ingambe/miniforge3/envs/deep-learning/lib/python3.9/site-packages (from gitdb<5,>=4.0.1->GitPython>=1.0.0->wandb) (4.0.0)\n"
     ]
    }
   ],
   "source": [
    "!pip install wandb"
   ]
  },
  {
   "cell_type": "markdown",
   "id": "a865277a",
   "metadata": {
    "slideshow": {
     "slide_type": "slide"
    }
   },
   "source": [
    "WandB allows you to **create project** and logs metrics for **each run**"
   ]
  },
  {
   "cell_type": "markdown",
   "id": "53d39e2c",
   "metadata": {},
   "source": [
    "Example: https://wandb.ai/ingambe/es-jss?workspace=user-ingambe"
   ]
  },
  {
   "cell_type": "markdown",
   "id": "22bb8350",
   "metadata": {
    "slideshow": {
     "slide_type": "slide"
    }
   },
   "source": [
    "To use it and track experiments"
   ]
  },
  {
   "cell_type": "code",
   "execution_count": 1,
   "id": "0d5c8073",
   "metadata": {},
   "outputs": [
    {
     "name": "stderr",
     "output_type": "stream",
     "text": [
      "Failed to detect the name of this notebook, you can set it manually with the WANDB_NOTEBOOK_NAME environment variable to enable code saving.\n",
      "\u001b[34m\u001b[1mwandb\u001b[0m: Currently logged in as: \u001b[33mlorenzozanolin-52\u001b[0m. Use \u001b[1m`wandb login --relogin`\u001b[0m to force relogin\n"
     ]
    },
    {
     "data": {
      "text/html": [
       "Tracking run with wandb version 0.15.12"
      ],
      "text/plain": [
       "<IPython.core.display.HTML object>"
      ]
     },
     "metadata": {},
     "output_type": "display_data"
    },
    {
     "data": {
      "text/html": [
       "Run data is saved locally in <code>/Users/lorenzozanolin/Library/Mobile Documents/com~apple~CloudDocs/Università/Artifical Intelligence & Cybersecurity/Secondo periodo/Klagenfurt/Machine Learning and Deep Learning/Laboratory/Theory/2-Linear-networks/Slides/wandb/run-20231013_151104-jas8ivco</code>"
      ],
      "text/plain": [
       "<IPython.core.display.HTML object>"
      ]
     },
     "metadata": {},
     "output_type": "display_data"
    },
    {
     "data": {
      "text/html": [
       "Syncing run <strong><a href='https://wandb.ai/lorenzozanolin-52/course/runs/jas8ivco' target=\"_blank\">colorful-serenity-1</a></strong> to <a href='https://wandb.ai/lorenzozanolin-52/course' target=\"_blank\">Weights & Biases</a> (<a href='https://wandb.me/run' target=\"_blank\">docs</a>)<br/>"
      ],
      "text/plain": [
       "<IPython.core.display.HTML object>"
      ]
     },
     "metadata": {},
     "output_type": "display_data"
    },
    {
     "data": {
      "text/html": [
       " View project at <a href='https://wandb.ai/lorenzozanolin-52/course' target=\"_blank\">https://wandb.ai/lorenzozanolin-52/course</a>"
      ],
      "text/plain": [
       "<IPython.core.display.HTML object>"
      ]
     },
     "metadata": {},
     "output_type": "display_data"
    },
    {
     "data": {
      "text/html": [
       " View run at <a href='https://wandb.ai/lorenzozanolin-52/course/runs/jas8ivco' target=\"_blank\">https://wandb.ai/lorenzozanolin-52/course/runs/jas8ivco</a>"
      ],
      "text/plain": [
       "<IPython.core.display.HTML object>"
      ]
     },
     "metadata": {},
     "output_type": "display_data"
    },
    {
     "data": {
      "text/html": [
       "<button onClick=\"this.nextSibling.style.display='block';this.style.display='none';\">Display W&B run</button><iframe src='https://wandb.ai/lorenzozanolin-52/course/runs/jas8ivco?jupyter=true' style='border:none;width:100%;height:420px;display:none;'></iframe>"
      ],
      "text/plain": [
       "<wandb.sdk.wandb_run.Run at 0x133d3a490>"
      ]
     },
     "execution_count": 1,
     "metadata": {},
     "output_type": "execute_result"
    }
   ],
   "source": [
    "import wandb\n",
    "wandb.init(project='course') # specify the project of the current run"
   ]
  },
  {
   "cell_type": "markdown",
   "id": "8f344d2c",
   "metadata": {
    "slideshow": {
     "slide_type": "slide"
    }
   },
   "source": [
    "For the first run, it will ask for your API key, you can found it in your profile's settings"
   ]
  },
  {
   "cell_type": "markdown",
   "id": "d1e3138e",
   "metadata": {},
   "source": [
    "<center>\n",
    "    <img src='images/settings.png' />\n",
    "</center>"
   ]
  },
  {
   "cell_type": "markdown",
   "id": "d0e0e937",
   "metadata": {
    "slideshow": {
     "slide_type": "slide"
    }
   },
   "source": [
    "Loggin information is very simple"
   ]
  },
  {
   "cell_type": "code",
   "execution_count": 2,
   "id": "dc25aeea",
   "metadata": {},
   "outputs": [],
   "source": [
    "wandb.log({'current_performance': 15})"
   ]
  },
  {
   "cell_type": "markdown",
   "id": "a25778ab",
   "metadata": {
    "slideshow": {
     "slide_type": "slide"
    }
   },
   "source": [
    "If you have a training loop, you can define your own step"
   ]
  },
  {
   "cell_type": "code",
   "execution_count": 4,
   "id": "b3eccd11",
   "metadata": {},
   "outputs": [],
   "source": [
    "import random\n",
    "for i in range(10):\n",
    "    wandb.log({'value_a': random.randint(0, 10)}, step=i + 1) # +1 here because step 0 was the previous log call\n",
    "    wandb.log({'value_b': random.randint(0, 5)}, step=i + 1)"
   ]
  },
  {
   "cell_type": "markdown",
   "id": "6a815049",
   "metadata": {
    "slideshow": {
     "slide_type": "slide"
    }
   },
   "source": [
    "If you have a lot of different type of log, you can make categories"
   ]
  },
  {
   "cell_type": "code",
   "execution_count": null,
   "id": "1adbce67",
   "metadata": {},
   "outputs": [
    {
     "name": "stderr",
     "output_type": "stream",
     "text": [
      "\u001b[34m\u001b[1mwandb\u001b[0m: \u001b[33mWARNING\u001b[0m Step only supports monotonically increasing values, use define_metric to set a custom x axis. For details see: https://wandb.me/define-metric\n",
      "\u001b[34m\u001b[1mwandb\u001b[0m: \u001b[33mWARNING\u001b[0m (User provided step: 1 is less than current step: 10. Dropping entry: {'value_a': 10, '_timestamp': 1697202756.2990541}).\n",
      "\u001b[34m\u001b[1mwandb\u001b[0m: \u001b[33mWARNING\u001b[0m (User provided step: 1 is less than current step: 10. Dropping entry: {'value_b': 4, '_timestamp': 1697202756.299366}).\n",
      "\u001b[34m\u001b[1mwandb\u001b[0m: \u001b[33mWARNING\u001b[0m (User provided step: 2 is less than current step: 10. Dropping entry: {'value_a': 2, '_timestamp': 1697202756.2994611}).\n",
      "\u001b[34m\u001b[1mwandb\u001b[0m: \u001b[33mWARNING\u001b[0m (User provided step: 2 is less than current step: 10. Dropping entry: {'value_b': 5, '_timestamp': 1697202756.29952}).\n",
      "\u001b[34m\u001b[1mwandb\u001b[0m: \u001b[33mWARNING\u001b[0m (User provided step: 3 is less than current step: 10. Dropping entry: {'value_a': 10, '_timestamp': 1697202756.299573}).\n",
      "\u001b[34m\u001b[1mwandb\u001b[0m: \u001b[33mWARNING\u001b[0m (User provided step: 3 is less than current step: 10. Dropping entry: {'value_b': 2, '_timestamp': 1697202756.299627}).\n",
      "\u001b[34m\u001b[1mwandb\u001b[0m: \u001b[33mWARNING\u001b[0m (User provided step: 4 is less than current step: 10. Dropping entry: {'value_a': 0, '_timestamp': 1697202756.2996778}).\n",
      "\u001b[34m\u001b[1mwandb\u001b[0m: \u001b[33mWARNING\u001b[0m (User provided step: 4 is less than current step: 10. Dropping entry: {'value_b': 2, '_timestamp': 1697202756.299731}).\n",
      "\u001b[34m\u001b[1mwandb\u001b[0m: \u001b[33mWARNING\u001b[0m (User provided step: 5 is less than current step: 10. Dropping entry: {'value_a': 2, '_timestamp': 1697202756.299785}).\n",
      "\u001b[34m\u001b[1mwandb\u001b[0m: \u001b[33mWARNING\u001b[0m (User provided step: 5 is less than current step: 10. Dropping entry: {'value_b': 1, '_timestamp': 1697202756.299838}).\n",
      "\u001b[34m\u001b[1mwandb\u001b[0m: \u001b[33mWARNING\u001b[0m (User provided step: 6 is less than current step: 10. Dropping entry: {'value_a': 1, '_timestamp': 1697202756.299964}).\n",
      "\u001b[34m\u001b[1mwandb\u001b[0m: \u001b[33mWARNING\u001b[0m (User provided step: 6 is less than current step: 10. Dropping entry: {'value_b': 0, '_timestamp': 1697202756.300094}).\n",
      "\u001b[34m\u001b[1mwandb\u001b[0m: \u001b[33mWARNING\u001b[0m (User provided step: 7 is less than current step: 10. Dropping entry: {'value_a': 1, '_timestamp': 1697202756.3001542}).\n",
      "\u001b[34m\u001b[1mwandb\u001b[0m: \u001b[33mWARNING\u001b[0m (User provided step: 7 is less than current step: 10. Dropping entry: {'value_b': 5, '_timestamp': 1697202756.3002071}).\n",
      "\u001b[34m\u001b[1mwandb\u001b[0m: \u001b[33mWARNING\u001b[0m (User provided step: 8 is less than current step: 10. Dropping entry: {'value_a': 4, '_timestamp': 1697202756.300257}).\n",
      "\u001b[34m\u001b[1mwandb\u001b[0m: \u001b[33mWARNING\u001b[0m (User provided step: 8 is less than current step: 10. Dropping entry: {'value_b': 5, '_timestamp': 1697202756.300307}).\n",
      "\u001b[34m\u001b[1mwandb\u001b[0m: \u001b[33mWARNING\u001b[0m (User provided step: 9 is less than current step: 10. Dropping entry: {'value_a': 0, '_timestamp': 1697202756.300355}).\n",
      "\u001b[34m\u001b[1mwandb\u001b[0m: \u001b[33mWARNING\u001b[0m (User provided step: 9 is less than current step: 10. Dropping entry: {'value_b': 5, '_timestamp': 1697202756.300404}).\n"
     ]
    }
   ],
   "source": [
    "wandb.log({'my_category/my_log': 1.4})"
   ]
  },
  {
   "cell_type": "markdown",
   "id": "ec77ffab",
   "metadata": {
    "slideshow": {
     "slide_type": "slide"
    }
   },
   "source": [
    "You can log everything, from Table, to Plot, even Musics or Video"
   ]
  },
  {
   "cell_type": "markdown",
   "id": "166fc47e",
   "metadata": {
    "slideshow": {
     "slide_type": "-"
    }
   },
   "source": [
    "WandB natively integrate with PyTorch, but we will discuss this later ..."
   ]
  },
  {
   "cell_type": "markdown",
   "id": "02fc20bc",
   "metadata": {
    "slideshow": {
     "slide_type": "-"
    }
   },
   "source": [
    "WandB also allows you to search for the best hyper parameters\n",
    "\n",
    "This advance functionnality will be discussed when needed..."
   ]
  }
 ],
 "metadata": {
  "celltoolbar": "Slideshow",
  "kernelspec": {
   "display_name": "Python 3 (ipykernel)",
   "language": "python",
   "name": "python3"
  },
  "language_info": {
   "codemirror_mode": {
    "name": "ipython",
    "version": 3
   },
   "file_extension": ".py",
   "mimetype": "text/x-python",
   "name": "python",
   "nbconvert_exporter": "python",
   "pygments_lexer": "ipython3",
   "version": "3.9.10"
  }
 },
 "nbformat": 4,
 "nbformat_minor": 5
}
