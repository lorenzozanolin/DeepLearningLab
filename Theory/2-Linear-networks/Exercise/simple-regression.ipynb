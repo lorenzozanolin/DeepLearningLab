{
 "cells": [
  {
   "cell_type": "markdown",
   "metadata": {},
   "source": [
    "# Red Wine Quality\n",
    "\n",
    "Kaggle link: https://www.kaggle.com/uciml/red-wine-quality-cortez-et-al-2009"
   ]
  },
  {
   "cell_type": "code",
   "execution_count": 2,
   "metadata": {
    "_cell_guid": "b1076dfc-b9ad-4769-8c92-a6c4dae69d19",
    "_uuid": "8f2839f25d086af736a60e9eeb907d3b93b6e0e5",
    "execution": {
     "iopub.execute_input": "2021-07-20T09:27:21.990824Z",
     "iopub.status.busy": "2021-07-20T09:27:21.990322Z",
     "iopub.status.idle": "2021-07-20T09:27:21.998746Z",
     "shell.execute_reply": "2021-07-20T09:27:21.99754Z",
     "shell.execute_reply.started": "2021-07-20T09:27:21.990792Z"
    }
   },
   "outputs": [],
   "source": [
    "# This Python 3 environment comes with many helpful analytics libraries installed\n",
    "# It is defined by the kaggle/python Docker image: https://github.com/kaggle/docker-python\n",
    "# For example, here's several helpful packages to load\n",
    "\n",
    "import numpy as np # linear algebra\n",
    "import pandas as pd # data processing, CSV file I/O (e.g. pd.read_csv)\n",
    "import wandb\n",
    "\n",
    "# Input data files are available in the read-only \"../input/\" directory\n",
    "# For example, running this (by clicking run or pressing Shift+Enter) will list all files under the input directory\n",
    "\n",
    "import os\n",
    "for dirname, _, filenames in os.walk('/kaggle/input'):\n",
    "    for filename in filenames:\n",
    "        print(os.path.join(dirname, filename))\n",
    "\n",
    "# You can write up to 20GB to the current directory (/kaggle/working/) that gets preserved as output when you create a version using \"Save & Run All\" \n",
    "# You can also write temporary files to /kaggle/temp/, but they won't be saved outside of the current session"
   ]
  },
  {
   "cell_type": "markdown",
   "metadata": {},
   "source": [
    "First, we need to import Pytorch"
   ]
  },
  {
   "cell_type": "code",
   "execution_count": 4,
   "metadata": {
    "execution": {
     "iopub.execute_input": "2021-07-20T09:27:22.001769Z",
     "iopub.status.busy": "2021-07-20T09:27:22.000817Z",
     "iopub.status.idle": "2021-07-20T09:27:22.016019Z",
     "shell.execute_reply": "2021-07-20T09:27:22.01474Z",
     "shell.execute_reply.started": "2021-07-20T09:27:22.001726Z"
    }
   },
   "outputs": [
    {
     "name": "stderr",
     "output_type": "stream",
     "text": [
      "\u001b[34m\u001b[1mwandb\u001b[0m: Logging into wandb.ai. (Learn how to deploy a W&B server locally: https://wandb.me/wandb-server)\n",
      "\u001b[34m\u001b[1mwandb\u001b[0m: You can find your API key in your browser here: https://wandb.ai/authorize\n",
      "\u001b[34m\u001b[1mwandb\u001b[0m: Paste an API key from your profile and hit enter, or press ctrl+c to quit:"
     ]
    },
    {
     "name": "stderr",
     "output_type": "stream",
     "text": [
      "\u001b[34m\u001b[1mwandb\u001b[0m: Appending key for api.wandb.ai to your netrc file: /Users/lorenzozanolin/.netrc\n"
     ]
    },
    {
     "data": {
      "text/html": [
       "Tracking run with wandb version 0.15.12"
      ],
      "text/plain": [
       "<IPython.core.display.HTML object>"
      ]
     },
     "metadata": {},
     "output_type": "display_data"
    },
    {
     "data": {
      "text/html": [
       "Run data is saved locally in <code>/Users/lorenzozanolin/Library/Mobile Documents/com~apple~CloudDocs/Università/Artifical Intelligence & Cybersecurity/Secondo periodo/Klagenfurt/Machine Learning and Deep Learning/Laboratory/Theory/2-Linear-networks/Exercise/wandb/run-20231012_153721-5xt6wv26</code>"
      ],
      "text/plain": [
       "<IPython.core.display.HTML object>"
      ]
     },
     "metadata": {},
     "output_type": "display_data"
    },
    {
     "data": {
      "text/html": [
       "Syncing run <strong><a href='https://wandb.ai/lorenzozanolin-52/simple_regression/runs/5xt6wv26' target=\"_blank\">astral-sun-1</a></strong> to <a href='https://wandb.ai/lorenzozanolin-52/simple_regression' target=\"_blank\">Weights & Biases</a> (<a href='https://wandb.me/run' target=\"_blank\">docs</a>)<br/>"
      ],
      "text/plain": [
       "<IPython.core.display.HTML object>"
      ]
     },
     "metadata": {},
     "output_type": "display_data"
    },
    {
     "data": {
      "text/html": [
       " View project at <a href='https://wandb.ai/lorenzozanolin-52/simple_regression' target=\"_blank\">https://wandb.ai/lorenzozanolin-52/simple_regression</a>"
      ],
      "text/plain": [
       "<IPython.core.display.HTML object>"
      ]
     },
     "metadata": {},
     "output_type": "display_data"
    },
    {
     "data": {
      "text/html": [
       " View run at <a href='https://wandb.ai/lorenzozanolin-52/simple_regression/runs/5xt6wv26' target=\"_blank\">https://wandb.ai/lorenzozanolin-52/simple_regression/runs/5xt6wv26</a>"
      ],
      "text/plain": [
       "<IPython.core.display.HTML object>"
      ]
     },
     "metadata": {},
     "output_type": "display_data"
    },
    {
     "data": {
      "text/html": [
       "<button onClick=\"this.nextSibling.style.display='block';this.style.display='none';\">Display W&B run</button><iframe src='https://wandb.ai/lorenzozanolin-52/simple_regression/runs/5xt6wv26?jupyter=true' style='border:none;width:100%;height:420px;display:none;'></iframe>"
      ],
      "text/plain": [
       "<wandb.sdk.wandb_run.Run at 0x13b01af70>"
      ]
     },
     "execution_count": 4,
     "metadata": {},
     "output_type": "execute_result"
    }
   ],
   "source": [
    "import torch\n",
    "from torch import nn\n",
    "from torch import optim\n",
    "from torch.utils import data\n",
    "import wandb\n",
    "wandb.init(project=\"simple_regression\")"
   ]
  },
  {
   "cell_type": "markdown",
   "metadata": {},
   "source": [
    "# Data Processing"
   ]
  },
  {
   "cell_type": "code",
   "execution_count": null,
   "metadata": {
    "execution": {
     "iopub.execute_input": "2021-07-20T09:27:22.019074Z",
     "iopub.status.busy": "2021-07-20T09:27:22.018711Z",
     "iopub.status.idle": "2021-07-20T09:27:22.054046Z",
     "shell.execute_reply": "2021-07-20T09:27:22.052743Z",
     "shell.execute_reply.started": "2021-07-20T09:27:22.01904Z"
    }
   },
   "outputs": [],
   "source": [
    "train_data = pd.read_csv('/kaggle/input/red-wine-quality-cortez-et-al-2009/winequality-red.csv')\n",
    "train_data.head()"
   ]
  },
  {
   "cell_type": "markdown",
   "metadata": {},
   "source": [
    "We need to separate features from target"
   ]
  },
  {
   "cell_type": "code",
   "execution_count": null,
   "metadata": {
    "execution": {
     "iopub.execute_input": "2021-07-20T09:27:22.056464Z",
     "iopub.status.busy": "2021-07-20T09:27:22.056075Z",
     "iopub.status.idle": "2021-07-20T09:27:22.078596Z",
     "shell.execute_reply": "2021-07-20T09:27:22.077606Z",
     "shell.execute_reply.started": "2021-07-20T09:27:22.05643Z"
    }
   },
   "outputs": [],
   "source": [
    "n_train = train_data.shape[0]\n",
    "all_features = train_data.iloc[:, 1:-1]\n",
    "all_features = all_features.apply(lambda x: (x - x.mean()) / (x.std()))\n",
    "train_features = torch.tensor(all_features[:n_train].values, dtype=torch.float32)\n",
    "train_features"
   ]
  },
  {
   "cell_type": "code",
   "execution_count": null,
   "metadata": {
    "execution": {
     "iopub.execute_input": "2021-07-20T09:27:22.07993Z",
     "iopub.status.busy": "2021-07-20T09:27:22.079658Z",
     "iopub.status.idle": "2021-07-20T09:27:22.088282Z",
     "shell.execute_reply": "2021-07-20T09:27:22.087172Z",
     "shell.execute_reply.started": "2021-07-20T09:27:22.079904Z"
    }
   },
   "outputs": [],
   "source": [
    "trains_labels = train_data.quality.values.reshape(-1, 1)\n",
    "trains_labels"
   ]
  },
  {
   "cell_type": "code",
   "execution_count": null,
   "metadata": {
    "execution": {
     "iopub.execute_input": "2021-07-20T09:27:22.090275Z",
     "iopub.status.busy": "2021-07-20T09:27:22.089806Z",
     "iopub.status.idle": "2021-07-20T09:27:22.107085Z",
     "shell.execute_reply": "2021-07-20T09:27:22.105645Z",
     "shell.execute_reply.started": "2021-07-20T09:27:22.090224Z"
    }
   },
   "outputs": [],
   "source": [
    "trains_mean = trains_labels.mean()\n",
    "trains_std = trains_labels.std()\n",
    "trains_labels = (trains_labels - trains_mean) / trains_std\n",
    "train_labels = torch.tensor(trains_labels,\n",
    "                            dtype=torch.float32)\n",
    "train_labels"
   ]
  },
  {
   "cell_type": "markdown",
   "metadata": {},
   "source": [
    "## Training"
   ]
  },
  {
   "cell_type": "markdown",
   "metadata": {},
   "source": [
    "Initialize the weight of the linear regression"
   ]
  },
  {
   "cell_type": "code",
   "execution_count": null,
   "metadata": {
    "execution": {
     "iopub.execute_input": "2021-07-20T09:27:22.108789Z",
     "iopub.status.busy": "2021-07-20T09:27:22.108457Z",
     "iopub.status.idle": "2021-07-20T09:27:22.116208Z",
     "shell.execute_reply": "2021-07-20T09:27:22.114731Z",
     "shell.execute_reply.started": "2021-07-20T09:27:22.10876Z"
    }
   },
   "outputs": [],
   "source": [
    "n_features = train_data.shape[1]\n",
    "linear_weights = 0 # TODO, initialize a random tensor "
   ]
  },
  {
   "cell_type": "markdown",
   "metadata": {},
   "source": [
    "Training loop"
   ]
  },
  {
   "cell_type": "code",
   "execution_count": null,
   "metadata": {
    "execution": {
     "iopub.execute_input": "2021-07-20T09:27:22.11778Z",
     "iopub.status.busy": "2021-07-20T09:27:22.117448Z",
     "iopub.status.idle": "2021-07-20T09:27:22.446969Z",
     "shell.execute_reply": "2021-07-20T09:27:22.445827Z",
     "shell.execute_reply.started": "2021-07-20T09:27:22.11775Z"
    }
   },
   "outputs": [],
   "source": [
    "num_iterations = 512\n",
    "lr = 1e-3\n",
    "for i in range(num_iterations):\n",
    "    # TODO"
   ]
  },
  {
   "cell_type": "markdown",
   "metadata": {},
   "source": [
    "Get the real predictions"
   ]
  },
  {
   "cell_type": "code",
   "execution_count": null,
   "metadata": {
    "execution": {
     "iopub.execute_input": "2021-07-20T09:27:22.449495Z",
     "iopub.status.busy": "2021-07-20T09:27:22.449118Z",
     "iopub.status.idle": "2021-07-20T09:27:22.459333Z",
     "shell.execute_reply": "2021-07-20T09:27:22.457917Z",
     "shell.execute_reply.started": "2021-07-20T09:27:22.449447Z"
    }
   },
   "outputs": [],
   "source": [
    "predictions = (predictions * trains_std) + trains_mean\n",
    "predictions"
   ]
  },
  {
   "cell_type": "markdown",
   "metadata": {},
   "source": [
    "Our predictions seem very close to the ground truth!"
   ]
  },
  {
   "cell_type": "markdown",
   "metadata": {},
   "source": [
    "**To go further**: Stochastic Gradient Descent is not the optimal algorithm in terms of convergeance.\n",
    "If you are curious, you can read this nice article about an improvement to SGD, momentum and try to implement it: https://distill.pub/2017/momentum/"
   ]
  },
  {
   "cell_type": "code",
   "execution_count": null,
   "metadata": {},
   "outputs": [],
   "source": []
  }
 ],
 "metadata": {
  "kernelspec": {
   "display_name": "Python 3 (ipykernel)",
   "language": "python",
   "name": "python3"
  },
  "language_info": {
   "codemirror_mode": {
    "name": "ipython",
    "version": 3
   },
   "file_extension": ".py",
   "mimetype": "text/x-python",
   "name": "python",
   "nbconvert_exporter": "python",
   "pygments_lexer": "ipython3",
   "version": "3.9.10"
  }
 },
 "nbformat": 4,
 "nbformat_minor": 4
}
