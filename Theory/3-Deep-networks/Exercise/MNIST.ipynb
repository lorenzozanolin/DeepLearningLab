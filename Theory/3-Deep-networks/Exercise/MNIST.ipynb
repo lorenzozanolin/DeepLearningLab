{
 "cells": [
  {
   "cell_type": "markdown",
   "metadata": {},
   "source": [
    "Kaggle competition: https://www.kaggle.com/c/digit-recognizer/"
   ]
  },
  {
   "cell_type": "code",
   "execution_count": null,
   "metadata": {
    "_cell_guid": "b1076dfc-b9ad-4769-8c92-a6c4dae69d19",
    "_uuid": "8f2839f25d086af736a60e9eeb907d3b93b6e0e5",
    "execution": {
     "iopub.execute_input": "2021-11-26T19:31:56.903342Z",
     "iopub.status.busy": "2021-11-26T19:31:56.902992Z",
     "iopub.status.idle": "2021-11-26T19:31:56.912859Z",
     "shell.execute_reply": "2021-11-26T19:31:56.911888Z",
     "shell.execute_reply.started": "2021-11-26T19:31:56.903305Z"
    }
   },
   "outputs": [],
   "source": [
    "# This Python 3 environment comes with many helpful analytics libraries installed\n",
    "# It is defined by the kaggle/python Docker image: https://github.com/kaggle/docker-python\n",
    "# For example, here's several helpful packages to load\n",
    "\n",
    "import numpy as np # linear algebra\n",
    "import pandas as pd # data processing, CSV file I/O (e.g. pd.read_csv)\n",
    "\n",
    "# Input data files are available in the read-only \"../input/\" directory\n",
    "# For example, running this (by clicking run or pressing Shift+Enter) will list all files under the input directory\n",
    "\n",
    "import os\n",
    "for dirname, _, filenames in os.walk('/kaggle/input'):\n",
    "    for filename in filenames:\n",
    "        print(os.path.join(dirname, filename))\n",
    "\n",
    "# You can write up to 20GB to the current directory (/kaggle/working/) that gets preserved as output when you create a version using \"Save & Run All\" \n",
    "# You can also write temporary files to /kaggle/temp/, but they won't be saved outside of the current session"
   ]
  },
  {
   "cell_type": "markdown",
   "metadata": {},
   "source": [
    "We need to import Torch's libraries"
   ]
  },
  {
   "cell_type": "code",
   "execution_count": null,
   "metadata": {
    "execution": {
     "iopub.execute_input": "2021-11-26T19:31:56.915411Z",
     "iopub.status.busy": "2021-11-26T19:31:56.914887Z",
     "iopub.status.idle": "2021-11-26T19:31:56.922672Z",
     "shell.execute_reply": "2021-11-26T19:31:56.921913Z",
     "shell.execute_reply.started": "2021-11-26T19:31:56.915369Z"
    }
   },
   "outputs": [],
   "source": [
    "import torchvision\n",
    "import torch\n",
    "import torch.nn as nn\n",
    "import torch.nn.functional as F\n",
    "import torch.optim as optim\n",
    "from torchvision import transforms\n",
    "from torch.utils.data import DataLoader, Dataset\n",
    "import wandb\n",
    "wandb.init(project='MNIST_MLP', save_code=True)"
   ]
  },
  {
   "cell_type": "markdown",
   "metadata": {},
   "source": [
    "## Data preparation\n",
    "\n",
    "A custom dataset which uses the CSV from Kaggle, avoid downloading the dataset from internet"
   ]
  },
  {
   "cell_type": "code",
   "execution_count": null,
   "metadata": {
    "execution": {
     "iopub.execute_input": "2021-11-26T19:31:56.925112Z",
     "iopub.status.busy": "2021-11-26T19:31:56.924744Z",
     "iopub.status.idle": "2021-11-26T19:31:56.937035Z",
     "shell.execute_reply": "2021-11-26T19:31:56.936069Z",
     "shell.execute_reply.started": "2021-11-26T19:31:56.925075Z"
    }
   },
   "outputs": [],
   "source": [
    "class MyMNISTDataset(Dataset):\n",
    "    \n",
    "    def __init__(self, file_path, transform = transforms.Compose([transforms.ToPILImage()]), test_data=False, use_gpu=torch.cuda.is_available()):\n",
    "        # read the data\n",
    "        df = pd.read_csv(file_path)\n",
    "        # for test data we don't have any target\n",
    "        # MNIST images are 28 by 28, grey colors\n",
    "        if test_data:\n",
    "            self.X = df.values.reshape((-1,28,28)).astype(np.uint8)[:,:,:,None]\n",
    "            self.y = None\n",
    "        else:\n",
    "            self.X = df.iloc[:,1:].values.reshape((-1,28,28)).astype(np.uint8)[:,:,:,None]\n",
    "            self.y = torch.from_numpy(df.iloc[:,0].values)\n",
    "        self.transform = transform\n",
    "        self.use_gpu = use_gpu\n",
    "    \n",
    "    def __len__(self):\n",
    "        return len(self.X)\n",
    "\n",
    "    def __getitem__(self, idx):\n",
    "        data = self.transform(self.X[idx])\n",
    "        if self.y is not None:\n",
    "            target = self.y[idx]\n",
    "            if self.use_gpu:\n",
    "                data = data.cuda()\n",
    "                target = target.cuda()\n",
    "            return data, target\n",
    "        else:\n",
    "            if self.use_gpu:\n",
    "                data = data.cuda()\n",
    "            return data"
   ]
  },
  {
   "cell_type": "code",
   "execution_count": null,
   "metadata": {
    "execution": {
     "iopub.execute_input": "2021-11-26T19:31:56.939313Z",
     "iopub.status.busy": "2021-11-26T19:31:56.938880Z",
     "iopub.status.idle": "2021-11-26T19:32:00.797166Z",
     "shell.execute_reply": "2021-11-26T19:32:00.796255Z",
     "shell.execute_reply.started": "2021-11-26T19:31:56.939275Z"
    }
   },
   "outputs": [],
   "source": [
    "transformations=transforms.Compose([transforms.ToPILImage(), \n",
    "                                    transforms.ToTensor(), \n",
    "                                    transforms.Normalize(mean=(0.5,), std=(0.5,))])\n",
    "\n",
    "train_dataset = MyMNISTDataset('/kaggle/input/digit-recognizer/train.csv', transform=transformations, test_data=False)\n",
    "test_dataset = MyMNISTDataset('/kaggle/input/digit-recognizer/test.csv', transform=transformations, test_data=True)\n",
    "# TODO split train between validation and training set\n",
    "# create data loader for train and test set"
   ]
  },
  {
   "cell_type": "markdown",
   "metadata": {},
   "source": [
    "## MLP\n",
    "\n",
    "### Define model architecture\n",
    "You need to reach at least 70% accuracy on the test set"
   ]
  },
  {
   "cell_type": "code",
   "execution_count": null,
   "metadata": {
    "execution": {
     "iopub.execute_input": "2021-11-26T19:32:00.800117Z",
     "iopub.status.busy": "2021-11-26T19:32:00.799588Z",
     "iopub.status.idle": "2021-11-26T19:32:00.810669Z",
     "shell.execute_reply": "2021-11-26T19:32:00.809912Z",
     "shell.execute_reply.started": "2021-11-26T19:32:00.800075Z"
    }
   },
   "outputs": [],
   "source": [
    "# TODO\n",
    "\n",
    "class Net(nn.Module):    \n",
    "    def __init__(self):\n",
    "        super(Net, self).__init__()\n",
    "        #TODO\n",
    "\n",
    "    def forward(self, x):\n",
    "        #TODO"
   ]
  },
  {
   "cell_type": "markdown",
   "metadata": {},
   "source": [
    "### Init the model and put it on GPU"
   ]
  },
  {
   "cell_type": "code",
   "execution_count": null,
   "metadata": {
    "execution": {
     "iopub.execute_input": "2021-11-26T19:32:00.812367Z",
     "iopub.status.busy": "2021-11-26T19:32:00.811943Z",
     "iopub.status.idle": "2021-11-26T19:32:00.834698Z",
     "shell.execute_reply": "2021-11-26T19:32:00.833922Z",
     "shell.execute_reply.started": "2021-11-26T19:32:00.812325Z"
    }
   },
   "outputs": [],
   "source": [
    "# TODO"
   ]
  },
  {
   "cell_type": "markdown",
   "metadata": {},
   "source": [
    "### Training loop\n",
    "Log the accuracy and the loss to wandb"
   ]
  },
  {
   "cell_type": "code",
   "execution_count": null,
   "metadata": {
    "execution": {
     "iopub.execute_input": "2021-11-26T19:32:00.836885Z",
     "iopub.status.busy": "2021-11-26T19:32:00.836508Z",
     "iopub.status.idle": "2021-11-26T19:36:23.411460Z",
     "shell.execute_reply": "2021-11-26T19:36:23.410464Z",
     "shell.execute_reply.started": "2021-11-26T19:32:00.836847Z"
    }
   },
   "outputs": [],
   "source": [
    "# TODO"
   ]
  },
  {
   "cell_type": "markdown",
   "metadata": {},
   "source": [
    "### Make prediction\n",
    "And submit to Kaggle for grading"
   ]
  },
  {
   "cell_type": "code",
   "execution_count": null,
   "metadata": {
    "execution": {
     "iopub.execute_input": "2021-11-26T19:36:23.413349Z",
     "iopub.status.busy": "2021-11-26T19:36:23.412954Z",
     "iopub.status.idle": "2021-11-26T19:36:30.013073Z",
     "shell.execute_reply": "2021-11-26T19:36:30.012179Z",
     "shell.execute_reply.started": "2021-11-26T19:36:23.413307Z"
    }
   },
   "outputs": [],
   "source": [
    "with torch.no_grad():\n",
    "    model.eval()\n",
    "    test_pred = torch.LongTensor()\n",
    "    for i, data in enumerate(test_loader):\n",
    "        output = model(data)\n",
    "        _, predicted = torch.max(output.data, 1)\n",
    "        predicted = predicted.cpu()\n",
    "        test_pred = torch.cat((test_pred, predicted), dim=0)\n",
    "    out_df = pd.DataFrame(np.c_[np.arange(1, len(test_dataset)+1)[:,None], test_pred.numpy()], columns=['ImageId', 'Label'])\n",
    "    out_df.to_csv('submission.csv', index=False)"
   ]
  },
  {
   "cell_type": "markdown",
   "metadata": {},
   "source": [
    "### 10 most misclafficied image"
   ]
  },
  {
   "cell_type": "code",
   "execution_count": null,
   "metadata": {
    "execution": {
     "iopub.execute_input": "2021-11-26T19:36:30.014740Z",
     "iopub.status.busy": "2021-11-26T19:36:30.014353Z",
     "iopub.status.idle": "2021-11-26T19:36:40.824053Z",
     "shell.execute_reply": "2021-11-26T19:36:40.823185Z",
     "shell.execute_reply.started": "2021-11-26T19:36:30.014701Z"
    }
   },
   "outputs": [],
   "source": [
    "import matplotlib.pyplot as plt\n",
    "\n",
    "\n",
    "unshuffle_train_loader = torch.utils.data.DataLoader(dataset=train_dataset,\n",
    "                                           batch_size=batch_size, shuffle=False)\n",
    "with torch.no_grad():\n",
    "    model.eval()\n",
    "    missclasified = torch.DoubleTensor()\n",
    "    for batch_idx, (data, target) in enumerate(unshuffle_train_loader):\n",
    "        output = model(data)\n",
    "        prob, predicted = torch.max(output.data, 1)\n",
    "        predicted = predicted.cpu()\n",
    "        target = target.cpu()\n",
    "        prob = prob.cpu().double()\n",
    "        missclassified_prob = torch.where(predicted == target, 0., prob)\n",
    "        missclasified = torch.cat((missclasified, missclassified_prob), dim=0)\n",
    "    most_misclassified = torch.argsort(missclasified, descending=True)\n",
    "    top_ten_misclassified = most_misclassified[:10]"
   ]
  },
  {
   "cell_type": "code",
   "execution_count": null,
   "metadata": {
    "execution": {
     "iopub.execute_input": "2021-11-26T19:36:40.825745Z",
     "iopub.status.busy": "2021-11-26T19:36:40.825377Z",
     "iopub.status.idle": "2021-11-26T19:36:41.964286Z",
     "shell.execute_reply": "2021-11-26T19:36:41.963451Z",
     "shell.execute_reply.started": "2021-11-26T19:36:40.825707Z"
    }
   },
   "outputs": [],
   "source": [
    "for misclassified in top_ten_misclassified:\n",
    "    plt.imshow(train_dataset[misclassified][0].cpu().reshape(28,28))\n",
    "    with torch.no_grad():\n",
    "        data, target = train_dataset[misclassified]\n",
    "        data = data.reshape(1, 1, 28,28)\n",
    "        output = model(data)\n",
    "        _, predicted = torch.max(output.data, 1)\n",
    "        plt.title(f'Predicted: {predicted.item()}, Ground truth: {target}')\n",
    "    plt.show()"
   ]
  }
 ],
 "metadata": {
  "kernelspec": {
   "display_name": "Python 3 (ipykernel)",
   "language": "python",
   "name": "python3"
  },
  "language_info": {
   "codemirror_mode": {
    "name": "ipython",
    "version": 3
   },
   "file_extension": ".py",
   "mimetype": "text/x-python",
   "name": "python",
   "nbconvert_exporter": "python",
   "pygments_lexer": "ipython3",
   "version": "3.9.13"
  }
 },
 "nbformat": 4,
 "nbformat_minor": 4
}
