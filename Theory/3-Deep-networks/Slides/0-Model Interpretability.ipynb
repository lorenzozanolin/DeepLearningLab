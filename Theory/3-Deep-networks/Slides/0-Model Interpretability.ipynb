{
 "cells": [
  {
   "cell_type": "markdown",
   "id": "2722850a",
   "metadata": {
    "slideshow": {
     "slide_type": "-"
    }
   },
   "source": [
    "# Model Interpretability\n",
    "\n",
    "Check which feature is important using Pytorch's Captum"
   ]
  },
  {
   "cell_type": "code",
   "execution_count": 1,
   "id": "f355fa96",
   "metadata": {},
   "outputs": [
    {
     "name": "stdout",
     "output_type": "stream",
     "text": [
      "Requirement already satisfied: captum in /home/ingambe/miniconda3/lib/python3.8/site-packages (0.4.0)\n",
      "Requirement already satisfied: numpy in /home/ingambe/miniconda3/lib/python3.8/site-packages (from captum) (1.20.3)\n",
      "Requirement already satisfied: matplotlib in /home/ingambe/miniconda3/lib/python3.8/site-packages/matplotlib-3.4.2-py3.8-linux-x86_64.egg (from captum) (3.4.2)\n",
      "Requirement already satisfied: torch>=1.2 in /home/ingambe/miniconda3/lib/python3.8/site-packages (from captum) (1.10.0)\n",
      "Requirement already satisfied: cycler>=0.10 in /home/ingambe/miniconda3/lib/python3.8/site-packages/cycler-0.10.0-py3.8.egg (from matplotlib->captum) (0.10.0)\n",
      "Requirement already satisfied: kiwisolver>=1.0.1 in /home/ingambe/miniconda3/lib/python3.8/site-packages/kiwisolver-1.3.1-py3.8-linux-x86_64.egg (from matplotlib->captum) (1.3.1)\n",
      "Requirement already satisfied: pillow>=6.2.0 in /home/ingambe/miniconda3/lib/python3.8/site-packages (from matplotlib->captum) (8.2.0)\n",
      "Requirement already satisfied: pyparsing>=2.2.1 in /home/ingambe/miniconda3/lib/python3.8/site-packages (from matplotlib->captum) (2.4.7)\n",
      "Requirement already satisfied: python-dateutil>=2.7 in /home/ingambe/miniconda3/lib/python3.8/site-packages (from matplotlib->captum) (2.8.1)\n",
      "Requirement already satisfied: typing_extensions in /home/ingambe/miniconda3/lib/python3.8/site-packages (from torch>=1.2->captum) (3.7.4.3)\n",
      "Requirement already satisfied: six in /home/ingambe/miniconda3/lib/python3.8/site-packages (from cycler>=0.10->matplotlib->captum) (1.15.0)\n"
     ]
    }
   ],
   "source": [
    "!pip install captum"
   ]
  },
  {
   "cell_type": "code",
   "execution_count": 2,
   "id": "ac8ad16d",
   "metadata": {
    "slideshow": {
     "slide_type": "skip"
    }
   },
   "outputs": [],
   "source": [
    "import numpy as np\n",
    "\n",
    "import torch\n",
    "import torch.nn as nn\n",
    "torch.manual_seed(0)\n",
    "\n",
    "import matplotlib\n",
    "import matplotlib.pyplot as plt\n",
    "%matplotlib inline\n",
    "\n",
    "import pandas as pd\n",
    "\n",
    "from captum.attr import IntegratedGradients"
   ]
  },
  {
   "cell_type": "markdown",
   "id": "f2dc775a",
   "metadata": {
    "slideshow": {
     "slide_type": "slide"
    }
   },
   "source": [
    "Same data parsing, but keep the feature name for later"
   ]
  },
  {
   "cell_type": "code",
   "execution_count": 3,
   "id": "d713c0ce",
   "metadata": {
    "slideshow": {
     "slide_type": "-"
    }
   },
   "outputs": [],
   "source": [
    "titanic_training_data = pd.read_csv('kaggle/train.csv')\n",
    "\n",
    "def clean_titanic(df, train=True):\n",
    "    df[\"Cabin\"] = df[\"Cabin\"].apply(lambda x: pd.isna(x)).astype(bool)\n",
    "    df[\"Embarked\"] = df[\"Embarked\"].apply(lambda x: pd.isna(x)).astype(bool)\n",
    "    df[\"AgeNan\"] = df[\"Age\"].apply(lambda x: pd.isna(x)).astype(bool)\n",
    "    df = pd.concat([df, pd.get_dummies(df['Sex'], dtype='bool', prefix='sex_'), pd.get_dummies(df['Pclass'], dtype='bool', prefix='pclass_')], axis=1)\n",
    "    df = df.drop(['PassengerId', 'Name','Ticket','Sex','Pclass'], axis=1)\n",
    "    if train:\n",
    "        df = df.drop(['Survived'], axis=1)\n",
    "    numeric_features = df.dtypes[(df.dtypes != 'object') & (df.dtypes != 'bool')].index\n",
    "    df[numeric_features] = df[numeric_features].apply(lambda x: (x - x.mean()) / (x.std() + 1e-8))\n",
    "    df[\"Age\"] = df[\"Age\"].fillna(df[\"Age\"].mean())\n",
    "    df[\"Fare\"] = df[\"Fare\"].fillna(df[\"Fare\"].mean())\n",
    "    return df\n",
    "\n",
    "labels = torch.tensor(titanic_training_data[\"Survived\"].values, dtype=torch.float32)\n",
    "titanic_training_data = clean_titanic(titanic_training_data)\n",
    "titanic_data_tensor = torch.tensor(titanic_training_data.astype('float').values, dtype=torch.float32)\n",
    "feature_names = list(titanic_training_data.columns)"
   ]
  },
  {
   "cell_type": "markdown",
   "id": "da11a730",
   "metadata": {
    "slideshow": {
     "slide_type": "slide"
    }
   },
   "source": [
    "Load the previously trained Neural Network"
   ]
  },
  {
   "cell_type": "code",
   "execution_count": 4,
   "id": "83ab0ab9",
   "metadata": {},
   "outputs": [
    {
     "data": {
      "text/plain": [
       "<All keys matched successfully>"
      ]
     },
     "execution_count": 4,
     "metadata": {},
     "output_type": "execute_result"
    }
   ],
   "source": [
    "def layer_init(m):\n",
    "    torch.nn.init.xavier_uniform_(m.weight, gain=1.0)\n",
    "    torch.nn.init.constant_(m.bias, 0)\n",
    "    return m\n",
    "\n",
    "class LinearModel(nn.Module):\n",
    "    def __init__(self):\n",
    "        super(LinearModel, self).__init__()\n",
    "        self.ln = layer_init(nn.Linear(12, 1))\n",
    "        self.sigmoid = nn.Sigmoid()\n",
    "\n",
    "    def forward(self, x):\n",
    "        x = self.ln(x)\n",
    "        return self.sigmoid(x)\n",
    "    \n",
    "net = LinearModel()\n",
    "net.load_state_dict(torch.load('kaggle/titanic_model.pt'))"
   ]
  },
  {
   "cell_type": "markdown",
   "id": "e141762e",
   "metadata": {
    "slideshow": {
     "slide_type": "slide"
    }
   },
   "source": [
    "Use the `IntegratedGradients` technique to check feature importance\n",
    "\n",
    "As the name implies, this requires to compute gradient on the input data, so we need to activate it"
   ]
  },
  {
   "cell_type": "code",
   "execution_count": 5,
   "id": "b80b8829",
   "metadata": {
    "slideshow": {
     "slide_type": "-"
    }
   },
   "outputs": [],
   "source": [
    "ig = IntegratedGradients(net)\n",
    "titanic_data_tensor.requires_grad_()\n",
    "attr, delta = ig.attribute(titanic_data_tensor, target=0, return_convergence_delta=True)\n",
    "attr = attr.detach().numpy()"
   ]
  },
  {
   "cell_type": "markdown",
   "id": "fd763e30",
   "metadata": {
    "slideshow": {
     "slide_type": "slide"
    }
   },
   "source": [
    "This function helper display the features importance"
   ]
  },
  {
   "cell_type": "code",
   "execution_count": 6,
   "id": "482def3b",
   "metadata": {},
   "outputs": [
    {
     "name": "stdout",
     "output_type": "stream",
     "text": [
      "Average Feature Importances\n",
      "Age :  0.001\n",
      "SibSp :  0.001\n",
      "Parch :  -0.000\n",
      "Fare :  -0.000\n",
      "Cabin :  -0.180\n",
      "Embarked :  0.001\n",
      "AgeNan :  -0.008\n",
      "sex__female :  0.163\n",
      "sex__male :  -0.044\n",
      "pclass__1 :  0.028\n",
      "pclass__2 :  0.018\n",
      "pclass__3 :  -0.062\n"
     ]
    },
    {
     "data": {
      "image/png": "[encoded data removed]",
      "text/plain": [
       "<Figure size 1152x432 with 1 Axes>"
      ]
     },
     "metadata": {
      "needs_background": "light"
     },
     "output_type": "display_data"
    }
   ],
   "source": [
    "def visualize_importances(feature_names, importances, title=\"Average Feature Importance\", plot=True, axis_title=\"Features\"):\n",
    "    print(title)\n",
    "    for i in range(len(feature_names)):\n",
    "        print(feature_names[i], \": \", '%.3f'%(importances[i]))\n",
    "    x_pos = (np.arange(len(feature_names)))\n",
    "    if plot:\n",
    "        plt.figure(figsize=(16,6))\n",
    "        plt.bar(x_pos, importances, align='center')\n",
    "        plt.xticks(x_pos, feature_names, wrap=True)\n",
    "        plt.xlabel(axis_title)\n",
    "        plt.ylabel('Weights')\n",
    "        plt.title(title)\n",
    "visualize_importances(feature_names, np.mean(attr, axis=0))"
   ]
  },
  {
   "cell_type": "code",
   "execution_count": null,
   "id": "130d9eff",
   "metadata": {},
   "outputs": [],
   "source": []
  }
 ],
 "metadata": {
  "celltoolbar": "Slideshow",
  "kernelspec": {
   "display_name": "Python 3 (ipykernel)",
   "language": "python",
   "name": "python3"
  },
  "language_info": {
   "codemirror_mode": {
    "name": "ipython",
    "version": 3
   },
   "file_extension": ".py",
   "mimetype": "text/x-python",
   "name": "python",
   "nbconvert_exporter": "python",
   "pygments_lexer": "ipython3",
   "version": "3.9.13"
  }
 },
 "nbformat": 4,
 "nbformat_minor": 5
}
