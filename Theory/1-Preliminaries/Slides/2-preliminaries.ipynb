{
 "cells": [
  {
   "cell_type": "markdown",
   "id": "af98e256",
   "metadata": {
    "slideshow": {
     "slide_type": "-"
    }
   },
   "source": [
    "# Preliminaries"
   ]
  },
  {
   "cell_type": "markdown",
   "id": "f0e00328",
   "metadata": {
    "slideshow": {
     "slide_type": "slide"
    }
   },
   "source": [
    "## What is a Jupyter Notebook?"
   ]
  },
  {
   "cell_type": "markdown",
   "id": "62b5b848",
   "metadata": {},
   "source": [
    "* A document containing at the same time Python code and Rich Text Element\n",
    "* Allows to describe your code clearly\n",
    "* The notebook is run by a server (can be local or online)\n",
    "* You write the code in your browser"
   ]
  },
  {
   "cell_type": "code",
   "execution_count": 1,
   "id": "772e3f24",
   "metadata": {},
   "outputs": [
    {
     "name": "stdout",
     "output_type": "stream",
     "text": [
      "In fact, these slides are made with Jupyter\n"
     ]
    }
   ],
   "source": [
    "print('In fact, these slides are made with Jupyter')"
   ]
  },
  {
   "cell_type": "markdown",
   "id": "5b6de29f",
   "metadata": {
    "slideshow": {
     "slide_type": "slide"
    }
   },
   "source": [
    "## How to use Colab?"
   ]
  },
  {
   "cell_type": "markdown",
   "id": "826ad3bc",
   "metadata": {},
   "source": [
    "* **Requirement**: Have a Google account\n",
    "* Go to [https://colab.research.google.com/](https://colab.research.google.com/)\n",
    "* You can import or create a new notebook there\n",
    "* The code will be run on Google’s servers"
   ]
  },
  {
   "cell_type": "markdown",
   "id": "a7d11a52",
   "metadata": {},
   "source": [
    "### Advantages:\n",
    "* Everything is already set-up\n",
    "* You don’t need to buy an expensive GPU (at least, for the moment)\n",
    "* You can share your code easily"
   ]
  },
  {
   "cell_type": "markdown",
   "id": "a4aa3aeb",
   "metadata": {
    "slideshow": {
     "slide_type": "slide"
    }
   },
   "source": [
    "## What is Kaggle?"
   ]
  },
  {
   "cell_type": "markdown",
   "id": "dad9af81",
   "metadata": {},
   "source": [
    "* It’s a data science competition platform\n",
    "* Kaggle provides datasets for data scientists to compete to\n",
    "* Solutions are ranked among all the participants\n",
    "* There are competitions with cash prizes\n",
    "* We will solve some of Kaggle’s problems\n",
    "* Go to [https://www.kaggle.com/](https://www.kaggle.com/)"
   ]
  },
  {
   "cell_type": "markdown",
   "id": "c907ce73",
   "metadata": {},
   "source": [
    "**Goal**: Being able to solve problems and build a first portfolio"
   ]
  },
  {
   "cell_type": "markdown",
   "id": "866e11f1",
   "metadata": {
    "slideshow": {
     "slide_type": "slide"
    }
   },
   "source": [
    "## What is Weights & Biases?"
   ]
  },
  {
   "cell_type": "markdown",
   "id": "e2a7957d",
   "metadata": {},
   "source": [
    "* Allows to track experiments and share them with other DL practitioners\n",
    "* Embed hyperparameter tuning\n",
    "* Save models and datasets\n",
    "* Generate reports about experiments\n",
    "* Go to: [https://wandb.ai/](https://wandb.ai/)"
   ]
  },
  {
   "cell_type": "markdown",
   "id": "8687bc28",
   "metadata": {
    "slideshow": {
     "slide_type": "slide"
    }
   },
   "source": [
    "## What is PyTorch?"
   ]
  },
  {
   "cell_type": "markdown",
   "id": "dbd45cb0",
   "metadata": {},
   "source": [
    "* Open source deep learning framework\n",
    "* Initially supported by **Facebook**\n",
    "* Fast numerical operation + automatic gradient computation with GPU support"
   ]
  },
  {
   "cell_type": "markdown",
   "id": "ad1746a3",
   "metadata": {
    "slideshow": {
     "slide_type": "slide"
    }
   },
   "source": [
    "### Ressources for this class; To go further\n",
    "\n",
    "* **Dive into Deep Learning**: [https://d2l.ai/](https://d2l.ai/)\n",
    "* NYU DEEP LEARNING SPRING 2020 course: https://atcold.github.io/pytorch-Deep-Learning/\n",
    "* PyTorch official tutorial: https://pytorch.org/tutorials/beginner/basics/intro.html\n",
    "* Deep Learning with PyTorch by Luca Antiga: https://pytorch.org/assets/deep-learning/Deep-Learning-with-PyTorch.pdf\n",
    "* PyTorch documentation: https://pytorch.org/docs/stable/index.html\n",
    "* UvA Deep Learning Tutorials: https://uvadlc-notebooks.readthedocs.io/en/latest/\n",
    "* François Fleuret Deep Learning Course: https://fleuret.org/dlc/\n",
    "* DeepLearning.AI TensorFlow Developer Professional Certificate: https://www.coursera.org/professional-certificates/tensorflow-in-practice\n",
    "* Fastbook, FastAI API: https://github.com/fastai/fastbook/\n",
    "\n",
    "### Podcast/Paper explained\n",
    "* Yannic Kilcher: https://www.youtube.com/c/YannicKilcher\n",
    "* AI Coffee Break with Letitia: https://www.youtube.com/channel/UCobqgqE4i5Kf7wrxRxhToQA\n",
    "* Machine Learning Street Talk: https://www.youtube.com/c/MachineLearningStreetTalk\n",
    "* PyTorch Developer Podcast: https://pytorch-dev-podcast.simplecast.com/"
   ]
  },
  {
   "cell_type": "code",
   "execution_count": null,
   "id": "8362e9e1",
   "metadata": {
    "slideshow": {
     "slide_type": "skip"
    }
   },
   "outputs": [],
   "source": []
  }
 ],
 "metadata": {
  "celltoolbar": "Slideshow",
  "kernelspec": {
   "display_name": "Python 3",
   "language": "python",
   "name": "python3"
  },
  "language_info": {
   "codemirror_mode": {
    "name": "ipython",
    "version": 3
   },
   "file_extension": ".py",
   "mimetype": "text/x-python",
   "name": "python",
   "nbconvert_exporter": "python",
   "pygments_lexer": "ipython3",
   "version": "3.8.5"
  }
 },
 "nbformat": 4,
 "nbformat_minor": 5
}
