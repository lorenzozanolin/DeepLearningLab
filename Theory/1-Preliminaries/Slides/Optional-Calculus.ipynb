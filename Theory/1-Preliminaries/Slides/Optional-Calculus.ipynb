{
 "cells": [
  {
   "cell_type": "markdown",
   "metadata": {
    "slideshow": {
     "slide_type": "slide"
    }
   },
   "source": [
    "# Calculus"
   ]
  },
  {
   "cell_type": "markdown",
   "metadata": {
    "slideshow": {
     "slide_type": "slide"
    }
   },
   "source": [
    "Calculation of derivatives is a **crucial step** in nearly all deep learning optimization algorithms.\n",
    "\n",
    "In deep learning, we typically choose loss functions that are differentiable with respect to our model's parameters.\n",
    "\n",
    "For each parameter, we can determine how rapidly the loss would increase or decrease, were we to *increase* or *decrease* that parameter by an infinitesimally small amount.\n",
    "\n",
    "The *derivative* of $f$ at a point $x$ is defined as\n",
    "$$f'(x) = \\lim_{h \\rightarrow 0} \\frac{f(x+h) - f(x)}{h}$$\n",
    "Define $u = f(x) = 3x^2-4x$"
   ]
  },
  {
   "cell_type": "code",
   "execution_count": 2,
   "metadata": {
    "origin_pos": 2,
    "slideshow": {
     "slide_type": "slide"
    },
    "tab": [
     "pytorch"
    ]
   },
   "outputs": [],
   "source": [
    "%matplotlib inline\n",
    "import numpy as np\n",
    "from d2l import torch as d2l\n",
    "from IPython import display\n",
    "\n",
    "\n",
    "def f(x):\n",
    "    return 3 * x ** 2 - 4 * x"
   ]
  },
  {
   "cell_type": "markdown",
   "metadata": {
    "slideshow": {
     "slide_type": "slide"
    }
   },
   "source": [
    "Setting $x=1$, $\\frac{f(x+h) - f(x)}{h}$ approaches $2$ as $h$ approaches $0$"
   ]
  },
  {
   "cell_type": "code",
   "execution_count": 3,
   "metadata": {
    "origin_pos": 5,
    "tab": [
     "pytorch"
    ]
   },
   "outputs": [
    {
     "name": "stdout",
     "output_type": "stream",
     "text": [
      "h=0.10000, numerical limit=2.30000\n",
      "h=0.01000, numerical limit=2.03000\n",
      "h=0.00100, numerical limit=2.00300\n",
      "h=0.00010, numerical limit=2.00030\n",
      "h=0.00001, numerical limit=2.00003\n"
     ]
    }
   ],
   "source": [
    "for h in 10.0**np.arange(-1, -6, -1):\n",
    "    print(f'h={h:.5f}, numerical limit={(f(1+h)-f(1))/h:.5f}')"
   ]
  },
  {
   "cell_type": "markdown",
   "metadata": {
    "slideshow": {
     "slide_type": "slide"
    }
   },
   "source": [
    "We can visualize the slopes of functions using the `matplotlib` library"
   ]
  },
  {
   "cell_type": "code",
   "execution_count": 4,
   "metadata": {
    "origin_pos": 13,
    "slideshow": {
     "slide_type": "skip"
    },
    "tab": [
     "pytorch"
    ]
   },
   "outputs": [],
   "source": [
    "def use_svg_display():  \n",
    "    \"\"\"Use the svg format to display a plot in Jupyter.\"\"\"\n",
    "    #display.set_matplotlib_formats('svg')\n",
    "    import matplotlib_inline.backend_inline\n",
    "    matplotlib_inline.backend_inline.set_matplotlib_formats('svg')\n",
    "\n",
    "def set_figsize(figsize=(3.5, 2.5)):  \n",
    "    \"\"\"Set the figure size for matplotlib.\"\"\"\n",
    "    use_svg_display()\n",
    "    d2l.plt.rcParams['figure.figsize'] = figsize\n",
    "\n",
    "def set_axes(axes, xlabel, ylabel, xlim, ylim, xscale, yscale, legend):\n",
    "    \"\"\"Set the axes for matplotlib.\"\"\"\n",
    "    axes.set_xlabel(xlabel), axes.set_ylabel(ylabel)\n",
    "    axes.set_xscale(xscale), axes.set_yscale(yscale)\n",
    "    axes.set_xlim(xlim), axes.set_ylim(ylim)\n",
    "    if legend:\n",
    "        axes.legend(legend)\n",
    "    axes.grid()\n",
    "\n",
    "def plot(X, Y=None, xlabel=None, ylabel=None, legend=[], xlim=None, ylim=None,\n",
    "         xscale='linear', yscale='linear', fmts=('-', 'm--', 'g-.', 'r:'),\n",
    "         figsize=(7, 5), axes=None):\n",
    "    \"\"\"Plot data points.\"\"\"\n",
    "    def has_one_axis(X):\n",
    "        return (hasattr(X, \"ndim\") and X.ndim == 1 or\n",
    "                isinstance(X, list) and not hasattr(X[0], \"__len__\"))\n",
    "\n",
    "    if has_one_axis(X): X = [X]\n",
    "    if Y is None:\n",
    "        X, Y = [[]] * len(X), X\n",
    "    elif has_one_axis(Y):\n",
    "        Y = [Y]\n",
    "    if len(X) != len(Y):\n",
    "        X = X * len(Y)\n",
    "\n",
    "    set_figsize(figsize)\n",
    "    if axes is None: axes = d2l.plt.gca()\n",
    "    axes.cla()\n",
    "    for x, y, fmt in zip(X, Y, fmts):\n",
    "        axes.plot(x, y, fmt) if len(x) else axes.plot(y, fmt)\n",
    "    set_axes(axes, xlabel, ylabel, xlim, ylim, xscale, yscale, legend)"
   ]
  },
  {
   "cell_type": "markdown",
   "metadata": {
    "slideshow": {
     "slide_type": "-"
    }
   },
   "source": [
    "Plot the function $u = f(x)$ and its tangent line $y = 2x - 3$ at $x=1$"
   ]
  },
  {
   "cell_type": "code",
   "execution_count": 5,
   "metadata": {
    "origin_pos": 15,
    "tab": [
     "pytorch"
    ]
   },
   "outputs": [
    {
     "ename": "TypeError",
     "evalue": "print_svg() got an unexpected keyword argument 'orientation'",
     "output_type": "error",
     "traceback": [
      "\u001b[0;31m---------------------------------------------------------------------------\u001b[0m",
      "\u001b[0;31mTypeError\u001b[0m                                 Traceback (most recent call last)",
      "File \u001b[0;32m/usr/local/lib/python3.9/site-packages/IPython/core/formatters.py:339\u001b[0m, in \u001b[0;36mBaseFormatter.__call__\u001b[0;34m(self, obj)\u001b[0m\n\u001b[1;32m    337\u001b[0m     \u001b[39mpass\u001b[39;00m\n\u001b[1;32m    338\u001b[0m \u001b[39melse\u001b[39;00m:\n\u001b[0;32m--> 339\u001b[0m     \u001b[39mreturn\u001b[39;00m printer(obj)\n\u001b[1;32m    340\u001b[0m \u001b[39m# Finally look for special method names\u001b[39;00m\n\u001b[1;32m    341\u001b[0m method \u001b[39m=\u001b[39m get_real_method(obj, \u001b[39mself\u001b[39m\u001b[39m.\u001b[39mprint_method)\n",
      "File \u001b[0;32m/usr/local/lib/python3.9/site-packages/IPython/core/pylabtools.py:151\u001b[0m, in \u001b[0;36mprint_figure\u001b[0;34m(fig, fmt, bbox_inches, base64, **kwargs)\u001b[0m\n\u001b[1;32m    148\u001b[0m     \u001b[39mfrom\u001b[39;00m \u001b[39mmatplotlib\u001b[39;00m\u001b[39m.\u001b[39;00m\u001b[39mbackend_bases\u001b[39;00m \u001b[39mimport\u001b[39;00m FigureCanvasBase\n\u001b[1;32m    149\u001b[0m     FigureCanvasBase(fig)\n\u001b[0;32m--> 151\u001b[0m fig\u001b[39m.\u001b[39;49mcanvas\u001b[39m.\u001b[39;49mprint_figure(bytes_io, \u001b[39m*\u001b[39;49m\u001b[39m*\u001b[39;49mkw)\n\u001b[1;32m    152\u001b[0m data \u001b[39m=\u001b[39m bytes_io\u001b[39m.\u001b[39mgetvalue()\n\u001b[1;32m    153\u001b[0m \u001b[39mif\u001b[39;00m fmt \u001b[39m==\u001b[39m \u001b[39m'\u001b[39m\u001b[39msvg\u001b[39m\u001b[39m'\u001b[39m:\n",
      "File \u001b[0;32m/usr/local/lib/python3.9/site-packages/matplotlib/backend_bases.py:2289\u001b[0m, in \u001b[0;36mprint_figure\u001b[0;34m(self, filename, dpi, facecolor, edgecolor, orientation, format, bbox_inches, pad_inches, bbox_extra_artists, backend, **kwargs)\u001b[0m\n\u001b[1;32m   2241\u001b[0m \u001b[39mdef\u001b[39;00m \u001b[39mprint_figure\u001b[39m(\n\u001b[1;32m   2242\u001b[0m         \u001b[39mself\u001b[39m, filename, dpi\u001b[39m=\u001b[39m\u001b[39mNone\u001b[39;00m, facecolor\u001b[39m=\u001b[39m\u001b[39mNone\u001b[39;00m, edgecolor\u001b[39m=\u001b[39m\u001b[39mNone\u001b[39;00m,\n\u001b[1;32m   2243\u001b[0m         orientation\u001b[39m=\u001b[39m\u001b[39m'\u001b[39m\u001b[39mportrait\u001b[39m\u001b[39m'\u001b[39m, \u001b[39mformat\u001b[39m\u001b[39m=\u001b[39m\u001b[39mNone\u001b[39;00m, \u001b[39m*\u001b[39m,\n\u001b[1;32m   2244\u001b[0m         bbox_inches\u001b[39m=\u001b[39m\u001b[39mNone\u001b[39;00m, pad_inches\u001b[39m=\u001b[39m\u001b[39mNone\u001b[39;00m, bbox_extra_artists\u001b[39m=\u001b[39m\u001b[39mNone\u001b[39;00m,\n\u001b[1;32m   2245\u001b[0m         backend\u001b[39m=\u001b[39m\u001b[39mNone\u001b[39;00m, \u001b[39m*\u001b[39m\u001b[39m*\u001b[39mkwargs):\n\u001b[1;32m   2246\u001b[0m     \u001b[39m\"\"\"\u001b[39;00m\n\u001b[1;32m   2247\u001b[0m \u001b[39m    Render the figure to hardcopy. Set the figure patch face and edge\u001b[39;00m\n\u001b[1;32m   2248\u001b[0m \u001b[39m    colors.  This is useful because some of the GUIs have a gray figure\u001b[39;00m\n\u001b[1;32m   2249\u001b[0m \u001b[39m    face color background and you'll probably want to override this on\u001b[39;00m\n\u001b[1;32m   2250\u001b[0m \u001b[39m    hardcopy.\u001b[39;00m\n\u001b[1;32m   2251\u001b[0m \n\u001b[1;32m   2252\u001b[0m \u001b[39m    Parameters\u001b[39;00m\n\u001b[1;32m   2253\u001b[0m \u001b[39m    ----------\u001b[39;00m\n\u001b[1;32m   2254\u001b[0m \u001b[39m    filename : str or path-like or file-like\u001b[39;00m\n\u001b[1;32m   2255\u001b[0m \u001b[39m        The file where the figure is saved.\u001b[39;00m\n\u001b[1;32m   2256\u001b[0m \n\u001b[1;32m   2257\u001b[0m \u001b[39m    dpi : float, default: :rc:`savefig.dpi`\u001b[39;00m\n\u001b[1;32m   2258\u001b[0m \u001b[39m        The dots per inch to save the figure in.\u001b[39;00m\n\u001b[1;32m   2259\u001b[0m \n\u001b[1;32m   2260\u001b[0m \u001b[39m    facecolor : color or 'auto', default: :rc:`savefig.facecolor`\u001b[39;00m\n\u001b[1;32m   2261\u001b[0m \u001b[39m        The facecolor of the figure.  If 'auto', use the current figure\u001b[39;00m\n\u001b[1;32m   2262\u001b[0m \u001b[39m        facecolor.\u001b[39;00m\n\u001b[1;32m   2263\u001b[0m \n\u001b[1;32m   2264\u001b[0m \u001b[39m    edgecolor : color or 'auto', default: :rc:`savefig.edgecolor`\u001b[39;00m\n\u001b[1;32m   2265\u001b[0m \u001b[39m        The edgecolor of the figure.  If 'auto', use the current figure\u001b[39;00m\n\u001b[1;32m   2266\u001b[0m \u001b[39m        edgecolor.\u001b[39;00m\n\u001b[1;32m   2267\u001b[0m \n\u001b[1;32m   2268\u001b[0m \u001b[39m    orientation : {'landscape', 'portrait'}, default: 'portrait'\u001b[39;00m\n\u001b[1;32m   2269\u001b[0m \u001b[39m        Only currently applies to PostScript printing.\u001b[39;00m\n\u001b[1;32m   2270\u001b[0m \n\u001b[1;32m   2271\u001b[0m \u001b[39m    format : str, optional\u001b[39;00m\n\u001b[1;32m   2272\u001b[0m \u001b[39m        Force a specific file format. If not given, the format is inferred\u001b[39;00m\n\u001b[1;32m   2273\u001b[0m \u001b[39m        from the *filename* extension, and if that fails from\u001b[39;00m\n\u001b[1;32m   2274\u001b[0m \u001b[39m        :rc:`savefig.format`.\u001b[39;00m\n\u001b[1;32m   2275\u001b[0m \n\u001b[1;32m   2276\u001b[0m \u001b[39m    bbox_inches : 'tight' or `.Bbox`, default: :rc:`savefig.bbox`\u001b[39;00m\n\u001b[1;32m   2277\u001b[0m \u001b[39m        Bounding box in inches: only the given portion of the figure is\u001b[39;00m\n\u001b[1;32m   2278\u001b[0m \u001b[39m        saved.  If 'tight', try to figure out the tight bbox of the figure.\u001b[39;00m\n\u001b[1;32m   2279\u001b[0m \n\u001b[1;32m   2280\u001b[0m \u001b[39m    pad_inches : float, default: :rc:`savefig.pad_inches`\u001b[39;00m\n\u001b[1;32m   2281\u001b[0m \u001b[39m        Amount of padding around the figure when *bbox_inches* is 'tight'.\u001b[39;00m\n\u001b[1;32m   2282\u001b[0m \n\u001b[1;32m   2283\u001b[0m \u001b[39m    bbox_extra_artists : list of `~matplotlib.artist.Artist`, optional\u001b[39;00m\n\u001b[1;32m   2284\u001b[0m \u001b[39m        A list of extra artists that will be considered when the\u001b[39;00m\n\u001b[1;32m   2285\u001b[0m \u001b[39m        tight bbox is calculated.\u001b[39;00m\n\u001b[1;32m   2286\u001b[0m \n\u001b[1;32m   2287\u001b[0m \u001b[39m    backend : str, optional\u001b[39;00m\n\u001b[1;32m   2288\u001b[0m \u001b[39m        Use a non-default backend to render the file, e.g. to render a\u001b[39;00m\n\u001b[0;32m-> 2289\u001b[0m \u001b[39m        png file with the \"cairo\" backend rather than the default \"agg\",\u001b[39;00m\n\u001b[1;32m   2290\u001b[0m \u001b[39m        or a pdf file with the \"pgf\" backend rather than the default\u001b[39;00m\n\u001b[1;32m   2291\u001b[0m \u001b[39m        \"pdf\".  Note that the default backend is normally sufficient.  See\u001b[39;00m\n\u001b[1;32m   2292\u001b[0m \u001b[39m        :ref:`the-builtin-backends` for a list of valid backends for each\u001b[39;00m\n\u001b[1;32m   2293\u001b[0m \u001b[39m        file format.  Custom backends can be referenced as \"module://...\".\u001b[39;00m\n\u001b[1;32m   2294\u001b[0m \u001b[39m    \"\"\"\u001b[39;00m\n\u001b[1;32m   2295\u001b[0m     \u001b[39mif\u001b[39;00m \u001b[39mformat\u001b[39m \u001b[39mis\u001b[39;00m \u001b[39mNone\u001b[39;00m:\n\u001b[1;32m   2296\u001b[0m         \u001b[39m# get format from filename, or from backend's default filetype\u001b[39;00m\n\u001b[1;32m   2297\u001b[0m         \u001b[39mif\u001b[39;00m \u001b[39misinstance\u001b[39m(filename, os\u001b[39m.\u001b[39mPathLike):\n",
      "File \u001b[0;32m/usr/local/lib/python3.9/site-packages/matplotlib/backend_bases.py:1544\u001b[0m, in \u001b[0;36m_get_renderer\u001b[0;34m(figure, print_method)\u001b[0m\n\u001b[1;32m   1542\u001b[0m \u001b[39mif\u001b[39;00m event\u001b[39m.\u001b[39mname \u001b[39m==\u001b[39m \u001b[39m\"\u001b[39m\u001b[39mkey_press_event\u001b[39m\u001b[39m\"\u001b[39m:\n\u001b[1;32m   1543\u001b[0m     event\u001b[39m.\u001b[39mcanvas\u001b[39m.\u001b[39m_key \u001b[39m=\u001b[39m event\u001b[39m.\u001b[39mkey\n\u001b[0;32m-> 1544\u001b[0m \u001b[39melif\u001b[39;00m event\u001b[39m.\u001b[39mname \u001b[39m==\u001b[39m \u001b[39m\"\u001b[39m\u001b[39mkey_release_event\u001b[39m\u001b[39m\"\u001b[39m:\n\u001b[1;32m   1545\u001b[0m     event\u001b[39m.\u001b[39mcanvas\u001b[39m.\u001b[39m_key \u001b[39m=\u001b[39m \u001b[39mNone\u001b[39;00m\n",
      "\u001b[0;31mTypeError\u001b[0m: print_svg() got an unexpected keyword argument 'orientation'"
     ]
    },
    {
     "data": {
      "text/plain": [
       "<Figure size 504x360 with 1 Axes>"
      ]
     },
     "metadata": {
      "needs_background": "light"
     },
     "output_type": "display_data"
    }
   ],
   "source": [
    "x = np.arange(0, 3, 0.1)\n",
    "plot(x, [f(x), 2 * x - 3], 'x', 'f(x)', legend=['f(x)', 'Tangent line (x=1)'])"
   ]
  },
  {
   "cell_type": "markdown",
   "metadata": {
    "slideshow": {
     "slide_type": "skip"
    }
   },
   "source": [
    "Let $y = f(x_1, x_2, \\ldots, x_n)$ be a function with $n$ variables. The *partial derivative* of $y$ with respect to its $i^\\mathrm{th}$  parameter $x_i$ is\n",
    "\n",
    "$$ \\frac{\\partial y}{\\partial x_i} = \\lim_{h \\rightarrow 0} \\frac{f(x_1, \\ldots, x_{i-1}, x_i+h, x_{i+1}, \\ldots, x_n) - f(x_1, \\ldots, x_i, \\ldots, x_n)}{h}.$$\n",
    "\n",
    "\n",
    "To calculate $\\frac{\\partial y}{\\partial x_i}$, we can simply treat $x_1, \\ldots, x_{i-1}, x_{i+1}, \\ldots, x_n$ as constants and calculate the derivative of $y$ with respect to $x_i$."
   ]
  },
  {
   "cell_type": "markdown",
   "metadata": {
    "slideshow": {
     "slide_type": "skip"
    }
   },
   "source": [
    "We can concatenate partial derivatives of a multivariate function with respect to all its variables to obtain the *gradient* vector of the function.\n",
    "\n",
    "$$\\nabla_{\\mathbf{x}} f(\\mathbf{x}) = \\bigg[\\frac{\\partial f(\\mathbf{x})}{\\partial x_1}, \\frac{\\partial f(\\mathbf{x})}{\\partial x_2}, \\ldots, \\frac{\\partial f(\\mathbf{x})}{\\partial x_n}\\bigg]^\\top,$$"
   ]
  },
  {
   "cell_type": "markdown",
   "metadata": {
    "slideshow": {
     "slide_type": "skip"
    }
   },
   "source": [
    "*Chain rule* enables us to differentiate composite functions.\n",
    "Suppose that functions $y=f(u)$ and $u=g(x)$ are both differentiable, then the chain rule states that\n",
    "\n",
    "$$\\frac{dy}{dx} = \\frac{dy}{du} \\frac{du}{dx}.$$"
   ]
  },
  {
   "cell_type": "code",
   "execution_count": 4,
   "metadata": {},
   "outputs": [],
   "source": []
  }
 ],
 "metadata": {
  "celltoolbar": "Slideshow",
  "kernelspec": {
   "display_name": "Python 3",
   "language": "python",
   "name": "python3"
  },
  "language_info": {
   "codemirror_mode": {
    "name": "ipython",
    "version": 3
   },
   "file_extension": ".py",
   "mimetype": "text/x-python",
   "name": "python",
   "nbconvert_exporter": "python",
   "pygments_lexer": "ipython3",
   "version": "3.9.10"
  },
  "rise": {
   "autolaunch": true,
   "enable_chalkboard": true,
   "scroll": true
  }
 },
 "nbformat": 4,
 "nbformat_minor": 4
}
